{
  "nbformat": 4,
  "nbformat_minor": 0,
  "metadata": {
    "colab": {
      "provenance": [],
      "authorship_tag": "ABX9TyNUzWld6kSVSD7y+KReFEqp",
      "include_colab_link": true
    },
    "kernelspec": {
      "name": "python3",
      "display_name": "Python 3"
    },
    "language_info": {
      "name": "python"
    }
  },
  "cells": [
    {
      "cell_type": "markdown",
      "metadata": {
        "id": "view-in-github",
        "colab_type": "text"
      },
      "source": [
        "<a href=\"https://colab.research.google.com/github/ZacharyFry1/Capstone_Project_UFOs/blob/main/V6_Capstonehelp.ipynb\" target=\"_parent\"><img src=\"https://colab.research.google.com/assets/colab-badge.svg\" alt=\"Open In Colab\"/></a>"
      ]
    },
    {
      "cell_type": "markdown",
      "source": [
        "File location:\n",
        "https://github.com/ZacharyFry1/Capstone_Project_UFOs/blob/main/NM_UFO_DATA_ALL_LAT_LON_ADDED.csv"
      ],
      "metadata": {
        "id": "wE2SWpwSLA1J"
      }
    },
    {
      "cell_type": "markdown",
      "source": [
        "\n",
        "\n",
        "```\n",
        "# This is formatted as code\n",
        "```\n",
        "\n",
        "#Import Essential Libraries"
      ],
      "metadata": {
        "id": "QO7G6BBjLd3o"
      }
    },
    {
      "cell_type": "code",
      "execution_count": 42,
      "metadata": {
        "id": "5bhMX_aCK_VE"
      },
      "outputs": [],
      "source": [
        "import numpy as np\n",
        "import pandas as pd\n",
        "import re\n",
        "import matplotlib.pyplot as plt"
      ]
    },
    {
      "cell_type": "code",
      "source": [
        "#This is a connection to the original dataset w.o lat and lon-FOR REFERENCE ONLY\n",
        "#url=\"https://raw.githubusercontent.com/ZacharyFry1/Capstone_Project_UFOs/refs/heads/main/NM_UFO_DATA_ALL.csv\"\n",
        "#df=pd.read_csv(url, encoding='latin-1')"
      ],
      "metadata": {
        "id": "7lVfsv48fBe2"
      },
      "execution_count": 43,
      "outputs": []
    },
    {
      "cell_type": "code",
      "source": [
        "url=\"https://raw.githubusercontent.com/ZacharyFry1/Capstone_Project_UFOs/refs/heads/main/NM_UFO_DATA_ALL_LAT_LON_ADDED.csv\"\n",
        "ufo_df=pd.read_csv(url, encoding='latin-1')"
      ],
      "metadata": {
        "id": "et3Q08WjfBoO"
      },
      "execution_count": 44,
      "outputs": []
    },
    {
      "cell_type": "markdown",
      "source": [
        "##Initial EDA"
      ],
      "metadata": {
        "id": "0JLEHfcbdlJL"
      }
    },
    {
      "cell_type": "code",
      "source": [
        "ufo_df.shape"
      ],
      "metadata": {
        "colab": {
          "base_uri": "https://localhost:8080/"
        },
        "id": "r3q7HejtL0q8",
        "outputId": "f70e923d-8966-4a61-e3b2-7755321278b6"
      },
      "execution_count": 45,
      "outputs": [
        {
          "output_type": "execute_result",
          "data": {
            "text/plain": [
              "(1703, 12)"
            ]
          },
          "metadata": {},
          "execution_count": 45
        }
      ]
    },
    {
      "cell_type": "code",
      "source": [
        "ufo_df.info()"
      ],
      "metadata": {
        "colab": {
          "base_uri": "https://localhost:8080/"
        },
        "id": "as46TCf0PMis",
        "outputId": "e484bafb-6258-484a-807b-4760b830f4fe"
      },
      "execution_count": 46,
      "outputs": [
        {
          "output_type": "stream",
          "name": "stdout",
          "text": [
            "<class 'pandas.core.frame.DataFrame'>\n",
            "RangeIndex: 1703 entries, 0 to 1702\n",
            "Data columns (total 12 columns):\n",
            " #   Column       Non-Null Count  Dtype  \n",
            "---  ------       --------------  -----  \n",
            " 0   Link         1703 non-null   object \n",
            " 1   Occurred     1702 non-null   object \n",
            " 2   City         1685 non-null   object \n",
            " 3   State        1703 non-null   object \n",
            " 4   Country      1703 non-null   object \n",
            " 5   Shape        1633 non-null   object \n",
            " 6   Summary      1702 non-null   object \n",
            " 7   Reported     1703 non-null   object \n",
            " 8   Media        82 non-null     object \n",
            " 9   Explanation  22 non-null     object \n",
            " 10  Latitude     1703 non-null   object \n",
            " 11  Longitude    1703 non-null   float64\n",
            "dtypes: float64(1), object(11)\n",
            "memory usage: 159.8+ KB\n"
          ]
        }
      ]
    },
    {
      "cell_type": "code",
      "source": [
        "#Correct the City data type to string\n",
        "ufo_df['City']=ufo_df['City'].apply(str)"
      ],
      "metadata": {
        "id": "r7OrZ6MYpHME",
        "collapsed": true
      },
      "execution_count": 47,
      "outputs": []
    },
    {
      "cell_type": "code",
      "source": [
        "# Test data type correction to 'City' column\n",
        "print(ufo_df['City'].apply(type).value_counts())"
      ],
      "metadata": {
        "colab": {
          "base_uri": "https://localhost:8080/"
        },
        "id": "ANab1Ap0F3Ek",
        "outputId": "af013e32-f2c6-4ee9-cabc-4e7847485f69"
      },
      "execution_count": 48,
      "outputs": [
        {
          "output_type": "stream",
          "name": "stdout",
          "text": [
            "City\n",
            "<class 'str'>    1703\n",
            "Name: count, dtype: int64\n"
          ]
        }
      ]
    },
    {
      "cell_type": "markdown",
      "source": [
        "## From the original dataset it is know that the \"City\" column is not consistently keyed.  Using regular expression functionality and string replacement we will work to clean the dataset and create a \"City_New\" column for our analysis & comparison."
      ],
      "metadata": {
        "id": "NNeukLOUsGDF"
      }
    },
    {
      "cell_type": "markdown",
      "source": [
        "##Within the original City we detected 18 null Cities-these will be kept and coded to New Mexico w/state centric location\n",
        "null_city = ufo_df[ufo_df[\"City_New\"]== \"\"]\n",
        "null_city"
      ],
      "metadata": {
        "id": "19neZSPTeTJx"
      }
    },
    {
      "cell_type": "code",
      "source": [
        "#Detection of original 18 null Cities in original data-these were kept and coded to New Mexico w/state centric coordinates.\n",
        "null_city = ufo_df[ufo_df[\"City\"]== \"\"]\n",
        "null_city"
      ],
      "metadata": {
        "colab": {
          "base_uri": "https://localhost:8080/",
          "height": 89
        },
        "collapsed": true,
        "id": "ybmOOtxxenOs",
        "outputId": "4ca2dac3-6aeb-4c3d-e70b-041be93e1d0d"
      },
      "execution_count": 49,
      "outputs": [
        {
          "output_type": "execute_result",
          "data": {
            "text/plain": [
              "Empty DataFrame\n",
              "Columns: [Link, Occurred, City, State, Country, Shape, Summary, Reported, Media, Explanation, Latitude, Longitude]\n",
              "Index: []"
            ],
            "text/html": [
              "\n",
              "  <div id=\"df-315236ff-01f4-4179-9f66-ca908b29c191\" class=\"colab-df-container\">\n",
              "    <div>\n",
              "<style scoped>\n",
              "    .dataframe tbody tr th:only-of-type {\n",
              "        vertical-align: middle;\n",
              "    }\n",
              "\n",
              "    .dataframe tbody tr th {\n",
              "        vertical-align: top;\n",
              "    }\n",
              "\n",
              "    .dataframe thead th {\n",
              "        text-align: right;\n",
              "    }\n",
              "</style>\n",
              "<table border=\"1\" class=\"dataframe\">\n",
              "  <thead>\n",
              "    <tr style=\"text-align: right;\">\n",
              "      <th></th>\n",
              "      <th>Link</th>\n",
              "      <th>Occurred</th>\n",
              "      <th>City</th>\n",
              "      <th>State</th>\n",
              "      <th>Country</th>\n",
              "      <th>Shape</th>\n",
              "      <th>Summary</th>\n",
              "      <th>Reported</th>\n",
              "      <th>Media</th>\n",
              "      <th>Explanation</th>\n",
              "      <th>Latitude</th>\n",
              "      <th>Longitude</th>\n",
              "    </tr>\n",
              "  </thead>\n",
              "  <tbody>\n",
              "  </tbody>\n",
              "</table>\n",
              "</div>\n",
              "    <div class=\"colab-df-buttons\">\n",
              "\n",
              "  <div class=\"colab-df-container\">\n",
              "    <button class=\"colab-df-convert\" onclick=\"convertToInteractive('df-315236ff-01f4-4179-9f66-ca908b29c191')\"\n",
              "            title=\"Convert this dataframe to an interactive table.\"\n",
              "            style=\"display:none;\">\n",
              "\n",
              "  <svg xmlns=\"http://www.w3.org/2000/svg\" height=\"24px\" viewBox=\"0 -960 960 960\">\n",
              "    <path d=\"M120-120v-720h720v720H120Zm60-500h600v-160H180v160Zm220 220h160v-160H400v160Zm0 220h160v-160H400v160ZM180-400h160v-160H180v160Zm440 0h160v-160H620v160ZM180-180h160v-160H180v160Zm440 0h160v-160H620v160Z\"/>\n",
              "  </svg>\n",
              "    </button>\n",
              "\n",
              "  <style>\n",
              "    .colab-df-container {\n",
              "      display:flex;\n",
              "      gap: 12px;\n",
              "    }\n",
              "\n",
              "    .colab-df-convert {\n",
              "      background-color: #E8F0FE;\n",
              "      border: none;\n",
              "      border-radius: 50%;\n",
              "      cursor: pointer;\n",
              "      display: none;\n",
              "      fill: #1967D2;\n",
              "      height: 32px;\n",
              "      padding: 0 0 0 0;\n",
              "      width: 32px;\n",
              "    }\n",
              "\n",
              "    .colab-df-convert:hover {\n",
              "      background-color: #E2EBFA;\n",
              "      box-shadow: 0px 1px 2px rgba(60, 64, 67, 0.3), 0px 1px 3px 1px rgba(60, 64, 67, 0.15);\n",
              "      fill: #174EA6;\n",
              "    }\n",
              "\n",
              "    .colab-df-buttons div {\n",
              "      margin-bottom: 4px;\n",
              "    }\n",
              "\n",
              "    [theme=dark] .colab-df-convert {\n",
              "      background-color: #3B4455;\n",
              "      fill: #D2E3FC;\n",
              "    }\n",
              "\n",
              "    [theme=dark] .colab-df-convert:hover {\n",
              "      background-color: #434B5C;\n",
              "      box-shadow: 0px 1px 3px 1px rgba(0, 0, 0, 0.15);\n",
              "      filter: drop-shadow(0px 1px 2px rgba(0, 0, 0, 0.3));\n",
              "      fill: #FFFFFF;\n",
              "    }\n",
              "  </style>\n",
              "\n",
              "    <script>\n",
              "      const buttonEl =\n",
              "        document.querySelector('#df-315236ff-01f4-4179-9f66-ca908b29c191 button.colab-df-convert');\n",
              "      buttonEl.style.display =\n",
              "        google.colab.kernel.accessAllowed ? 'block' : 'none';\n",
              "\n",
              "      async function convertToInteractive(key) {\n",
              "        const element = document.querySelector('#df-315236ff-01f4-4179-9f66-ca908b29c191');\n",
              "        const dataTable =\n",
              "          await google.colab.kernel.invokeFunction('convertToInteractive',\n",
              "                                                    [key], {});\n",
              "        if (!dataTable) return;\n",
              "\n",
              "        const docLinkHtml = 'Like what you see? Visit the ' +\n",
              "          '<a target=\"_blank\" href=https://colab.research.google.com/notebooks/data_table.ipynb>data table notebook</a>'\n",
              "          + ' to learn more about interactive tables.';\n",
              "        element.innerHTML = '';\n",
              "        dataTable['output_type'] = 'display_data';\n",
              "        await google.colab.output.renderOutput(dataTable, element);\n",
              "        const docLink = document.createElement('div');\n",
              "        docLink.innerHTML = docLinkHtml;\n",
              "        element.appendChild(docLink);\n",
              "      }\n",
              "    </script>\n",
              "  </div>\n",
              "\n",
              "\n",
              "  <div id=\"id_4cc8997b-c5d3-4f6e-a360-736b02ac540d\">\n",
              "    <style>\n",
              "      .colab-df-generate {\n",
              "        background-color: #E8F0FE;\n",
              "        border: none;\n",
              "        border-radius: 50%;\n",
              "        cursor: pointer;\n",
              "        display: none;\n",
              "        fill: #1967D2;\n",
              "        height: 32px;\n",
              "        padding: 0 0 0 0;\n",
              "        width: 32px;\n",
              "      }\n",
              "\n",
              "      .colab-df-generate:hover {\n",
              "        background-color: #E2EBFA;\n",
              "        box-shadow: 0px 1px 2px rgba(60, 64, 67, 0.3), 0px 1px 3px 1px rgba(60, 64, 67, 0.15);\n",
              "        fill: #174EA6;\n",
              "      }\n",
              "\n",
              "      [theme=dark] .colab-df-generate {\n",
              "        background-color: #3B4455;\n",
              "        fill: #D2E3FC;\n",
              "      }\n",
              "\n",
              "      [theme=dark] .colab-df-generate:hover {\n",
              "        background-color: #434B5C;\n",
              "        box-shadow: 0px 1px 3px 1px rgba(0, 0, 0, 0.15);\n",
              "        filter: drop-shadow(0px 1px 2px rgba(0, 0, 0, 0.3));\n",
              "        fill: #FFFFFF;\n",
              "      }\n",
              "    </style>\n",
              "    <button class=\"colab-df-generate\" onclick=\"generateWithVariable('null_city')\"\n",
              "            title=\"Generate code using this dataframe.\"\n",
              "            style=\"display:none;\">\n",
              "\n",
              "  <svg xmlns=\"http://www.w3.org/2000/svg\" height=\"24px\"viewBox=\"0 0 24 24\"\n",
              "       width=\"24px\">\n",
              "    <path d=\"M7,19H8.4L18.45,9,17,7.55,7,17.6ZM5,21V16.75L18.45,3.32a2,2,0,0,1,2.83,0l1.4,1.43a1.91,1.91,0,0,1,.58,1.4,1.91,1.91,0,0,1-.58,1.4L9.25,21ZM18.45,9,17,7.55Zm-12,3A5.31,5.31,0,0,0,4.9,8.1,5.31,5.31,0,0,0,1,6.5,5.31,5.31,0,0,0,4.9,4.9,5.31,5.31,0,0,0,6.5,1,5.31,5.31,0,0,0,8.1,4.9,5.31,5.31,0,0,0,12,6.5,5.46,5.46,0,0,0,6.5,12Z\"/>\n",
              "  </svg>\n",
              "    </button>\n",
              "    <script>\n",
              "      (() => {\n",
              "      const buttonEl =\n",
              "        document.querySelector('#id_4cc8997b-c5d3-4f6e-a360-736b02ac540d button.colab-df-generate');\n",
              "      buttonEl.style.display =\n",
              "        google.colab.kernel.accessAllowed ? 'block' : 'none';\n",
              "\n",
              "      buttonEl.onclick = () => {\n",
              "        google.colab.notebook.generateWithVariable('null_city');\n",
              "      }\n",
              "      })();\n",
              "    </script>\n",
              "  </div>\n",
              "\n",
              "    </div>\n",
              "  </div>\n"
            ],
            "application/vnd.google.colaboratory.intrinsic+json": {
              "type": "dataframe",
              "variable_name": "null_city",
              "repr_error": "Out of range float values are not JSON compliant: nan"
            }
          },
          "metadata": {},
          "execution_count": 49
        }
      ]
    },
    {
      "cell_type": "code",
      "source": [
        "#Look at those where the City is erroneously coded as NM- also kept and coded New_City as New Mexico w/state centric coordinates.\n",
        "null_city = ufo_df[ufo_df[\"City\"]== \"\"]\n",
        "ufo_df[ufo_df[\"City\"]== \"New Mexico\"]"
      ],
      "metadata": {
        "colab": {
          "base_uri": "https://localhost:8080/",
          "height": 332
        },
        "id": "5LdL87SFjuHR",
        "outputId": "e85a5a03-1f51-4e36-b6df-425477824494",
        "collapsed": true
      },
      "execution_count": 50,
      "outputs": [
        {
          "output_type": "execute_result",
          "data": {
            "text/plain": [
              "     Link          Occurred        City State Country     Shape  \\\n",
              "602  Open   1/15/2015 11:00  New Mexico    NM     USA  Triangle   \n",
              "603  Open    2/2/2011 16:40  New Mexico    NM     USA    Circle   \n",
              "604  Open   10/9/2009 23:00  New Mexico    NM     USA      Cone   \n",
              "605  Open    6/4/2007 13:00  New Mexico    NM     USA      Disk   \n",
              "606  Open  10/25/2003 13:00  New Mexico    NM     USA     Other   \n",
              "607  Open     6/1/1997 3:30  New Mexico    NM     USA      Disk   \n",
              "608  Open   2/21/1994 19:00  New Mexico    NM     USA     Light   \n",
              "609  Open     6/1/1989 0:00  New Mexico    NM     USA       Orb   \n",
              "610  Open    6/30/1966 0:01  New Mexico    NM     USA      Disk   \n",
              "\n",
              "                                               Summary    Reported Media  \\\n",
              "602  They have been taking me since I was little an...   1/23/2022   NaN   \n",
              "603           Many UFO over new mexico white and green    2/4/2011   NaN   \n",
              "604  colors shined where can tell the shape of the ...  10/13/2009   NaN   \n",
              "605  2 pictures taken from a airplane of an object ...   7/27/2007   NaN   \n",
              "606  Pictures of a landscape in New Mexico where my...   5/11/2010   NaN   \n",
              "607  on hwy 10east going to elpaso texas.,,, slow m...    4/4/1999   NaN   \n",
              "608  flashing bright lights following 60mph auto at...   2/27/2004   NaN   \n",
              "609  metalic orb huvering above the ground in new m...    9/4/2008   NaN   \n",
              "610  followed for about 15 minutes by saucer like o...  12/17/2005   NaN   \n",
              "\n",
              "    Explanation Latitude  Longitude  \n",
              "602         NaN  34.9727   105.0324  \n",
              "603         NaN  34.9727   105.0324  \n",
              "604         NaN  34.9727   105.0324  \n",
              "605         NaN  34.9727   105.0324  \n",
              "606         NaN  34.9727   105.0324  \n",
              "607         NaN  34.9727   105.0324  \n",
              "608         NaN  34.9727   105.0324  \n",
              "609         NaN  34.9727   105.0324  \n",
              "610         NaN  34.9727   105.0324  "
            ],
            "text/html": [
              "\n",
              "  <div id=\"df-8f5869a7-581e-4ab4-8b90-a28ab2a0b0e1\" class=\"colab-df-container\">\n",
              "    <div>\n",
              "<style scoped>\n",
              "    .dataframe tbody tr th:only-of-type {\n",
              "        vertical-align: middle;\n",
              "    }\n",
              "\n",
              "    .dataframe tbody tr th {\n",
              "        vertical-align: top;\n",
              "    }\n",
              "\n",
              "    .dataframe thead th {\n",
              "        text-align: right;\n",
              "    }\n",
              "</style>\n",
              "<table border=\"1\" class=\"dataframe\">\n",
              "  <thead>\n",
              "    <tr style=\"text-align: right;\">\n",
              "      <th></th>\n",
              "      <th>Link</th>\n",
              "      <th>Occurred</th>\n",
              "      <th>City</th>\n",
              "      <th>State</th>\n",
              "      <th>Country</th>\n",
              "      <th>Shape</th>\n",
              "      <th>Summary</th>\n",
              "      <th>Reported</th>\n",
              "      <th>Media</th>\n",
              "      <th>Explanation</th>\n",
              "      <th>Latitude</th>\n",
              "      <th>Longitude</th>\n",
              "    </tr>\n",
              "  </thead>\n",
              "  <tbody>\n",
              "    <tr>\n",
              "      <th>602</th>\n",
              "      <td>Open</td>\n",
              "      <td>1/15/2015 11:00</td>\n",
              "      <td>New Mexico</td>\n",
              "      <td>NM</td>\n",
              "      <td>USA</td>\n",
              "      <td>Triangle</td>\n",
              "      <td>They have been taking me since I was little an...</td>\n",
              "      <td>1/23/2022</td>\n",
              "      <td>NaN</td>\n",
              "      <td>NaN</td>\n",
              "      <td>34.9727</td>\n",
              "      <td>105.0324</td>\n",
              "    </tr>\n",
              "    <tr>\n",
              "      <th>603</th>\n",
              "      <td>Open</td>\n",
              "      <td>2/2/2011 16:40</td>\n",
              "      <td>New Mexico</td>\n",
              "      <td>NM</td>\n",
              "      <td>USA</td>\n",
              "      <td>Circle</td>\n",
              "      <td>Many UFO over new mexico white and green</td>\n",
              "      <td>2/4/2011</td>\n",
              "      <td>NaN</td>\n",
              "      <td>NaN</td>\n",
              "      <td>34.9727</td>\n",
              "      <td>105.0324</td>\n",
              "    </tr>\n",
              "    <tr>\n",
              "      <th>604</th>\n",
              "      <td>Open</td>\n",
              "      <td>10/9/2009 23:00</td>\n",
              "      <td>New Mexico</td>\n",
              "      <td>NM</td>\n",
              "      <td>USA</td>\n",
              "      <td>Cone</td>\n",
              "      <td>colors shined where can tell the shape of the ...</td>\n",
              "      <td>10/13/2009</td>\n",
              "      <td>NaN</td>\n",
              "      <td>NaN</td>\n",
              "      <td>34.9727</td>\n",
              "      <td>105.0324</td>\n",
              "    </tr>\n",
              "    <tr>\n",
              "      <th>605</th>\n",
              "      <td>Open</td>\n",
              "      <td>6/4/2007 13:00</td>\n",
              "      <td>New Mexico</td>\n",
              "      <td>NM</td>\n",
              "      <td>USA</td>\n",
              "      <td>Disk</td>\n",
              "      <td>2 pictures taken from a airplane of an object ...</td>\n",
              "      <td>7/27/2007</td>\n",
              "      <td>NaN</td>\n",
              "      <td>NaN</td>\n",
              "      <td>34.9727</td>\n",
              "      <td>105.0324</td>\n",
              "    </tr>\n",
              "    <tr>\n",
              "      <th>606</th>\n",
              "      <td>Open</td>\n",
              "      <td>10/25/2003 13:00</td>\n",
              "      <td>New Mexico</td>\n",
              "      <td>NM</td>\n",
              "      <td>USA</td>\n",
              "      <td>Other</td>\n",
              "      <td>Pictures of a landscape in New Mexico where my...</td>\n",
              "      <td>5/11/2010</td>\n",
              "      <td>NaN</td>\n",
              "      <td>NaN</td>\n",
              "      <td>34.9727</td>\n",
              "      <td>105.0324</td>\n",
              "    </tr>\n",
              "    <tr>\n",
              "      <th>607</th>\n",
              "      <td>Open</td>\n",
              "      <td>6/1/1997 3:30</td>\n",
              "      <td>New Mexico</td>\n",
              "      <td>NM</td>\n",
              "      <td>USA</td>\n",
              "      <td>Disk</td>\n",
              "      <td>on hwy 10east going to elpaso texas.,,, slow m...</td>\n",
              "      <td>4/4/1999</td>\n",
              "      <td>NaN</td>\n",
              "      <td>NaN</td>\n",
              "      <td>34.9727</td>\n",
              "      <td>105.0324</td>\n",
              "    </tr>\n",
              "    <tr>\n",
              "      <th>608</th>\n",
              "      <td>Open</td>\n",
              "      <td>2/21/1994 19:00</td>\n",
              "      <td>New Mexico</td>\n",
              "      <td>NM</td>\n",
              "      <td>USA</td>\n",
              "      <td>Light</td>\n",
              "      <td>flashing bright lights following 60mph auto at...</td>\n",
              "      <td>2/27/2004</td>\n",
              "      <td>NaN</td>\n",
              "      <td>NaN</td>\n",
              "      <td>34.9727</td>\n",
              "      <td>105.0324</td>\n",
              "    </tr>\n",
              "    <tr>\n",
              "      <th>609</th>\n",
              "      <td>Open</td>\n",
              "      <td>6/1/1989 0:00</td>\n",
              "      <td>New Mexico</td>\n",
              "      <td>NM</td>\n",
              "      <td>USA</td>\n",
              "      <td>Orb</td>\n",
              "      <td>metalic orb huvering above the ground in new m...</td>\n",
              "      <td>9/4/2008</td>\n",
              "      <td>NaN</td>\n",
              "      <td>NaN</td>\n",
              "      <td>34.9727</td>\n",
              "      <td>105.0324</td>\n",
              "    </tr>\n",
              "    <tr>\n",
              "      <th>610</th>\n",
              "      <td>Open</td>\n",
              "      <td>6/30/1966 0:01</td>\n",
              "      <td>New Mexico</td>\n",
              "      <td>NM</td>\n",
              "      <td>USA</td>\n",
              "      <td>Disk</td>\n",
              "      <td>followed for about 15 minutes by saucer like o...</td>\n",
              "      <td>12/17/2005</td>\n",
              "      <td>NaN</td>\n",
              "      <td>NaN</td>\n",
              "      <td>34.9727</td>\n",
              "      <td>105.0324</td>\n",
              "    </tr>\n",
              "  </tbody>\n",
              "</table>\n",
              "</div>\n",
              "    <div class=\"colab-df-buttons\">\n",
              "\n",
              "  <div class=\"colab-df-container\">\n",
              "    <button class=\"colab-df-convert\" onclick=\"convertToInteractive('df-8f5869a7-581e-4ab4-8b90-a28ab2a0b0e1')\"\n",
              "            title=\"Convert this dataframe to an interactive table.\"\n",
              "            style=\"display:none;\">\n",
              "\n",
              "  <svg xmlns=\"http://www.w3.org/2000/svg\" height=\"24px\" viewBox=\"0 -960 960 960\">\n",
              "    <path d=\"M120-120v-720h720v720H120Zm60-500h600v-160H180v160Zm220 220h160v-160H400v160Zm0 220h160v-160H400v160ZM180-400h160v-160H180v160Zm440 0h160v-160H620v160ZM180-180h160v-160H180v160Zm440 0h160v-160H620v160Z\"/>\n",
              "  </svg>\n",
              "    </button>\n",
              "\n",
              "  <style>\n",
              "    .colab-df-container {\n",
              "      display:flex;\n",
              "      gap: 12px;\n",
              "    }\n",
              "\n",
              "    .colab-df-convert {\n",
              "      background-color: #E8F0FE;\n",
              "      border: none;\n",
              "      border-radius: 50%;\n",
              "      cursor: pointer;\n",
              "      display: none;\n",
              "      fill: #1967D2;\n",
              "      height: 32px;\n",
              "      padding: 0 0 0 0;\n",
              "      width: 32px;\n",
              "    }\n",
              "\n",
              "    .colab-df-convert:hover {\n",
              "      background-color: #E2EBFA;\n",
              "      box-shadow: 0px 1px 2px rgba(60, 64, 67, 0.3), 0px 1px 3px 1px rgba(60, 64, 67, 0.15);\n",
              "      fill: #174EA6;\n",
              "    }\n",
              "\n",
              "    .colab-df-buttons div {\n",
              "      margin-bottom: 4px;\n",
              "    }\n",
              "\n",
              "    [theme=dark] .colab-df-convert {\n",
              "      background-color: #3B4455;\n",
              "      fill: #D2E3FC;\n",
              "    }\n",
              "\n",
              "    [theme=dark] .colab-df-convert:hover {\n",
              "      background-color: #434B5C;\n",
              "      box-shadow: 0px 1px 3px 1px rgba(0, 0, 0, 0.15);\n",
              "      filter: drop-shadow(0px 1px 2px rgba(0, 0, 0, 0.3));\n",
              "      fill: #FFFFFF;\n",
              "    }\n",
              "  </style>\n",
              "\n",
              "    <script>\n",
              "      const buttonEl =\n",
              "        document.querySelector('#df-8f5869a7-581e-4ab4-8b90-a28ab2a0b0e1 button.colab-df-convert');\n",
              "      buttonEl.style.display =\n",
              "        google.colab.kernel.accessAllowed ? 'block' : 'none';\n",
              "\n",
              "      async function convertToInteractive(key) {\n",
              "        const element = document.querySelector('#df-8f5869a7-581e-4ab4-8b90-a28ab2a0b0e1');\n",
              "        const dataTable =\n",
              "          await google.colab.kernel.invokeFunction('convertToInteractive',\n",
              "                                                    [key], {});\n",
              "        if (!dataTable) return;\n",
              "\n",
              "        const docLinkHtml = 'Like what you see? Visit the ' +\n",
              "          '<a target=\"_blank\" href=https://colab.research.google.com/notebooks/data_table.ipynb>data table notebook</a>'\n",
              "          + ' to learn more about interactive tables.';\n",
              "        element.innerHTML = '';\n",
              "        dataTable['output_type'] = 'display_data';\n",
              "        await google.colab.output.renderOutput(dataTable, element);\n",
              "        const docLink = document.createElement('div');\n",
              "        docLink.innerHTML = docLinkHtml;\n",
              "        element.appendChild(docLink);\n",
              "      }\n",
              "    </script>\n",
              "  </div>\n",
              "\n",
              "\n",
              "<div id=\"df-57ba9e78-8d2c-4155-b716-6463050f554d\">\n",
              "  <button class=\"colab-df-quickchart\" onclick=\"quickchart('df-57ba9e78-8d2c-4155-b716-6463050f554d')\"\n",
              "            title=\"Suggest charts\"\n",
              "            style=\"display:none;\">\n",
              "\n",
              "<svg xmlns=\"http://www.w3.org/2000/svg\" height=\"24px\"viewBox=\"0 0 24 24\"\n",
              "     width=\"24px\">\n",
              "    <g>\n",
              "        <path d=\"M19 3H5c-1.1 0-2 .9-2 2v14c0 1.1.9 2 2 2h14c1.1 0 2-.9 2-2V5c0-1.1-.9-2-2-2zM9 17H7v-7h2v7zm4 0h-2V7h2v10zm4 0h-2v-4h2v4z\"/>\n",
              "    </g>\n",
              "</svg>\n",
              "  </button>\n",
              "\n",
              "<style>\n",
              "  .colab-df-quickchart {\n",
              "      --bg-color: #E8F0FE;\n",
              "      --fill-color: #1967D2;\n",
              "      --hover-bg-color: #E2EBFA;\n",
              "      --hover-fill-color: #174EA6;\n",
              "      --disabled-fill-color: #AAA;\n",
              "      --disabled-bg-color: #DDD;\n",
              "  }\n",
              "\n",
              "  [theme=dark] .colab-df-quickchart {\n",
              "      --bg-color: #3B4455;\n",
              "      --fill-color: #D2E3FC;\n",
              "      --hover-bg-color: #434B5C;\n",
              "      --hover-fill-color: #FFFFFF;\n",
              "      --disabled-bg-color: #3B4455;\n",
              "      --disabled-fill-color: #666;\n",
              "  }\n",
              "\n",
              "  .colab-df-quickchart {\n",
              "    background-color: var(--bg-color);\n",
              "    border: none;\n",
              "    border-radius: 50%;\n",
              "    cursor: pointer;\n",
              "    display: none;\n",
              "    fill: var(--fill-color);\n",
              "    height: 32px;\n",
              "    padding: 0;\n",
              "    width: 32px;\n",
              "  }\n",
              "\n",
              "  .colab-df-quickchart:hover {\n",
              "    background-color: var(--hover-bg-color);\n",
              "    box-shadow: 0 1px 2px rgba(60, 64, 67, 0.3), 0 1px 3px 1px rgba(60, 64, 67, 0.15);\n",
              "    fill: var(--button-hover-fill-color);\n",
              "  }\n",
              "\n",
              "  .colab-df-quickchart-complete:disabled,\n",
              "  .colab-df-quickchart-complete:disabled:hover {\n",
              "    background-color: var(--disabled-bg-color);\n",
              "    fill: var(--disabled-fill-color);\n",
              "    box-shadow: none;\n",
              "  }\n",
              "\n",
              "  .colab-df-spinner {\n",
              "    border: 2px solid var(--fill-color);\n",
              "    border-color: transparent;\n",
              "    border-bottom-color: var(--fill-color);\n",
              "    animation:\n",
              "      spin 1s steps(1) infinite;\n",
              "  }\n",
              "\n",
              "  @keyframes spin {\n",
              "    0% {\n",
              "      border-color: transparent;\n",
              "      border-bottom-color: var(--fill-color);\n",
              "      border-left-color: var(--fill-color);\n",
              "    }\n",
              "    20% {\n",
              "      border-color: transparent;\n",
              "      border-left-color: var(--fill-color);\n",
              "      border-top-color: var(--fill-color);\n",
              "    }\n",
              "    30% {\n",
              "      border-color: transparent;\n",
              "      border-left-color: var(--fill-color);\n",
              "      border-top-color: var(--fill-color);\n",
              "      border-right-color: var(--fill-color);\n",
              "    }\n",
              "    40% {\n",
              "      border-color: transparent;\n",
              "      border-right-color: var(--fill-color);\n",
              "      border-top-color: var(--fill-color);\n",
              "    }\n",
              "    60% {\n",
              "      border-color: transparent;\n",
              "      border-right-color: var(--fill-color);\n",
              "    }\n",
              "    80% {\n",
              "      border-color: transparent;\n",
              "      border-right-color: var(--fill-color);\n",
              "      border-bottom-color: var(--fill-color);\n",
              "    }\n",
              "    90% {\n",
              "      border-color: transparent;\n",
              "      border-bottom-color: var(--fill-color);\n",
              "    }\n",
              "  }\n",
              "</style>\n",
              "\n",
              "  <script>\n",
              "    async function quickchart(key) {\n",
              "      const quickchartButtonEl =\n",
              "        document.querySelector('#' + key + ' button');\n",
              "      quickchartButtonEl.disabled = true;  // To prevent multiple clicks.\n",
              "      quickchartButtonEl.classList.add('colab-df-spinner');\n",
              "      try {\n",
              "        const charts = await google.colab.kernel.invokeFunction(\n",
              "            'suggestCharts', [key], {});\n",
              "      } catch (error) {\n",
              "        console.error('Error during call to suggestCharts:', error);\n",
              "      }\n",
              "      quickchartButtonEl.classList.remove('colab-df-spinner');\n",
              "      quickchartButtonEl.classList.add('colab-df-quickchart-complete');\n",
              "    }\n",
              "    (() => {\n",
              "      let quickchartButtonEl =\n",
              "        document.querySelector('#df-57ba9e78-8d2c-4155-b716-6463050f554d button');\n",
              "      quickchartButtonEl.style.display =\n",
              "        google.colab.kernel.accessAllowed ? 'block' : 'none';\n",
              "    })();\n",
              "  </script>\n",
              "</div>\n",
              "\n",
              "    </div>\n",
              "  </div>\n"
            ],
            "application/vnd.google.colaboratory.intrinsic+json": {
              "type": "dataframe",
              "repr_error": "0"
            }
          },
          "metadata": {},
          "execution_count": 50
        }
      ]
    },
    {
      "cell_type": "code",
      "source": [
        "#In reference to original column create a dupliate for corrected values\n",
        "ufo_df['City_New'] = ufo_df['City'].str.replace(' ?\\(.+\\)', '', regex=True)\n",
        "ufo_df['City_New'] = ufo_df['City_New'].str.replace('-', 'Other')\n",
        "ufo_df['City_New'] = ufo_df['City_New'].str.replace('^$', 'Other', regex=True)\n",
        "ufo_df['City_New'] = ufo_df['City_New'].str.replace('\\/.*', '', regex=True)"
      ],
      "metadata": {
        "id": "2Jn45ZPLsjTz"
      },
      "execution_count": 51,
      "outputs": []
    },
    {
      "cell_type": "code",
      "source": [
        "ufo_df['City_New'] = ufo_df['City_New'].str.replace('NaN', 'New Mexico')\n",
        "ufo_df['City_New'] = ufo_df['City_New'].str.replace('nan', 'New Mexico')\n",
        "ufo_df['City_New'] = ufo_df['City_New'].str.replace('Unknown', 'New Mexico')\n",
        "ufo_df['City_New'] = ufo_df['City_New'].str.replace('Television program', 'New Mexico')\n",
        "ufo_df['City_New'] = ufo_df['City_New'].str.replace('Nowhere', 'New Mexico')\n",
        "ufo_df['City_New'] = ufo_df['City_New'].str.replace(' Downs', '')\n",
        "ufo_df['City_New'] = ufo_df['City_New'].str.replace(' Indian Reservation', '')\n",
        "ufo_df['City_New'] = ufo_df['City_New'].str.replace('35.451099,Other106.150200', 'New Mexico')\n",
        "ufo_df['City_New'] = ufo_df['City_New'].str.replace(' Missile Range', '')\n",
        "ufo_df['City_New'] = ufo_df['City_New'].str.replace(' missile range', '')\n",
        "ufo_df['City_New'] = ufo_df['City_New'].str.replace('Abiqui', 'Abiquiu')\n",
        "ufo_df['City_New'] = ufo_df['City_New'].str.replace('Abiquiuu', 'Abiquiu')\n",
        "ufo_df['City_New'] = ufo_df['City_New'].str.replace(' National', '')\n",
        "ufo_df['City_New'] = ufo_df['City_New'].str.replace(' Monument', '')\n",
        "ufo_df['City_New'] = ufo_df['City_New'].str.replace('Abo ruins near ', '')\n",
        "ufo_df['City_New'] = ufo_df['City_New'].str.replace('Between Clayton and Capulin, NM', 'Clayton')\n",
        "ufo_df['City_New'] = ufo_df['City_New'].str.replace(', west of.', '')\n",
        "ufo_df['City_New'] = ufo_df['City_New'].str.replace('Along HWY 550 Near ', '')\n",
        "ufo_df['City_New'] = ufo_df['City_New'].str.replace('Canyon', '')\n",
        "ufo_df['City_New'] = ufo_df['City_New'].str.replace('Pueblo', '')\n",
        "ufo_df['City_New'] = ufo_df['City_New'].str.replace('Rural ', '')\n",
        "ufo_df['City_New'] = ufo_df['City_New'].str.replace('Villa Nueva State Park', '')\n",
        "ufo_df['City_New'] = ufo_df['City_New'].str.replace('Villa Nueva', 'Villanueva')\n",
        "ufo_df['City_New'] = ufo_df['City_New'].str.replace('Outside of ', '')\n",
        "ufo_df['City_New'] = ufo_df['City_New'].str.replace(' County', '')\n",
        "ufo_df['City_New'] = ufo_df['City_New'].str.replace('Ft. Carson; IOther25 south', 'New Mexico')\n",
        "ufo_df['City_New'] = ufo_df['City_New'].str.replace('Desert', 'New Mexico')\n",
        "ufo_df['City_New'] = ufo_df['City_New'].str.replace('Other', 'New Mexico')\n",
        "ufo_df['City_New'] = ufo_df['City_New'].str.replace('INew Mexico10, Marker 174', 'Interstate 10')\n",
        "ufo_df['City_New'] = ufo_df['City_New'].str.replace('White Sand New Mexico North Ocuro Peak', 'White Sands')\n",
        "ufo_df['City_New'] = ufo_df['City_New'].str.replace('unsure, possibly Des Moines or Grenville', 'Des Moines')\n",
        "ufo_df['City_New'] = ufo_df['City_New'].str.replace('Lincoln Forest', 'Lincoln')\n",
        "ufo_df['City_New'] = ufo_df['City_New'].str.replace('Fence lake new Mexico', 'Fence Lake')\n",
        "ufo_df['City_New'] = ufo_df['City_New'].str.replace(' area', '')\n",
        "ufo_df['City_New'] = ufo_df['City_New'].str.replace(' and Albuquerque', '')\n",
        "ufo_df['City_New'] = ufo_df['City_New'].str.replace('Near Jemez', 'Jemez Springs')\n",
        "ufo_df['City_New'] = ufo_df['City_New'].str.replace('Hondo, Seco', 'Hondo Seco')\n",
        "ufo_df['City_New'] = ufo_df['City_New'].str.replace('Alburquerque', 'Albuquerque')\n",
        "ufo_df['City_New'] = ufo_df['City_New'].str.replace('Albuqueruque', 'Albuquerque')\n",
        "ufo_df['City_New'] = ufo_df['City_New'].str.replace('INew Mexico10 eastbound @ markers 2New Mexico65', 'Interstate 10')\n",
        "ufo_df['City_New'] = ufo_df['City_New'].str.replace('YahNew MexicotaNew Mexicohey', 'Yah-ta-hey')\n",
        "ufo_df['City_New'] = ufo_df['City_New'].str.replace('El Paso and Alamogordo', 'Alamogordo')\n",
        "ufo_df['City_New'] = ufo_df['City_New'].str.replace('St Augustine Pass ', '')\n",
        "ufo_df['City_New'] = ufo_df['City_New'].str.replace('Ranco', 'Rancho')\n",
        "ufo_df['City_New'] = ufo_df['City_New'].str.replace(' Cavrans', '')\n",
        "ufo_df['City_New'] = ufo_df['City_New'].str.upper()\n",
        "ufo_df['City_New'] = ufo_df['City_New'].str.replace('CORNER', 'CORNERS')\n",
        "ufo_df['City_New'] = ufo_df['City_New'].str.replace('CLINES CORNERSS', 'CLINES CORNERS', -1)\n",
        "ufo_df['City_New'] = ufo_df['City_New'].str.replace(' & MORIRITY', '')\n",
        "ufo_df['City_New'] = ufo_df['City_New'].str.replace('BERNALLILO', 'BERNALILLO')\n",
        "ufo_df['City_New']=ufo_df['City_New'].str.rstrip()\n",
        "ufo_df['City_New'] = ufo_df['City_New'].str.replace('CANON AFB', 'CANNON AFB')\n",
        "ufo_df['City_New'] = ufo_df['City_New'].str.replace('BLUEWATER LAKE', 'BLUEWATER')\n",
        "ufo_df['City_New'] = ufo_df['City_New'].str.replace('BLUEWATER VILLAGE', 'BLUEWATER')\n",
        "ufo_df['City_New'] = ufo_df['City_New'].str.replace('CHACO  HISTORIC PARK', 'CHACO')\n",
        "ufo_df['City_New'] = ufo_df['City_New'].str.replace('CHACO CULTURE PARK', 'CHACO')\n",
        "ufo_df['City_New'] = ufo_df['City_New'].str.replace('DZILTHNEW MEXICONANEW MEXICOONEW MEXICODITHLE', 'DZILTH-NA-O-DIT-HLE')\n",
        "ufo_df['City_New'] = ufo_df['City_New'].str.replace('LORDSBURG AND SILVER CITY', 'LORDSBURG')\n",
        "ufo_df['City_New'] = ufo_df['City_New'].str.replace('TIJERES', 'TIJERAS')\n",
        "ufo_df['City_New'] = ufo_df['City_New'].str.replace('HERNEW MEXICODEZ', 'HERNANDEZ')\n",
        "ufo_df.loc[1181, 'City_New'] = 'VILLANUEVA'"
      ],
      "metadata": {
        "id": "hTUY58wYtDXp"
      },
      "execution_count": 52,
      "outputs": []
    },
    {
      "cell_type": "code",
      "source": [
        "#Code cell for any final modificaitons.\n",
        "ufo_df['Shape'] = ufo_df['Shape'].str.replace('triangle', 'Triangle')\n",
        "\n",
        "#Let generate a unique list of shapes\n",
        "unique_shapes = ufo_df['Shape'].unique()\n",
        "\n",
        "#To see the output run the following code:\n",
        "print(unique_shapes)\n"
      ],
      "metadata": {
        "id": "Y0IuATtl7g-i",
        "colab": {
          "base_uri": "https://localhost:8080/"
        },
        "outputId": "7f68ec56-f6b2-4dc9-b791-2837d8a0115b"
      },
      "execution_count": 53,
      "outputs": [
        {
          "output_type": "stream",
          "name": "stdout",
          "text": [
            "['Disk' 'Light' 'Oval' 'Other' 'Circle' 'Cigar' 'Changing' 'Triangle'\n",
            " 'Formation' 'Fireball' 'Unknown' 'Orb' 'Chevron' 'Sphere' 'Rectangle'\n",
            " 'Diamond' 'Teardrop' 'Cylinder' nan 'Star' 'Cone' 'Egg' 'Flash' 'Cube'\n",
            " 'Cross']\n"
          ]
        }
      ]
    },
    {
      "cell_type": "code",
      "source": [
        "ufo_df.dropna(subset=['Occurred'], inplace=True)"
      ],
      "metadata": {
        "id": "-rF6sk9yfhIK"
      },
      "execution_count": 54,
      "outputs": []
    },
    {
      "cell_type": "markdown",
      "source": [
        "## Code Sections Below used for visual review during cleaning."
      ],
      "metadata": {
        "id": "0YntLbPQXNy7"
      }
    },
    {
      "cell_type": "code",
      "source": [
        "#Use this to display original City and \"City_New\"\n",
        "\n",
        "ufo_df[1520:1525]"
      ],
      "metadata": {
        "colab": {
          "base_uri": "https://localhost:8080/",
          "height": 206
        },
        "id": "-n5nI4uQg0C9",
        "outputId": "4d713b76-bb8f-4f3c-91a3-cba5c1b2d772"
      },
      "execution_count": 55,
      "outputs": [
        {
          "output_type": "execute_result",
          "data": {
            "text/plain": [
              "      Link          Occurred                City State Country  Shape  \\\n",
              "1521  Open   11/17/2019 1:00  Dzilth-na-o-dithle    NM     USA    NaN   \n",
              "1522  Open     7/7/2017 1:00  Dzilth-na-o-dithle    NM     USA  Other   \n",
              "1523  Open  10/21/2022 13:12                Taos    NM     USA    Egg   \n",
              "1524  Open    6/28/2022 2:00                Taos    NM     USA  Light   \n",
              "1525  Open  10/16/2021 10:30                Taos    NM     USA  Cigar   \n",
              "\n",
              "                                                Summary    Reported Media  \\\n",
              "1521  Strange lights flashing through windows and sk...  11/19/2019   NaN   \n",
              "1522  Going to sleep around 1:00 a.m. With 4 of my n...  11/18/2019   NaN   \n",
              "1523  Objects appears to just pop in sight. They mov...  10/22/2022     Y   \n",
              "1524  Intense white light coming through our bedroom...   6/29/2022     Y   \n",
              "1525              Cigar object that caught my attention  10/17/2021   NaN   \n",
              "\n",
              "     Explanation   Latitude   Longitude             City_New  \n",
              "1521         NaN  36.392439 -107.834965  DZILTH-NA-O-DIT-HLE  \n",
              "1522         NaN  36.392439 -107.834965  DZILTH-NA-O-DIT-HLE  \n",
              "1523         NaN  36.406326 -105.573264                 TAOS  \n",
              "1524         NaN  36.406326 -105.573264                 TAOS  \n",
              "1525         NaN  36.406326 -105.573264                 TAOS  "
            ],
            "text/html": [
              "\n",
              "  <div id=\"df-cd10fd85-3cc0-4fc4-9a00-7a41c9d434ce\" class=\"colab-df-container\">\n",
              "    <div>\n",
              "<style scoped>\n",
              "    .dataframe tbody tr th:only-of-type {\n",
              "        vertical-align: middle;\n",
              "    }\n",
              "\n",
              "    .dataframe tbody tr th {\n",
              "        vertical-align: top;\n",
              "    }\n",
              "\n",
              "    .dataframe thead th {\n",
              "        text-align: right;\n",
              "    }\n",
              "</style>\n",
              "<table border=\"1\" class=\"dataframe\">\n",
              "  <thead>\n",
              "    <tr style=\"text-align: right;\">\n",
              "      <th></th>\n",
              "      <th>Link</th>\n",
              "      <th>Occurred</th>\n",
              "      <th>City</th>\n",
              "      <th>State</th>\n",
              "      <th>Country</th>\n",
              "      <th>Shape</th>\n",
              "      <th>Summary</th>\n",
              "      <th>Reported</th>\n",
              "      <th>Media</th>\n",
              "      <th>Explanation</th>\n",
              "      <th>Latitude</th>\n",
              "      <th>Longitude</th>\n",
              "      <th>City_New</th>\n",
              "    </tr>\n",
              "  </thead>\n",
              "  <tbody>\n",
              "    <tr>\n",
              "      <th>1521</th>\n",
              "      <td>Open</td>\n",
              "      <td>11/17/2019 1:00</td>\n",
              "      <td>Dzilth-na-o-dithle</td>\n",
              "      <td>NM</td>\n",
              "      <td>USA</td>\n",
              "      <td>NaN</td>\n",
              "      <td>Strange lights flashing through windows and sk...</td>\n",
              "      <td>11/19/2019</td>\n",
              "      <td>NaN</td>\n",
              "      <td>NaN</td>\n",
              "      <td>36.392439</td>\n",
              "      <td>-107.834965</td>\n",
              "      <td>DZILTH-NA-O-DIT-HLE</td>\n",
              "    </tr>\n",
              "    <tr>\n",
              "      <th>1522</th>\n",
              "      <td>Open</td>\n",
              "      <td>7/7/2017 1:00</td>\n",
              "      <td>Dzilth-na-o-dithle</td>\n",
              "      <td>NM</td>\n",
              "      <td>USA</td>\n",
              "      <td>Other</td>\n",
              "      <td>Going to sleep around 1:00 a.m. With 4 of my n...</td>\n",
              "      <td>11/18/2019</td>\n",
              "      <td>NaN</td>\n",
              "      <td>NaN</td>\n",
              "      <td>36.392439</td>\n",
              "      <td>-107.834965</td>\n",
              "      <td>DZILTH-NA-O-DIT-HLE</td>\n",
              "    </tr>\n",
              "    <tr>\n",
              "      <th>1523</th>\n",
              "      <td>Open</td>\n",
              "      <td>10/21/2022 13:12</td>\n",
              "      <td>Taos</td>\n",
              "      <td>NM</td>\n",
              "      <td>USA</td>\n",
              "      <td>Egg</td>\n",
              "      <td>Objects appears to just pop in sight. They mov...</td>\n",
              "      <td>10/22/2022</td>\n",
              "      <td>Y</td>\n",
              "      <td>NaN</td>\n",
              "      <td>36.406326</td>\n",
              "      <td>-105.573264</td>\n",
              "      <td>TAOS</td>\n",
              "    </tr>\n",
              "    <tr>\n",
              "      <th>1524</th>\n",
              "      <td>Open</td>\n",
              "      <td>6/28/2022 2:00</td>\n",
              "      <td>Taos</td>\n",
              "      <td>NM</td>\n",
              "      <td>USA</td>\n",
              "      <td>Light</td>\n",
              "      <td>Intense white light coming through our bedroom...</td>\n",
              "      <td>6/29/2022</td>\n",
              "      <td>Y</td>\n",
              "      <td>NaN</td>\n",
              "      <td>36.406326</td>\n",
              "      <td>-105.573264</td>\n",
              "      <td>TAOS</td>\n",
              "    </tr>\n",
              "    <tr>\n",
              "      <th>1525</th>\n",
              "      <td>Open</td>\n",
              "      <td>10/16/2021 10:30</td>\n",
              "      <td>Taos</td>\n",
              "      <td>NM</td>\n",
              "      <td>USA</td>\n",
              "      <td>Cigar</td>\n",
              "      <td>Cigar object that caught my attention</td>\n",
              "      <td>10/17/2021</td>\n",
              "      <td>NaN</td>\n",
              "      <td>NaN</td>\n",
              "      <td>36.406326</td>\n",
              "      <td>-105.573264</td>\n",
              "      <td>TAOS</td>\n",
              "    </tr>\n",
              "  </tbody>\n",
              "</table>\n",
              "</div>\n",
              "    <div class=\"colab-df-buttons\">\n",
              "\n",
              "  <div class=\"colab-df-container\">\n",
              "    <button class=\"colab-df-convert\" onclick=\"convertToInteractive('df-cd10fd85-3cc0-4fc4-9a00-7a41c9d434ce')\"\n",
              "            title=\"Convert this dataframe to an interactive table.\"\n",
              "            style=\"display:none;\">\n",
              "\n",
              "  <svg xmlns=\"http://www.w3.org/2000/svg\" height=\"24px\" viewBox=\"0 -960 960 960\">\n",
              "    <path d=\"M120-120v-720h720v720H120Zm60-500h600v-160H180v160Zm220 220h160v-160H400v160Zm0 220h160v-160H400v160ZM180-400h160v-160H180v160Zm440 0h160v-160H620v160ZM180-180h160v-160H180v160Zm440 0h160v-160H620v160Z\"/>\n",
              "  </svg>\n",
              "    </button>\n",
              "\n",
              "  <style>\n",
              "    .colab-df-container {\n",
              "      display:flex;\n",
              "      gap: 12px;\n",
              "    }\n",
              "\n",
              "    .colab-df-convert {\n",
              "      background-color: #E8F0FE;\n",
              "      border: none;\n",
              "      border-radius: 50%;\n",
              "      cursor: pointer;\n",
              "      display: none;\n",
              "      fill: #1967D2;\n",
              "      height: 32px;\n",
              "      padding: 0 0 0 0;\n",
              "      width: 32px;\n",
              "    }\n",
              "\n",
              "    .colab-df-convert:hover {\n",
              "      background-color: #E2EBFA;\n",
              "      box-shadow: 0px 1px 2px rgba(60, 64, 67, 0.3), 0px 1px 3px 1px rgba(60, 64, 67, 0.15);\n",
              "      fill: #174EA6;\n",
              "    }\n",
              "\n",
              "    .colab-df-buttons div {\n",
              "      margin-bottom: 4px;\n",
              "    }\n",
              "\n",
              "    [theme=dark] .colab-df-convert {\n",
              "      background-color: #3B4455;\n",
              "      fill: #D2E3FC;\n",
              "    }\n",
              "\n",
              "    [theme=dark] .colab-df-convert:hover {\n",
              "      background-color: #434B5C;\n",
              "      box-shadow: 0px 1px 3px 1px rgba(0, 0, 0, 0.15);\n",
              "      filter: drop-shadow(0px 1px 2px rgba(0, 0, 0, 0.3));\n",
              "      fill: #FFFFFF;\n",
              "    }\n",
              "  </style>\n",
              "\n",
              "    <script>\n",
              "      const buttonEl =\n",
              "        document.querySelector('#df-cd10fd85-3cc0-4fc4-9a00-7a41c9d434ce button.colab-df-convert');\n",
              "      buttonEl.style.display =\n",
              "        google.colab.kernel.accessAllowed ? 'block' : 'none';\n",
              "\n",
              "      async function convertToInteractive(key) {\n",
              "        const element = document.querySelector('#df-cd10fd85-3cc0-4fc4-9a00-7a41c9d434ce');\n",
              "        const dataTable =\n",
              "          await google.colab.kernel.invokeFunction('convertToInteractive',\n",
              "                                                    [key], {});\n",
              "        if (!dataTable) return;\n",
              "\n",
              "        const docLinkHtml = 'Like what you see? Visit the ' +\n",
              "          '<a target=\"_blank\" href=https://colab.research.google.com/notebooks/data_table.ipynb>data table notebook</a>'\n",
              "          + ' to learn more about interactive tables.';\n",
              "        element.innerHTML = '';\n",
              "        dataTable['output_type'] = 'display_data';\n",
              "        await google.colab.output.renderOutput(dataTable, element);\n",
              "        const docLink = document.createElement('div');\n",
              "        docLink.innerHTML = docLinkHtml;\n",
              "        element.appendChild(docLink);\n",
              "      }\n",
              "    </script>\n",
              "  </div>\n",
              "\n",
              "\n",
              "<div id=\"df-b9e43285-ddee-483f-a451-98c3b602035a\">\n",
              "  <button class=\"colab-df-quickchart\" onclick=\"quickchart('df-b9e43285-ddee-483f-a451-98c3b602035a')\"\n",
              "            title=\"Suggest charts\"\n",
              "            style=\"display:none;\">\n",
              "\n",
              "<svg xmlns=\"http://www.w3.org/2000/svg\" height=\"24px\"viewBox=\"0 0 24 24\"\n",
              "     width=\"24px\">\n",
              "    <g>\n",
              "        <path d=\"M19 3H5c-1.1 0-2 .9-2 2v14c0 1.1.9 2 2 2h14c1.1 0 2-.9 2-2V5c0-1.1-.9-2-2-2zM9 17H7v-7h2v7zm4 0h-2V7h2v10zm4 0h-2v-4h2v4z\"/>\n",
              "    </g>\n",
              "</svg>\n",
              "  </button>\n",
              "\n",
              "<style>\n",
              "  .colab-df-quickchart {\n",
              "      --bg-color: #E8F0FE;\n",
              "      --fill-color: #1967D2;\n",
              "      --hover-bg-color: #E2EBFA;\n",
              "      --hover-fill-color: #174EA6;\n",
              "      --disabled-fill-color: #AAA;\n",
              "      --disabled-bg-color: #DDD;\n",
              "  }\n",
              "\n",
              "  [theme=dark] .colab-df-quickchart {\n",
              "      --bg-color: #3B4455;\n",
              "      --fill-color: #D2E3FC;\n",
              "      --hover-bg-color: #434B5C;\n",
              "      --hover-fill-color: #FFFFFF;\n",
              "      --disabled-bg-color: #3B4455;\n",
              "      --disabled-fill-color: #666;\n",
              "  }\n",
              "\n",
              "  .colab-df-quickchart {\n",
              "    background-color: var(--bg-color);\n",
              "    border: none;\n",
              "    border-radius: 50%;\n",
              "    cursor: pointer;\n",
              "    display: none;\n",
              "    fill: var(--fill-color);\n",
              "    height: 32px;\n",
              "    padding: 0;\n",
              "    width: 32px;\n",
              "  }\n",
              "\n",
              "  .colab-df-quickchart:hover {\n",
              "    background-color: var(--hover-bg-color);\n",
              "    box-shadow: 0 1px 2px rgba(60, 64, 67, 0.3), 0 1px 3px 1px rgba(60, 64, 67, 0.15);\n",
              "    fill: var(--button-hover-fill-color);\n",
              "  }\n",
              "\n",
              "  .colab-df-quickchart-complete:disabled,\n",
              "  .colab-df-quickchart-complete:disabled:hover {\n",
              "    background-color: var(--disabled-bg-color);\n",
              "    fill: var(--disabled-fill-color);\n",
              "    box-shadow: none;\n",
              "  }\n",
              "\n",
              "  .colab-df-spinner {\n",
              "    border: 2px solid var(--fill-color);\n",
              "    border-color: transparent;\n",
              "    border-bottom-color: var(--fill-color);\n",
              "    animation:\n",
              "      spin 1s steps(1) infinite;\n",
              "  }\n",
              "\n",
              "  @keyframes spin {\n",
              "    0% {\n",
              "      border-color: transparent;\n",
              "      border-bottom-color: var(--fill-color);\n",
              "      border-left-color: var(--fill-color);\n",
              "    }\n",
              "    20% {\n",
              "      border-color: transparent;\n",
              "      border-left-color: var(--fill-color);\n",
              "      border-top-color: var(--fill-color);\n",
              "    }\n",
              "    30% {\n",
              "      border-color: transparent;\n",
              "      border-left-color: var(--fill-color);\n",
              "      border-top-color: var(--fill-color);\n",
              "      border-right-color: var(--fill-color);\n",
              "    }\n",
              "    40% {\n",
              "      border-color: transparent;\n",
              "      border-right-color: var(--fill-color);\n",
              "      border-top-color: var(--fill-color);\n",
              "    }\n",
              "    60% {\n",
              "      border-color: transparent;\n",
              "      border-right-color: var(--fill-color);\n",
              "    }\n",
              "    80% {\n",
              "      border-color: transparent;\n",
              "      border-right-color: var(--fill-color);\n",
              "      border-bottom-color: var(--fill-color);\n",
              "    }\n",
              "    90% {\n",
              "      border-color: transparent;\n",
              "      border-bottom-color: var(--fill-color);\n",
              "    }\n",
              "  }\n",
              "</style>\n",
              "\n",
              "  <script>\n",
              "    async function quickchart(key) {\n",
              "      const quickchartButtonEl =\n",
              "        document.querySelector('#' + key + ' button');\n",
              "      quickchartButtonEl.disabled = true;  // To prevent multiple clicks.\n",
              "      quickchartButtonEl.classList.add('colab-df-spinner');\n",
              "      try {\n",
              "        const charts = await google.colab.kernel.invokeFunction(\n",
              "            'suggestCharts', [key], {});\n",
              "      } catch (error) {\n",
              "        console.error('Error during call to suggestCharts:', error);\n",
              "      }\n",
              "      quickchartButtonEl.classList.remove('colab-df-spinner');\n",
              "      quickchartButtonEl.classList.add('colab-df-quickchart-complete');\n",
              "    }\n",
              "    (() => {\n",
              "      let quickchartButtonEl =\n",
              "        document.querySelector('#df-b9e43285-ddee-483f-a451-98c3b602035a button');\n",
              "      quickchartButtonEl.style.display =\n",
              "        google.colab.kernel.accessAllowed ? 'block' : 'none';\n",
              "    })();\n",
              "  </script>\n",
              "</div>\n",
              "\n",
              "    </div>\n",
              "  </div>\n"
            ],
            "application/vnd.google.colaboratory.intrinsic+json": {
              "type": "dataframe",
              "repr_error": "0"
            }
          },
          "metadata": {},
          "execution_count": 55
        }
      ]
    },
    {
      "cell_type": "code",
      "source": [
        "unique_cities2 = ufo_df['City_New'].unique()\n",
        "print(unique_cities2)"
      ],
      "metadata": {
        "id": "4UH92dRClfoU",
        "colab": {
          "base_uri": "https://localhost:8080/"
        },
        "outputId": "9b7dc417-a243-4c0c-fb40-7901dd3e3593"
      },
      "execution_count": 56,
      "outputs": [
        {
          "output_type": "stream",
          "name": "stdout",
          "text": [
            "['CLOVERDALE' 'CHIHUAHUA MTS' 'COLUMBUS' 'RODEO' 'SANTA TERESA' 'EL PASO'\n",
            " 'ALAMOGORDO' 'ANTHONY' 'MCGREGOR RANGE' 'CAMP MCGREGOR' 'JAL' 'LA MESA'\n",
            " 'VADO' 'ALVARADO' 'MESQUITE' 'WHITE CITY' 'GAGE' 'DEMING' 'INTERSTATE 10'\n",
            " 'LOVING' 'FAIRACRES' 'LAS CRUCES' 'LORDSBURG' 'AGUIRRE SPRINGS'\n",
            " 'DONA ANA' 'CARLSBAD' 'RADIUM SPRINGS' 'HATCH' 'HURLEY' 'HOBBS' 'SALEM'\n",
            " 'SILVER CITY' 'SANTA CLARA' 'WHITE SANDS' 'ARENAS VALLEY' 'FORT BAYARD'\n",
            " 'HOPE' 'SAN LORENZO' 'LOCO HILLS' 'ARTESIA' 'ARREY' 'HOLLOMAN AFB'\n",
            " 'ALAMAGORDO' 'MIMBRES' 'PINOS ALTOS' 'KINGSTON' 'LOVINGTON' 'CLOUDCROFT'\n",
            " 'CLIFF' 'GILA' 'LA LUZ' 'CABALLO' 'BUCKHORN' 'TULAROSA' 'HAGERMAN'\n",
            " 'TRUTH OR CONSEQUENCES' 'MESCALERO' 'ELEPHANT BUTTE' 'DEXTER' 'TATUM'\n",
            " 'GLENWOOD' 'RUIDOSO' 'RUIDSOSO' 'WINSTON' 'TINNIE' 'ALMA' 'ROSWELL'\n",
            " 'ALTO' 'LAKE BONITA' 'LINCOLN' 'NOGAL' 'CARRIZOZO' 'LUNA' 'KENNA'\n",
            " 'SAN ANTONIO' 'SEDILLO HILL' 'SOCORRO' 'VLA RADIO TELESCOPE' 'MAGDALENA'\n",
            " 'DATIL' 'LEMITAR' 'PORTALES' 'RED HILL' 'CORONA' 'PIE TOWN' 'QUEMADO'\n",
            " 'CONTRERAS' 'CANNON AFB' 'TEXICO' 'CLOVIS' 'MELROSE' 'BELEN'\n",
            " 'FORT SUMNER' 'MOUNTAINAIR' 'WILLARD' 'VAUGHN' 'LAKE SUMNER' 'FENCE LAKE'\n",
            " 'ALBUQUERQUE' 'LOS CHAVEZ' 'TOME' 'VALENCIA' 'LOS LUNAS' 'GRADY'\n",
            " 'PERALTA' 'BOSQUE' 'BOSQUE FARMS' 'ARABELA' 'MCINTOSH' 'ACOMA' 'SKY CITY'\n",
            " 'ISLETA' 'SANTA ROSA' 'CIBOLA' 'CORREO' 'NEW MEXICO' 'NEW MEXICO BORDER'\n",
            " 'MORIARTY' 'CLINES CORNERS' 'LAGUNA' 'COYOTE' 'EDGEWOOD' 'ZUNI'\n",
            " 'COLLEGE STATION' 'QUAY' 'TIJERAS' 'CEDAR CREST' 'SAN RAFAEL' 'PAGUATE'\n",
            " 'STANLEY' 'GRANTS' 'SANDIA PARK' 'MILAN' 'TUCUMCARI' 'RIO RANCHO'\n",
            " 'CORRALES' 'LOS RANCHOS DE ALBUQUERQUE' 'SAN PEDRO MOUNTAIN AREA'\n",
            " 'BLUEWATER' 'VILLANUEVA' 'PLACITAS' 'BERNALILLO' 'ALGODONES'\n",
            " 'CONCHAS DAM' 'SOHAM' 'ILFELD' 'CONTINENTAL DIVIDE' 'CERRILLOS'\n",
            " 'TREMENTINA' 'LAMY' 'ROWE' 'ZIA' 'SANTO DOMINGO' 'GALLUP' 'SAN YSIDRO'\n",
            " 'PECOS' 'MARIANO LAKE' 'GLORIETA' 'LAS VEGAS' 'COCHITI' 'ROCK SPRINGS'\n",
            " 'YAH-TA-HEY' 'COCHITI LAKE' 'CROWNPOINT' 'SANTA FE' 'TESUQUE'\n",
            " 'JEMEZ SPRINGS' 'WHITE ROCK' 'CHUPADERO' 'TOHATCHI' 'LOS ALAMOS'\n",
            " 'POJOAQUE' 'NAVAJO' 'ROY' 'LA MESILLA' 'MORA' 'ESPANOLA' 'CLEVELAND'\n",
            " 'CUBA' 'TRUCHAS' 'CRYSTAL' 'OHKAY OWINGEH' 'OKHAY OWINGEH' 'CHACO'\n",
            " ' BONITO' 'HERNANDEZ' 'NASCHITTI' 'CHAMITA' 'ALCALDE' 'EL VALLE'\n",
            " 'VELARDE' 'OCATE' 'MEDANALES' 'RIO CHAMA' 'YOUNGSVILLE' 'DIXON' 'ABIQUIU'\n",
            " 'COLMOR' 'LYBROOK' 'NAGEEZI' 'BISTI' 'OJO CALIENTE' 'GLADSTONE'\n",
            " 'GHOST RANCH' 'EL RITO' 'RANCHOS DE TAOS' 'SPRINGER' 'ANGEL FIRE'\n",
            " 'DZILTH-NA-O-DIT-HLE' 'TAOS' 'CLAYTON' 'VALLECITO' 'CIMARRON'\n",
            " 'ARROYO SECO' 'MT. DORA' 'HONDO SECO' 'EAGLE NEST' 'UTE PARK'\n",
            " 'PHILMONT SCOUT RANCH' 'RIO ARRIBA' 'CHAMA RIVER' 'TRES PIEDRAS'\n",
            " 'HERON STATE PARK' 'HERRON LAKE STATE PARK' 'TIERRA AMARILLA' 'RED RIVER'\n",
            " 'QUESTA' 'BLOOMFIELD' 'KIRTLAND' 'CAPULIN' 'CAPULIN MOUNTAIN' 'FRUITLAND'\n",
            " 'FARMINGTON' 'WEST FARMINGTON' 'WATERFLOW' 'SHIPROCK' 'FLORA VISTA'\n",
            " 'NAVAJO LAKE' 'AZTEC' 'FOLSOM' 'CHAMA' 'RATON' 'DULCE' 'FOUR CORNERSS'\n",
            " 'CAPITAN' 'HIGHWAY 20' 'HIGHWAY 371' 'INTERSTATE 40' 'LOS MONTOYAS'\n",
            " 'MILITARY TRAINING SITE' 'RIVERA MAYA' 'SEARS POINT' 'DES MOINES' 'VALEX']\n"
          ]
        }
      ]
    },
    {
      "cell_type": "markdown",
      "source": [],
      "metadata": {
        "id": "PwjSMPW_mM3e"
      }
    },
    {
      "cell_type": "code",
      "source": [
        "city_counts_df= ufo_df.groupby('City_New').size().reset_index(name='Sightings')\n",
        "print(city_counts_df)"
      ],
      "metadata": {
        "colab": {
          "base_uri": "https://localhost:8080/"
        },
        "id": "JsZx8h6it_dh",
        "outputId": "e100afd8-0b8a-4b58-e2bc-7928c4fa7fc0"
      },
      "execution_count": 57,
      "outputs": [
        {
          "output_type": "stream",
          "name": "stdout",
          "text": [
            "            City_New  Sightings\n",
            "0             BONITO          1\n",
            "1            ABIQUIU          6\n",
            "2              ACOMA          2\n",
            "3    AGUIRRE SPRINGS          1\n",
            "4         ALAMAGORDO          2\n",
            "..               ...        ...\n",
            "249          WINSTON          1\n",
            "250       YAH-TA-HEY          1\n",
            "251      YOUNGSVILLE          1\n",
            "252              ZIA          1\n",
            "253             ZUNI          2\n",
            "\n",
            "[254 rows x 2 columns]\n"
          ]
        }
      ]
    },
    {
      "cell_type": "code",
      "source": [
        "city_counts_df = city_counts_df.sort_values(by=['Sightings'], ascending=False)\n",
        "print(city_counts_df)"
      ],
      "metadata": {
        "colab": {
          "base_uri": "https://localhost:8080/"
        },
        "id": "W8L_VxKryQ2O",
        "outputId": "96aaae6e-b286-4110-f489-330f865c8c14"
      },
      "execution_count": 58,
      "outputs": [
        {
          "output_type": "stream",
          "name": "stdout",
          "text": [
            "          City_New  Sightings\n",
            "6      ALBUQUERQUE        424\n",
            "206       SANTA FE        157\n",
            "129     LAS CRUCES         93\n",
            "193        ROSWELL         59\n",
            "189     RIO RANCHO         54\n",
            "..             ...        ...\n",
            "110     HONDO SECO          1\n",
            "111           HOPE          1\n",
            "113         ILFELD          1\n",
            "115  INTERSTATE 40          1\n",
            "127    LAKE SUMNER          1\n",
            "\n",
            "[254 rows x 2 columns]\n"
          ]
        }
      ]
    },
    {
      "cell_type": "code",
      "source": [
        "#Top 20\n",
        "Top_20 = city_counts_df.head(20).reset_index(drop=True)\n",
        "print(Top_20)"
      ],
      "metadata": {
        "colab": {
          "base_uri": "https://localhost:8080/"
        },
        "id": "hArRCunujklx",
        "outputId": "e6014901-b601-4e8e-ebfb-0f83e5c5248a"
      },
      "execution_count": 59,
      "outputs": [
        {
          "output_type": "stream",
          "name": "stdout",
          "text": [
            "       City_New  Sightings\n",
            "0   ALBUQUERQUE        424\n",
            "1      SANTA FE        157\n",
            "2    LAS CRUCES         93\n",
            "3       ROSWELL         59\n",
            "4    RIO RANCHO         54\n",
            "5    NEW MEXICO         46\n",
            "6          TAOS         39\n",
            "7        DEMING         39\n",
            "8    FARMINGTON         32\n",
            "9    ALAMOGORDO         27\n",
            "10     CARLSBAD         24\n",
            "11      SOCORRO         22\n",
            "12  SILVER CITY         21\n",
            "13       CLOVIS         21\n",
            "14      RUIDOSO         16\n",
            "15       GALLUP         15\n",
            "16        HOBBS         15\n",
            "17        BELEN         15\n",
            "18   LOS ALAMOS         15\n",
            "19    LOS LUNAS         14\n"
          ]
        }
      ]
    },
    {
      "cell_type": "code",
      "source": [
        "Top_20.plot(x='City_New', y='Sightings', kind='bar', figsize=(12, 6))\n",
        "plt.title('Top 20 Sighting Locations in NM')\n",
        "plt.xlabel('City Name')\n",
        "plt.ylabel('Number of Sightings')\n",
        "plt.xticks(rotation=90)\n",
        "plt.tight_layout()\n",
        "plt.show()"
      ],
      "metadata": {
        "id": "wW-7r1wrje0h",
        "colab": {
          "base_uri": "https://localhost:8080/",
          "height": 607
        },
        "outputId": "44d32240-9b15-4faf-f765-8846691c75f4"
      },
      "execution_count": 60,
      "outputs": [
        {
          "output_type": "display_data",
          "data": {
            "text/plain": [
              "<Figure size 1200x600 with 1 Axes>"
            ],
            "image/png": "[encoded data removed]"
          },
          "metadata": {}
        }
      ]
    },
    {
      "cell_type": "markdown",
      "source": [
        "##Data Search Tool"
      ],
      "metadata": {
        "id": "o0D3MFJuhZoI"
      }
    },
    {
      "cell_type": "code",
      "source": [
        "filtered_df = ufo_df[ufo_df['City_New'].str.contains('DZILTHNEW MEXICONANEW MEXICOONEW MEXICODITHLE')]\n",
        "# Display the filtered dataframe\n",
        "print(filtered_df)"
      ],
      "metadata": {
        "id": "QPLotBqNZvbk",
        "colab": {
          "base_uri": "https://localhost:8080/"
        },
        "collapsed": true,
        "outputId": "71d91d1e-2a0b-488f-d3ec-98a6287e9f8f"
      },
      "execution_count": 61,
      "outputs": [
        {
          "output_type": "stream",
          "name": "stdout",
          "text": [
            "Empty DataFrame\n",
            "Columns: [Link, Occurred, City, State, Country, Shape, Summary, Reported, Media, Explanation, Latitude, Longitude, City_New]\n",
            "Index: []\n"
          ]
        }
      ]
    },
    {
      "cell_type": "markdown",
      "source": [
        "## Export Tool"
      ],
      "metadata": {
        "id": "zQKMelAX0rLT"
      }
    },
    {
      "cell_type": "markdown",
      "source": [],
      "metadata": {
        "id": "XxgMFUUs0rIy"
      }
    },
    {
      "cell_type": "code",
      "source": [
        "city_counts_df.to_csv('city_counts.csv', index=False)"
      ],
      "metadata": {
        "id": "lB1kVR8X0q0Q"
      },
      "execution_count": 62,
      "outputs": []
    },
    {
      "cell_type": "markdown",
      "source": [
        "## Fill the N/A shapes with other, unless agreed otherwise."
      ],
      "metadata": {
        "id": "Y9kB6R3PEJCo"
      }
    },
    {
      "cell_type": "code",
      "source": [
        "#Fill the nan with 'Other'\n",
        "ufo_df['Shape'] = ufo_df['Shape'].fillna('Other')"
      ],
      "metadata": {
        "id": "ZmMfvwFbosta"
      },
      "execution_count": 63,
      "outputs": []
    },
    {
      "cell_type": "code",
      "source": [
        "#Double check-see below Occurred & Summary are the only immaterial imbalances remaining in the data-PASS\n",
        "ufo_df.info()"
      ],
      "metadata": {
        "id": "JH_Mu2UapIey",
        "colab": {
          "base_uri": "https://localhost:8080/"
        },
        "outputId": "0e354677-8f79-4872-c3ed-1129214bb7b3"
      },
      "execution_count": 64,
      "outputs": [
        {
          "output_type": "stream",
          "name": "stdout",
          "text": [
            "<class 'pandas.core.frame.DataFrame'>\n",
            "Index: 1702 entries, 0 to 1702\n",
            "Data columns (total 13 columns):\n",
            " #   Column       Non-Null Count  Dtype  \n",
            "---  ------       --------------  -----  \n",
            " 0   Link         1702 non-null   object \n",
            " 1   Occurred     1702 non-null   object \n",
            " 2   City         1702 non-null   object \n",
            " 3   State        1702 non-null   object \n",
            " 4   Country      1702 non-null   object \n",
            " 5   Shape        1702 non-null   object \n",
            " 6   Summary      1701 non-null   object \n",
            " 7   Reported     1702 non-null   object \n",
            " 8   Media        82 non-null     object \n",
            " 9   Explanation  22 non-null     object \n",
            " 10  Latitude     1702 non-null   object \n",
            " 11  Longitude    1702 non-null   float64\n",
            " 12  City_New     1702 non-null   object \n",
            "dtypes: float64(1), object(12)\n",
            "memory usage: 186.2+ KB\n"
          ]
        }
      ]
    }
  ]
}