{
  "nbformat": 4,
  "nbformat_minor": 0,
  "metadata": {
    "colab": {
      "provenance": [],
      "toc_visible": true,
      "authorship_tag": "ABX9TyOdkBUli1l/rx7K8WDiauQB",
      "include_colab_link": true
    },
    "kernelspec": {
      "name": "python3",
      "display_name": "Python 3"
    },
    "language_info": {
      "name": "python"
    }
  },
  "cells": [
    {
      "cell_type": "markdown",
      "metadata": {
        "id": "view-in-github",
        "colab_type": "text"
      },
      "source": [
        "<a href=\"https://colab.research.google.com/github/ZacharyFry1/Capstone_Project_UFOs/blob/main/Captstone_Zack.ipynb\" target=\"_parent\"><img src=\"https://colab.research.google.com/assets/colab-badge.svg\" alt=\"Open In Colab\"/></a>"
      ]
    },
    {
      "cell_type": "markdown",
      "source": [
        "# Capstone Project - UFOs in New Mexico"
      ],
      "metadata": {
        "id": "9WQCd2oNuk91"
      }
    },
    {
      "cell_type": "markdown",
      "source": [
        "## Problem Definition"
      ],
      "metadata": {
        "id": "t8PacLtwuqef"
      }
    },
    {
      "cell_type": "markdown",
      "source": [
        "The objective of my group's capstone project was to analyze UFO data from New Mexico and determine if there were any trends to when the sightings occurred, what common shapes were reported, where the sightings were reported, and how the data compared to other UFO data sets. My portion of the project was analyzing and visualizing the shape data along with the geographic data. We did not develop a predictive model for this project. By examining the counts reported for each shape in my data sets, I was able to determine common trends in shape data, and by making heat maps and geographical maps, I was able to determine trends in the geographical data."
      ],
      "metadata": {
        "id": "nU4e5fyEuswL"
      }
    },
    {
      "cell_type": "markdown",
      "source": [
        "## Imports/ Data Collection"
      ],
      "metadata": {
        "id": "GKAAGpv-XvtS"
      }
    },
    {
      "cell_type": "markdown",
      "source": [
        "Importing pandas, numpy, and geopandas among other things."
      ],
      "metadata": {
        "id": "K0ltS4Dun3b6"
      }
    },
    {
      "cell_type": "code",
      "execution_count": 1,
      "metadata": {
        "id": "4dcLF2VPya7g"
      },
      "outputs": [],
      "source": [
        "import numpy as np\n",
        "import pandas as pd\n",
        "import matplotlib.pyplot as plt\n",
        "import geopandas as gpd\n",
        "import matplotlib.pyplot as plt\n",
        "import plotly.express as px\n",
        "import folium\n",
        "from folium.plugins import HeatMap\n",
        "import plotly.graph_objects as go"
      ]
    },
    {
      "cell_type": "markdown",
      "source": [
        "Required to install for the geopandas specifically."
      ],
      "metadata": {
        "id": "6KkRjDh6n6yP"
      }
    },
    {
      "cell_type": "code",
      "source": [
        "!pip install folium\n",
        "!pip install geopandas"
      ],
      "metadata": {
        "id": "zImLBz5vYCMn",
        "colab": {
          "base_uri": "https://localhost:8080/"
        },
        "outputId": "49f09583-1d69-4593-cf76-07a884349c1f"
      },
      "execution_count": 2,
      "outputs": [
        {
          "output_type": "stream",
          "name": "stdout",
          "text": [
            "Requirement already satisfied: folium in /usr/local/lib/python3.10/dist-packages (0.18.0)\n",
            "Requirement already satisfied: branca>=0.6.0 in /usr/local/lib/python3.10/dist-packages (from folium) (0.8.0)\n",
            "Requirement already satisfied: jinja2>=2.9 in /usr/local/lib/python3.10/dist-packages (from folium) (3.1.4)\n",
            "Requirement already satisfied: numpy in /usr/local/lib/python3.10/dist-packages (from folium) (1.26.4)\n",
            "Requirement already satisfied: requests in /usr/local/lib/python3.10/dist-packages (from folium) (2.32.3)\n",
            "Requirement already satisfied: xyzservices in /usr/local/lib/python3.10/dist-packages (from folium) (2024.9.0)\n",
            "Requirement already satisfied: MarkupSafe>=2.0 in /usr/local/lib/python3.10/dist-packages (from jinja2>=2.9->folium) (3.0.2)\n",
            "Requirement already satisfied: charset-normalizer<4,>=2 in /usr/local/lib/python3.10/dist-packages (from requests->folium) (3.4.0)\n",
            "Requirement already satisfied: idna<4,>=2.5 in /usr/local/lib/python3.10/dist-packages (from requests->folium) (3.10)\n",
            "Requirement already satisfied: urllib3<3,>=1.21.1 in /usr/local/lib/python3.10/dist-packages (from requests->folium) (2.2.3)\n",
            "Requirement already satisfied: certifi>=2017.4.17 in /usr/local/lib/python3.10/dist-packages (from requests->folium) (2024.8.30)\n",
            "Requirement already satisfied: geopandas in /usr/local/lib/python3.10/dist-packages (1.0.1)\n",
            "Requirement already satisfied: numpy>=1.22 in /usr/local/lib/python3.10/dist-packages (from geopandas) (1.26.4)\n",
            "Requirement already satisfied: pyogrio>=0.7.2 in /usr/local/lib/python3.10/dist-packages (from geopandas) (0.10.0)\n",
            "Requirement already satisfied: packaging in /usr/local/lib/python3.10/dist-packages (from geopandas) (24.2)\n",
            "Requirement already satisfied: pandas>=1.4.0 in /usr/local/lib/python3.10/dist-packages (from geopandas) (2.2.2)\n",
            "Requirement already satisfied: pyproj>=3.3.0 in /usr/local/lib/python3.10/dist-packages (from geopandas) (3.7.0)\n",
            "Requirement already satisfied: shapely>=2.0.0 in /usr/local/lib/python3.10/dist-packages (from geopandas) (2.0.6)\n",
            "Requirement already satisfied: python-dateutil>=2.8.2 in /usr/local/lib/python3.10/dist-packages (from pandas>=1.4.0->geopandas) (2.8.2)\n",
            "Requirement already satisfied: pytz>=2020.1 in /usr/local/lib/python3.10/dist-packages (from pandas>=1.4.0->geopandas) (2024.2)\n",
            "Requirement already satisfied: tzdata>=2022.7 in /usr/local/lib/python3.10/dist-packages (from pandas>=1.4.0->geopandas) (2024.2)\n",
            "Requirement already satisfied: certifi in /usr/local/lib/python3.10/dist-packages (from pyogrio>=0.7.2->geopandas) (2024.8.30)\n",
            "Requirement already satisfied: six>=1.5 in /usr/local/lib/python3.10/dist-packages (from python-dateutil>=2.8.2->pandas>=1.4.0->geopandas) (1.16.0)\n"
          ]
        }
      ]
    },
    {
      "cell_type": "markdown",
      "source": [
        "Data set for our UFO data from NUFORC. These are all New Mexico sightings. I was the one who manually enetered the latitude and longitude data for the sightings. This data was not native when it was pulled from the NUFORC website. I used google maps to get the latitude and longitude data."
      ],
      "metadata": {
        "id": "RPcgU8XPQAsV"
      }
    },
    {
      "cell_type": "code",
      "source": [
        "NM_UFO_DF_ORIGINAL = pd.read_csv('https://raw.githubusercontent.com/ZacharyFry1/Capstone_Project_UFOs/main/NM_UFO_DATA_ALL_LAT_LON_ADDED.csv',  on_bad_lines='skip', encoding='latin-1')"
      ],
      "metadata": {
        "id": "7yxvtCfHy1yB"
      },
      "execution_count": 3,
      "outputs": []
    },
    {
      "cell_type": "markdown",
      "source": [
        "Data set from Enigma. This is specifically from a formal email query I submitted to one of their data scientists. This data set does not have latitudes and longitudes. I am only concerned with the shape data."
      ],
      "metadata": {
        "id": "54vDzIXcQCna"
      }
    },
    {
      "cell_type": "code",
      "source": [
        "ENIGMA_UFO_ORIGINAL = pd.read_csv('https://github.com/ZacharyFry1/Capstone_Project_UFOs/raw/main/Enigma_NM_Data_Cleaned.csv', encoding='latin-1')"
      ],
      "metadata": {
        "id": "3aNIdyVkO-mz"
      },
      "execution_count": 4,
      "outputs": []
    },
    {
      "cell_type": "code",
      "source": [
        "ENIGMA_UFO_ORIGINAL"
      ],
      "metadata": {
        "colab": {
          "base_uri": "https://localhost:8080/",
          "height": 458
        },
        "id": "MpYFmv7PUS-c",
        "outputId": "c2e7940b-cdde-471c-a019-a5a4e74d51c0"
      },
      "execution_count": 5,
      "outputs": [
        {
          "output_type": "execute_result",
          "data": {
            "text/plain": [
              "       Shape  1940-1950 (Count)  1950-1960 (Count)  1960-1970 (Count)  \\\n",
              "0       Cone                2.0                1.0                0.0   \n",
              "1   Changing                1.0                1.0                0.0   \n",
              "2    Chevron                1.0                0.0                0.0   \n",
              "3      Cigar                3.0                2.0                3.0   \n",
              "4     Circle               71.0               66.0               21.0   \n",
              "..       ...                ...                ...                ...   \n",
              "69       NaN                NaN                NaN                NaN   \n",
              "70       NaN                NaN                NaN                NaN   \n",
              "71       NaN                NaN                NaN                NaN   \n",
              "72       NaN                NaN                NaN                NaN   \n",
              "73       NaN                NaN                NaN                NaN   \n",
              "\n",
              "    1970-1980 (Count)  1980-1990 (Count)  1990-2000 (Count)  \\\n",
              "0                 0.0                1.0                1.0   \n",
              "1                 2.0                2.0                7.0   \n",
              "2                 1.0                1.0                1.0   \n",
              "3                 3.0                6.0                6.0   \n",
              "4                22.0                9.0               24.0   \n",
              "..                ...                ...                ...   \n",
              "69                NaN                NaN                NaN   \n",
              "70                NaN                NaN                NaN   \n",
              "71                NaN                NaN                NaN   \n",
              "72                NaN                NaN                NaN   \n",
              "73                NaN                NaN                NaN   \n",
              "\n",
              "    2000- Present (Count)  Count By Shape  \n",
              "0                    14.0            19.0  \n",
              "1                    87.0           100.0  \n",
              "2                    12.0            16.0  \n",
              "3                    49.0            72.0  \n",
              "4                   246.0           459.0  \n",
              "..                    ...             ...  \n",
              "69                    NaN             NaN  \n",
              "70                    NaN             NaN  \n",
              "71                    NaN             NaN  \n",
              "72                    NaN             NaN  \n",
              "73                    NaN             NaN  \n",
              "\n",
              "[74 rows x 9 columns]"
            ],
            "text/html": [
              "\n",
              "  <div id=\"df-8ff0c9dd-e239-49c0-9be5-41548145eb4a\" class=\"colab-df-container\">\n",
              "    <div>\n",
              "<style scoped>\n",
              "    .dataframe tbody tr th:only-of-type {\n",
              "        vertical-align: middle;\n",
              "    }\n",
              "\n",
              "    .dataframe tbody tr th {\n",
              "        vertical-align: top;\n",
              "    }\n",
              "\n",
              "    .dataframe thead th {\n",
              "        text-align: right;\n",
              "    }\n",
              "</style>\n",
              "<table border=\"1\" class=\"dataframe\">\n",
              "  <thead>\n",
              "    <tr style=\"text-align: right;\">\n",
              "      <th></th>\n",
              "      <th>Shape</th>\n",
              "      <th>1940-1950 (Count)</th>\n",
              "      <th>1950-1960 (Count)</th>\n",
              "      <th>1960-1970 (Count)</th>\n",
              "      <th>1970-1980 (Count)</th>\n",
              "      <th>1980-1990 (Count)</th>\n",
              "      <th>1990-2000 (Count)</th>\n",
              "      <th>2000- Present (Count)</th>\n",
              "      <th>Count By Shape</th>\n",
              "    </tr>\n",
              "  </thead>\n",
              "  <tbody>\n",
              "    <tr>\n",
              "      <th>0</th>\n",
              "      <td>Cone</td>\n",
              "      <td>2.0</td>\n",
              "      <td>1.0</td>\n",
              "      <td>0.0</td>\n",
              "      <td>0.0</td>\n",
              "      <td>1.0</td>\n",
              "      <td>1.0</td>\n",
              "      <td>14.0</td>\n",
              "      <td>19.0</td>\n",
              "    </tr>\n",
              "    <tr>\n",
              "      <th>1</th>\n",
              "      <td>Changing</td>\n",
              "      <td>1.0</td>\n",
              "      <td>1.0</td>\n",
              "      <td>0.0</td>\n",
              "      <td>2.0</td>\n",
              "      <td>2.0</td>\n",
              "      <td>7.0</td>\n",
              "      <td>87.0</td>\n",
              "      <td>100.0</td>\n",
              "    </tr>\n",
              "    <tr>\n",
              "      <th>2</th>\n",
              "      <td>Chevron</td>\n",
              "      <td>1.0</td>\n",
              "      <td>0.0</td>\n",
              "      <td>0.0</td>\n",
              "      <td>1.0</td>\n",
              "      <td>1.0</td>\n",
              "      <td>1.0</td>\n",
              "      <td>12.0</td>\n",
              "      <td>16.0</td>\n",
              "    </tr>\n",
              "    <tr>\n",
              "      <th>3</th>\n",
              "      <td>Cigar</td>\n",
              "      <td>3.0</td>\n",
              "      <td>2.0</td>\n",
              "      <td>3.0</td>\n",
              "      <td>3.0</td>\n",
              "      <td>6.0</td>\n",
              "      <td>6.0</td>\n",
              "      <td>49.0</td>\n",
              "      <td>72.0</td>\n",
              "    </tr>\n",
              "    <tr>\n",
              "      <th>4</th>\n",
              "      <td>Circle</td>\n",
              "      <td>71.0</td>\n",
              "      <td>66.0</td>\n",
              "      <td>21.0</td>\n",
              "      <td>22.0</td>\n",
              "      <td>9.0</td>\n",
              "      <td>24.0</td>\n",
              "      <td>246.0</td>\n",
              "      <td>459.0</td>\n",
              "    </tr>\n",
              "    <tr>\n",
              "      <th>...</th>\n",
              "      <td>...</td>\n",
              "      <td>...</td>\n",
              "      <td>...</td>\n",
              "      <td>...</td>\n",
              "      <td>...</td>\n",
              "      <td>...</td>\n",
              "      <td>...</td>\n",
              "      <td>...</td>\n",
              "      <td>...</td>\n",
              "    </tr>\n",
              "    <tr>\n",
              "      <th>69</th>\n",
              "      <td>NaN</td>\n",
              "      <td>NaN</td>\n",
              "      <td>NaN</td>\n",
              "      <td>NaN</td>\n",
              "      <td>NaN</td>\n",
              "      <td>NaN</td>\n",
              "      <td>NaN</td>\n",
              "      <td>NaN</td>\n",
              "      <td>NaN</td>\n",
              "    </tr>\n",
              "    <tr>\n",
              "      <th>70</th>\n",
              "      <td>NaN</td>\n",
              "      <td>NaN</td>\n",
              "      <td>NaN</td>\n",
              "      <td>NaN</td>\n",
              "      <td>NaN</td>\n",
              "      <td>NaN</td>\n",
              "      <td>NaN</td>\n",
              "      <td>NaN</td>\n",
              "      <td>NaN</td>\n",
              "    </tr>\n",
              "    <tr>\n",
              "      <th>71</th>\n",
              "      <td>NaN</td>\n",
              "      <td>NaN</td>\n",
              "      <td>NaN</td>\n",
              "      <td>NaN</td>\n",
              "      <td>NaN</td>\n",
              "      <td>NaN</td>\n",
              "      <td>NaN</td>\n",
              "      <td>NaN</td>\n",
              "      <td>NaN</td>\n",
              "    </tr>\n",
              "    <tr>\n",
              "      <th>72</th>\n",
              "      <td>NaN</td>\n",
              "      <td>NaN</td>\n",
              "      <td>NaN</td>\n",
              "      <td>NaN</td>\n",
              "      <td>NaN</td>\n",
              "      <td>NaN</td>\n",
              "      <td>NaN</td>\n",
              "      <td>NaN</td>\n",
              "      <td>NaN</td>\n",
              "    </tr>\n",
              "    <tr>\n",
              "      <th>73</th>\n",
              "      <td>NaN</td>\n",
              "      <td>NaN</td>\n",
              "      <td>NaN</td>\n",
              "      <td>NaN</td>\n",
              "      <td>NaN</td>\n",
              "      <td>NaN</td>\n",
              "      <td>NaN</td>\n",
              "      <td>NaN</td>\n",
              "      <td>NaN</td>\n",
              "    </tr>\n",
              "  </tbody>\n",
              "</table>\n",
              "<p>74 rows × 9 columns</p>\n",
              "</div>\n",
              "    <div class=\"colab-df-buttons\">\n",
              "\n",
              "  <div class=\"colab-df-container\">\n",
              "    <button class=\"colab-df-convert\" onclick=\"convertToInteractive('df-8ff0c9dd-e239-49c0-9be5-41548145eb4a')\"\n",
              "            title=\"Convert this dataframe to an interactive table.\"\n",
              "            style=\"display:none;\">\n",
              "\n",
              "  <svg xmlns=\"http://www.w3.org/2000/svg\" height=\"24px\" viewBox=\"0 -960 960 960\">\n",
              "    <path d=\"M120-120v-720h720v720H120Zm60-500h600v-160H180v160Zm220 220h160v-160H400v160Zm0 220h160v-160H400v160ZM180-400h160v-160H180v160Zm440 0h160v-160H620v160ZM180-180h160v-160H180v160Zm440 0h160v-160H620v160Z\"/>\n",
              "  </svg>\n",
              "    </button>\n",
              "\n",
              "  <style>\n",
              "    .colab-df-container {\n",
              "      display:flex;\n",
              "      gap: 12px;\n",
              "    }\n",
              "\n",
              "    .colab-df-convert {\n",
              "      background-color: #E8F0FE;\n",
              "      border: none;\n",
              "      border-radius: 50%;\n",
              "      cursor: pointer;\n",
              "      display: none;\n",
              "      fill: #1967D2;\n",
              "      height: 32px;\n",
              "      padding: 0 0 0 0;\n",
              "      width: 32px;\n",
              "    }\n",
              "\n",
              "    .colab-df-convert:hover {\n",
              "      background-color: #E2EBFA;\n",
              "      box-shadow: 0px 1px 2px rgba(60, 64, 67, 0.3), 0px 1px 3px 1px rgba(60, 64, 67, 0.15);\n",
              "      fill: #174EA6;\n",
              "    }\n",
              "\n",
              "    .colab-df-buttons div {\n",
              "      margin-bottom: 4px;\n",
              "    }\n",
              "\n",
              "    [theme=dark] .colab-df-convert {\n",
              "      background-color: #3B4455;\n",
              "      fill: #D2E3FC;\n",
              "    }\n",
              "\n",
              "    [theme=dark] .colab-df-convert:hover {\n",
              "      background-color: #434B5C;\n",
              "      box-shadow: 0px 1px 3px 1px rgba(0, 0, 0, 0.15);\n",
              "      filter: drop-shadow(0px 1px 2px rgba(0, 0, 0, 0.3));\n",
              "      fill: #FFFFFF;\n",
              "    }\n",
              "  </style>\n",
              "\n",
              "    <script>\n",
              "      const buttonEl =\n",
              "        document.querySelector('#df-8ff0c9dd-e239-49c0-9be5-41548145eb4a button.colab-df-convert');\n",
              "      buttonEl.style.display =\n",
              "        google.colab.kernel.accessAllowed ? 'block' : 'none';\n",
              "\n",
              "      async function convertToInteractive(key) {\n",
              "        const element = document.querySelector('#df-8ff0c9dd-e239-49c0-9be5-41548145eb4a');\n",
              "        const dataTable =\n",
              "          await google.colab.kernel.invokeFunction('convertToInteractive',\n",
              "                                                    [key], {});\n",
              "        if (!dataTable) return;\n",
              "\n",
              "        const docLinkHtml = 'Like what you see? Visit the ' +\n",
              "          '<a target=\"_blank\" href=https://colab.research.google.com/notebooks/data_table.ipynb>data table notebook</a>'\n",
              "          + ' to learn more about interactive tables.';\n",
              "        element.innerHTML = '';\n",
              "        dataTable['output_type'] = 'display_data';\n",
              "        await google.colab.output.renderOutput(dataTable, element);\n",
              "        const docLink = document.createElement('div');\n",
              "        docLink.innerHTML = docLinkHtml;\n",
              "        element.appendChild(docLink);\n",
              "      }\n",
              "    </script>\n",
              "  </div>\n",
              "\n",
              "\n",
              "<div id=\"df-f99cfa20-1b41-4e24-ad85-112f5c84b321\">\n",
              "  <button class=\"colab-df-quickchart\" onclick=\"quickchart('df-f99cfa20-1b41-4e24-ad85-112f5c84b321')\"\n",
              "            title=\"Suggest charts\"\n",
              "            style=\"display:none;\">\n",
              "\n",
              "<svg xmlns=\"http://www.w3.org/2000/svg\" height=\"24px\"viewBox=\"0 0 24 24\"\n",
              "     width=\"24px\">\n",
              "    <g>\n",
              "        <path d=\"M19 3H5c-1.1 0-2 .9-2 2v14c0 1.1.9 2 2 2h14c1.1 0 2-.9 2-2V5c0-1.1-.9-2-2-2zM9 17H7v-7h2v7zm4 0h-2V7h2v10zm4 0h-2v-4h2v4z\"/>\n",
              "    </g>\n",
              "</svg>\n",
              "  </button>\n",
              "\n",
              "<style>\n",
              "  .colab-df-quickchart {\n",
              "      --bg-color: #E8F0FE;\n",
              "      --fill-color: #1967D2;\n",
              "      --hover-bg-color: #E2EBFA;\n",
              "      --hover-fill-color: #174EA6;\n",
              "      --disabled-fill-color: #AAA;\n",
              "      --disabled-bg-color: #DDD;\n",
              "  }\n",
              "\n",
              "  [theme=dark] .colab-df-quickchart {\n",
              "      --bg-color: #3B4455;\n",
              "      --fill-color: #D2E3FC;\n",
              "      --hover-bg-color: #434B5C;\n",
              "      --hover-fill-color: #FFFFFF;\n",
              "      --disabled-bg-color: #3B4455;\n",
              "      --disabled-fill-color: #666;\n",
              "  }\n",
              "\n",
              "  .colab-df-quickchart {\n",
              "    background-color: var(--bg-color);\n",
              "    border: none;\n",
              "    border-radius: 50%;\n",
              "    cursor: pointer;\n",
              "    display: none;\n",
              "    fill: var(--fill-color);\n",
              "    height: 32px;\n",
              "    padding: 0;\n",
              "    width: 32px;\n",
              "  }\n",
              "\n",
              "  .colab-df-quickchart:hover {\n",
              "    background-color: var(--hover-bg-color);\n",
              "    box-shadow: 0 1px 2px rgba(60, 64, 67, 0.3), 0 1px 3px 1px rgba(60, 64, 67, 0.15);\n",
              "    fill: var(--button-hover-fill-color);\n",
              "  }\n",
              "\n",
              "  .colab-df-quickchart-complete:disabled,\n",
              "  .colab-df-quickchart-complete:disabled:hover {\n",
              "    background-color: var(--disabled-bg-color);\n",
              "    fill: var(--disabled-fill-color);\n",
              "    box-shadow: none;\n",
              "  }\n",
              "\n",
              "  .colab-df-spinner {\n",
              "    border: 2px solid var(--fill-color);\n",
              "    border-color: transparent;\n",
              "    border-bottom-color: var(--fill-color);\n",
              "    animation:\n",
              "      spin 1s steps(1) infinite;\n",
              "  }\n",
              "\n",
              "  @keyframes spin {\n",
              "    0% {\n",
              "      border-color: transparent;\n",
              "      border-bottom-color: var(--fill-color);\n",
              "      border-left-color: var(--fill-color);\n",
              "    }\n",
              "    20% {\n",
              "      border-color: transparent;\n",
              "      border-left-color: var(--fill-color);\n",
              "      border-top-color: var(--fill-color);\n",
              "    }\n",
              "    30% {\n",
              "      border-color: transparent;\n",
              "      border-left-color: var(--fill-color);\n",
              "      border-top-color: var(--fill-color);\n",
              "      border-right-color: var(--fill-color);\n",
              "    }\n",
              "    40% {\n",
              "      border-color: transparent;\n",
              "      border-right-color: var(--fill-color);\n",
              "      border-top-color: var(--fill-color);\n",
              "    }\n",
              "    60% {\n",
              "      border-color: transparent;\n",
              "      border-right-color: var(--fill-color);\n",
              "    }\n",
              "    80% {\n",
              "      border-color: transparent;\n",
              "      border-right-color: var(--fill-color);\n",
              "      border-bottom-color: var(--fill-color);\n",
              "    }\n",
              "    90% {\n",
              "      border-color: transparent;\n",
              "      border-bottom-color: var(--fill-color);\n",
              "    }\n",
              "  }\n",
              "</style>\n",
              "\n",
              "  <script>\n",
              "    async function quickchart(key) {\n",
              "      const quickchartButtonEl =\n",
              "        document.querySelector('#' + key + ' button');\n",
              "      quickchartButtonEl.disabled = true;  // To prevent multiple clicks.\n",
              "      quickchartButtonEl.classList.add('colab-df-spinner');\n",
              "      try {\n",
              "        const charts = await google.colab.kernel.invokeFunction(\n",
              "            'suggestCharts', [key], {});\n",
              "      } catch (error) {\n",
              "        console.error('Error during call to suggestCharts:', error);\n",
              "      }\n",
              "      quickchartButtonEl.classList.remove('colab-df-spinner');\n",
              "      quickchartButtonEl.classList.add('colab-df-quickchart-complete');\n",
              "    }\n",
              "    (() => {\n",
              "      let quickchartButtonEl =\n",
              "        document.querySelector('#df-f99cfa20-1b41-4e24-ad85-112f5c84b321 button');\n",
              "      quickchartButtonEl.style.display =\n",
              "        google.colab.kernel.accessAllowed ? 'block' : 'none';\n",
              "    })();\n",
              "  </script>\n",
              "</div>\n",
              "\n",
              "  <div id=\"id_20573793-1028-46ba-ae89-fec8cc8d4de1\">\n",
              "    <style>\n",
              "      .colab-df-generate {\n",
              "        background-color: #E8F0FE;\n",
              "        border: none;\n",
              "        border-radius: 50%;\n",
              "        cursor: pointer;\n",
              "        display: none;\n",
              "        fill: #1967D2;\n",
              "        height: 32px;\n",
              "        padding: 0 0 0 0;\n",
              "        width: 32px;\n",
              "      }\n",
              "\n",
              "      .colab-df-generate:hover {\n",
              "        background-color: #E2EBFA;\n",
              "        box-shadow: 0px 1px 2px rgba(60, 64, 67, 0.3), 0px 1px 3px 1px rgba(60, 64, 67, 0.15);\n",
              "        fill: #174EA6;\n",
              "      }\n",
              "\n",
              "      [theme=dark] .colab-df-generate {\n",
              "        background-color: #3B4455;\n",
              "        fill: #D2E3FC;\n",
              "      }\n",
              "\n",
              "      [theme=dark] .colab-df-generate:hover {\n",
              "        background-color: #434B5C;\n",
              "        box-shadow: 0px 1px 3px 1px rgba(0, 0, 0, 0.15);\n",
              "        filter: drop-shadow(0px 1px 2px rgba(0, 0, 0, 0.3));\n",
              "        fill: #FFFFFF;\n",
              "      }\n",
              "    </style>\n",
              "    <button class=\"colab-df-generate\" onclick=\"generateWithVariable('ENIGMA_UFO_ORIGINAL')\"\n",
              "            title=\"Generate code using this dataframe.\"\n",
              "            style=\"display:none;\">\n",
              "\n",
              "  <svg xmlns=\"http://www.w3.org/2000/svg\" height=\"24px\"viewBox=\"0 0 24 24\"\n",
              "       width=\"24px\">\n",
              "    <path d=\"M7,19H8.4L18.45,9,17,7.55,7,17.6ZM5,21V16.75L18.45,3.32a2,2,0,0,1,2.83,0l1.4,1.43a1.91,1.91,0,0,1,.58,1.4,1.91,1.91,0,0,1-.58,1.4L9.25,21ZM18.45,9,17,7.55Zm-12,3A5.31,5.31,0,0,0,4.9,8.1,5.31,5.31,0,0,0,1,6.5,5.31,5.31,0,0,0,4.9,4.9,5.31,5.31,0,0,0,6.5,1,5.31,5.31,0,0,0,8.1,4.9,5.31,5.31,0,0,0,12,6.5,5.46,5.46,0,0,0,6.5,12Z\"/>\n",
              "  </svg>\n",
              "    </button>\n",
              "    <script>\n",
              "      (() => {\n",
              "      const buttonEl =\n",
              "        document.querySelector('#id_20573793-1028-46ba-ae89-fec8cc8d4de1 button.colab-df-generate');\n",
              "      buttonEl.style.display =\n",
              "        google.colab.kernel.accessAllowed ? 'block' : 'none';\n",
              "\n",
              "      buttonEl.onclick = () => {\n",
              "        google.colab.notebook.generateWithVariable('ENIGMA_UFO_ORIGINAL');\n",
              "      }\n",
              "      })();\n",
              "    </script>\n",
              "  </div>\n",
              "\n",
              "    </div>\n",
              "  </div>\n"
            ],
            "application/vnd.google.colaboratory.intrinsic+json": {
              "type": "dataframe",
              "variable_name": "ENIGMA_UFO_ORIGINAL",
              "summary": "{\n  \"name\": \"ENIGMA_UFO_ORIGINAL\",\n  \"rows\": 74,\n  \"fields\": [\n    {\n      \"column\": \"Shape\",\n      \"properties\": {\n        \"dtype\": \"category\",\n        \"num_unique_values\": 24,\n        \"samples\": [\n          \"Diamond\",\n          \"Other\",\n          \"Cone\"\n        ],\n        \"semantic_type\": \"\",\n        \"description\": \"\"\n      }\n    },\n    {\n      \"column\": \"1940-1950 (Count)\",\n      \"properties\": {\n        \"dtype\": \"number\",\n        \"std\": 59.805966451420254,\n        \"min\": 0.0,\n        \"max\": 290.0,\n        \"num_unique_values\": 14,\n        \"samples\": [\n          15.0,\n          13.0,\n          2.0\n        ],\n        \"semantic_type\": \"\",\n        \"description\": \"\"\n      }\n    },\n    {\n      \"column\": \"1950-1960 (Count)\",\n      \"properties\": {\n        \"dtype\": \"number\",\n        \"std\": 61.83217116764013,\n        \"min\": 0.0,\n        \"max\": 300.0,\n        \"num_unique_values\": 14,\n        \"samples\": [\n          59.0,\n          11.0,\n          1.0\n        ],\n        \"semantic_type\": \"\",\n        \"description\": \"\"\n      }\n    },\n    {\n      \"column\": \"1960-1970 (Count)\",\n      \"properties\": {\n        \"dtype\": \"number\",\n        \"std\": 28.635136013170143,\n        \"min\": 0.0,\n        \"max\": 136.0,\n        \"num_unique_values\": 11,\n        \"samples\": [\n          22.0,\n          0.0,\n          12.0\n        ],\n        \"semantic_type\": \"\",\n        \"description\": \"\"\n      }\n    },\n    {\n      \"column\": \"1970-1980 (Count)\",\n      \"properties\": {\n        \"dtype\": \"number\",\n        \"std\": 26.4980174265214,\n        \"min\": 0.0,\n        \"max\": 128.0,\n        \"num_unique_values\": 11,\n        \"samples\": [\n          16.0,\n          0.0,\n          6.0\n        ],\n        \"semantic_type\": \"\",\n        \"description\": \"\"\n      }\n    },\n    {\n      \"column\": \"1980-1990 (Count)\",\n      \"properties\": {\n        \"dtype\": \"number\",\n        \"std\": 15.272168491566042,\n        \"min\": 0.0,\n        \"max\": 75.0,\n        \"num_unique_values\": 11,\n        \"samples\": [\n          3.0,\n          1.0,\n          5.0\n        ],\n        \"semantic_type\": \"\",\n        \"description\": \"\"\n      }\n    },\n    {\n      \"column\": \"1990-2000 (Count)\",\n      \"properties\": {\n        \"dtype\": \"number\",\n        \"std\": 58.83500633988657,\n        \"min\": 0.0,\n        \"max\": 287.0,\n        \"num_unique_values\": 16,\n        \"samples\": [\n          1.0,\n          7.0,\n          3.0\n        ],\n        \"semantic_type\": \"\",\n        \"description\": \"\"\n      }\n    },\n    {\n      \"column\": \"2000- Present (Count)\",\n      \"properties\": {\n        \"dtype\": \"number\",\n        \"std\": 501.09705733476943,\n        \"min\": 1.0,\n        \"max\": 2436.0,\n        \"num_unique_values\": 24,\n        \"samples\": [\n          32.0,\n          81.0,\n          14.0\n        ],\n        \"semantic_type\": \"\",\n        \"description\": \"\"\n      }\n    },\n    {\n      \"column\": \"Count By Shape\",\n      \"properties\": {\n        \"dtype\": \"number\",\n        \"std\": 746.9647373474733,\n        \"min\": 1.0,\n        \"max\": 3652.0,\n        \"num_unique_values\": 23,\n        \"samples\": [\n          152.0,\n          40.0,\n          19.0\n        ],\n        \"semantic_type\": \"\",\n        \"description\": \"\"\n      }\n    }\n  ]\n}"
            }
          },
          "metadata": {},
          "execution_count": 5
        }
      ]
    },
    {
      "cell_type": "code",
      "source": [
        "NM_UFO_DF_ORIGINAL.head()"
      ],
      "metadata": {
        "id": "Lq3XmSNczVyK",
        "colab": {
          "base_uri": "https://localhost:8080/",
          "height": 556
        },
        "outputId": "7d8ade25-68b2-4b14-d735-f45232f114c5"
      },
      "execution_count": 6,
      "outputs": [
        {
          "output_type": "execute_result",
          "data": {
            "text/plain": [
              "   Link          Occurred                                      City State  \\\n",
              "0  Open   9/19/2016 18:22                                Cloverdale    NM   \n",
              "1  Open    3/19/1991 2:00  Chihuahua Mts (north of, mexican border)    NM   \n",
              "2  Open  11/26/2023 14:30                                  Columbus    NM   \n",
              "3  Open   12/2/2013 20:06                                  Columbus    NM   \n",
              "4  Open   6/17/2016 21:10                                     Rodeo    NM   \n",
              "\n",
              "  Country  Shape                                            Summary  \\\n",
              "0     USA   Disk  Two saucer shaped clear images at 31 26 14N 10...   \n",
              "1     USA  Light  I was conducting survielance for the military ...   \n",
              "2     USA   Oval  Blimp or hot air balloon like object just belo...   \n",
              "3     USA  Other  Nine small balls of light with tails in arrow ...   \n",
              "4     USA  Light  Extremely bright, continuoulsy luminous, objec...   \n",
              "\n",
              "     Reported Media Explanation   Latitude   Longitude  \n",
              "0   9/19/2016   NaN         NaN  31.415807 -108.915531  \n",
              "1  10/30/1998   NaN         NaN  31.427695 -108.791149  \n",
              "2  11/27/2023   NaN         NaN  31.827448 -107.638108  \n",
              "3   12/2/2013   NaN         NaN  31.827448 -107.638108  \n",
              "4   6/18/2016   NaN         NaN  31.835878 -109.030477  "
            ],
            "text/html": [
              "\n",
              "  <div id=\"df-a3fadb5a-0dc4-470c-9662-80013bc29847\" class=\"colab-df-container\">\n",
              "    <div>\n",
              "<style scoped>\n",
              "    .dataframe tbody tr th:only-of-type {\n",
              "        vertical-align: middle;\n",
              "    }\n",
              "\n",
              "    .dataframe tbody tr th {\n",
              "        vertical-align: top;\n",
              "    }\n",
              "\n",
              "    .dataframe thead th {\n",
              "        text-align: right;\n",
              "    }\n",
              "</style>\n",
              "<table border=\"1\" class=\"dataframe\">\n",
              "  <thead>\n",
              "    <tr style=\"text-align: right;\">\n",
              "      <th></th>\n",
              "      <th>Link</th>\n",
              "      <th>Occurred</th>\n",
              "      <th>City</th>\n",
              "      <th>State</th>\n",
              "      <th>Country</th>\n",
              "      <th>Shape</th>\n",
              "      <th>Summary</th>\n",
              "      <th>Reported</th>\n",
              "      <th>Media</th>\n",
              "      <th>Explanation</th>\n",
              "      <th>Latitude</th>\n",
              "      <th>Longitude</th>\n",
              "    </tr>\n",
              "  </thead>\n",
              "  <tbody>\n",
              "    <tr>\n",
              "      <th>0</th>\n",
              "      <td>Open</td>\n",
              "      <td>9/19/2016 18:22</td>\n",
              "      <td>Cloverdale</td>\n",
              "      <td>NM</td>\n",
              "      <td>USA</td>\n",
              "      <td>Disk</td>\n",
              "      <td>Two saucer shaped clear images at 31 26 14N 10...</td>\n",
              "      <td>9/19/2016</td>\n",
              "      <td>NaN</td>\n",
              "      <td>NaN</td>\n",
              "      <td>31.415807</td>\n",
              "      <td>-108.915531</td>\n",
              "    </tr>\n",
              "    <tr>\n",
              "      <th>1</th>\n",
              "      <td>Open</td>\n",
              "      <td>3/19/1991 2:00</td>\n",
              "      <td>Chihuahua Mts (north of, mexican border)</td>\n",
              "      <td>NM</td>\n",
              "      <td>USA</td>\n",
              "      <td>Light</td>\n",
              "      <td>I was conducting survielance for the military ...</td>\n",
              "      <td>10/30/1998</td>\n",
              "      <td>NaN</td>\n",
              "      <td>NaN</td>\n",
              "      <td>31.427695</td>\n",
              "      <td>-108.791149</td>\n",
              "    </tr>\n",
              "    <tr>\n",
              "      <th>2</th>\n",
              "      <td>Open</td>\n",
              "      <td>11/26/2023 14:30</td>\n",
              "      <td>Columbus</td>\n",
              "      <td>NM</td>\n",
              "      <td>USA</td>\n",
              "      <td>Oval</td>\n",
              "      <td>Blimp or hot air balloon like object just belo...</td>\n",
              "      <td>11/27/2023</td>\n",
              "      <td>NaN</td>\n",
              "      <td>NaN</td>\n",
              "      <td>31.827448</td>\n",
              "      <td>-107.638108</td>\n",
              "    </tr>\n",
              "    <tr>\n",
              "      <th>3</th>\n",
              "      <td>Open</td>\n",
              "      <td>12/2/2013 20:06</td>\n",
              "      <td>Columbus</td>\n",
              "      <td>NM</td>\n",
              "      <td>USA</td>\n",
              "      <td>Other</td>\n",
              "      <td>Nine small balls of light with tails in arrow ...</td>\n",
              "      <td>12/2/2013</td>\n",
              "      <td>NaN</td>\n",
              "      <td>NaN</td>\n",
              "      <td>31.827448</td>\n",
              "      <td>-107.638108</td>\n",
              "    </tr>\n",
              "    <tr>\n",
              "      <th>4</th>\n",
              "      <td>Open</td>\n",
              "      <td>6/17/2016 21:10</td>\n",
              "      <td>Rodeo</td>\n",
              "      <td>NM</td>\n",
              "      <td>USA</td>\n",
              "      <td>Light</td>\n",
              "      <td>Extremely bright, continuoulsy luminous, objec...</td>\n",
              "      <td>6/18/2016</td>\n",
              "      <td>NaN</td>\n",
              "      <td>NaN</td>\n",
              "      <td>31.835878</td>\n",
              "      <td>-109.030477</td>\n",
              "    </tr>\n",
              "  </tbody>\n",
              "</table>\n",
              "</div>\n",
              "    <div class=\"colab-df-buttons\">\n",
              "\n",
              "  <div class=\"colab-df-container\">\n",
              "    <button class=\"colab-df-convert\" onclick=\"convertToInteractive('df-a3fadb5a-0dc4-470c-9662-80013bc29847')\"\n",
              "            title=\"Convert this dataframe to an interactive table.\"\n",
              "            style=\"display:none;\">\n",
              "\n",
              "  <svg xmlns=\"http://www.w3.org/2000/svg\" height=\"24px\" viewBox=\"0 -960 960 960\">\n",
              "    <path d=\"M120-120v-720h720v720H120Zm60-500h600v-160H180v160Zm220 220h160v-160H400v160Zm0 220h160v-160H400v160ZM180-400h160v-160H180v160Zm440 0h160v-160H620v160ZM180-180h160v-160H180v160Zm440 0h160v-160H620v160Z\"/>\n",
              "  </svg>\n",
              "    </button>\n",
              "\n",
              "  <style>\n",
              "    .colab-df-container {\n",
              "      display:flex;\n",
              "      gap: 12px;\n",
              "    }\n",
              "\n",
              "    .colab-df-convert {\n",
              "      background-color: #E8F0FE;\n",
              "      border: none;\n",
              "      border-radius: 50%;\n",
              "      cursor: pointer;\n",
              "      display: none;\n",
              "      fill: #1967D2;\n",
              "      height: 32px;\n",
              "      padding: 0 0 0 0;\n",
              "      width: 32px;\n",
              "    }\n",
              "\n",
              "    .colab-df-convert:hover {\n",
              "      background-color: #E2EBFA;\n",
              "      box-shadow: 0px 1px 2px rgba(60, 64, 67, 0.3), 0px 1px 3px 1px rgba(60, 64, 67, 0.15);\n",
              "      fill: #174EA6;\n",
              "    }\n",
              "\n",
              "    .colab-df-buttons div {\n",
              "      margin-bottom: 4px;\n",
              "    }\n",
              "\n",
              "    [theme=dark] .colab-df-convert {\n",
              "      background-color: #3B4455;\n",
              "      fill: #D2E3FC;\n",
              "    }\n",
              "\n",
              "    [theme=dark] .colab-df-convert:hover {\n",
              "      background-color: #434B5C;\n",
              "      box-shadow: 0px 1px 3px 1px rgba(0, 0, 0, 0.15);\n",
              "      filter: drop-shadow(0px 1px 2px rgba(0, 0, 0, 0.3));\n",
              "      fill: #FFFFFF;\n",
              "    }\n",
              "  </style>\n",
              "\n",
              "    <script>\n",
              "      const buttonEl =\n",
              "        document.querySelector('#df-a3fadb5a-0dc4-470c-9662-80013bc29847 button.colab-df-convert');\n",
              "      buttonEl.style.display =\n",
              "        google.colab.kernel.accessAllowed ? 'block' : 'none';\n",
              "\n",
              "      async function convertToInteractive(key) {\n",
              "        const element = document.querySelector('#df-a3fadb5a-0dc4-470c-9662-80013bc29847');\n",
              "        const dataTable =\n",
              "          await google.colab.kernel.invokeFunction('convertToInteractive',\n",
              "                                                    [key], {});\n",
              "        if (!dataTable) return;\n",
              "\n",
              "        const docLinkHtml = 'Like what you see? Visit the ' +\n",
              "          '<a target=\"_blank\" href=https://colab.research.google.com/notebooks/data_table.ipynb>data table notebook</a>'\n",
              "          + ' to learn more about interactive tables.';\n",
              "        element.innerHTML = '';\n",
              "        dataTable['output_type'] = 'display_data';\n",
              "        await google.colab.output.renderOutput(dataTable, element);\n",
              "        const docLink = document.createElement('div');\n",
              "        docLink.innerHTML = docLinkHtml;\n",
              "        element.appendChild(docLink);\n",
              "      }\n",
              "    </script>\n",
              "  </div>\n",
              "\n",
              "\n",
              "<div id=\"df-8c7bafa6-112f-4753-9e88-bb57653bb0c5\">\n",
              "  <button class=\"colab-df-quickchart\" onclick=\"quickchart('df-8c7bafa6-112f-4753-9e88-bb57653bb0c5')\"\n",
              "            title=\"Suggest charts\"\n",
              "            style=\"display:none;\">\n",
              "\n",
              "<svg xmlns=\"http://www.w3.org/2000/svg\" height=\"24px\"viewBox=\"0 0 24 24\"\n",
              "     width=\"24px\">\n",
              "    <g>\n",
              "        <path d=\"M19 3H5c-1.1 0-2 .9-2 2v14c0 1.1.9 2 2 2h14c1.1 0 2-.9 2-2V5c0-1.1-.9-2-2-2zM9 17H7v-7h2v7zm4 0h-2V7h2v10zm4 0h-2v-4h2v4z\"/>\n",
              "    </g>\n",
              "</svg>\n",
              "  </button>\n",
              "\n",
              "<style>\n",
              "  .colab-df-quickchart {\n",
              "      --bg-color: #E8F0FE;\n",
              "      --fill-color: #1967D2;\n",
              "      --hover-bg-color: #E2EBFA;\n",
              "      --hover-fill-color: #174EA6;\n",
              "      --disabled-fill-color: #AAA;\n",
              "      --disabled-bg-color: #DDD;\n",
              "  }\n",
              "\n",
              "  [theme=dark] .colab-df-quickchart {\n",
              "      --bg-color: #3B4455;\n",
              "      --fill-color: #D2E3FC;\n",
              "      --hover-bg-color: #434B5C;\n",
              "      --hover-fill-color: #FFFFFF;\n",
              "      --disabled-bg-color: #3B4455;\n",
              "      --disabled-fill-color: #666;\n",
              "  }\n",
              "\n",
              "  .colab-df-quickchart {\n",
              "    background-color: var(--bg-color);\n",
              "    border: none;\n",
              "    border-radius: 50%;\n",
              "    cursor: pointer;\n",
              "    display: none;\n",
              "    fill: var(--fill-color);\n",
              "    height: 32px;\n",
              "    padding: 0;\n",
              "    width: 32px;\n",
              "  }\n",
              "\n",
              "  .colab-df-quickchart:hover {\n",
              "    background-color: var(--hover-bg-color);\n",
              "    box-shadow: 0 1px 2px rgba(60, 64, 67, 0.3), 0 1px 3px 1px rgba(60, 64, 67, 0.15);\n",
              "    fill: var(--button-hover-fill-color);\n",
              "  }\n",
              "\n",
              "  .colab-df-quickchart-complete:disabled,\n",
              "  .colab-df-quickchart-complete:disabled:hover {\n",
              "    background-color: var(--disabled-bg-color);\n",
              "    fill: var(--disabled-fill-color);\n",
              "    box-shadow: none;\n",
              "  }\n",
              "\n",
              "  .colab-df-spinner {\n",
              "    border: 2px solid var(--fill-color);\n",
              "    border-color: transparent;\n",
              "    border-bottom-color: var(--fill-color);\n",
              "    animation:\n",
              "      spin 1s steps(1) infinite;\n",
              "  }\n",
              "\n",
              "  @keyframes spin {\n",
              "    0% {\n",
              "      border-color: transparent;\n",
              "      border-bottom-color: var(--fill-color);\n",
              "      border-left-color: var(--fill-color);\n",
              "    }\n",
              "    20% {\n",
              "      border-color: transparent;\n",
              "      border-left-color: var(--fill-color);\n",
              "      border-top-color: var(--fill-color);\n",
              "    }\n",
              "    30% {\n",
              "      border-color: transparent;\n",
              "      border-left-color: var(--fill-color);\n",
              "      border-top-color: var(--fill-color);\n",
              "      border-right-color: var(--fill-color);\n",
              "    }\n",
              "    40% {\n",
              "      border-color: transparent;\n",
              "      border-right-color: var(--fill-color);\n",
              "      border-top-color: var(--fill-color);\n",
              "    }\n",
              "    60% {\n",
              "      border-color: transparent;\n",
              "      border-right-color: var(--fill-color);\n",
              "    }\n",
              "    80% {\n",
              "      border-color: transparent;\n",
              "      border-right-color: var(--fill-color);\n",
              "      border-bottom-color: var(--fill-color);\n",
              "    }\n",
              "    90% {\n",
              "      border-color: transparent;\n",
              "      border-bottom-color: var(--fill-color);\n",
              "    }\n",
              "  }\n",
              "</style>\n",
              "\n",
              "  <script>\n",
              "    async function quickchart(key) {\n",
              "      const quickchartButtonEl =\n",
              "        document.querySelector('#' + key + ' button');\n",
              "      quickchartButtonEl.disabled = true;  // To prevent multiple clicks.\n",
              "      quickchartButtonEl.classList.add('colab-df-spinner');\n",
              "      try {\n",
              "        const charts = await google.colab.kernel.invokeFunction(\n",
              "            'suggestCharts', [key], {});\n",
              "      } catch (error) {\n",
              "        console.error('Error during call to suggestCharts:', error);\n",
              "      }\n",
              "      quickchartButtonEl.classList.remove('colab-df-spinner');\n",
              "      quickchartButtonEl.classList.add('colab-df-quickchart-complete');\n",
              "    }\n",
              "    (() => {\n",
              "      let quickchartButtonEl =\n",
              "        document.querySelector('#df-8c7bafa6-112f-4753-9e88-bb57653bb0c5 button');\n",
              "      quickchartButtonEl.style.display =\n",
              "        google.colab.kernel.accessAllowed ? 'block' : 'none';\n",
              "    })();\n",
              "  </script>\n",
              "</div>\n",
              "\n",
              "    </div>\n",
              "  </div>\n"
            ],
            "application/vnd.google.colaboratory.intrinsic+json": {
              "type": "dataframe",
              "variable_name": "NM_UFO_DF_ORIGINAL",
              "summary": "{\n  \"name\": \"NM_UFO_DF_ORIGINAL\",\n  \"rows\": 1703,\n  \"fields\": [\n    {\n      \"column\": \"Link\",\n      \"properties\": {\n        \"dtype\": \"category\",\n        \"num_unique_values\": 2,\n        \"samples\": [\n          \"Open !\",\n          \"Open\"\n        ],\n        \"semantic_type\": \"\",\n        \"description\": \"\"\n      }\n    },\n    {\n      \"column\": \"Occurred\",\n      \"properties\": {\n        \"dtype\": \"object\",\n        \"num_unique_values\": 1651,\n        \"samples\": [\n          \"5/1/1999 21:00\",\n          \"7/15/1984 2:00\"\n        ],\n        \"semantic_type\": \"\",\n        \"description\": \"\"\n      }\n    },\n    {\n      \"column\": \"City\",\n      \"properties\": {\n        \"dtype\": \"category\",\n        \"num_unique_values\": 402,\n        \"samples\": [\n          \"Los Alamos (viewed from)\",\n          \"Tohatchi\"\n        ],\n        \"semantic_type\": \"\",\n        \"description\": \"\"\n      }\n    },\n    {\n      \"column\": \"State\",\n      \"properties\": {\n        \"dtype\": \"category\",\n        \"num_unique_values\": 1,\n        \"samples\": [\n          \"NM\"\n        ],\n        \"semantic_type\": \"\",\n        \"description\": \"\"\n      }\n    },\n    {\n      \"column\": \"Country\",\n      \"properties\": {\n        \"dtype\": \"category\",\n        \"num_unique_values\": 2,\n        \"samples\": [\n          \"Mexico\"\n        ],\n        \"semantic_type\": \"\",\n        \"description\": \"\"\n      }\n    },\n    {\n      \"column\": \"Shape\",\n      \"properties\": {\n        \"dtype\": \"category\",\n        \"num_unique_values\": 25,\n        \"samples\": [\n          \"Formation\"\n        ],\n        \"semantic_type\": \"\",\n        \"description\": \"\"\n      }\n    },\n    {\n      \"column\": \"Summary\",\n      \"properties\": {\n        \"dtype\": \"string\",\n        \"num_unique_values\": 1690,\n        \"samples\": [\n          \"The object appeared to be a metallic looking sphere that flew in an erratic manner.\"\n        ],\n        \"semantic_type\": \"\",\n        \"description\": \"\"\n      }\n    },\n    {\n      \"column\": \"Reported\",\n      \"properties\": {\n        \"dtype\": \"object\",\n        \"num_unique_values\": 1439,\n        \"samples\": [\n          \"9/19/2012\"\n        ],\n        \"semantic_type\": \"\",\n        \"description\": \"\"\n      }\n    },\n    {\n      \"column\": \"Media\",\n      \"properties\": {\n        \"dtype\": \"category\",\n        \"num_unique_values\": 1,\n        \"samples\": [\n          \"Y\"\n        ],\n        \"semantic_type\": \"\",\n        \"description\": \"\"\n      }\n    },\n    {\n      \"column\": \"Explanation\",\n      \"properties\": {\n        \"dtype\": \"category\",\n        \"num_unique_values\": 10,\n        \"samples\": [\n          \"Starlink?\"\n        ],\n        \"semantic_type\": \"\",\n        \"description\": \"\"\n      }\n    },\n    {\n      \"column\": \"Latitude\",\n      \"properties\": {\n        \"dtype\": \"category\",\n        \"num_unique_values\": 255,\n        \"samples\": [\n          \"36.043574\"\n        ],\n        \"semantic_type\": \"\",\n        \"description\": \"\"\n      }\n    },\n    {\n      \"column\": \"Longitude\",\n      \"properties\": {\n        \"dtype\": \"number\",\n        \"std\": 38.04627803714508,\n        \"min\": -109.035981,\n        \"max\": 105.0324,\n        \"num_unique_values\": 255,\n        \"samples\": [\n          -105.812729\n        ],\n        \"semantic_type\": \"\",\n        \"description\": \"\"\n      }\n    }\n  ]\n}"
            }
          },
          "metadata": {},
          "execution_count": 6
        }
      ]
    },
    {
      "cell_type": "markdown",
      "source": [
        "## Data Cleaning"
      ],
      "metadata": {
        "id": "JqH2_4bwX0Id"
      }
    },
    {
      "cell_type": "code",
      "source": [
        "NM_UFO_DF_CLEAN = NM_UFO_DF_ORIGINAL.copy()"
      ],
      "metadata": {
        "id": "xmxk-d4Jt41d"
      },
      "execution_count": 7,
      "outputs": []
    },
    {
      "cell_type": "markdown",
      "source": [
        "Dropping the link, media and explanation column because they don't provide useful information for my analysis."
      ],
      "metadata": {
        "id": "hAh4YOwWoBsX"
      }
    },
    {
      "cell_type": "code",
      "source": [
        "NM_UFO_DF_CLEAN = NM_UFO_DF_ORIGINAL.drop(['Link', 'Media', 'Explanation'], axis = 1)"
      ],
      "metadata": {
        "id": "hARe7TpJXP7n"
      },
      "execution_count": 8,
      "outputs": []
    },
    {
      "cell_type": "markdown",
      "source": [
        "Dropping the values in the latitude column that are null because it will confuse geopandas if there are null values."
      ],
      "metadata": {
        "id": "YGyg_e4HofTe"
      }
    },
    {
      "cell_type": "code",
      "source": [
        "NM_UFO_DF_CLEAN.dropna(subset=['Latitude'], inplace=True)\n",
        "NM_UFO_DF_CLEAN.shape"
      ],
      "metadata": {
        "colab": {
          "base_uri": "https://localhost:8080/"
        },
        "collapsed": true,
        "id": "M0PIiBRSt_Zu",
        "outputId": "5e501e26-4735-49bf-abb1-715fca74d1a1"
      },
      "execution_count": 9,
      "outputs": [
        {
          "output_type": "execute_result",
          "data": {
            "text/plain": [
              "(1703, 9)"
            ]
          },
          "metadata": {},
          "execution_count": 9
        }
      ]
    },
    {
      "cell_type": "code",
      "source": [
        "NM_UFO_DF_CLEAN['Longitude'].isnull().sum()"
      ],
      "metadata": {
        "colab": {
          "base_uri": "https://localhost:8080/"
        },
        "id": "TKOpa9vguqLn",
        "outputId": "83ec4f0b-2525-4794-a720-80377870635f"
      },
      "execution_count": 10,
      "outputs": [
        {
          "output_type": "execute_result",
          "data": {
            "text/plain": [
              "0"
            ]
          },
          "metadata": {},
          "execution_count": 10
        }
      ]
    },
    {
      "cell_type": "code",
      "source": [
        "ENIGMA_UFO_ORIGINAL = ENIGMA_UFO_ORIGINAL.dropna()"
      ],
      "metadata": {
        "id": "AwjXQKUBSLOK"
      },
      "execution_count": 11,
      "outputs": []
    },
    {
      "cell_type": "markdown",
      "source": [
        "When I read in the excel file there were around 40 rows that had nothing in them, so I needed to drop those first and then drop the last row which just had the total counts for each one of the shapes across each decade."
      ],
      "metadata": {
        "id": "oIlixNixopcE"
      }
    },
    {
      "cell_type": "code",
      "source": [
        "ENIGMA_UFO_ORIGINAL.drop(23, axis = 0, inplace = True)"
      ],
      "metadata": {
        "colab": {
          "base_uri": "https://localhost:8080/"
        },
        "id": "Rz115A_PU3DY",
        "outputId": "c53be27b-b9e6-4e6f-cce8-ff8a3b6d4490"
      },
      "execution_count": 12,
      "outputs": [
        {
          "output_type": "stream",
          "name": "stderr",
          "text": [
            "<ipython-input-12-c65a7c78ef60>:1: SettingWithCopyWarning: \n",
            "A value is trying to be set on a copy of a slice from a DataFrame\n",
            "\n",
            "See the caveats in the documentation: https://pandas.pydata.org/pandas-docs/stable/user_guide/indexing.html#returning-a-view-versus-a-copy\n",
            "  ENIGMA_UFO_ORIGINAL.drop(23, axis = 0, inplace = True)\n"
          ]
        }
      ]
    },
    {
      "cell_type": "markdown",
      "source": [
        "Replacing the triangle with Triangle because I had two different triangle shapes on my graph below."
      ],
      "metadata": {
        "id": "dUKpVb9jo1e5"
      }
    },
    {
      "cell_type": "code",
      "source": [
        "NM_UFO_DF_CLEAN['Shape'] = NM_UFO_DF_CLEAN['Shape'].str.replace('triangle', 'Triangle')"
      ],
      "metadata": {
        "id": "bDyWYBqRdsWk"
      },
      "execution_count": 13,
      "outputs": []
    },
    {
      "cell_type": "markdown",
      "source": [
        "## Exploratory Data Analysis"
      ],
      "metadata": {
        "id": "o9AzWlTRX5CU"
      }
    },
    {
      "cell_type": "markdown",
      "source": [
        "### Map of Sightings"
      ],
      "metadata": {
        "id": "cfpu2kLJYHs9"
      }
    },
    {
      "cell_type": "markdown",
      "source": [
        "Converting the latitude to numeric. For some reason the longitude was already a float but the latitude was not. In order for geopandas to properly map the latitude and longitude, it needs numbers, not strings."
      ],
      "metadata": {
        "id": "0xfHGojFo7sz"
      }
    },
    {
      "cell_type": "code",
      "source": [
        "NM_UFO_DF_CLEAN['Latitude'] = pd.to_numeric(NM_UFO_DF_CLEAN['Latitude'], errors='coerce')"
      ],
      "metadata": {
        "id": "ky4Ze7sem5RF"
      },
      "execution_count": 14,
      "outputs": []
    },
    {
      "cell_type": "code",
      "source": [
        "NM_UFO_DF_CLEAN['Latitude'].dtype"
      ],
      "metadata": {
        "id": "DpV-9Y4knTjj",
        "colab": {
          "base_uri": "https://localhost:8080/"
        },
        "outputId": "29f88195-ac05-40d4-8ce9-b7a4fc30e2bc"
      },
      "execution_count": 15,
      "outputs": [
        {
          "output_type": "execute_result",
          "data": {
            "text/plain": [
              "dtype('float64')"
            ]
          },
          "metadata": {},
          "execution_count": 15
        }
      ]
    },
    {
      "cell_type": "markdown",
      "source": [
        "After the latitude and longitude were made into numbers I used the folium module to create a sightings map of our latitudes and longitudes. I used the \"Latitude\" column for the latitude and the \"Longitude\" column for the longitude. I then centered the map on New Mexico so it was easier to navigate and visualize the data."
      ],
      "metadata": {
        "id": "htnYz0kQrF9j"
      }
    },
    {
      "cell_type": "code",
      "source": [
        "fig = px.scatter_mapbox(NM_UFO_DF_CLEAN, lat=\"Latitude\", lon=\"Longitude\")\n",
        "fig.update_layout(mapbox_style=\"open-street-map\")\n",
        "fig.update_geos(visible=False, resolution=50, scope=\"usa\",\n",
        "                    showcountries=True, countrycolor=\"Black\",\n",
        "                    showsubunits=True, subunitcolor=\"Red\")\n",
        "fig.update_layout(\n",
        "    geo_scope='usa',\n",
        "    mapbox=dict(\n",
        "        style=\"open-street-map\",\n",
        "        center=dict(lat=34.5199, lon=-105.8701),  # Center on New Mexico\n",
        "        zoom=5\n",
        "    )\n",
        ")\n",
        "fig.show()"
      ],
      "metadata": {
        "colab": {
          "base_uri": "https://localhost:8080/",
          "height": 542
        },
        "id": "mIggOoUBch_p",
        "outputId": "74bf2cd4-988d-41e6-f875-8288b9cd7406"
      },
      "execution_count": 16,
      "outputs": [
        {
          "output_type": "display_data",
          "data": {
            "text/html": [
              "<html>\n",
              "<head><meta charset=\"utf-8\" /></head>\n",
              "<body>\n",
              "    <div>            <script src=\"https://cdnjs.cloudflare.com/ajax/libs/mathjax/2.7.5/MathJax.js?config=TeX-AMS-MML_SVG\"></script><script type=\"text/javascript\">if (window.MathJax && window.MathJax.Hub && window.MathJax.Hub.Config) {window.MathJax.Hub.Config({SVG: {font: \"STIX-Web\"}});}</script>                <script type=\"text/javascript\">window.PlotlyConfig = {MathJaxConfig: 'local'};</script>\n",
              "        <script charset=\"utf-8\" src=\"https://cdn.plot.ly/plotly-2.35.2.min.js\"></script>                <div id=\"a4cd7235-5f12-4cca-8374-a6ffe2183a3d\" class=\"plotly-graph-div\" style=\"height:525px; width:100%;\"></div>            <script type=\"text/javascript\">                                    window.PLOTLYENV=window.PLOTLYENV || {};                                    if (document.getElementById(\"a4cd7235-5f12-4cca-8374-a6ffe2183a3d\")) {                    Plotly.newPlot(                        \"a4cd7235-5f12-4cca-8374-a6ffe2183a3d\",                        [{\"hovertemplate\":\"Latitude=%{lat}\\u003cbr\\u003eLongitude=%{lon}\\u003cextra\\u003e\\u003c\\u002fextra\\u003e\",\"lat\":[31.415807,31.427695,31.827448,31.827448,31.835878,31.835878,31.851827,31.985619,31.985619,32.012244,32.012244,32.077566,32.078866,32.114844,32.114844,32.114844,32.114844,32.114844,32.12151,32.12891,32.1362,32.165159,32.165159,32.165159,32.165159,32.176178,32.226165,32.260473,32.260473,32.260473,32.260473,32.260473,32.260473,32.260473,32.260473,32.260473,32.260473,32.260473,32.260473,32.260473,32.260473,32.260473,32.260473,32.260473,32.260473,32.260473,32.260473,32.260473,32.260473,32.260473,32.260473,32.260473,32.260473,32.260473,32.260473,32.260473,32.260473,32.260473,32.260473,32.260473,32.260473,32.260473,32.260473,32.260473,32.260473,32.260473,32.270136,32.284958,32.284958,32.303836,32.316465,32.324738,32.324738,32.324738,32.324738,32.324738,32.324738,32.324738,32.324738,32.324738,32.324738,32.324738,32.324738,32.324738,32.324738,32.324738,32.324738,32.324738,32.324738,32.324738,32.324738,32.324738,32.324738,32.324738,32.324738,32.324738,32.324738,32.324738,32.324738,32.324738,32.324738,32.324738,32.324738,32.324738,32.324738,32.324738,32.324738,32.324738,32.324738,32.324738,32.324738,32.324738,32.324738,32.324738,32.324738,32.324738,32.324738,32.324738,32.324738,32.324738,32.324738,32.324738,32.324738,32.324738,32.324738,32.324738,32.324738,32.324738,32.324738,32.324738,32.324738,32.324738,32.324738,32.324738,32.324738,32.324738,32.324738,32.324738,32.324738,32.324738,32.324738,32.324738,32.324738,32.324738,32.324738,32.324738,32.324738,32.324738,32.324738,32.324738,32.324738,32.324738,32.324738,32.324738,32.324738,32.324738,32.324738,32.324738,32.324738,32.324738,32.324738,32.324738,32.324738,32.348523,32.348523,32.348523,32.348523,32.348523,32.369767,32.392235,32.418235,32.418235,32.418235,32.418235,32.418235,32.418235,32.418235,32.418235,32.418235,32.418235,32.418235,32.418235,32.418235,32.418235,32.418235,32.418235,32.418235,32.418235,32.418235,32.418235,32.418235,32.418235,32.418235,32.418235,32.49093,32.667323,32.699259,32.699259,32.706351,32.706351,32.706351,32.706351,32.706351,32.706351,32.706351,32.706351,32.706351,32.706351,32.706351,32.706351,32.706351,32.706351,32.706351,32.712016,32.769306,32.769306,32.769306,32.769306,32.769306,32.769306,32.769306,32.769306,32.769306,32.769306,32.769306,32.769306,32.769306,32.769306,32.769306,32.769306,32.769306,32.769306,32.769306,32.769306,32.769306,32.77755,32.782649,32.782649,32.794103,32.796092,32.809758,32.810027,32.817651,32.817651,32.817651,32.840683,32.840683,32.840683,32.840683,32.840683,32.840683,32.840683,32.840683,32.840683,32.848686,32.849132,32.849132,32.849132,32.849132,32.849132,32.849132,32.850975,32.856095,32.856095,32.856095,32.863384,32.863384,32.891812,32.891812,32.891812,32.891812,32.891812,32.891812,32.891812,32.891812,32.891812,32.891812,32.891812,32.891812,32.891812,32.891812,32.891812,32.891812,32.891812,32.891812,32.891812,32.891812,32.891812,32.891812,32.891812,32.891812,32.891812,32.891812,32.891812,32.916917,32.943564,32.943564,32.943564,32.943564,32.943564,32.943564,32.943564,32.943564,32.943564,32.946759,32.946759,32.946759,32.946759,32.954872,32.954872,32.954872,32.954872,32.954872,32.962803,32.962803,32.962803,32.964799,32.964799,32.97701,32.97701,32.978674,33.033332,33.075,33.075,33.075,33.075,33.075,33.075,33.075,33.075,33.075,33.113806,33.132497,33.132497,33.132497,33.132497,33.132497,33.132497,33.132497,33.132497,33.132497,33.132497,33.132497,33.132497,33.134561,33.155834,33.155834,33.155834,33.180572,33.180572,33.196054,33.256097,33.256097,33.256097,33.317543,33.317543,33.317543,33.333231,33.333231,33.333231,33.333231,33.333231,33.333231,33.333231,33.333231,33.333231,33.333231,33.333231,33.333231,33.333231,33.333231,33.333231,33.333231,33.333231,33.346154,33.370545,33.379635,33.394758,33.394758,33.394758,33.394758,33.394758,33.394758,33.394758,33.394758,33.394758,33.394758,33.394758,33.394758,33.394758,33.394758,33.394758,33.394758,33.394758,33.394758,33.394758,33.394758,33.394758,33.394758,33.394758,33.394758,33.394758,33.394758,33.394758,33.394758,33.394758,33.394758,33.394758,33.394758,33.394758,33.394758,33.394758,33.394758,33.394758,33.394758,33.394758,33.394758,33.394758,33.394758,33.394758,33.394758,33.394758,33.394758,33.394758,33.394758,33.394758,33.394758,33.394758,33.394758,33.394758,33.394758,33.394758,33.394758,33.394758,33.394758,33.394758,33.405779,33.405779,33.405779,33.405779,33.405779,33.405779,33.457047,33.491655,33.491655,33.491655,33.491655,33.558089,33.642981,33.642981,33.642981,33.642981,33.642981,33.818732,33.842182,33.917427,33.917427,33.917427,34.024604,34.057247,34.057247,34.057247,34.057247,34.057247,34.057247,34.057247,34.057247,34.057247,34.057247,34.057247,34.057247,34.057247,34.057247,34.057247,34.057247,34.057247,34.057247,34.057247,34.057247,34.057247,34.057247,34.073315,34.113592,34.142326,34.142326,34.142326,34.158742,34.158742,34.158742,34.184208,34.184208,34.184208,34.184208,34.184208,34.225276,34.249104,34.249104,34.298286,34.298286,34.298286,34.298286,34.298286,34.344311,34.344311,34.38264,34.386598,34.386598,34.386598,34.386598,34.386598,34.388211,34.406841,34.406841,34.406841,34.406841,34.406841,34.406841,34.406841,34.406841,34.406841,34.406841,34.406841,34.406841,34.406841,34.406841,34.406841,34.406841,34.406841,34.406841,34.406841,34.406841,34.406841,34.429048,34.429048,34.450729,34.472309,34.472309,34.472309,34.521104,34.521104,34.521104,34.595362,34.600176,34.600176,34.600176,34.620906,34.650834,34.660595,34.660595,34.660595,34.660595,34.660595,34.660595,34.660595,34.660595,34.660595,34.660595,34.660595,34.660595,34.660595,34.660595,34.705207,34.732442,34.747183,34.747183,34.798833,34.804859,34.804859,34.804859,34.804859,34.804859,34.804859,34.804859,34.804859,34.804859,34.804859,34.804859,34.804859,34.804859,34.804859,34.820865,34.836867,34.836867,34.856588,34.856588,34.856588,34.856588,34.863353,34.880646,34.880646,34.895227,34.895227,34.896115,34.896115,34.907088,34.907088,34.937773,34.937773,34.937773,34.954965,34.954965,34.955052,34.9727,34.9727,34.9727,34.9727,34.9727,34.9727,34.9727,34.9727,34.9727,34.9727,34.9727,34.9727,34.9727,34.9727,34.9727,34.9727,34.9727,34.9727,34.9727,34.9727,34.9727,34.991828,34.991828,34.991828,34.991828,34.991828,34.991828,35.001844,35.009532,35.009532,35.009532,35.009532,35.009532,35.037353,35.037438,35.037438,35.045807,35.04692,35.055841,35.062178,35.062178,35.062178,35.062178,35.062178,35.062178,35.062178,35.062178,35.062178,35.062178,35.062178,35.067573,35.067573,35.080216,35.082738,35.082738,35.087347,35.09107,35.09107,35.09107,35.09107,35.09107,35.09107,35.09107,35.09107,35.09107,35.09107,35.09107,35.101401,35.101401,35.101401,35.101401,35.101401,35.101401,35.101401,35.101401,35.101401,35.101401,35.101401,35.101401,35.101401,35.101401,35.101401,35.101401,35.101401,35.101401,35.101401,35.101401,35.101401,35.101401,35.101401,35.101401,35.101401,35.101401,35.101401,35.101401,35.101401,35.101401,35.101401,35.101401,35.101401,35.101401,35.101401,35.101401,35.101401,35.101401,35.101401,35.101401,35.101401,35.101401,35.101401,35.101401,35.101401,35.101401,35.101401,35.101401,35.101401,35.101401,35.101401,35.101401,35.101401,35.101401,35.101401,35.101401,35.101401,35.101401,35.101401,35.101401,35.101401,35.101401,35.101401,35.101401,35.101401,35.101401,35.101401,35.101401,35.101401,35.101401,35.101401,35.101401,35.101401,35.101401,35.101401,35.101401,35.101401,35.101401,35.101401,35.101401,35.101401,35.101401,35.101401,35.101401,35.101401,35.101401,35.101401,35.101401,35.101401,35.101401,35.101401,35.101401,35.101401,35.101401,35.101401,35.101401,35.101401,35.101401,35.101401,35.101401,35.101401,35.101401,35.101401,35.101401,35.101401,35.101401,35.101401,35.101401,35.101401,35.101401,35.101401,35.101401,35.101401,35.101401,35.101401,35.101401,35.101401,35.101401,35.101401,35.101401,35.101401,35.101401,35.101401,35.101401,35.101401,35.101401,35.101401,35.101401,35.101401,35.101401,35.101401,35.101401,35.101401,35.101401,35.101401,35.101401,35.101401,35.101401,35.101401,35.101401,35.101401,35.101401,35.101401,35.101401,35.101401,35.101401,35.101401,35.101401,35.101401,35.101401,35.101401,35.101401,35.101401,35.101401,35.101401,35.101401,35.101401,35.101401,35.101401,35.101401,35.101401,35.101401,35.101401,35.101401,35.101401,35.101401,35.101401,35.101401,35.101401,35.101401,35.101401,35.101401,35.101401,35.101401,35.101401,35.101401,35.101401,35.101401,35.101401,35.101401,35.101401,35.101401,35.101401,35.101401,35.101401,35.101401,35.101401,35.101401,35.101401,35.101401,35.101401,35.101401,35.101401,35.101401,35.101401,35.101401,35.101401,35.101401,35.101401,35.101401,35.101401,35.101401,35.101401,35.101401,35.101401,35.101401,35.101401,35.101401,35.101401,35.101401,35.101401,35.101401,35.101401,35.101401,35.101401,35.101401,35.101401,35.101401,35.101401,35.101401,35.101401,35.101401,35.101401,35.101401,35.101401,35.101401,35.101401,35.101401,35.101401,35.101401,35.101401,35.101401,35.101401,35.101401,35.101401,35.101401,35.101401,35.101401,35.101401,35.101401,35.101401,35.101401,35.101401,35.101401,35.101401,35.101401,35.101401,35.101401,35.101401,35.101401,35.101401,35.101401,35.101401,35.101401,35.101401,35.101401,35.101401,35.101401,35.101401,35.101401,35.101401,35.101401,35.101401,35.101401,35.101401,35.101401,35.101401,35.101401,35.101401,35.101401,35.101401,35.101401,35.101401,35.101401,35.101401,35.101401,35.101401,35.101401,35.101401,35.101401,35.101401,35.101401,35.101401,35.101401,35.101401,35.101401,35.101401,35.101401,35.101401,35.101401,35.101401,35.101401,35.101401,35.101401,35.101401,35.101401,35.101401,35.101401,35.101401,35.101401,35.101401,35.101401,35.101401,35.101401,35.101401,35.101401,35.101401,35.101401,35.101401,35.101401,35.101401,35.101401,35.101401,35.101401,35.101401,35.101401,35.101401,35.101401,35.101401,35.101401,35.101401,35.101401,35.101401,35.101401,35.101401,35.101401,35.101401,35.101401,35.101401,35.101401,35.101401,35.101401,35.101401,35.101401,35.101401,35.101401,35.101401,35.101401,35.101401,35.101401,35.101401,35.101401,35.101401,35.101401,35.101401,35.101401,35.101401,35.101401,35.101401,35.101401,35.101401,35.101401,35.101401,35.101401,35.101401,35.101401,35.101401,35.101401,35.101401,35.101401,35.101401,35.101401,35.101401,35.101401,35.101401,35.101401,35.101401,35.101401,35.101401,35.101401,35.101401,35.101401,35.101401,35.101401,35.101401,35.101401,35.101401,35.101401,35.101401,35.101401,35.101401,35.101401,35.101401,35.101401,35.101401,35.101401,35.101401,35.101401,35.101401,35.101401,35.101401,35.101401,35.101401,35.101401,35.101401,35.101401,35.101401,35.101401,35.101401,35.101401,35.101401,35.101401,35.101401,35.101401,35.101401,35.101401,35.101401,35.101401,35.101401,35.101401,35.101401,35.101401,35.101401,35.101401,35.101401,35.108276,35.108276,35.111947,35.111947,35.139218,35.147495,35.148303,35.148303,35.148303,35.148303,35.152307,35.152307,35.152307,35.152307,35.152307,35.152307,35.152307,35.152307,35.152307,35.167808,35.167808,35.167808,35.170392,35.172972,35.172972,35.172972,35.172972,35.172972,35.172972,35.172972,35.231041,35.231041,35.231041,35.231041,35.231041,35.231041,35.231041,35.231041,35.231041,35.231041,35.231041,35.231041,35.231041,35.231041,35.231041,35.231041,35.231041,35.231041,35.231041,35.231041,35.231041,35.231041,35.231041,35.231041,35.231041,35.231041,35.231041,35.231041,35.231041,35.231041,35.231041,35.231041,35.231041,35.231041,35.231041,35.231041,35.231041,35.231041,35.231041,35.231041,35.231041,35.231041,35.231041,35.231041,35.231041,35.231041,35.231041,35.231041,35.231041,35.231041,35.231041,35.231041,35.231041,35.231041,35.235695,35.235695,35.235695,35.235695,35.235695,35.235695,35.235695,35.239305,35.249548,35.253926,35.253926,35.253926,35.253926,35.26471,35.26471,35.306251,35.306251,35.306251,35.306251,35.306251,35.306251,35.306251,35.306251,35.306251,35.306251,35.306251,35.316897,35.316897,35.316897,35.316897,35.316897,35.316897,35.316897,35.37863,35.37863,35.402635,35.415473,35.420958,35.421996,35.421996,35.435177,35.435177,35.435177,35.435177,35.451099,35.469565,35.481871,35.481871,35.491711,35.517912,35.518098,35.519312,35.519312,35.519312,35.519312,35.519312,35.519312,35.519312,35.519312,35.519312,35.519312,35.519312,35.519312,35.519312,35.519312,35.519312,35.562344,35.562344,35.575249,35.575249,35.575249,35.575249,35.575249,35.575249,35.579309,35.58264,35.58264,35.598375,35.598375,35.598375,35.598375,35.598375,35.598375,35.598375,35.598375,35.598375,35.598375,35.598375,35.60915,35.61087,35.627235,35.647908,35.652813,35.679616,35.685756,35.685756,35.685756,35.685756,35.685756,35.685756,35.685756,35.685756,35.685756,35.685756,35.685756,35.685756,35.685756,35.685756,35.685756,35.685756,35.685756,35.685756,35.685756,35.685756,35.685756,35.685756,35.685756,35.685756,35.685756,35.685756,35.685756,35.685756,35.685756,35.685756,35.685756,35.685756,35.685756,35.685756,35.685756,35.685756,35.685756,35.685756,35.685756,35.685756,35.685756,35.685756,35.685756,35.685756,35.685756,35.685756,35.685756,35.685756,35.685756,35.685756,35.685756,35.685756,35.685756,35.685756,35.685756,35.685756,35.685756,35.685756,35.685756,35.685756,35.685756,35.685756,35.685756,35.685756,35.685756,35.685756,35.685756,35.685756,35.685756,35.685756,35.685756,35.685756,35.685756,35.685756,35.685756,35.685756,35.685756,35.685756,35.685756,35.685756,35.685756,35.685756,35.685756,35.685756,35.685756,35.685756,35.685756,35.685756,35.685756,35.685756,35.685756,35.685756,35.685756,35.685756,35.685756,35.685756,35.685756,35.685756,35.685756,35.685756,35.685756,35.685756,35.685756,35.685756,35.685756,35.685756,35.685756,35.685756,35.685756,35.685756,35.685756,35.685756,35.685756,35.685756,35.685756,35.685756,35.685756,35.685756,35.685756,35.685756,35.685756,35.685756,35.685756,35.685756,35.685756,35.685756,35.685756,35.685756,35.685756,35.685756,35.685756,35.685756,35.685756,35.685756,35.685756,35.685756,35.685756,35.685756,35.685756,35.685756,35.685756,35.685756,35.685756,35.685756,35.685756,35.685756,35.685756,35.685756,35.685756,35.685756,35.685756,35.685756,35.685756,35.685756,35.685756,35.685756,35.685756,35.760998,35.760998,35.766709,35.76805,35.76805,35.76805,35.76805,35.76805,35.809653,35.81999,35.85709,35.878996,35.878996,35.878996,35.878996,35.878996,35.878996,35.878996,35.878996,35.878996,35.878996,35.878996,35.878996,35.878996,35.878996,35.878996,35.892967,35.90286,35.90286,35.944289,35.947286,35.973949,35.992722,35.992722,35.992722,35.992722,35.992722,35.992722,35.992722,35.992722,35.992722,35.992722,35.993133,35.993133,36.02151,36.02151,36.02151,36.02151,36.043574,36.045283,36.045283,36.051906,36.051906,36.059939,36.059939,36.059939,36.059939,36.059939,36.060507,36.06057,36.063403,36.063907,36.074988,36.088091,36.088091,36.10999,36.166808,36.175525,36.17617,36.17617,36.186141,36.187303,36.196487,36.207215,36.207215,36.207215,36.207215,36.207215,36.207215,36.219129,36.233652,36.261342,36.261342,36.261342,36.261342,36.287612,36.301405,36.301405,36.301405,36.303475,36.331495,36.340777,36.340777,36.340777,36.357663,36.357663,36.357663,36.357663,36.357663,36.360441,36.360441,36.391983,36.392439,36.392439,36.406326,36.406326,36.406326,36.406326,36.406326,36.406326,36.406326,36.406326,36.406326,36.406326,36.406326,36.406326,36.406326,36.406326,36.406326,36.406326,36.406326,36.406326,36.406326,36.406326,36.406326,36.406326,36.406326,36.406326,36.406326,36.406326,36.406326,36.406326,36.406326,36.406326,36.406326,36.406326,36.406326,36.406326,36.406326,36.406326,36.406326,36.406326,36.406326,36.451432,36.451432,36.451432,36.451432,36.451432,36.451432,36.494771,36.509774,36.516508,36.516508,36.519395,36.524778,36.550863,36.55805,36.567052,36.573946,36.589688,36.595469,36.646922,36.665702,36.665702,36.699157,36.707692,36.707692,36.707875,36.707875,36.716725,36.716725,36.716725,36.736951,36.736951,36.736951,36.736951,36.740298,36.740298,36.745257,36.746211,36.746211,36.746211,36.746211,36.746211,36.746211,36.746211,36.746211,36.746211,36.746211,36.746211,36.746211,36.746211,36.746211,36.746211,36.746211,36.746211,36.746211,36.746211,36.746211,36.746211,36.746211,36.746211,36.746211,36.746211,36.746211,36.746211,36.746211,36.746211,36.746211,36.746211,36.746211,36.752681,36.759484,36.759484,36.784903,36.784903,36.784903,36.784903,36.797014,36.797014,36.801511,36.801511,36.82324,36.82324,36.82324,36.82324,36.82324,36.82324,36.82324,36.82324,36.82324,36.82324,36.845445,36.901351,36.902566,36.902566,36.902566,36.902566,36.902566,36.902566,36.902566,36.902566,36.902566,36.934023,36.934023,36.934023,36.991452,null,34.9727,34.9727,34.9727,34.9727,34.9727,34.9727,34.9727,34.9727,34.9727,34.9727,34.9727,34.9727,34.9727,34.9727,34.9727,34.9727,34.9727,34.9727,34.9727,34.9727,34.9727,34.9727,34.9727,34.9727,34.9727,34.9727,34.9727,34.9727,34.9727,34.9727,34.9727,34.9727,34.9727,34.9727,34.9727,34.9727],\"legendgroup\":\"\",\"lon\":[-108.915531,-108.791149,-107.638108,-107.638108,-109.030477,-109.030477,-106.640427,-106.603502,-106.603502,-106.603248,-106.603248,-106.22786,-106.178342,-103.191861,-103.191861,-103.191861,-103.191861,-103.191861,-106.706519,-106.655144,-106.23464,-106.696068,-106.696068,-106.696068,-106.696068,-104.376294,-108.08701,-107.744865,-107.744865,-107.744865,-107.744865,-107.744865,-107.744865,-107.744865,-107.744865,-107.744865,-107.744865,-107.744865,-107.744865,-107.744865,-107.744865,-107.744865,-107.744865,-107.744865,-107.744865,-107.744865,-107.744865,-107.744865,-107.744865,-107.744865,-107.744865,-107.744865,-107.744865,-107.744865,-107.744865,-107.744865,-107.744865,-107.744865,-107.744865,-107.744865,-107.744865,-107.744865,-107.744865,-107.744865,-107.744865,-107.744865,-107.763924,-104.095179,-104.095179,-106.845342,-106.772754,-106.759443,-106.759443,-106.759443,-106.759443,-106.759443,-106.759443,-106.759443,-106.759443,-106.759443,-106.759443,-106.759443,-106.759443,-106.759443,-106.759443,-106.759443,-106.759443,-106.759443,-106.759443,-106.759443,-106.759443,-106.759443,-106.759443,-106.759443,-106.759443,-106.759443,-106.759443,-106.759443,-106.759443,-106.759443,-106.759443,-106.759443,-106.759443,-106.759443,-106.759443,-106.759443,-106.759443,-106.759443,-106.759443,-106.759443,-106.759443,-106.759443,-106.759443,-106.759443,-106.759443,-106.759443,-106.759443,-106.759443,-106.759443,-106.759443,-106.759443,-106.759443,-106.759443,-106.759443,-106.759443,-106.759443,-106.759443,-106.759443,-106.759443,-106.759443,-106.759443,-106.759443,-106.759443,-106.759443,-106.759443,-106.759443,-106.759443,-106.759443,-106.759443,-106.759443,-106.759443,-106.759443,-106.759443,-106.759443,-106.759443,-106.759443,-106.759443,-106.759443,-106.759443,-106.759443,-106.759443,-106.759443,-106.759443,-106.759443,-106.759443,-106.759443,-106.759443,-106.759443,-106.759443,-106.759443,-106.759443,-106.759443,-106.759443,-108.707488,-108.707488,-108.707488,-108.707488,-108.707488,-106.561133,-106.814868,-104.230988,-104.230988,-104.230988,-104.230988,-104.230988,-104.230988,-104.230988,-104.230988,-104.230988,-104.230988,-104.230988,-104.230988,-104.230988,-104.230988,-104.230988,-104.230988,-104.230988,-104.230988,-104.230988,-104.230988,-104.230988,-104.230988,-104.230988,-104.230988,-106.90865,-107.15168,-108.130949,-108.130949,-103.132147,-103.132147,-103.132147,-103.132147,-103.132147,-103.132147,-103.132147,-103.132147,-103.132147,-103.132147,-103.132147,-103.132147,-103.132147,-103.132147,-103.132147,-107.204813,-108.280215,-108.280215,-108.280215,-108.280215,-108.280215,-108.280215,-108.280215,-108.280215,-108.280215,-108.280215,-108.280215,-108.280215,-108.280215,-108.280215,-108.280215,-108.280215,-108.280215,-108.280215,-108.280215,-108.280215,-108.280215,-108.153323,-106.324558,-106.324558,-108.184147,-108.150238,-104.733952,-107.919986,-103.98034,-103.98034,-103.98034,-104.405192,-104.405192,-104.405192,-104.405192,-104.405192,-104.405192,-104.405192,-104.405192,-104.405192,-107.318885,-106.098862,-106.098862,-106.098862,-106.098862,-106.098862,-106.098862,-106.095962,-107.979515,-107.979515,-107.979515,-108.221415,-108.221415,-105.952151,-105.952151,-105.952151,-105.952151,-105.952151,-105.952151,-105.952151,-105.952151,-105.952151,-105.952151,-105.952151,-105.952151,-105.952151,-105.952151,-105.952151,-105.952151,-105.952151,-105.952151,-105.952151,-105.952151,-105.952151,-105.952151,-105.952151,-105.952151,-105.952151,-105.952151,-105.952151,-107.70608,-106.419441,-106.419441,-106.419441,-106.419441,-106.419441,-106.419441,-106.419441,-106.419441,-106.419441,-103.351723,-103.351723,-103.351723,-103.351723,-105.739939,-105.739939,-105.739939,-105.739939,-105.739939,-108.61865,-108.61865,-108.61865,-108.576955,-108.576955,-105.943914,-105.943914,-107.308122,-108.698577,-106.018048,-106.018048,-106.018048,-106.018048,-106.018048,-106.018048,-106.018048,-106.018048,-106.018048,-104.327179,-107.252571,-107.252571,-107.252571,-107.252571,-107.252571,-107.252571,-107.252571,-107.252571,-107.252571,-107.252571,-107.252571,-107.252571,-107.248733,-105.776547,-105.776547,-105.776547,-107.225855,-107.225855,-104.372926,-103.316036,-103.316036,-103.316036,-108.88234,-108.88234,-108.88234,-105.681385,-105.681385,-105.681385,-105.681385,-105.681385,-105.681385,-105.681385,-105.681385,-105.681385,-105.681385,-105.681385,-105.681385,-105.681385,-105.681385,-105.681385,-105.681385,-105.681385,-107.647666,-105.226243,-108.903874,-104.523489,-104.523489,-104.523489,-104.523489,-104.523489,-104.523489,-104.523489,-104.523489,-104.523489,-104.523489,-104.523489,-104.523489,-104.523489,-104.523489,-104.523489,-104.523489,-104.523489,-104.523489,-104.523489,-104.523489,-104.523489,-104.523489,-104.523489,-104.523489,-104.523489,-104.523489,-104.523489,-104.523489,-104.523489,-104.523489,-104.523489,-104.523489,-104.523489,-104.523489,-104.523489,-104.523489,-104.523489,-104.523489,-104.523489,-104.523489,-104.523489,-104.523489,-104.523489,-104.523489,-104.523489,-104.523489,-104.523489,-104.523489,-104.523489,-104.523489,-104.523489,-104.523489,-104.523489,-104.523489,-104.523489,-104.523489,-104.523489,-104.523489,-104.523489,-105.654943,-105.654943,-105.654943,-105.654943,-105.654943,-105.654943,-105.735887,-105.383356,-105.383356,-105.383356,-105.383356,-105.707626,-105.876232,-105.876232,-105.876232,-105.876232,-105.876232,-108.954278,-103.771754,-106.866285,-106.866285,-106.866285,-107.04472,-106.892888,-106.892888,-106.892888,-106.892888,-106.892888,-106.892888,-106.892888,-106.892888,-106.892888,-106.892888,-106.892888,-106.892888,-106.892888,-106.892888,-106.892888,-106.892888,-106.892888,-106.892888,-106.892888,-106.892888,-106.892888,-106.892888,-107.622206,-107.237787,-107.842554,-107.842554,-107.842554,-106.911081,-106.911081,-106.911081,-103.335009,-103.335009,-103.335009,-103.335009,-103.335009,-108.879881,-105.596071,-105.596071,-108.134699,-108.134699,-108.134699,-108.134699,-108.134699,-108.496653,-108.496653,-106.813253,-103.318975,-103.318975,-103.318975,-103.318975,-103.318975,-103.050159,-103.199641,-103.199641,-103.199641,-103.199641,-103.199641,-103.199641,-103.199641,-103.199641,-103.199641,-103.199641,-103.199641,-103.199641,-103.199641,-103.199641,-103.199641,-103.199641,-103.199641,-103.199641,-103.199641,-103.199641,-103.199641,-103.62882,-103.62882,-106.374842,-104.24468,-104.24468,-104.24468,-106.242646,-106.242646,-106.242646,-106.033346,-105.203898,-105.203898,-105.203898,-104.372445,-108.674494,-106.775377,-106.775377,-106.775377,-106.775377,-106.775377,-106.775377,-106.775377,-106.775377,-106.775377,-106.775377,-106.775377,-106.775377,-106.775377,-106.775377,-106.407127,-106.761485,-106.725506,-106.725506,-106.699613,-106.733988,-106.733988,-106.733988,-106.733988,-106.733988,-106.733988,-106.733988,-106.733988,-106.733988,-106.733988,-106.733988,-106.733988,-106.733988,-106.733988,-103.315401,-106.690214,-106.690214,-106.697722,-106.697722,-106.697722,-106.697722,-104.783036,-106.051156,-106.051156,-107.583167,-107.583167,-107.582318,-107.582318,-106.693036,-106.693036,-104.682646,-104.682646,-104.682646,-107.831043,-107.831043,-107.196421,105.0324,105.0324,105.0324,105.0324,105.0324,105.0324,105.0324,105.0324,105.0324,105.0324,105.0324,105.0324,105.0324,105.0324,105.0324,105.0324,105.0324,105.0324,105.0324,105.0324,105.0324,-106.047593,-106.047593,-106.047593,-106.047593,-106.047593,-106.047593,-106.670934,-105.66755,-105.66755,-105.66755,-105.66755,-105.66755,-106.612516,-107.385532,-107.385532,-106.448126,-106.543784,-106.195687,-106.190312,-106.190312,-106.190312,-106.190312,-106.190312,-106.190312,-106.190312,-106.190312,-106.190312,-106.190312,-106.190312,-108.845846,-108.845846,-106.640464,-106.780353,-106.780353,-103.58572,-106.371174,-106.371174,-106.371174,-106.371174,-106.371174,-106.371174,-106.371174,-106.371174,-106.371174,-106.371174,-106.371174,-106.631867,-106.631867,-106.631867,-106.631867,-106.631867,-106.631867,-106.631867,-106.631867,-106.631867,-106.631867,-106.631867,-106.631867,-106.631867,-106.631867,-106.631867,-106.631867,-106.631867,-106.631867,-106.631867,-106.631867,-106.631867,-106.631867,-106.631867,-106.631867,-106.631867,-106.631867,-106.631867,-106.631867,-106.631867,-106.631867,-106.631867,-106.631867,-106.631867,-106.631867,-106.631867,-106.631867,-106.631867,-106.631867,-106.631867,-106.631867,-106.631867,-106.631867,-106.631867,-106.631867,-106.631867,-106.631867,-106.631867,-106.631867,-106.631867,-106.631867,-106.631867,-106.631867,-106.631867,-106.631867,-106.631867,-106.631867,-106.631867,-106.631867,-106.631867,-106.631867,-106.631867,-106.631867,-106.631867,-106.631867,-106.631867,-106.631867,-106.631867,-106.631867,-106.631867,-106.631867,-106.631867,-106.631867,-106.631867,-106.631867,-106.631867,-106.631867,-106.631867,-106.631867,-106.631867,-106.631867,-106.631867,-106.631867,-106.631867,-106.631867,-106.631867,-106.631867,-106.631867,-106.631867,-106.631867,-106.631867,-106.631867,-106.631867,-106.631867,-106.631867,-106.631867,-106.631867,-106.631867,-106.631867,-106.631867,-106.631867,-106.631867,-106.631867,-106.631867,-106.631867,-106.631867,-106.631867,-106.631867,-106.631867,-106.631867,-106.631867,-106.631867,-106.631867,-106.631867,-106.631867,-106.631867,-106.631867,-106.631867,-106.631867,-106.631867,-106.631867,-106.631867,-106.631867,-106.631867,-106.631867,-106.631867,-106.631867,-106.631867,-106.631867,-106.631867,-106.631867,-106.631867,-106.631867,-106.631867,-106.631867,-106.631867,-106.631867,-106.631867,-106.631867,-106.631867,-106.631867,-106.631867,-106.631867,-106.631867,-106.631867,-106.631867,-106.631867,-106.631867,-106.631867,-106.631867,-106.631867,-106.631867,-106.631867,-106.631867,-106.631867,-106.631867,-106.631867,-106.631867,-106.631867,-106.631867,-106.631867,-106.631867,-106.631867,-106.631867,-106.631867,-106.631867,-106.631867,-106.631867,-106.631867,-106.631867,-106.631867,-106.631867,-106.631867,-106.631867,-106.631867,-106.631867,-106.631867,-106.631867,-106.631867,-106.631867,-106.631867,-106.631867,-106.631867,-106.631867,-106.631867,-106.631867,-106.631867,-106.631867,-106.631867,-106.631867,-106.631867,-106.631867,-106.631867,-106.631867,-106.631867,-106.631867,-106.631867,-106.631867,-106.631867,-106.631867,-106.631867,-106.631867,-106.631867,-106.631867,-106.631867,-106.631867,-106.631867,-106.631867,-106.631867,-106.631867,-106.631867,-106.631867,-106.631867,-106.631867,-106.631867,-106.631867,-106.631867,-106.631867,-106.631867,-106.631867,-106.631867,-106.631867,-106.631867,-106.631867,-106.631867,-106.631867,-106.631867,-106.631867,-106.631867,-106.631867,-106.631867,-106.631867,-106.631867,-106.631867,-106.631867,-106.631867,-106.631867,-106.631867,-106.631867,-106.631867,-106.631867,-106.631867,-106.631867,-106.631867,-106.631867,-106.631867,-106.631867,-106.631867,-106.631867,-106.631867,-106.631867,-106.631867,-106.631867,-106.631867,-106.631867,-106.631867,-106.631867,-106.631867,-106.631867,-106.631867,-106.631867,-106.631867,-106.631867,-106.631867,-106.631867,-106.631867,-106.631867,-106.631867,-106.631867,-106.631867,-106.631867,-106.631867,-106.631867,-106.631867,-106.631867,-106.631867,-106.631867,-106.631867,-106.631867,-106.631867,-106.631867,-106.631867,-106.631867,-106.631867,-106.631867,-106.631867,-106.631867,-106.631867,-106.631867,-106.631867,-106.631867,-106.631867,-106.631867,-106.631867,-106.631867,-106.631867,-106.631867,-106.631867,-106.631867,-106.631867,-106.631867,-106.631867,-106.631867,-106.631867,-106.631867,-106.631867,-106.631867,-106.631867,-106.631867,-106.631867,-106.631867,-106.631867,-106.631867,-106.631867,-106.631867,-106.631867,-106.631867,-106.631867,-106.631867,-106.631867,-106.631867,-106.631867,-106.631867,-106.631867,-106.631867,-106.631867,-106.631867,-106.631867,-106.631867,-106.631867,-106.631867,-106.631867,-106.631867,-106.631867,-106.631867,-106.631867,-106.631867,-106.631867,-106.631867,-106.631867,-106.631867,-106.631867,-106.631867,-106.631867,-106.631867,-106.631867,-106.631867,-106.631867,-106.631867,-106.631867,-106.631867,-106.631867,-106.631867,-106.631867,-106.631867,-106.631867,-106.631867,-106.631867,-106.631867,-106.631867,-106.631867,-106.631867,-106.631867,-106.631867,-106.631867,-106.631867,-106.631867,-106.631867,-106.631867,-106.631867,-106.631867,-106.631867,-106.631867,-106.631867,-106.631867,-106.631867,-106.631867,-106.631867,-106.631867,-106.631867,-106.631867,-106.631867,-106.631867,-106.631867,-106.631867,-106.631867,-106.631867,-106.631867,-106.631867,-106.631867,-106.631867,-106.631867,-106.631867,-106.631867,-106.631867,-106.631867,-106.631867,-106.631867,-106.631867,-106.631867,-106.631867,-106.631867,-106.631867,-106.631867,-106.631867,-106.631867,-106.631867,-106.631867,-106.631867,-106.631867,-106.631867,-106.631867,-106.631867,-106.631867,-106.631867,-106.631867,-106.375249,-106.375249,-107.883054,-107.883054,-107.377689,-107.828215,-105.978858,-105.978858,-105.978858,-105.978858,-107.834548,-107.834548,-107.834548,-107.834548,-107.834548,-107.834548,-107.834548,-107.834548,-107.834548,-106.366508,-106.366508,-106.366508,-107.894147,-103.725902,-103.725902,-103.725902,-103.725902,-103.725902,-103.725902,-103.725902,-106.662789,-106.662789,-106.662789,-106.662789,-106.662789,-106.662789,-106.662789,-106.662789,-106.662789,-106.662789,-106.662789,-106.662789,-106.662789,-106.662789,-106.662789,-106.662789,-106.662789,-106.662789,-106.662789,-106.662789,-106.662789,-106.662789,-106.662789,-106.662789,-106.662789,-106.662789,-106.662789,-106.662789,-106.662789,-106.662789,-106.662789,-106.662789,-106.662789,-106.662789,-106.662789,-106.662789,-106.662789,-106.662789,-106.662789,-106.662789,-106.662789,-106.662789,-106.662789,-106.662789,-106.662789,-106.662789,-106.662789,-106.662789,-106.662789,-106.662789,-106.662789,-106.662789,-106.662789,-106.662789,-106.605927,-106.605927,-106.605927,-106.605927,-106.605927,-106.605927,-106.605927,-106.666861,-106.188075,-107.981242,-107.981242,-107.981242,-107.981242,-105.337757,-105.337757,-106.424425,-106.424425,-106.424425,-106.424425,-106.424425,-106.424425,-106.424425,-106.424425,-106.424425,-106.424425,-106.424425,-106.550269,-106.550269,-106.550269,-106.550269,-106.550269,-106.550269,-106.550269,-106.476007,-106.476007,-104.190143,-105.494106,-105.558262,-108.312536,-108.312536,-106.126759,-106.126759,-106.126759,-106.126759,-106.1502,-104.527775,-105.880072,-105.880072,-105.674793,-106.712568,-106.367495,-108.733438,-108.733438,-108.733438,-108.733438,-108.733438,-108.733438,-108.733438,-108.733438,-108.733438,-108.733438,-108.733438,-108.733438,-108.733438,-108.733438,-108.733438,-106.769845,-106.769845,-105.676048,-105.676048,-105.676048,-105.676048,-105.676048,-105.676048,-108.32513,-105.769,-105.769,-105.224193,-105.224193,-105.224193,-105.224193,-105.224193,-105.224193,-105.224193,-105.224193,-105.224193,-105.224193,-105.224193,-106.346831,-108.82941,-108.779834,-106.337506,-106.411087,-108.150789,-105.938613,-105.938613,-105.938613,-105.938613,-105.938613,-105.938613,-105.938613,-105.938613,-105.938613,-105.938613,-105.938613,-105.938613,-105.938613,-105.938613,-105.938613,-105.938613,-105.938613,-105.938613,-105.938613,-105.938613,-105.938613,-105.938613,-105.938613,-105.938613,-105.938613,-105.938613,-105.938613,-105.938613,-105.938613,-105.938613,-105.938613,-105.938613,-105.938613,-105.938613,-105.938613,-105.938613,-105.938613,-105.938613,-105.938613,-105.938613,-105.938613,-105.938613,-105.938613,-105.938613,-105.938613,-105.938613,-105.938613,-105.938613,-105.938613,-105.938613,-105.938613,-105.938613,-105.938613,-105.938613,-105.938613,-105.938613,-105.938613,-105.938613,-105.938613,-105.938613,-105.938613,-105.938613,-105.938613,-105.938613,-105.938613,-105.938613,-105.938613,-105.938613,-105.938613,-105.938613,-105.938613,-105.938613,-105.938613,-105.938613,-105.938613,-105.938613,-105.938613,-105.938613,-105.938613,-105.938613,-105.938613,-105.938613,-105.938613,-105.938613,-105.938613,-105.938613,-105.938613,-105.938613,-105.938613,-105.938613,-105.938613,-105.938613,-105.938613,-105.938613,-105.938613,-105.938613,-105.938613,-105.938613,-105.938613,-105.938613,-105.938613,-105.938613,-105.938613,-105.938613,-105.938613,-105.938613,-105.938613,-105.938613,-105.938613,-105.938613,-105.938613,-105.938613,-105.938613,-105.938613,-105.938613,-105.938613,-105.938613,-105.938613,-105.938613,-105.938613,-105.938613,-105.938613,-105.938613,-105.938613,-105.938613,-105.938613,-105.938613,-105.938613,-105.938613,-105.938613,-105.938613,-105.938613,-105.938613,-105.938613,-105.938613,-105.938613,-105.938613,-105.938613,-105.938613,-105.938613,-105.938613,-105.938613,-105.938613,-105.938613,-105.938613,-105.938613,-105.938613,-105.938613,-105.938613,-105.938613,-105.938613,-105.938613,-105.938613,-105.938613,-105.938613,-105.938613,-105.938613,-105.931901,-105.931901,-106.690388,-106.693591,-106.693591,-106.693591,-106.693591,-106.693591,-106.205271,-105.91549,-108.761708,-106.300662,-106.300662,-106.300662,-106.300662,-106.300662,-106.300662,-106.300662,-106.300662,-106.300662,-106.300662,-106.300662,-106.300662,-106.300662,-106.300662,-106.300662,-106.005007,-109.031541,-109.031541,-104.194443,-106.071439,-105.330412,-106.079739,-106.079739,-106.079739,-106.079739,-106.079739,-106.079739,-106.079739,-106.079739,-106.079739,-106.079739,-105.371202,-105.371202,-106.958032,-106.958032,-106.958032,-106.958032,-105.812729,-108.964589,-108.964589,-106.069898,-106.069898,-107.966758,-107.966758,-107.966758,-107.966758,-107.966758,-107.961732,-107.967992,-106.119272,-108.680548,-106.103902,-106.055088,-106.055088,-105.726769,-105.967282,-105.048823,-106.183063,-106.183063,-106.217131,-106.559295,-105.889118,-106.31874,-106.31874,-106.31874,-106.31874,-106.31874,-106.31874,-104.649607,-107.572401,-107.744292,-107.744292,-107.744292,-107.744292,-108.124959,-106.044713,-106.044713,-106.044713,-103.971638,-106.472842,-106.184527,-106.184527,-106.184527,-105.608587,-105.608587,-105.608587,-105.608587,-105.608587,-104.595079,-104.595079,-105.285453,-107.834965,-107.834965,-105.573264,-105.573264,-105.573264,-105.573264,-105.573264,-105.573264,-105.573264,-105.573264,-105.573264,-105.573264,-105.573264,-105.573264,-105.573264,-105.573264,-105.573264,-105.573264,-105.573264,-105.573264,-105.573264,-105.573264,-105.573264,-105.573264,-105.573264,-105.573264,-105.573264,-105.573264,-105.573264,-105.573264,-105.573264,-105.573264,-105.573264,-105.573264,-105.573264,-105.573264,-105.573264,-105.573264,-105.573264,-105.573264,-105.573264,-103.182366,-103.182366,-103.182366,-103.182366,-103.182366,-103.182366,-106.115998,-104.915516,-105.569188,-105.569188,-103.488894,-105.618559,-105.262018,-105.113839,-105.044871,-106.718704,-103.663987,-106.733127,-105.967082,-106.690881,-106.690881,-106.551701,-105.406142,-105.406142,-105.591596,-105.591596,-107.980604,-107.980604,-107.980604,-108.357359,-108.357359,-108.357359,-108.357359,-103.992974,-103.992974,-108.411491,-108.19233,-108.19233,-108.19233,-108.19233,-108.19233,-108.19233,-108.19233,-108.19233,-108.19233,-108.19233,-108.19233,-108.19233,-108.19233,-108.19233,-108.19233,-108.19233,-108.19233,-108.19233,-108.19233,-108.19233,-108.19233,-108.19233,-108.19233,-108.19233,-108.19233,-108.19233,-108.19233,-108.19233,-108.19233,-108.19233,-108.19233,-108.19233,-108.191396,-108.494221,-108.494221,-108.686807,-108.686807,-108.686807,-108.686807,-108.080118,-108.080118,-107.611756,-107.611756,-107.99355,-107.99355,-107.99355,-107.99355,-107.99355,-107.99355,-107.99355,-107.99355,-107.99355,-107.99355,-103.916704,-106.578872,-104.438086,-104.438086,-104.438086,-104.438086,-104.438086,-104.438086,-104.438086,-104.438086,-104.438086,-106.999919,-106.999919,-106.999919,-109.035981,-105.572189,105.0324,105.0324,105.0324,105.0324,105.0324,105.0324,105.0324,105.0324,105.0324,105.0324,105.0324,105.0324,105.0324,105.0324,105.0324,105.0324,105.0324,105.0324,105.0324,105.0324,105.0324,105.0324,105.0324,105.0324,105.0324,105.0324,105.0324,105.0324,105.0324,105.0324,105.0324,105.0324,105.0324,105.0324,105.0324,105.0324],\"marker\":{\"color\":\"#636efa\"},\"mode\":\"markers\",\"name\":\"\",\"showlegend\":false,\"subplot\":\"mapbox\",\"type\":\"scattermapbox\"}],                        {\"template\":{\"data\":{\"histogram2dcontour\":[{\"type\":\"histogram2dcontour\",\"colorbar\":{\"outlinewidth\":0,\"ticks\":\"\"},\"colorscale\":[[0.0,\"#0d0887\"],[0.1111111111111111,\"#46039f\"],[0.2222222222222222,\"#7201a8\"],[0.3333333333333333,\"#9c179e\"],[0.4444444444444444,\"#bd3786\"],[0.5555555555555556,\"#d8576b\"],[0.6666666666666666,\"#ed7953\"],[0.7777777777777778,\"#fb9f3a\"],[0.8888888888888888,\"#fdca26\"],[1.0,\"#f0f921\"]]}],\"choropleth\":[{\"type\":\"choropleth\",\"colorbar\":{\"outlinewidth\":0,\"ticks\":\"\"}}],\"histogram2d\":[{\"type\":\"histogram2d\",\"colorbar\":{\"outlinewidth\":0,\"ticks\":\"\"},\"colorscale\":[[0.0,\"#0d0887\"],[0.1111111111111111,\"#46039f\"],[0.2222222222222222,\"#7201a8\"],[0.3333333333333333,\"#9c179e\"],[0.4444444444444444,\"#bd3786\"],[0.5555555555555556,\"#d8576b\"],[0.6666666666666666,\"#ed7953\"],[0.7777777777777778,\"#fb9f3a\"],[0.8888888888888888,\"#fdca26\"],[1.0,\"#f0f921\"]]}],\"heatmap\":[{\"type\":\"heatmap\",\"colorbar\":{\"outlinewidth\":0,\"ticks\":\"\"},\"colorscale\":[[0.0,\"#0d0887\"],[0.1111111111111111,\"#46039f\"],[0.2222222222222222,\"#7201a8\"],[0.3333333333333333,\"#9c179e\"],[0.4444444444444444,\"#bd3786\"],[0.5555555555555556,\"#d8576b\"],[0.6666666666666666,\"#ed7953\"],[0.7777777777777778,\"#fb9f3a\"],[0.8888888888888888,\"#fdca26\"],[1.0,\"#f0f921\"]]}],\"heatmapgl\":[{\"type\":\"heatmapgl\",\"colorbar\":{\"outlinewidth\":0,\"ticks\":\"\"},\"colorscale\":[[0.0,\"#0d0887\"],[0.1111111111111111,\"#46039f\"],[0.2222222222222222,\"#7201a8\"],[0.3333333333333333,\"#9c179e\"],[0.4444444444444444,\"#bd3786\"],[0.5555555555555556,\"#d8576b\"],[0.6666666666666666,\"#ed7953\"],[0.7777777777777778,\"#fb9f3a\"],[0.8888888888888888,\"#fdca26\"],[1.0,\"#f0f921\"]]}],\"contourcarpet\":[{\"type\":\"contourcarpet\",\"colorbar\":{\"outlinewidth\":0,\"ticks\":\"\"}}],\"contour\":[{\"type\":\"contour\",\"colorbar\":{\"outlinewidth\":0,\"ticks\":\"\"},\"colorscale\":[[0.0,\"#0d0887\"],[0.1111111111111111,\"#46039f\"],[0.2222222222222222,\"#7201a8\"],[0.3333333333333333,\"#9c179e\"],[0.4444444444444444,\"#bd3786\"],[0.5555555555555556,\"#d8576b\"],[0.6666666666666666,\"#ed7953\"],[0.7777777777777778,\"#fb9f3a\"],[0.8888888888888888,\"#fdca26\"],[1.0,\"#f0f921\"]]}],\"surface\":[{\"type\":\"surface\",\"colorbar\":{\"outlinewidth\":0,\"ticks\":\"\"},\"colorscale\":[[0.0,\"#0d0887\"],[0.1111111111111111,\"#46039f\"],[0.2222222222222222,\"#7201a8\"],[0.3333333333333333,\"#9c179e\"],[0.4444444444444444,\"#bd3786\"],[0.5555555555555556,\"#d8576b\"],[0.6666666666666666,\"#ed7953\"],[0.7777777777777778,\"#fb9f3a\"],[0.8888888888888888,\"#fdca26\"],[1.0,\"#f0f921\"]]}],\"mesh3d\":[{\"type\":\"mesh3d\",\"colorbar\":{\"outlinewidth\":0,\"ticks\":\"\"}}],\"scatter\":[{\"fillpattern\":{\"fillmode\":\"overlay\",\"size\":10,\"solidity\":0.2},\"type\":\"scatter\"}],\"parcoords\":[{\"type\":\"parcoords\",\"line\":{\"colorbar\":{\"outlinewidth\":0,\"ticks\":\"\"}}}],\"scatterpolargl\":[{\"type\":\"scatterpolargl\",\"marker\":{\"colorbar\":{\"outlinewidth\":0,\"ticks\":\"\"}}}],\"bar\":[{\"error_x\":{\"color\":\"#2a3f5f\"},\"error_y\":{\"color\":\"#2a3f5f\"},\"marker\":{\"line\":{\"color\":\"#E5ECF6\",\"width\":0.5},\"pattern\":{\"fillmode\":\"overlay\",\"size\":10,\"solidity\":0.2}},\"type\":\"bar\"}],\"scattergeo\":[{\"type\":\"scattergeo\",\"marker\":{\"colorbar\":{\"outlinewidth\":0,\"ticks\":\"\"}}}],\"scatterpolar\":[{\"type\":\"scatterpolar\",\"marker\":{\"colorbar\":{\"outlinewidth\":0,\"ticks\":\"\"}}}],\"histogram\":[{\"marker\":{\"pattern\":{\"fillmode\":\"overlay\",\"size\":10,\"solidity\":0.2}},\"type\":\"histogram\"}],\"scattergl\":[{\"type\":\"scattergl\",\"marker\":{\"colorbar\":{\"outlinewidth\":0,\"ticks\":\"\"}}}],\"scatter3d\":[{\"type\":\"scatter3d\",\"line\":{\"colorbar\":{\"outlinewidth\":0,\"ticks\":\"\"}},\"marker\":{\"colorbar\":{\"outlinewidth\":0,\"ticks\":\"\"}}}],\"scattermapbox\":[{\"type\":\"scattermapbox\",\"marker\":{\"colorbar\":{\"outlinewidth\":0,\"ticks\":\"\"}}}],\"scatterternary\":[{\"type\":\"scatterternary\",\"marker\":{\"colorbar\":{\"outlinewidth\":0,\"ticks\":\"\"}}}],\"scattercarpet\":[{\"type\":\"scattercarpet\",\"marker\":{\"colorbar\":{\"outlinewidth\":0,\"ticks\":\"\"}}}],\"carpet\":[{\"aaxis\":{\"endlinecolor\":\"#2a3f5f\",\"gridcolor\":\"white\",\"linecolor\":\"white\",\"minorgridcolor\":\"white\",\"startlinecolor\":\"#2a3f5f\"},\"baxis\":{\"endlinecolor\":\"#2a3f5f\",\"gridcolor\":\"white\",\"linecolor\":\"white\",\"minorgridcolor\":\"white\",\"startlinecolor\":\"#2a3f5f\"},\"type\":\"carpet\"}],\"table\":[{\"cells\":{\"fill\":{\"color\":\"#EBF0F8\"},\"line\":{\"color\":\"white\"}},\"header\":{\"fill\":{\"color\":\"#C8D4E3\"},\"line\":{\"color\":\"white\"}},\"type\":\"table\"}],\"barpolar\":[{\"marker\":{\"line\":{\"color\":\"#E5ECF6\",\"width\":0.5},\"pattern\":{\"fillmode\":\"overlay\",\"size\":10,\"solidity\":0.2}},\"type\":\"barpolar\"}],\"pie\":[{\"automargin\":true,\"type\":\"pie\"}]},\"layout\":{\"autotypenumbers\":\"strict\",\"colorway\":[\"#636efa\",\"#EF553B\",\"#00cc96\",\"#ab63fa\",\"#FFA15A\",\"#19d3f3\",\"#FF6692\",\"#B6E880\",\"#FF97FF\",\"#FECB52\"],\"font\":{\"color\":\"#2a3f5f\"},\"hovermode\":\"closest\",\"hoverlabel\":{\"align\":\"left\"},\"paper_bgcolor\":\"white\",\"plot_bgcolor\":\"#E5ECF6\",\"polar\":{\"bgcolor\":\"#E5ECF6\",\"angularaxis\":{\"gridcolor\":\"white\",\"linecolor\":\"white\",\"ticks\":\"\"},\"radialaxis\":{\"gridcolor\":\"white\",\"linecolor\":\"white\",\"ticks\":\"\"}},\"ternary\":{\"bgcolor\":\"#E5ECF6\",\"aaxis\":{\"gridcolor\":\"white\",\"linecolor\":\"white\",\"ticks\":\"\"},\"baxis\":{\"gridcolor\":\"white\",\"linecolor\":\"white\",\"ticks\":\"\"},\"caxis\":{\"gridcolor\":\"white\",\"linecolor\":\"white\",\"ticks\":\"\"}},\"coloraxis\":{\"colorbar\":{\"outlinewidth\":0,\"ticks\":\"\"}},\"colorscale\":{\"sequential\":[[0.0,\"#0d0887\"],[0.1111111111111111,\"#46039f\"],[0.2222222222222222,\"#7201a8\"],[0.3333333333333333,\"#9c179e\"],[0.4444444444444444,\"#bd3786\"],[0.5555555555555556,\"#d8576b\"],[0.6666666666666666,\"#ed7953\"],[0.7777777777777778,\"#fb9f3a\"],[0.8888888888888888,\"#fdca26\"],[1.0,\"#f0f921\"]],\"sequentialminus\":[[0.0,\"#0d0887\"],[0.1111111111111111,\"#46039f\"],[0.2222222222222222,\"#7201a8\"],[0.3333333333333333,\"#9c179e\"],[0.4444444444444444,\"#bd3786\"],[0.5555555555555556,\"#d8576b\"],[0.6666666666666666,\"#ed7953\"],[0.7777777777777778,\"#fb9f3a\"],[0.8888888888888888,\"#fdca26\"],[1.0,\"#f0f921\"]],\"diverging\":[[0,\"#8e0152\"],[0.1,\"#c51b7d\"],[0.2,\"#de77ae\"],[0.3,\"#f1b6da\"],[0.4,\"#fde0ef\"],[0.5,\"#f7f7f7\"],[0.6,\"#e6f5d0\"],[0.7,\"#b8e186\"],[0.8,\"#7fbc41\"],[0.9,\"#4d9221\"],[1,\"#276419\"]]},\"xaxis\":{\"gridcolor\":\"white\",\"linecolor\":\"white\",\"ticks\":\"\",\"title\":{\"standoff\":15},\"zerolinecolor\":\"white\",\"automargin\":true,\"zerolinewidth\":2},\"yaxis\":{\"gridcolor\":\"white\",\"linecolor\":\"white\",\"ticks\":\"\",\"title\":{\"standoff\":15},\"zerolinecolor\":\"white\",\"automargin\":true,\"zerolinewidth\":2},\"scene\":{\"xaxis\":{\"backgroundcolor\":\"#E5ECF6\",\"gridcolor\":\"white\",\"linecolor\":\"white\",\"showbackground\":true,\"ticks\":\"\",\"zerolinecolor\":\"white\",\"gridwidth\":2},\"yaxis\":{\"backgroundcolor\":\"#E5ECF6\",\"gridcolor\":\"white\",\"linecolor\":\"white\",\"showbackground\":true,\"ticks\":\"\",\"zerolinecolor\":\"white\",\"gridwidth\":2},\"zaxis\":{\"backgroundcolor\":\"#E5ECF6\",\"gridcolor\":\"white\",\"linecolor\":\"white\",\"showbackground\":true,\"ticks\":\"\",\"zerolinecolor\":\"white\",\"gridwidth\":2}},\"shapedefaults\":{\"line\":{\"color\":\"#2a3f5f\"}},\"annotationdefaults\":{\"arrowcolor\":\"#2a3f5f\",\"arrowhead\":0,\"arrowwidth\":1},\"geo\":{\"bgcolor\":\"white\",\"landcolor\":\"#E5ECF6\",\"subunitcolor\":\"white\",\"showland\":true,\"showlakes\":true,\"lakecolor\":\"white\"},\"title\":{\"x\":0.05},\"mapbox\":{\"style\":\"light\"}}},\"mapbox\":{\"domain\":{\"x\":[0.0,1.0],\"y\":[0.0,1.0]},\"center\":{\"lat\":34.5199,\"lon\":-105.8701},\"zoom\":5,\"style\":\"open-street-map\"},\"legend\":{\"tracegroupgap\":0},\"margin\":{\"t\":60},\"geo\":{\"visible\":false,\"resolution\":50,\"scope\":\"usa\",\"showcountries\":true,\"countrycolor\":\"Black\",\"showsubunits\":true,\"subunitcolor\":\"Red\"}},                        {\"responsive\": true}                    ).then(function(){\n",
              "                            \n",
              "var gd = document.getElementById('a4cd7235-5f12-4cca-8374-a6ffe2183a3d');\n",
              "var x = new MutationObserver(function (mutations, observer) {{\n",
              "        var display = window.getComputedStyle(gd).display;\n",
              "        if (!display || display === 'none') {{\n",
              "            console.log([gd, 'removed!']);\n",
              "            Plotly.purge(gd);\n",
              "            observer.disconnect();\n",
              "        }}\n",
              "}});\n",
              "\n",
              "// Listen for the removal of the full notebook cells\n",
              "var notebookContainer = gd.closest('#notebook-container');\n",
              "if (notebookContainer) {{\n",
              "    x.observe(notebookContainer, {childList: true});\n",
              "}}\n",
              "\n",
              "// Listen for the clearing of the current output cell\n",
              "var outputEl = gd.closest('.output');\n",
              "if (outputEl) {{\n",
              "    x.observe(outputEl, {childList: true});\n",
              "}}\n",
              "\n",
              "                        })                };                            </script>        </div>\n",
              "</body>\n",
              "</html>"
            ]
          },
          "metadata": {}
        }
      ]
    },
    {
      "cell_type": "markdown",
      "source": [
        "### Heat Map of Sightings"
      ],
      "metadata": {
        "id": "eZCp9oDSYLp1"
      }
    },
    {
      "cell_type": "markdown",
      "source": [
        "In the code cells below I use geopandas to create a heat map of my latitude and longitude sightings. First I create a geo dataframe, then using that geo dataframe I plot it on a heatmap."
      ],
      "metadata": {
        "id": "9ohQc2Y3rrUX"
      }
    },
    {
      "cell_type": "code",
      "source": [
        "NM_UFO_gdf = gpd.GeoDataFrame(NM_UFO_DF_CLEAN,\n",
        "                             geometry=gpd.points_from_xy(NM_UFO_DF_CLEAN.Longitude,\n",
        "                                                        NM_UFO_DF_CLEAN.Latitude))"
      ],
      "metadata": {
        "id": "ECZ8TdnQYNTI"
      },
      "execution_count": 17,
      "outputs": []
    },
    {
      "cell_type": "code",
      "source": [
        "\n",
        "m = folium.Map(location=[34.5199, -105.8701], zoom_start=6)  # Centered on NM\n",
        "\n",
        "# Drop rows with NaN values in 'Latitude' or 'Longitude' before creating the heatmap\n",
        "NM_UFO_gdf_clean = NM_UFO_gdf.dropna(subset=['Latitude', 'Longitude'])\n",
        "\n",
        "\n",
        "HeatMap(data=NM_UFO_gdf_clean[['Latitude', 'Longitude']].values,\n",
        "        radius=10, blur=15).add_to(m)\n",
        "\n",
        "\n",
        "m"
      ],
      "metadata": {
        "id": "0mtJ43c6vpcL",
        "outputId": "0011eaf7-4659-47b7-bd5d-01f24a9e5034",
        "colab": {
          "base_uri": "https://localhost:8080/",
          "height": 582
        }
      },
      "execution_count": 18,
      "outputs": [
        {
          "output_type": "execute_result",
          "data": {
            "text/plain": [
              "<folium.folium.Map at 0x7a2d3844f910>"
            ],
            "text/html": [
              "<div style=\"width:100%;\"><div style=\"position:relative;width:100%;height:0;padding-bottom:60%;\"><span style=\"color:#565656\">Make this Notebook Trusted to load map: File -> Trust Notebook</span><iframe srcdoc=\"&lt;!DOCTYPE html&gt;\n",
              "&lt;html&gt;\n",
              "&lt;head&gt;\n",
              "    \n",
              "    &lt;meta http-equiv=&quot;content-type&quot; content=&quot;text/html; charset=UTF-8&quot; /&gt;\n",
              "    \n",
              "        &lt;script&gt;\n",
              "            L_NO_TOUCH = false;\n",
              "            L_DISABLE_3D = false;\n",
              "        &lt;/script&gt;\n",
              "    \n",
              "    &lt;style&gt;html, body {width: 100%;height: 100%;margin: 0;padding: 0;}&lt;/style&gt;\n",
              "    &lt;style&gt;#map {position:absolute;top:0;bottom:0;right:0;left:0;}&lt;/style&gt;\n",
              "    &lt;script src=&quot;https://cdn.jsdelivr.net/npm/leaflet@1.9.3/dist/leaflet.js&quot;&gt;&lt;/script&gt;\n",
              "    &lt;script src=&quot;https://code.jquery.com/jquery-3.7.1.min.js&quot;&gt;&lt;/script&gt;\n",
              "    &lt;script src=&quot;https://cdn.jsdelivr.net/npm/bootstrap@5.2.2/dist/js/bootstrap.bundle.min.js&quot;&gt;&lt;/script&gt;\n",
              "    &lt;script src=&quot;https://cdnjs.cloudflare.com/ajax/libs/Leaflet.awesome-markers/2.0.2/leaflet.awesome-markers.js&quot;&gt;&lt;/script&gt;\n",
              "    &lt;link rel=&quot;stylesheet&quot; href=&quot;https://cdn.jsdelivr.net/npm/leaflet@1.9.3/dist/leaflet.css&quot;/&gt;\n",
              "    &lt;link rel=&quot;stylesheet&quot; href=&quot;https://cdn.jsdelivr.net/npm/bootstrap@5.2.2/dist/css/bootstrap.min.css&quot;/&gt;\n",
              "    &lt;link rel=&quot;stylesheet&quot; href=&quot;https://netdna.bootstrapcdn.com/bootstrap/3.0.0/css/bootstrap-glyphicons.css&quot;/&gt;\n",
              "    &lt;link rel=&quot;stylesheet&quot; href=&quot;https://cdn.jsdelivr.net/npm/@fortawesome/fontawesome-free@6.2.0/css/all.min.css&quot;/&gt;\n",
              "    &lt;link rel=&quot;stylesheet&quot; href=&quot;https://cdnjs.cloudflare.com/ajax/libs/Leaflet.awesome-markers/2.0.2/leaflet.awesome-markers.css&quot;/&gt;\n",
              "    &lt;link rel=&quot;stylesheet&quot; href=&quot;https://cdn.jsdelivr.net/gh/python-visualization/folium/folium/templates/leaflet.awesome.rotate.min.css&quot;/&gt;\n",
              "    \n",
              "            &lt;meta name=&quot;viewport&quot; content=&quot;width=device-width,\n",
              "                initial-scale=1.0, maximum-scale=1.0, user-scalable=no&quot; /&gt;\n",
              "            &lt;style&gt;\n",
              "                #map_5d50718a883b55b048930cf7874b4e56 {\n",
              "                    position: relative;\n",
              "                    width: 100.0%;\n",
              "                    height: 100.0%;\n",
              "                    left: 0.0%;\n",
              "                    top: 0.0%;\n",
              "                }\n",
              "                .leaflet-container { font-size: 1rem; }\n",
              "            &lt;/style&gt;\n",
              "        \n",
              "    &lt;script src=&quot;https://cdn.jsdelivr.net/gh/python-visualization/folium@main/folium/templates/leaflet_heat.min.js&quot;&gt;&lt;/script&gt;\n",
              "&lt;/head&gt;\n",
              "&lt;body&gt;\n",
              "    \n",
              "    \n",
              "            &lt;div class=&quot;folium-map&quot; id=&quot;map_5d50718a883b55b048930cf7874b4e56&quot; &gt;&lt;/div&gt;\n",
              "        \n",
              "&lt;/body&gt;\n",
              "&lt;script&gt;\n",
              "    \n",
              "    \n",
              "            var map_5d50718a883b55b048930cf7874b4e56 = L.map(\n",
              "                &quot;map_5d50718a883b55b048930cf7874b4e56&quot;,\n",
              "                {\n",
              "                    center: [34.5199, -105.8701],\n",
              "                    crs: L.CRS.EPSG3857,\n",
              "                    zoom: 6,\n",
              "                    zoomControl: true,\n",
              "                    preferCanvas: false,\n",
              "                }\n",
              "            );\n",
              "\n",
              "            \n",
              "\n",
              "        \n",
              "    \n",
              "            var tile_layer_aa5dce52c8ea5bad4acdead385e809d2 = L.tileLayer(\n",
              "                &quot;https://tile.openstreetmap.org/{z}/{x}/{y}.png&quot;,\n",
              "                {&quot;attribution&quot;: &quot;\\u0026copy; \\u003ca href=\\&quot;https://www.openstreetmap.org/copyright\\&quot;\\u003eOpenStreetMap\\u003c/a\\u003e contributors&quot;, &quot;detectRetina&quot;: false, &quot;maxNativeZoom&quot;: 19, &quot;maxZoom&quot;: 19, &quot;minZoom&quot;: 0, &quot;noWrap&quot;: false, &quot;opacity&quot;: 1, &quot;subdomains&quot;: &quot;abc&quot;, &quot;tms&quot;: false}\n",
              "            );\n",
              "        \n",
              "    \n",
              "            tile_layer_aa5dce52c8ea5bad4acdead385e809d2.addTo(map_5d50718a883b55b048930cf7874b4e56);\n",
              "        \n",
              "    \n",
              "            var heat_map_4d5f14b2fd90047f2013f2b28c938d15 = L.heatLayer(\n",
              "                [[31.415807, -108.915531], [31.427695, -108.791149], [31.827448, -107.638108], [31.827448, -107.638108], [31.835878, -109.030477], [31.835878, -109.030477], [31.851827, -106.640427], [31.985619, -106.603502], [31.985619, -106.603502], [32.012244, -106.603248], [32.012244, -106.603248], [32.077566, -106.22786], [32.078866, -106.178342], [32.114844, -103.191861], [32.114844, -103.191861], [32.114844, -103.191861], [32.114844, -103.191861], [32.114844, -103.191861], [32.12151, -106.706519], [32.12891, -106.655144], [32.1362, -106.23464], [32.165159, -106.696068], [32.165159, -106.696068], [32.165159, -106.696068], [32.165159, -106.696068], [32.176178, -104.376294], [32.226165, -108.08701], [32.260473, -107.744865], [32.260473, -107.744865], [32.260473, -107.744865], [32.260473, -107.744865], [32.260473, -107.744865], [32.260473, -107.744865], [32.260473, -107.744865], [32.260473, -107.744865], [32.260473, -107.744865], [32.260473, -107.744865], [32.260473, -107.744865], [32.260473, -107.744865], [32.260473, -107.744865], [32.260473, -107.744865], [32.260473, -107.744865], [32.260473, -107.744865], [32.260473, -107.744865], [32.260473, -107.744865], [32.260473, -107.744865], [32.260473, -107.744865], [32.260473, -107.744865], [32.260473, -107.744865], [32.260473, -107.744865], [32.260473, -107.744865], [32.260473, -107.744865], [32.260473, -107.744865], [32.260473, -107.744865], [32.260473, -107.744865], [32.260473, -107.744865], [32.260473, -107.744865], [32.260473, -107.744865], [32.260473, -107.744865], [32.260473, -107.744865], [32.260473, -107.744865], [32.260473, -107.744865], [32.260473, -107.744865], [32.260473, -107.744865], [32.260473, -107.744865], [32.260473, -107.744865], [32.270136, -107.763924], [32.284958, -104.095179], [32.284958, -104.095179], [32.303836, -106.845342], [32.316465, -106.772754], [32.324738, -106.759443], [32.324738, -106.759443], [32.324738, -106.759443], [32.324738, -106.759443], [32.324738, -106.759443], [32.324738, -106.759443], [32.324738, -106.759443], [32.324738, -106.759443], [32.324738, -106.759443], [32.324738, -106.759443], [32.324738, -106.759443], [32.324738, -106.759443], [32.324738, -106.759443], [32.324738, -106.759443], [32.324738, -106.759443], [32.324738, -106.759443], [32.324738, -106.759443], [32.324738, -106.759443], [32.324738, -106.759443], [32.324738, -106.759443], [32.324738, -106.759443], [32.324738, -106.759443], [32.324738, -106.759443], [32.324738, -106.759443], [32.324738, -106.759443], [32.324738, -106.759443], [32.324738, -106.759443], [32.324738, -106.759443], [32.324738, -106.759443], [32.324738, -106.759443], [32.324738, -106.759443], [32.324738, -106.759443], [32.324738, -106.759443], [32.324738, -106.759443], [32.324738, -106.759443], [32.324738, -106.759443], [32.324738, -106.759443], [32.324738, -106.759443], [32.324738, -106.759443], [32.324738, -106.759443], [32.324738, -106.759443], [32.324738, -106.759443], [32.324738, -106.759443], [32.324738, -106.759443], [32.324738, -106.759443], [32.324738, -106.759443], [32.324738, -106.759443], [32.324738, -106.759443], [32.324738, -106.759443], [32.324738, -106.759443], [32.324738, -106.759443], [32.324738, -106.759443], [32.324738, -106.759443], [32.324738, -106.759443], [32.324738, -106.759443], [32.324738, -106.759443], [32.324738, -106.759443], [32.324738, -106.759443], [32.324738, -106.759443], [32.324738, -106.759443], [32.324738, -106.759443], [32.324738, -106.759443], [32.324738, -106.759443], [32.324738, -106.759443], [32.324738, -106.759443], [32.324738, -106.759443], [32.324738, -106.759443], [32.324738, -106.759443], [32.324738, -106.759443], [32.324738, -106.759443], [32.324738, -106.759443], [32.324738, -106.759443], [32.324738, -106.759443], [32.324738, -106.759443], [32.324738, -106.759443], [32.324738, -106.759443], [32.324738, -106.759443], [32.324738, -106.759443], [32.324738, -106.759443], [32.324738, -106.759443], [32.324738, -106.759443], [32.324738, -106.759443], [32.324738, -106.759443], [32.324738, -106.759443], [32.324738, -106.759443], [32.324738, -106.759443], [32.324738, -106.759443], [32.324738, -106.759443], [32.324738, -106.759443], [32.324738, -106.759443], [32.324738, -106.759443], [32.324738, -106.759443], [32.348523, -108.707488], [32.348523, -108.707488], [32.348523, -108.707488], [32.348523, -108.707488], [32.348523, -108.707488], [32.369767, -106.561133], [32.392235, -106.814868], [32.418235, -104.230988], [32.418235, -104.230988], [32.418235, -104.230988], [32.418235, -104.230988], [32.418235, -104.230988], [32.418235, -104.230988], [32.418235, -104.230988], [32.418235, -104.230988], [32.418235, -104.230988], [32.418235, -104.230988], [32.418235, -104.230988], [32.418235, -104.230988], [32.418235, -104.230988], [32.418235, -104.230988], [32.418235, -104.230988], [32.418235, -104.230988], [32.418235, -104.230988], [32.418235, -104.230988], [32.418235, -104.230988], [32.418235, -104.230988], [32.418235, -104.230988], [32.418235, -104.230988], [32.418235, -104.230988], [32.418235, -104.230988], [32.49093, -106.90865], [32.667323, -107.15168], [32.699259, -108.130949], [32.699259, -108.130949], [32.706351, -103.132147], [32.706351, -103.132147], [32.706351, -103.132147], [32.706351, -103.132147], [32.706351, -103.132147], [32.706351, -103.132147], [32.706351, -103.132147], [32.706351, -103.132147], [32.706351, -103.132147], [32.706351, -103.132147], [32.706351, -103.132147], [32.706351, -103.132147], [32.706351, -103.132147], [32.706351, -103.132147], [32.706351, -103.132147], [32.712016, -107.204813], [32.769306, -108.280215], [32.769306, -108.280215], [32.769306, -108.280215], [32.769306, -108.280215], [32.769306, -108.280215], [32.769306, -108.280215], [32.769306, -108.280215], [32.769306, -108.280215], [32.769306, -108.280215], [32.769306, -108.280215], [32.769306, -108.280215], [32.769306, -108.280215], [32.769306, -108.280215], [32.769306, -108.280215], [32.769306, -108.280215], [32.769306, -108.280215], [32.769306, -108.280215], [32.769306, -108.280215], [32.769306, -108.280215], [32.769306, -108.280215], [32.769306, -108.280215], [32.77755, -108.153323], [32.782649, -106.324558], [32.782649, -106.324558], [32.794103, -108.184147], [32.796092, -108.150238], [32.809758, -104.733952], [32.810027, -107.919986], [32.817651, -103.98034], [32.817651, -103.98034], [32.817651, -103.98034], [32.840683, -104.405192], [32.840683, -104.405192], [32.840683, -104.405192], [32.840683, -104.405192], [32.840683, -104.405192], [32.840683, -104.405192], [32.840683, -104.405192], [32.840683, -104.405192], [32.840683, -104.405192], [32.848686, -107.318885], [32.849132, -106.098862], [32.849132, -106.098862], [32.849132, -106.098862], [32.849132, -106.098862], [32.849132, -106.098862], [32.849132, -106.098862], [32.850975, -106.095962], [32.856095, -107.979515], [32.856095, -107.979515], [32.856095, -107.979515], [32.863384, -108.221415], [32.863384, -108.221415], [32.891812, -105.952151], [32.891812, -105.952151], [32.891812, -105.952151], [32.891812, -105.952151], [32.891812, -105.952151], [32.891812, -105.952151], [32.891812, -105.952151], [32.891812, -105.952151], [32.891812, -105.952151], [32.891812, -105.952151], [32.891812, -105.952151], [32.891812, -105.952151], [32.891812, -105.952151], [32.891812, -105.952151], [32.891812, -105.952151], [32.891812, -105.952151], [32.891812, -105.952151], [32.891812, -105.952151], [32.891812, -105.952151], [32.891812, -105.952151], [32.891812, -105.952151], [32.891812, -105.952151], [32.891812, -105.952151], [32.891812, -105.952151], [32.891812, -105.952151], [32.891812, -105.952151], [32.891812, -105.952151], [32.916917, -107.70608], [32.943564, -106.419441], [32.943564, -106.419441], [32.943564, -106.419441], [32.943564, -106.419441], [32.943564, -106.419441], [32.943564, -106.419441], [32.943564, -106.419441], [32.943564, -106.419441], [32.943564, -106.419441], [32.946759, -103.351723], [32.946759, -103.351723], [32.946759, -103.351723], [32.946759, -103.351723], [32.954872, -105.739939], [32.954872, -105.739939], [32.954872, -105.739939], [32.954872, -105.739939], [32.954872, -105.739939], [32.962803, -108.61865], [32.962803, -108.61865], [32.962803, -108.61865], [32.964799, -108.576955], [32.964799, -108.576955], [32.97701, -105.943914], [32.97701, -105.943914], [32.978674, -107.308122], [33.033332, -108.698577], [33.075, -106.018048], [33.075, -106.018048], [33.075, -106.018048], [33.075, -106.018048], [33.075, -106.018048], [33.075, -106.018048], [33.075, -106.018048], [33.075, -106.018048], [33.075, -106.018048], [33.113806, -104.327179], [33.132497, -107.252571], [33.132497, -107.252571], [33.132497, -107.252571], [33.132497, -107.252571], [33.132497, -107.252571], [33.132497, -107.252571], [33.132497, -107.252571], [33.132497, -107.252571], [33.132497, -107.252571], [33.132497, -107.252571], [33.132497, -107.252571], [33.132497, -107.252571], [33.134561, -107.248733], [33.155834, -105.776547], [33.155834, -105.776547], [33.155834, -105.776547], [33.180572, -107.225855], [33.180572, -107.225855], [33.196054, -104.372926], [33.256097, -103.316036], [33.256097, -103.316036], [33.256097, -103.316036], [33.317543, -108.88234], [33.317543, -108.88234], [33.317543, -108.88234], [33.333231, -105.681385], [33.333231, -105.681385], [33.333231, -105.681385], [33.333231, -105.681385], [33.333231, -105.681385], [33.333231, -105.681385], [33.333231, -105.681385], [33.333231, -105.681385], [33.333231, -105.681385], [33.333231, -105.681385], [33.333231, -105.681385], [33.333231, -105.681385], [33.333231, -105.681385], [33.333231, -105.681385], [33.333231, -105.681385], [33.333231, -105.681385], [33.333231, -105.681385], [33.346154, -107.647666], [33.370545, -105.226243], [33.379635, -108.903874], [33.394758, -104.523489], [33.394758, -104.523489], [33.394758, -104.523489], [33.394758, -104.523489], [33.394758, -104.523489], [33.394758, -104.523489], [33.394758, -104.523489], [33.394758, -104.523489], [33.394758, -104.523489], [33.394758, -104.523489], [33.394758, -104.523489], [33.394758, -104.523489], [33.394758, -104.523489], [33.394758, -104.523489], [33.394758, -104.523489], [33.394758, -104.523489], [33.394758, -104.523489], [33.394758, -104.523489], [33.394758, -104.523489], [33.394758, -104.523489], [33.394758, -104.523489], [33.394758, -104.523489], [33.394758, -104.523489], [33.394758, -104.523489], [33.394758, -104.523489], [33.394758, -104.523489], [33.394758, -104.523489], [33.394758, -104.523489], [33.394758, -104.523489], [33.394758, -104.523489], [33.394758, -104.523489], [33.394758, -104.523489], [33.394758, -104.523489], [33.394758, -104.523489], [33.394758, -104.523489], [33.394758, -104.523489], [33.394758, -104.523489], [33.394758, -104.523489], [33.394758, -104.523489], [33.394758, -104.523489], [33.394758, -104.523489], [33.394758, -104.523489], [33.394758, -104.523489], [33.394758, -104.523489], [33.394758, -104.523489], [33.394758, -104.523489], [33.394758, -104.523489], [33.394758, -104.523489], [33.394758, -104.523489], [33.394758, -104.523489], [33.394758, -104.523489], [33.394758, -104.523489], [33.394758, -104.523489], [33.394758, -104.523489], [33.394758, -104.523489], [33.394758, -104.523489], [33.394758, -104.523489], [33.394758, -104.523489], [33.394758, -104.523489], [33.405779, -105.654943], [33.405779, -105.654943], [33.405779, -105.654943], [33.405779, -105.654943], [33.405779, -105.654943], [33.405779, -105.654943], [33.457047, -105.735887], [33.491655, -105.383356], [33.491655, -105.383356], [33.491655, -105.383356], [33.491655, -105.383356], [33.558089, -105.707626], [33.642981, -105.876232], [33.642981, -105.876232], [33.642981, -105.876232], [33.642981, -105.876232], [33.642981, -105.876232], [33.818732, -108.954278], [33.842182, -103.771754], [33.917427, -106.866285], [33.917427, -106.866285], [33.917427, -106.866285], [34.024604, -107.04472], [34.057247, -106.892888], [34.057247, -106.892888], [34.057247, -106.892888], [34.057247, -106.892888], [34.057247, -106.892888], [34.057247, -106.892888], [34.057247, -106.892888], [34.057247, -106.892888], [34.057247, -106.892888], [34.057247, -106.892888], [34.057247, -106.892888], [34.057247, -106.892888], [34.057247, -106.892888], [34.057247, -106.892888], [34.057247, -106.892888], [34.057247, -106.892888], [34.057247, -106.892888], [34.057247, -106.892888], [34.057247, -106.892888], [34.057247, -106.892888], [34.057247, -106.892888], [34.057247, -106.892888], [34.073315, -107.622206], [34.113592, -107.237787], [34.142326, -107.842554], [34.142326, -107.842554], [34.142326, -107.842554], [34.158742, -106.911081], [34.158742, -106.911081], [34.158742, -106.911081], [34.184208, -103.335009], [34.184208, -103.335009], [34.184208, -103.335009], [34.184208, -103.335009], [34.184208, -103.335009], [34.225276, -108.879881], [34.249104, -105.596071], [34.249104, -105.596071], [34.298286, -108.134699], [34.298286, -108.134699], [34.298286, -108.134699], [34.298286, -108.134699], [34.298286, -108.134699], [34.344311, -108.496653], [34.344311, -108.496653], [34.38264, -106.813253], [34.386598, -103.318975], [34.386598, -103.318975], [34.386598, -103.318975], [34.386598, -103.318975], [34.386598, -103.318975], [34.388211, -103.050159], [34.406841, -103.199641], [34.406841, -103.199641], [34.406841, -103.199641], [34.406841, -103.199641], [34.406841, -103.199641], [34.406841, -103.199641], [34.406841, -103.199641], [34.406841, -103.199641], [34.406841, -103.199641], [34.406841, -103.199641], [34.406841, -103.199641], [34.406841, -103.199641], [34.406841, -103.199641], [34.406841, -103.199641], [34.406841, -103.199641], [34.406841, -103.199641], [34.406841, -103.199641], [34.406841, -103.199641], [34.406841, -103.199641], [34.406841, -103.199641], [34.406841, -103.199641], [34.429048, -103.62882], [34.429048, -103.62882], [34.450729, -106.374842], [34.472309, -104.24468], [34.472309, -104.24468], [34.472309, -104.24468], [34.521104, -106.242646], [34.521104, -106.242646], [34.521104, -106.242646], [34.595362, -106.033346], [34.600176, -105.203898], [34.600176, -105.203898], [34.600176, -105.203898], [34.620906, -104.372445], [34.650834, -108.674494], [34.660595, -106.775377], [34.660595, -106.775377], [34.660595, -106.775377], [34.660595, -106.775377], [34.660595, -106.775377], [34.660595, -106.775377], [34.660595, -106.775377], [34.660595, -106.775377], [34.660595, -106.775377], [34.660595, -106.775377], [34.660595, -106.775377], [34.660595, -106.775377], [34.660595, -106.775377], [34.660595, -106.775377], [34.705207, -106.407127], [34.732442, -106.761485], [34.747183, -106.725506], [34.747183, -106.725506], [34.798833, -106.699613], [34.804859, -106.733988], [34.804859, -106.733988], [34.804859, -106.733988], [34.804859, -106.733988], [34.804859, -106.733988], [34.804859, -106.733988], [34.804859, -106.733988], [34.804859, -106.733988], [34.804859, -106.733988], [34.804859, -106.733988], [34.804859, -106.733988], [34.804859, -106.733988], [34.804859, -106.733988], [34.804859, -106.733988], [34.820865, -103.315401], [34.836867, -106.690214], [34.836867, -106.690214], [34.856588, -106.697722], [34.856588, -106.697722], [34.856588, -106.697722], [34.856588, -106.697722], [34.863353, -104.783036], [34.880646, -106.051156], [34.880646, -106.051156], [34.895227, -107.583167], [34.895227, -107.583167], [34.896115, -107.582318], [34.896115, -107.582318], [34.907088, -106.693036], [34.907088, -106.693036], [34.937773, -104.682646], [34.937773, -104.682646], [34.937773, -104.682646], [34.954965, -107.831043], [34.954965, -107.831043], [34.955052, -107.196421], [34.9727, 105.0324], [34.9727, 105.0324], [34.9727, 105.0324], [34.9727, 105.0324], [34.9727, 105.0324], [34.9727, 105.0324], [34.9727, 105.0324], [34.9727, 105.0324], [34.9727, 105.0324], [34.9727, 105.0324], [34.9727, 105.0324], [34.9727, 105.0324], [34.9727, 105.0324], [34.9727, 105.0324], [34.9727, 105.0324], [34.9727, 105.0324], [34.9727, 105.0324], [34.9727, 105.0324], [34.9727, 105.0324], [34.9727, 105.0324], [34.9727, 105.0324], [34.991828, -106.047593], [34.991828, -106.047593], [34.991828, -106.047593], [34.991828, -106.047593], [34.991828, -106.047593], [34.991828, -106.047593], [35.001844, -106.670934], [35.009532, -105.66755], [35.009532, -105.66755], [35.009532, -105.66755], [35.009532, -105.66755], [35.009532, -105.66755], [35.037353, -106.612516], [35.037438, -107.385532], [35.037438, -107.385532], [35.045807, -106.448126], [35.04692, -106.543784], [35.055841, -106.195687], [35.062178, -106.190312], [35.062178, -106.190312], [35.062178, -106.190312], [35.062178, -106.190312], [35.062178, -106.190312], [35.062178, -106.190312], [35.062178, -106.190312], [35.062178, -106.190312], [35.062178, -106.190312], [35.062178, -106.190312], [35.062178, -106.190312], [35.067573, -108.845846], [35.067573, -108.845846], [35.080216, -106.640464], [35.082738, -106.780353], [35.082738, -106.780353], [35.087347, -103.58572], [35.09107, -106.371174], [35.09107, -106.371174], [35.09107, -106.371174], [35.09107, -106.371174], [35.09107, -106.371174], [35.09107, -106.371174], [35.09107, -106.371174], [35.09107, -106.371174], [35.09107, -106.371174], [35.09107, -106.371174], [35.09107, -106.371174], [35.101401, -106.631867], [35.101401, -106.631867], [35.101401, -106.631867], [35.101401, -106.631867], [35.101401, -106.631867], [35.101401, -106.631867], [35.101401, -106.631867], [35.101401, -106.631867], [35.101401, -106.631867], [35.101401, -106.631867], [35.101401, -106.631867], [35.101401, -106.631867], [35.101401, -106.631867], [35.101401, -106.631867], [35.101401, -106.631867], [35.101401, -106.631867], [35.101401, -106.631867], [35.101401, -106.631867], [35.101401, -106.631867], [35.101401, -106.631867], [35.101401, -106.631867], [35.101401, -106.631867], [35.101401, -106.631867], [35.101401, -106.631867], [35.101401, -106.631867], [35.101401, -106.631867], [35.101401, -106.631867], [35.101401, -106.631867], [35.101401, -106.631867], [35.101401, -106.631867], [35.101401, -106.631867], [35.101401, -106.631867], [35.101401, -106.631867], [35.101401, -106.631867], [35.101401, -106.631867], [35.101401, -106.631867], [35.101401, -106.631867], [35.101401, -106.631867], [35.101401, -106.631867], [35.101401, -106.631867], [35.101401, -106.631867], [35.101401, -106.631867], [35.101401, -106.631867], [35.101401, -106.631867], [35.101401, -106.631867], [35.101401, -106.631867], [35.101401, -106.631867], [35.101401, -106.631867], [35.101401, -106.631867], [35.101401, -106.631867], [35.101401, -106.631867], [35.101401, -106.631867], [35.101401, -106.631867], [35.101401, -106.631867], [35.101401, -106.631867], [35.101401, -106.631867], [35.101401, -106.631867], [35.101401, -106.631867], [35.101401, -106.631867], [35.101401, -106.631867], [35.101401, -106.631867], [35.101401, -106.631867], [35.101401, -106.631867], [35.101401, -106.631867], [35.101401, -106.631867], [35.101401, -106.631867], [35.101401, -106.631867], [35.101401, -106.631867], [35.101401, -106.631867], [35.101401, -106.631867], [35.101401, -106.631867], [35.101401, -106.631867], [35.101401, -106.631867], [35.101401, -106.631867], [35.101401, -106.631867], [35.101401, -106.631867], [35.101401, -106.631867], [35.101401, -106.631867], [35.101401, -106.631867], [35.101401, -106.631867], [35.101401, -106.631867], [35.101401, -106.631867], [35.101401, -106.631867], [35.101401, -106.631867], [35.101401, -106.631867], [35.101401, -106.631867], [35.101401, -106.631867], [35.101401, -106.631867], [35.101401, -106.631867], [35.101401, -106.631867], [35.101401, -106.631867], [35.101401, -106.631867], [35.101401, -106.631867], [35.101401, -106.631867], [35.101401, -106.631867], [35.101401, -106.631867], [35.101401, -106.631867], [35.101401, -106.631867], [35.101401, -106.631867], [35.101401, -106.631867], [35.101401, -106.631867], [35.101401, -106.631867], [35.101401, -106.631867], [35.101401, -106.631867], [35.101401, -106.631867], [35.101401, -106.631867], [35.101401, -106.631867], [35.101401, -106.631867], [35.101401, -106.631867], [35.101401, -106.631867], [35.101401, -106.631867], [35.101401, -106.631867], [35.101401, -106.631867], [35.101401, -106.631867], [35.101401, -106.631867], [35.101401, -106.631867], [35.101401, -106.631867], [35.101401, -106.631867], [35.101401, -106.631867], [35.101401, -106.631867], [35.101401, -106.631867], [35.101401, -106.631867], [35.101401, -106.631867], [35.101401, -106.631867], [35.101401, -106.631867], [35.101401, -106.631867], [35.101401, -106.631867], [35.101401, -106.631867], [35.101401, -106.631867], [35.101401, -106.631867], [35.101401, -106.631867], [35.101401, -106.631867], [35.101401, -106.631867], [35.101401, -106.631867], [35.101401, -106.631867], [35.101401, -106.631867], [35.101401, -106.631867], [35.101401, -106.631867], [35.101401, -106.631867], [35.101401, -106.631867], [35.101401, -106.631867], [35.101401, -106.631867], [35.101401, -106.631867], [35.101401, -106.631867], [35.101401, -106.631867], [35.101401, -106.631867], [35.101401, -106.631867], [35.101401, -106.631867], [35.101401, -106.631867], [35.101401, -106.631867], [35.101401, -106.631867], [35.101401, -106.631867], [35.101401, -106.631867], [35.101401, -106.631867], [35.101401, -106.631867], [35.101401, -106.631867], [35.101401, -106.631867], [35.101401, -106.631867], [35.101401, -106.631867], [35.101401, -106.631867], [35.101401, -106.631867], [35.101401, -106.631867], [35.101401, -106.631867], [35.101401, -106.631867], [35.101401, -106.631867], [35.101401, -106.631867], [35.101401, -106.631867], [35.101401, -106.631867], [35.101401, -106.631867], [35.101401, -106.631867], [35.101401, -106.631867], [35.101401, -106.631867], [35.101401, -106.631867], [35.101401, -106.631867], [35.101401, -106.631867], [35.101401, -106.631867], [35.101401, -106.631867], [35.101401, -106.631867], [35.101401, -106.631867], [35.101401, -106.631867], [35.101401, -106.631867], [35.101401, -106.631867], [35.101401, -106.631867], [35.101401, -106.631867], [35.101401, -106.631867], [35.101401, -106.631867], [35.101401, -106.631867], [35.101401, -106.631867], [35.101401, -106.631867], [35.101401, -106.631867], [35.101401, -106.631867], [35.101401, -106.631867], [35.101401, -106.631867], [35.101401, -106.631867], [35.101401, -106.631867], [35.101401, -106.631867], [35.101401, -106.631867], [35.101401, -106.631867], [35.101401, -106.631867], [35.101401, -106.631867], [35.101401, -106.631867], [35.101401, -106.631867], [35.101401, -106.631867], [35.101401, -106.631867], [35.101401, -106.631867], [35.101401, -106.631867], [35.101401, -106.631867], [35.101401, -106.631867], [35.101401, -106.631867], [35.101401, -106.631867], [35.101401, -106.631867], [35.101401, -106.631867], [35.101401, -106.631867], [35.101401, -106.631867], [35.101401, -106.631867], [35.101401, -106.631867], [35.101401, -106.631867], [35.101401, -106.631867], [35.101401, -106.631867], [35.101401, -106.631867], [35.101401, -106.631867], [35.101401, -106.631867], [35.101401, -106.631867], [35.101401, -106.631867], [35.101401, -106.631867], [35.101401, -106.631867], [35.101401, -106.631867], [35.101401, -106.631867], [35.101401, -106.631867], [35.101401, -106.631867], [35.101401, -106.631867], [35.101401, -106.631867], [35.101401, -106.631867], [35.101401, -106.631867], [35.101401, -106.631867], [35.101401, -106.631867], [35.101401, -106.631867], [35.101401, -106.631867], [35.101401, -106.631867], [35.101401, -106.631867], [35.101401, -106.631867], [35.101401, -106.631867], [35.101401, -106.631867], [35.101401, -106.631867], [35.101401, -106.631867], [35.101401, -106.631867], [35.101401, -106.631867], [35.101401, -106.631867], [35.101401, -106.631867], [35.101401, -106.631867], [35.101401, -106.631867], [35.101401, -106.631867], [35.101401, -106.631867], [35.101401, -106.631867], [35.101401, -106.631867], [35.101401, -106.631867], [35.101401, -106.631867], [35.101401, -106.631867], [35.101401, -106.631867], [35.101401, -106.631867], [35.101401, -106.631867], [35.101401, -106.631867], [35.101401, -106.631867], [35.101401, -106.631867], [35.101401, -106.631867], [35.101401, -106.631867], [35.101401, -106.631867], [35.101401, -106.631867], [35.101401, -106.631867], [35.101401, -106.631867], [35.101401, -106.631867], [35.101401, -106.631867], [35.101401, -106.631867], [35.101401, -106.631867], [35.101401, -106.631867], [35.101401, -106.631867], [35.101401, -106.631867], [35.101401, -106.631867], [35.101401, -106.631867], [35.101401, -106.631867], [35.101401, -106.631867], [35.101401, -106.631867], [35.101401, -106.631867], [35.101401, -106.631867], [35.101401, -106.631867], [35.101401, -106.631867], [35.101401, -106.631867], [35.101401, -106.631867], [35.101401, -106.631867], [35.101401, -106.631867], [35.101401, -106.631867], [35.101401, -106.631867], [35.101401, -106.631867], [35.101401, -106.631867], [35.101401, -106.631867], [35.101401, -106.631867], [35.101401, -106.631867], [35.101401, -106.631867], [35.101401, -106.631867], [35.101401, -106.631867], [35.101401, -106.631867], [35.101401, -106.631867], [35.101401, -106.631867], [35.101401, -106.631867], [35.101401, -106.631867], [35.101401, -106.631867], [35.101401, -106.631867], [35.101401, -106.631867], [35.101401, -106.631867], [35.101401, -106.631867], [35.101401, -106.631867], [35.101401, -106.631867], [35.101401, -106.631867], [35.101401, -106.631867], [35.101401, -106.631867], [35.101401, -106.631867], [35.101401, -106.631867], [35.101401, -106.631867], [35.101401, -106.631867], [35.101401, -106.631867], [35.101401, -106.631867], [35.101401, -106.631867], [35.101401, -106.631867], [35.101401, -106.631867], [35.101401, -106.631867], [35.101401, -106.631867], [35.101401, -106.631867], [35.101401, -106.631867], [35.101401, -106.631867], [35.101401, -106.631867], [35.101401, -106.631867], [35.101401, -106.631867], [35.101401, -106.631867], [35.101401, -106.631867], [35.101401, -106.631867], [35.101401, -106.631867], [35.101401, -106.631867], [35.101401, -106.631867], [35.101401, -106.631867], [35.101401, -106.631867], [35.101401, -106.631867], [35.101401, -106.631867], [35.101401, -106.631867], [35.101401, -106.631867], [35.101401, -106.631867], [35.101401, -106.631867], [35.101401, -106.631867], [35.101401, -106.631867], [35.101401, -106.631867], [35.101401, -106.631867], [35.101401, -106.631867], [35.101401, -106.631867], [35.101401, -106.631867], [35.101401, -106.631867], [35.101401, -106.631867], [35.101401, -106.631867], [35.101401, -106.631867], [35.101401, -106.631867], [35.101401, -106.631867], [35.101401, -106.631867], [35.101401, -106.631867], [35.101401, -106.631867], [35.101401, -106.631867], [35.101401, -106.631867], [35.101401, -106.631867], [35.101401, -106.631867], [35.101401, -106.631867], [35.101401, -106.631867], [35.101401, -106.631867], [35.101401, -106.631867], [35.101401, -106.631867], [35.101401, -106.631867], [35.101401, -106.631867], [35.101401, -106.631867], [35.101401, -106.631867], [35.101401, -106.631867], [35.101401, -106.631867], [35.101401, -106.631867], [35.101401, -106.631867], [35.101401, -106.631867], [35.101401, -106.631867], [35.101401, -106.631867], [35.101401, -106.631867], [35.101401, -106.631867], [35.101401, -106.631867], [35.101401, -106.631867], [35.101401, -106.631867], [35.101401, -106.631867], [35.101401, -106.631867], [35.101401, -106.631867], [35.101401, -106.631867], [35.101401, -106.631867], [35.101401, -106.631867], [35.101401, -106.631867], [35.101401, -106.631867], [35.101401, -106.631867], [35.101401, -106.631867], [35.101401, -106.631867], [35.101401, -106.631867], [35.101401, -106.631867], [35.101401, -106.631867], [35.101401, -106.631867], [35.101401, -106.631867], [35.101401, -106.631867], [35.101401, -106.631867], [35.101401, -106.631867], [35.101401, -106.631867], [35.101401, -106.631867], [35.101401, -106.631867], [35.101401, -106.631867], [35.101401, -106.631867], [35.101401, -106.631867], [35.101401, -106.631867], [35.101401, -106.631867], [35.101401, -106.631867], [35.108276, -106.375249], [35.108276, -106.375249], [35.111947, -107.883054], [35.111947, -107.883054], [35.139218, -107.377689], [35.147495, -107.828215], [35.148303, -105.978858], [35.148303, -105.978858], [35.148303, -105.978858], [35.148303, -105.978858], [35.152307, -107.834548], [35.152307, -107.834548], [35.152307, -107.834548], [35.152307, -107.834548], [35.152307, -107.834548], [35.152307, -107.834548], [35.152307, -107.834548], [35.152307, -107.834548], [35.152307, -107.834548], [35.167808, -106.366508], [35.167808, -106.366508], [35.167808, -106.366508], [35.170392, -107.894147], [35.172972, -103.725902], [35.172972, -103.725902], [35.172972, -103.725902], [35.172972, -103.725902], [35.172972, -103.725902], [35.172972, -103.725902], [35.172972, -103.725902], [35.231041, -106.662789], [35.231041, -106.662789], [35.231041, -106.662789], [35.231041, -106.662789], [35.231041, -106.662789], [35.231041, -106.662789], [35.231041, -106.662789], [35.231041, -106.662789], [35.231041, -106.662789], [35.231041, -106.662789], [35.231041, -106.662789], [35.231041, -106.662789], [35.231041, -106.662789], [35.231041, -106.662789], [35.231041, -106.662789], [35.231041, -106.662789], [35.231041, -106.662789], [35.231041, -106.662789], [35.231041, -106.662789], [35.231041, -106.662789], [35.231041, -106.662789], [35.231041, -106.662789], [35.231041, -106.662789], [35.231041, -106.662789], [35.231041, -106.662789], [35.231041, -106.662789], [35.231041, -106.662789], [35.231041, -106.662789], [35.231041, -106.662789], [35.231041, -106.662789], [35.231041, -106.662789], [35.231041, -106.662789], [35.231041, -106.662789], [35.231041, -106.662789], [35.231041, -106.662789], [35.231041, -106.662789], [35.231041, -106.662789], [35.231041, -106.662789], [35.231041, -106.662789], [35.231041, -106.662789], [35.231041, -106.662789], [35.231041, -106.662789], [35.231041, -106.662789], [35.231041, -106.662789], [35.231041, -106.662789], [35.231041, -106.662789], [35.231041, -106.662789], [35.231041, -106.662789], [35.231041, -106.662789], [35.231041, -106.662789], [35.231041, -106.662789], [35.231041, -106.662789], [35.231041, -106.662789], [35.231041, -106.662789], [35.235695, -106.605927], [35.235695, -106.605927], [35.235695, -106.605927], [35.235695, -106.605927], [35.235695, -106.605927], [35.235695, -106.605927], [35.235695, -106.605927], [35.239305, -106.666861], [35.249548, -106.188075], [35.253926, -107.981242], [35.253926, -107.981242], [35.253926, -107.981242], [35.253926, -107.981242], [35.26471, -105.337757], [35.26471, -105.337757], [35.306251, -106.424425], [35.306251, -106.424425], [35.306251, -106.424425], [35.306251, -106.424425], [35.306251, -106.424425], [35.306251, -106.424425], [35.306251, -106.424425], [35.306251, -106.424425], [35.306251, -106.424425], [35.306251, -106.424425], [35.306251, -106.424425], [35.316897, -106.550269], [35.316897, -106.550269], [35.316897, -106.550269], [35.316897, -106.550269], [35.316897, -106.550269], [35.316897, -106.550269], [35.316897, -106.550269], [35.37863, -106.476007], [35.37863, -106.476007], [35.402635, -104.190143], [35.415473, -105.494106], [35.420958, -105.558262], [35.421996, -108.312536], [35.421996, -108.312536], [35.435177, -106.126759], [35.435177, -106.126759], [35.435177, -106.126759], [35.435177, -106.126759], [35.451099, -106.1502], [35.469565, -104.527775], [35.481871, -105.880072], [35.481871, -105.880072], [35.491711, -105.674793], [35.517912, -106.712568], [35.518098, -106.367495], [35.519312, -108.733438], [35.519312, -108.733438], [35.519312, -108.733438], [35.519312, -108.733438], [35.519312, -108.733438], [35.519312, -108.733438], [35.519312, -108.733438], [35.519312, -108.733438], [35.519312, -108.733438], [35.519312, -108.733438], [35.519312, -108.733438], [35.519312, -108.733438], [35.519312, -108.733438], [35.519312, -108.733438], [35.519312, -108.733438], [35.562344, -106.769845], [35.562344, -106.769845], [35.575249, -105.676048], [35.575249, -105.676048], [35.575249, -105.676048], [35.575249, -105.676048], [35.575249, -105.676048], [35.575249, -105.676048], [35.579309, -108.32513], [35.58264, -105.769], [35.58264, -105.769], [35.598375, -105.224193], [35.598375, -105.224193], [35.598375, -105.224193], [35.598375, -105.224193], [35.598375, -105.224193], [35.598375, -105.224193], [35.598375, -105.224193], [35.598375, -105.224193], [35.598375, -105.224193], [35.598375, -105.224193], [35.598375, -105.224193], [35.60915, -106.346831], [35.61087, -108.82941], [35.627235, -108.779834], [35.647908, -106.337506], [35.652813, -106.411087], [35.679616, -108.150789], [35.685756, -105.938613], [35.685756, -105.938613], [35.685756, -105.938613], [35.685756, -105.938613], [35.685756, -105.938613], [35.685756, -105.938613], [35.685756, -105.938613], [35.685756, -105.938613], [35.685756, -105.938613], [35.685756, -105.938613], [35.685756, -105.938613], [35.685756, -105.938613], [35.685756, -105.938613], [35.685756, -105.938613], [35.685756, -105.938613], [35.685756, -105.938613], [35.685756, -105.938613], [35.685756, -105.938613], [35.685756, -105.938613], [35.685756, -105.938613], [35.685756, -105.938613], [35.685756, -105.938613], [35.685756, -105.938613], [35.685756, -105.938613], [35.685756, -105.938613], [35.685756, -105.938613], [35.685756, -105.938613], [35.685756, -105.938613], [35.685756, -105.938613], [35.685756, -105.938613], [35.685756, -105.938613], [35.685756, -105.938613], [35.685756, -105.938613], [35.685756, -105.938613], [35.685756, -105.938613], [35.685756, -105.938613], [35.685756, -105.938613], [35.685756, -105.938613], [35.685756, -105.938613], [35.685756, -105.938613], [35.685756, -105.938613], [35.685756, -105.938613], [35.685756, -105.938613], [35.685756, -105.938613], [35.685756, -105.938613], [35.685756, -105.938613], [35.685756, -105.938613], [35.685756, -105.938613], [35.685756, -105.938613], [35.685756, -105.938613], [35.685756, -105.938613], [35.685756, -105.938613], [35.685756, -105.938613], [35.685756, -105.938613], [35.685756, -105.938613], [35.685756, -105.938613], [35.685756, -105.938613], [35.685756, -105.938613], [35.685756, -105.938613], [35.685756, -105.938613], [35.685756, -105.938613], [35.685756, -105.938613], [35.685756, -105.938613], [35.685756, -105.938613], [35.685756, -105.938613], [35.685756, -105.938613], [35.685756, -105.938613], [35.685756, -105.938613], [35.685756, -105.938613], [35.685756, -105.938613], [35.685756, -105.938613], [35.685756, -105.938613], [35.685756, -105.938613], [35.685756, -105.938613], [35.685756, -105.938613], [35.685756, -105.938613], [35.685756, -105.938613], [35.685756, -105.938613], [35.685756, -105.938613], [35.685756, -105.938613], [35.685756, -105.938613], [35.685756, -105.938613], [35.685756, -105.938613], [35.685756, -105.938613], [35.685756, -105.938613], [35.685756, -105.938613], [35.685756, -105.938613], [35.685756, -105.938613], [35.685756, -105.938613], [35.685756, -105.938613], [35.685756, -105.938613], [35.685756, -105.938613], [35.685756, -105.938613], [35.685756, -105.938613], [35.685756, -105.938613], [35.685756, -105.938613], [35.685756, -105.938613], [35.685756, -105.938613], [35.685756, -105.938613], [35.685756, -105.938613], [35.685756, -105.938613], [35.685756, -105.938613], [35.685756, -105.938613], [35.685756, -105.938613], [35.685756, -105.938613], [35.685756, -105.938613], [35.685756, -105.938613], [35.685756, -105.938613], [35.685756, -105.938613], [35.685756, -105.938613], [35.685756, -105.938613], [35.685756, -105.938613], [35.685756, -105.938613], [35.685756, -105.938613], [35.685756, -105.938613], [35.685756, -105.938613], [35.685756, -105.938613], [35.685756, -105.938613], [35.685756, -105.938613], [35.685756, -105.938613], [35.685756, -105.938613], [35.685756, -105.938613], [35.685756, -105.938613], [35.685756, -105.938613], [35.685756, -105.938613], [35.685756, -105.938613], [35.685756, -105.938613], [35.685756, -105.938613], [35.685756, -105.938613], [35.685756, -105.938613], [35.685756, -105.938613], [35.685756, -105.938613], [35.685756, -105.938613], [35.685756, -105.938613], [35.685756, -105.938613], [35.685756, -105.938613], [35.685756, -105.938613], [35.685756, -105.938613], [35.685756, -105.938613], [35.685756, -105.938613], [35.685756, -105.938613], [35.685756, -105.938613], [35.685756, -105.938613], [35.685756, -105.938613], [35.685756, -105.938613], [35.685756, -105.938613], [35.685756, -105.938613], [35.685756, -105.938613], [35.685756, -105.938613], [35.685756, -105.938613], [35.685756, -105.938613], [35.685756, -105.938613], [35.685756, -105.938613], [35.685756, -105.938613], [35.685756, -105.938613], [35.685756, -105.938613], [35.685756, -105.938613], [35.760998, -105.931901], [35.760998, -105.931901], [35.766709, -106.690388], [35.76805, -106.693591], [35.76805, -106.693591], [35.76805, -106.693591], [35.76805, -106.693591], [35.76805, -106.693591], [35.809653, -106.205271], [35.81999, -105.91549], [35.85709, -108.761708], [35.878996, -106.300662], [35.878996, -106.300662], [35.878996, -106.300662], [35.878996, -106.300662], [35.878996, -106.300662], [35.878996, -106.300662], [35.878996, -106.300662], [35.878996, -106.300662], [35.878996, -106.300662], [35.878996, -106.300662], [35.878996, -106.300662], [35.878996, -106.300662], [35.878996, -106.300662], [35.878996, -106.300662], [35.878996, -106.300662], [35.892967, -106.005007], [35.90286, -109.031541], [35.90286, -109.031541], [35.944289, -104.194443], [35.947286, -106.071439], [35.973949, -105.330412], [35.992722, -106.079739], [35.992722, -106.079739], [35.992722, -106.079739], [35.992722, -106.079739], [35.992722, -106.079739], [35.992722, -106.079739], [35.992722, -106.079739], [35.992722, -106.079739], [35.992722, -106.079739], [35.992722, -106.079739], [35.993133, -105.371202], [35.993133, -105.371202], [36.02151, -106.958032], [36.02151, -106.958032], [36.02151, -106.958032], [36.02151, -106.958032], [36.043574, -105.812729], [36.045283, -108.964589], [36.045283, -108.964589], [36.051906, -106.069898], [36.051906, -106.069898], [36.059939, -107.966758], [36.059939, -107.966758], [36.059939, -107.966758], [36.059939, -107.966758], [36.059939, -107.966758], [36.060507, -107.961732], [36.06057, -107.967992], [36.063403, -106.119272], [36.063907, -108.680548], [36.074988, -106.103902], [36.088091, -106.055088], [36.088091, -106.055088], [36.10999, -105.726769], [36.166808, -105.967282], [36.175525, -105.048823], [36.17617, -106.183063], [36.17617, -106.183063], [36.186141, -106.217131], [36.187303, -106.559295], [36.196487, -105.889118], [36.207215, -106.31874], [36.207215, -106.31874], [36.207215, -106.31874], [36.207215, -106.31874], [36.207215, -106.31874], [36.207215, -106.31874], [36.219129, -104.649607], [36.233652, -107.572401], [36.261342, -107.744292], [36.261342, -107.744292], [36.261342, -107.744292], [36.261342, -107.744292], [36.287612, -108.124959], [36.301405, -106.044713], [36.301405, -106.044713], [36.301405, -106.044713], [36.303475, -103.971638], [36.331495, -106.472842], [36.340777, -106.184527], [36.340777, -106.184527], [36.340777, -106.184527], [36.357663, -105.608587], [36.357663, -105.608587], [36.357663, -105.608587], [36.357663, -105.608587], [36.357663, -105.608587], [36.360441, -104.595079], [36.360441, -104.595079], [36.391983, -105.285453], [36.392439, -107.834965], [36.392439, -107.834965], [36.406326, -105.573264], [36.406326, -105.573264], [36.406326, -105.573264], [36.406326, -105.573264], [36.406326, -105.573264], [36.406326, -105.573264], [36.406326, -105.573264], [36.406326, -105.573264], [36.406326, -105.573264], [36.406326, -105.573264], [36.406326, -105.573264], [36.406326, -105.573264], [36.406326, -105.573264], [36.406326, -105.573264], [36.406326, -105.573264], [36.406326, -105.573264], [36.406326, -105.573264], [36.406326, -105.573264], [36.406326, -105.573264], [36.406326, -105.573264], [36.406326, -105.573264], [36.406326, -105.573264], [36.406326, -105.573264], [36.406326, -105.573264], [36.406326, -105.573264], [36.406326, -105.573264], [36.406326, -105.573264], [36.406326, -105.573264], [36.406326, -105.573264], [36.406326, -105.573264], [36.406326, -105.573264], [36.406326, -105.573264], [36.406326, -105.573264], [36.406326, -105.573264], [36.406326, -105.573264], [36.406326, -105.573264], [36.406326, -105.573264], [36.406326, -105.573264], [36.406326, -105.573264], [36.451432, -103.182366], [36.451432, -103.182366], [36.451432, -103.182366], [36.451432, -103.182366], [36.451432, -103.182366], [36.451432, -103.182366], [36.494771, -106.115998], [36.509774, -104.915516], [36.516508, -105.569188], [36.516508, -105.569188], [36.519395, -103.488894], [36.524778, -105.618559], [36.550863, -105.262018], [36.55805, -105.113839], [36.567052, -105.044871], [36.573946, -106.718704], [36.589688, -103.663987], [36.595469, -106.733127], [36.646922, -105.967082], [36.665702, -106.690881], [36.665702, -106.690881], [36.699157, -106.551701], [36.707692, -105.406142], [36.707692, -105.406142], [36.707875, -105.591596], [36.707875, -105.591596], [36.716725, -107.980604], [36.716725, -107.980604], [36.716725, -107.980604], [36.736951, -108.357359], [36.736951, -108.357359], [36.736951, -108.357359], [36.736951, -108.357359], [36.740298, -103.992974], [36.740298, -103.992974], [36.745257, -108.411491], [36.746211, -108.19233], [36.746211, -108.19233], [36.746211, -108.19233], [36.746211, -108.19233], [36.746211, -108.19233], [36.746211, -108.19233], [36.746211, -108.19233], [36.746211, -108.19233], [36.746211, -108.19233], [36.746211, -108.19233], [36.746211, -108.19233], [36.746211, -108.19233], [36.746211, -108.19233], [36.746211, -108.19233], [36.746211, -108.19233], [36.746211, -108.19233], [36.746211, -108.19233], [36.746211, -108.19233], [36.746211, -108.19233], [36.746211, -108.19233], [36.746211, -108.19233], [36.746211, -108.19233], [36.746211, -108.19233], [36.746211, -108.19233], [36.746211, -108.19233], [36.746211, -108.19233], [36.746211, -108.19233], [36.746211, -108.19233], [36.746211, -108.19233], [36.746211, -108.19233], [36.746211, -108.19233], [36.746211, -108.19233], [36.752681, -108.191396], [36.759484, -108.494221], [36.759484, -108.494221], [36.784903, -108.686807], [36.784903, -108.686807], [36.784903, -108.686807], [36.784903, -108.686807], [36.797014, -108.080118], [36.797014, -108.080118], [36.801511, -107.611756], [36.801511, -107.611756], [36.82324, -107.99355], [36.82324, -107.99355], [36.82324, -107.99355], [36.82324, -107.99355], [36.82324, -107.99355], [36.82324, -107.99355], [36.82324, -107.99355], [36.82324, -107.99355], [36.82324, -107.99355], [36.82324, -107.99355], [36.845445, -103.916704], [36.901351, -106.578872], [36.902566, -104.438086], [36.902566, -104.438086], [36.902566, -104.438086], [36.902566, -104.438086], [36.902566, -104.438086], [36.902566, -104.438086], [36.902566, -104.438086], [36.902566, -104.438086], [36.902566, -104.438086], [36.934023, -106.999919], [36.934023, -106.999919], [36.934023, -106.999919], [36.991452, -109.035981], [34.9727, 105.0324], [34.9727, 105.0324], [34.9727, 105.0324], [34.9727, 105.0324], [34.9727, 105.0324], [34.9727, 105.0324], [34.9727, 105.0324], [34.9727, 105.0324], [34.9727, 105.0324], [34.9727, 105.0324], [34.9727, 105.0324], [34.9727, 105.0324], [34.9727, 105.0324], [34.9727, 105.0324], [34.9727, 105.0324], [34.9727, 105.0324], [34.9727, 105.0324], [34.9727, 105.0324], [34.9727, 105.0324], [34.9727, 105.0324], [34.9727, 105.0324], [34.9727, 105.0324], [34.9727, 105.0324], [34.9727, 105.0324], [34.9727, 105.0324], [34.9727, 105.0324], [34.9727, 105.0324], [34.9727, 105.0324], [34.9727, 105.0324], [34.9727, 105.0324], [34.9727, 105.0324], [34.9727, 105.0324], [34.9727, 105.0324], [34.9727, 105.0324], [34.9727, 105.0324], [34.9727, 105.0324]],\n",
              "                {&quot;blur&quot;: 15, &quot;maxZoom&quot;: 18, &quot;minOpacity&quot;: 0.5, &quot;radius&quot;: 10}\n",
              "            );\n",
              "        \n",
              "    \n",
              "            heat_map_4d5f14b2fd90047f2013f2b28c938d15.addTo(map_5d50718a883b55b048930cf7874b4e56);\n",
              "        \n",
              "&lt;/script&gt;\n",
              "&lt;/html&gt;\" style=\"position:absolute;width:100%;height:100%;left:0;top:0;border:none !important;\" allowfullscreen webkitallowfullscreen mozallowfullscreen></iframe></div></div>"
            ]
          },
          "metadata": {},
          "execution_count": 18
        }
      ]
    },
    {
      "cell_type": "markdown",
      "source": [
        "### Animation"
      ],
      "metadata": {
        "id": "7vssD4b8Ve9l"
      }
    },
    {
      "cell_type": "markdown",
      "source": [
        "Below is an animation I created based on the year a sighting occured using my \"Occured\" column. The Occured column was already in an easily convertible date time format. Before I could plot the animation I changed the column to datetime, then changed it to sort by the year."
      ],
      "metadata": {
        "id": "FthhkxCsr8cC"
      }
    },
    {
      "cell_type": "code",
      "source": [
        "NM_UFO_DF_CLEAN['Occurred'] = pd.to_datetime(NM_UFO_DF_CLEAN['Occurred'])"
      ],
      "metadata": {
        "id": "s6ox_UgiY7bf"
      },
      "execution_count": 19,
      "outputs": []
    },
    {
      "cell_type": "code",
      "source": [
        "NM_UFO_DF_CLEAN['Year'] = NM_UFO_DF_CLEAN['Occurred'].dt.year"
      ],
      "metadata": {
        "id": "MQSpuhIGY-DA"
      },
      "execution_count": 20,
      "outputs": []
    },
    {
      "cell_type": "markdown",
      "source": [
        "Using plotly express I created the animation using the code below. First I sorted by the year so it displayed the sightings from the earliest year to the latest year. I used my latitude and longitude columns for the lat and long. The hover name was occurred because thats what I wanted to display in the animation. The frame was based on the Year column and finally I centered the animation on New Mexico."
      ],
      "metadata": {
        "id": "fSqUv0VPsWh4"
      }
    },
    {
      "cell_type": "code",
      "source": [
        "NM_UFO_DF_CLEAN = NM_UFO_DF_CLEAN.sort_values(by=['Occurred'])  # Sort by 'Occurred'\n",
        "\n",
        "\n",
        "fig = px.scatter_mapbox(\n",
        "    NM_UFO_DF_CLEAN,\n",
        "    lat=\"Latitude\",\n",
        "    lon=\"Longitude\",\n",
        "    animation_frame=\"Year\",  # Animate by year\n",
        "    hover_name=\"Occurred\",  # Show 'Occurred' on hover\n",
        "    color_discrete_sequence=[\"red\"],\n",
        "    zoom=6,\n",
        "    mapbox_style=\"open-street-map\"\n",
        ")\n",
        "\n",
        "fig.update_layout(\n",
        "    title=\"UFO Sightings in New Mexico Over Time\",\n",
        "    mapbox_style=\"open-street-map\",\n",
        "    mapbox=dict(\n",
        "        center=dict(lat=34.5199, lon=-105.8701),  # Centered on New Mexico\n",
        "        zoom=5.25  # Adjusted zoom to focus on New Mexico\n",
        "    )\n",
        ")\n",
        "\n",
        "fig.show()"
      ],
      "metadata": {
        "colab": {
          "base_uri": "https://localhost:8080/",
          "height": 542
        },
        "id": "7p9T7I-BZDSg",
        "outputId": "f8a9f3fb-f665-4f11-eb29-e8b28d9371e8"
      },
      "execution_count": 21,
      "outputs": [
        {
          "output_type": "display_data",
          "data": {
            "text/html": [
              "<html>\n",
              "<head><meta charset=\"utf-8\" /></head>\n",
              "<body>\n",
              "    <div>            <script src=\"https://cdnjs.cloudflare.com/ajax/libs/mathjax/2.7.5/MathJax.js?config=TeX-AMS-MML_SVG\"></script><script type=\"text/javascript\">if (window.MathJax && window.MathJax.Hub && window.MathJax.Hub.Config) {window.MathJax.Hub.Config({SVG: {font: \"STIX-Web\"}});}</script>                <script type=\"text/javascript\">window.PlotlyConfig = {MathJaxConfig: 'local'};</script>\n",
              "        <script charset=\"utf-8\" src=\"https://cdn.plot.ly/plotly-2.35.2.min.js\"></script>                <div id=\"d600151c-6cbf-4ccf-bce9-4909d1bc5d2e\" class=\"plotly-graph-div\" style=\"height:525px; width:100%;\"></div>            <script type=\"text/javascript\">                                    window.PLOTLYENV=window.PLOTLYENV || {};                                    if (document.getElementById(\"d600151c-6cbf-4ccf-bce9-4909d1bc5d2e\")) {                    Plotly.newPlot(                        \"d600151c-6cbf-4ccf-bce9-4909d1bc5d2e\",                        [{\"hovertemplate\":\"\\u003cb\\u003e%{hovertext}\\u003c\\u002fb\\u003e\\u003cbr\\u003e\\u003cbr\\u003eYear=1929.0\\u003cbr\\u003eLatitude=%{lat}\\u003cbr\\u003eLongitude=%{lon}\\u003cextra\\u003e\\u003c\\u002fextra\\u003e\",\"hovertext\":[\"1929-01-28T15:41:00\"],\"lat\":[31.851827],\"legendgroup\":\"\",\"lon\":[-106.640427],\"marker\":{\"color\":\"red\"},\"mode\":\"markers\",\"name\":\"\",\"showlegend\":false,\"subplot\":\"mapbox\",\"type\":\"scattermapbox\"}],                        {\"template\":{\"data\":{\"histogram2dcontour\":[{\"type\":\"histogram2dcontour\",\"colorbar\":{\"outlinewidth\":0,\"ticks\":\"\"},\"colorscale\":[[0.0,\"#0d0887\"],[0.1111111111111111,\"#46039f\"],[0.2222222222222222,\"#7201a8\"],[0.3333333333333333,\"#9c179e\"],[0.4444444444444444,\"#bd3786\"],[0.5555555555555556,\"#d8576b\"],[0.6666666666666666,\"#ed7953\"],[0.7777777777777778,\"#fb9f3a\"],[0.8888888888888888,\"#fdca26\"],[1.0,\"#f0f921\"]]}],\"choropleth\":[{\"type\":\"choropleth\",\"colorbar\":{\"outlinewidth\":0,\"ticks\":\"\"}}],\"histogram2d\":[{\"type\":\"histogram2d\",\"colorbar\":{\"outlinewidth\":0,\"ticks\":\"\"},\"colorscale\":[[0.0,\"#0d0887\"],[0.1111111111111111,\"#46039f\"],[0.2222222222222222,\"#7201a8\"],[0.3333333333333333,\"#9c179e\"],[0.4444444444444444,\"#bd3786\"],[0.5555555555555556,\"#d8576b\"],[0.6666666666666666,\"#ed7953\"],[0.7777777777777778,\"#fb9f3a\"],[0.8888888888888888,\"#fdca26\"],[1.0,\"#f0f921\"]]}],\"heatmap\":[{\"type\":\"heatmap\",\"colorbar\":{\"outlinewidth\":0,\"ticks\":\"\"},\"colorscale\":[[0.0,\"#0d0887\"],[0.1111111111111111,\"#46039f\"],[0.2222222222222222,\"#7201a8\"],[0.3333333333333333,\"#9c179e\"],[0.4444444444444444,\"#bd3786\"],[0.5555555555555556,\"#d8576b\"],[0.6666666666666666,\"#ed7953\"],[0.7777777777777778,\"#fb9f3a\"],[0.8888888888888888,\"#fdca26\"],[1.0,\"#f0f921\"]]}],\"heatmapgl\":[{\"type\":\"heatmapgl\",\"colorbar\":{\"outlinewidth\":0,\"ticks\":\"\"},\"colorscale\":[[0.0,\"#0d0887\"],[0.1111111111111111,\"#46039f\"],[0.2222222222222222,\"#7201a8\"],[0.3333333333333333,\"#9c179e\"],[0.4444444444444444,\"#bd3786\"],[0.5555555555555556,\"#d8576b\"],[0.6666666666666666,\"#ed7953\"],[0.7777777777777778,\"#fb9f3a\"],[0.8888888888888888,\"#fdca26\"],[1.0,\"#f0f921\"]]}],\"contourcarpet\":[{\"type\":\"contourcarpet\",\"colorbar\":{\"outlinewidth\":0,\"ticks\":\"\"}}],\"contour\":[{\"type\":\"contour\",\"colorbar\":{\"outlinewidth\":0,\"ticks\":\"\"},\"colorscale\":[[0.0,\"#0d0887\"],[0.1111111111111111,\"#46039f\"],[0.2222222222222222,\"#7201a8\"],[0.3333333333333333,\"#9c179e\"],[0.4444444444444444,\"#bd3786\"],[0.5555555555555556,\"#d8576b\"],[0.6666666666666666,\"#ed7953\"],[0.7777777777777778,\"#fb9f3a\"],[0.8888888888888888,\"#fdca26\"],[1.0,\"#f0f921\"]]}],\"surface\":[{\"type\":\"surface\",\"colorbar\":{\"outlinewidth\":0,\"ticks\":\"\"},\"colorscale\":[[0.0,\"#0d0887\"],[0.1111111111111111,\"#46039f\"],[0.2222222222222222,\"#7201a8\"],[0.3333333333333333,\"#9c179e\"],[0.4444444444444444,\"#bd3786\"],[0.5555555555555556,\"#d8576b\"],[0.6666666666666666,\"#ed7953\"],[0.7777777777777778,\"#fb9f3a\"],[0.8888888888888888,\"#fdca26\"],[1.0,\"#f0f921\"]]}],\"mesh3d\":[{\"type\":\"mesh3d\",\"colorbar\":{\"outlinewidth\":0,\"ticks\":\"\"}}],\"scatter\":[{\"fillpattern\":{\"fillmode\":\"overlay\",\"size\":10,\"solidity\":0.2},\"type\":\"scatter\"}],\"parcoords\":[{\"type\":\"parcoords\",\"line\":{\"colorbar\":{\"outlinewidth\":0,\"ticks\":\"\"}}}],\"scatterpolargl\":[{\"type\":\"scatterpolargl\",\"marker\":{\"colorbar\":{\"outlinewidth\":0,\"ticks\":\"\"}}}],\"bar\":[{\"error_x\":{\"color\":\"#2a3f5f\"},\"error_y\":{\"color\":\"#2a3f5f\"},\"marker\":{\"line\":{\"color\":\"#E5ECF6\",\"width\":0.5},\"pattern\":{\"fillmode\":\"overlay\",\"size\":10,\"solidity\":0.2}},\"type\":\"bar\"}],\"scattergeo\":[{\"type\":\"scattergeo\",\"marker\":{\"colorbar\":{\"outlinewidth\":0,\"ticks\":\"\"}}}],\"scatterpolar\":[{\"type\":\"scatterpolar\",\"marker\":{\"colorbar\":{\"outlinewidth\":0,\"ticks\":\"\"}}}],\"histogram\":[{\"marker\":{\"pattern\":{\"fillmode\":\"overlay\",\"size\":10,\"solidity\":0.2}},\"type\":\"histogram\"}],\"scattergl\":[{\"type\":\"scattergl\",\"marker\":{\"colorbar\":{\"outlinewidth\":0,\"ticks\":\"\"}}}],\"scatter3d\":[{\"type\":\"scatter3d\",\"line\":{\"colorbar\":{\"outlinewidth\":0,\"ticks\":\"\"}},\"marker\":{\"colorbar\":{\"outlinewidth\":0,\"ticks\":\"\"}}}],\"scattermapbox\":[{\"type\":\"scattermapbox\",\"marker\":{\"colorbar\":{\"outlinewidth\":0,\"ticks\":\"\"}}}],\"scatterternary\":[{\"type\":\"scatterternary\",\"marker\":{\"colorbar\":{\"outlinewidth\":0,\"ticks\":\"\"}}}],\"scattercarpet\":[{\"type\":\"scattercarpet\",\"marker\":{\"colorbar\":{\"outlinewidth\":0,\"ticks\":\"\"}}}],\"carpet\":[{\"aaxis\":{\"endlinecolor\":\"#2a3f5f\",\"gridcolor\":\"white\",\"linecolor\":\"white\",\"minorgridcolor\":\"white\",\"startlinecolor\":\"#2a3f5f\"},\"baxis\":{\"endlinecolor\":\"#2a3f5f\",\"gridcolor\":\"white\",\"linecolor\":\"white\",\"minorgridcolor\":\"white\",\"startlinecolor\":\"#2a3f5f\"},\"type\":\"carpet\"}],\"table\":[{\"cells\":{\"fill\":{\"color\":\"#EBF0F8\"},\"line\":{\"color\":\"white\"}},\"header\":{\"fill\":{\"color\":\"#C8D4E3\"},\"line\":{\"color\":\"white\"}},\"type\":\"table\"}],\"barpolar\":[{\"marker\":{\"line\":{\"color\":\"#E5ECF6\",\"width\":0.5},\"pattern\":{\"fillmode\":\"overlay\",\"size\":10,\"solidity\":0.2}},\"type\":\"barpolar\"}],\"pie\":[{\"automargin\":true,\"type\":\"pie\"}]},\"layout\":{\"autotypenumbers\":\"strict\",\"colorway\":[\"#636efa\",\"#EF553B\",\"#00cc96\",\"#ab63fa\",\"#FFA15A\",\"#19d3f3\",\"#FF6692\",\"#B6E880\",\"#FF97FF\",\"#FECB52\"],\"font\":{\"color\":\"#2a3f5f\"},\"hovermode\":\"closest\",\"hoverlabel\":{\"align\":\"left\"},\"paper_bgcolor\":\"white\",\"plot_bgcolor\":\"#E5ECF6\",\"polar\":{\"bgcolor\":\"#E5ECF6\",\"angularaxis\":{\"gridcolor\":\"white\",\"linecolor\":\"white\",\"ticks\":\"\"},\"radialaxis\":{\"gridcolor\":\"white\",\"linecolor\":\"white\",\"ticks\":\"\"}},\"ternary\":{\"bgcolor\":\"#E5ECF6\",\"aaxis\":{\"gridcolor\":\"white\",\"linecolor\":\"white\",\"ticks\":\"\"},\"baxis\":{\"gridcolor\":\"white\",\"linecolor\":\"white\",\"ticks\":\"\"},\"caxis\":{\"gridcolor\":\"white\",\"linecolor\":\"white\",\"ticks\":\"\"}},\"coloraxis\":{\"colorbar\":{\"outlinewidth\":0,\"ticks\":\"\"}},\"colorscale\":{\"sequential\":[[0.0,\"#0d0887\"],[0.1111111111111111,\"#46039f\"],[0.2222222222222222,\"#7201a8\"],[0.3333333333333333,\"#9c179e\"],[0.4444444444444444,\"#bd3786\"],[0.5555555555555556,\"#d8576b\"],[0.6666666666666666,\"#ed7953\"],[0.7777777777777778,\"#fb9f3a\"],[0.8888888888888888,\"#fdca26\"],[1.0,\"#f0f921\"]],\"sequentialminus\":[[0.0,\"#0d0887\"],[0.1111111111111111,\"#46039f\"],[0.2222222222222222,\"#7201a8\"],[0.3333333333333333,\"#9c179e\"],[0.4444444444444444,\"#bd3786\"],[0.5555555555555556,\"#d8576b\"],[0.6666666666666666,\"#ed7953\"],[0.7777777777777778,\"#fb9f3a\"],[0.8888888888888888,\"#fdca26\"],[1.0,\"#f0f921\"]],\"diverging\":[[0,\"#8e0152\"],[0.1,\"#c51b7d\"],[0.2,\"#de77ae\"],[0.3,\"#f1b6da\"],[0.4,\"#fde0ef\"],[0.5,\"#f7f7f7\"],[0.6,\"#e6f5d0\"],[0.7,\"#b8e186\"],[0.8,\"#7fbc41\"],[0.9,\"#4d9221\"],[1,\"#276419\"]]},\"xaxis\":{\"gridcolor\":\"white\",\"linecolor\":\"white\",\"ticks\":\"\",\"title\":{\"standoff\":15},\"zerolinecolor\":\"white\",\"automargin\":true,\"zerolinewidth\":2},\"yaxis\":{\"gridcolor\":\"white\",\"linecolor\":\"white\",\"ticks\":\"\",\"title\":{\"standoff\":15},\"zerolinecolor\":\"white\",\"automargin\":true,\"zerolinewidth\":2},\"scene\":{\"xaxis\":{\"backgroundcolor\":\"#E5ECF6\",\"gridcolor\":\"white\",\"linecolor\":\"white\",\"showbackground\":true,\"ticks\":\"\",\"zerolinecolor\":\"white\",\"gridwidth\":2},\"yaxis\":{\"backgroundcolor\":\"#E5ECF6\",\"gridcolor\":\"white\",\"linecolor\":\"white\",\"showbackground\":true,\"ticks\":\"\",\"zerolinecolor\":\"white\",\"gridwidth\":2},\"zaxis\":{\"backgroundcolor\":\"#E5ECF6\",\"gridcolor\":\"white\",\"linecolor\":\"white\",\"showbackground\":true,\"ticks\":\"\",\"zerolinecolor\":\"white\",\"gridwidth\":2}},\"shapedefaults\":{\"line\":{\"color\":\"#2a3f5f\"}},\"annotationdefaults\":{\"arrowcolor\":\"#2a3f5f\",\"arrowhead\":0,\"arrowwidth\":1},\"geo\":{\"bgcolor\":\"white\",\"landcolor\":\"#E5ECF6\",\"subunitcolor\":\"white\",\"showland\":true,\"showlakes\":true,\"lakecolor\":\"white\"},\"title\":{\"x\":0.05},\"mapbox\":{\"style\":\"light\"}}},\"mapbox\":{\"domain\":{\"x\":[0.0,1.0],\"y\":[0.0,1.0]},\"center\":{\"lat\":34.5199,\"lon\":-105.8701},\"zoom\":5.25,\"style\":\"open-street-map\"},\"legend\":{\"tracegroupgap\":0},\"margin\":{\"t\":60},\"updatemenus\":[{\"buttons\":[{\"args\":[null,{\"frame\":{\"duration\":500,\"redraw\":true},\"mode\":\"immediate\",\"fromcurrent\":true,\"transition\":{\"duration\":500,\"easing\":\"linear\"}}],\"label\":\"&#9654;\",\"method\":\"animate\"},{\"args\":[[null],{\"frame\":{\"duration\":0,\"redraw\":true},\"mode\":\"immediate\",\"fromcurrent\":true,\"transition\":{\"duration\":0,\"easing\":\"linear\"}}],\"label\":\"&#9724;\",\"method\":\"animate\"}],\"direction\":\"left\",\"pad\":{\"r\":10,\"t\":70},\"showactive\":false,\"type\":\"buttons\",\"x\":0.1,\"xanchor\":\"right\",\"y\":0,\"yanchor\":\"top\"}],\"sliders\":[{\"active\":0,\"currentvalue\":{\"prefix\":\"Year=\"},\"len\":0.9,\"pad\":{\"b\":10,\"t\":60},\"steps\":[{\"args\":[[\"1929.0\"],{\"frame\":{\"duration\":0,\"redraw\":true},\"mode\":\"immediate\",\"fromcurrent\":true,\"transition\":{\"duration\":0,\"easing\":\"linear\"}}],\"label\":\"1929.0\",\"method\":\"animate\"},{\"args\":[[\"1944.0\"],{\"frame\":{\"duration\":0,\"redraw\":true},\"mode\":\"immediate\",\"fromcurrent\":true,\"transition\":{\"duration\":0,\"easing\":\"linear\"}}],\"label\":\"1944.0\",\"method\":\"animate\"},{\"args\":[[\"1945.0\"],{\"frame\":{\"duration\":0,\"redraw\":true},\"mode\":\"immediate\",\"fromcurrent\":true,\"transition\":{\"duration\":0,\"easing\":\"linear\"}}],\"label\":\"1945.0\",\"method\":\"animate\"},{\"args\":[[\"1947.0\"],{\"frame\":{\"duration\":0,\"redraw\":true},\"mode\":\"immediate\",\"fromcurrent\":true,\"transition\":{\"duration\":0,\"easing\":\"linear\"}}],\"label\":\"1947.0\",\"method\":\"animate\"},{\"args\":[[\"1950.0\"],{\"frame\":{\"duration\":0,\"redraw\":true},\"mode\":\"immediate\",\"fromcurrent\":true,\"transition\":{\"duration\":0,\"easing\":\"linear\"}}],\"label\":\"1950.0\",\"method\":\"animate\"},{\"args\":[[\"1951.0\"],{\"frame\":{\"duration\":0,\"redraw\":true},\"mode\":\"immediate\",\"fromcurrent\":true,\"transition\":{\"duration\":0,\"easing\":\"linear\"}}],\"label\":\"1951.0\",\"method\":\"animate\"},{\"args\":[[\"1953.0\"],{\"frame\":{\"duration\":0,\"redraw\":true},\"mode\":\"immediate\",\"fromcurrent\":true,\"transition\":{\"duration\":0,\"easing\":\"linear\"}}],\"label\":\"1953.0\",\"method\":\"animate\"},{\"args\":[[\"1954.0\"],{\"frame\":{\"duration\":0,\"redraw\":true},\"mode\":\"immediate\",\"fromcurrent\":true,\"transition\":{\"duration\":0,\"easing\":\"linear\"}}],\"label\":\"1954.0\",\"method\":\"animate\"},{\"args\":[[\"1959.0\"],{\"frame\":{\"duration\":0,\"redraw\":true},\"mode\":\"immediate\",\"fromcurrent\":true,\"transition\":{\"duration\":0,\"easing\":\"linear\"}}],\"label\":\"1959.0\",\"method\":\"animate\"},{\"args\":[[\"1962.0\"],{\"frame\":{\"duration\":0,\"redraw\":true},\"mode\":\"immediate\",\"fromcurrent\":true,\"transition\":{\"duration\":0,\"easing\":\"linear\"}}],\"label\":\"1962.0\",\"method\":\"animate\"},{\"args\":[[\"1965.0\"],{\"frame\":{\"duration\":0,\"redraw\":true},\"mode\":\"immediate\",\"fromcurrent\":true,\"transition\":{\"duration\":0,\"easing\":\"linear\"}}],\"label\":\"1965.0\",\"method\":\"animate\"},{\"args\":[[\"1966.0\"],{\"frame\":{\"duration\":0,\"redraw\":true},\"mode\":\"immediate\",\"fromcurrent\":true,\"transition\":{\"duration\":0,\"easing\":\"linear\"}}],\"label\":\"1966.0\",\"method\":\"animate\"},{\"args\":[[\"1967.0\"],{\"frame\":{\"duration\":0,\"redraw\":true},\"mode\":\"immediate\",\"fromcurrent\":true,\"transition\":{\"duration\":0,\"easing\":\"linear\"}}],\"label\":\"1967.0\",\"method\":\"animate\"},{\"args\":[[\"1969.0\"],{\"frame\":{\"duration\":0,\"redraw\":true},\"mode\":\"immediate\",\"fromcurrent\":true,\"transition\":{\"duration\":0,\"easing\":\"linear\"}}],\"label\":\"1969.0\",\"method\":\"animate\"},{\"args\":[[\"1970.0\"],{\"frame\":{\"duration\":0,\"redraw\":true},\"mode\":\"immediate\",\"fromcurrent\":true,\"transition\":{\"duration\":0,\"easing\":\"linear\"}}],\"label\":\"1970.0\",\"method\":\"animate\"},{\"args\":[[\"1971.0\"],{\"frame\":{\"duration\":0,\"redraw\":true},\"mode\":\"immediate\",\"fromcurrent\":true,\"transition\":{\"duration\":0,\"easing\":\"linear\"}}],\"label\":\"1971.0\",\"method\":\"animate\"},{\"args\":[[\"1972.0\"],{\"frame\":{\"duration\":0,\"redraw\":true},\"mode\":\"immediate\",\"fromcurrent\":true,\"transition\":{\"duration\":0,\"easing\":\"linear\"}}],\"label\":\"1972.0\",\"method\":\"animate\"},{\"args\":[[\"1973.0\"],{\"frame\":{\"duration\":0,\"redraw\":true},\"mode\":\"immediate\",\"fromcurrent\":true,\"transition\":{\"duration\":0,\"easing\":\"linear\"}}],\"label\":\"1973.0\",\"method\":\"animate\"},{\"args\":[[\"1974.0\"],{\"frame\":{\"duration\":0,\"redraw\":true},\"mode\":\"immediate\",\"fromcurrent\":true,\"transition\":{\"duration\":0,\"easing\":\"linear\"}}],\"label\":\"1974.0\",\"method\":\"animate\"},{\"args\":[[\"1975.0\"],{\"frame\":{\"duration\":0,\"redraw\":true},\"mode\":\"immediate\",\"fromcurrent\":true,\"transition\":{\"duration\":0,\"easing\":\"linear\"}}],\"label\":\"1975.0\",\"method\":\"animate\"},{\"args\":[[\"1976.0\"],{\"frame\":{\"duration\":0,\"redraw\":true},\"mode\":\"immediate\",\"fromcurrent\":true,\"transition\":{\"duration\":0,\"easing\":\"linear\"}}],\"label\":\"1976.0\",\"method\":\"animate\"},{\"args\":[[\"1977.0\"],{\"frame\":{\"duration\":0,\"redraw\":true},\"mode\":\"immediate\",\"fromcurrent\":true,\"transition\":{\"duration\":0,\"easing\":\"linear\"}}],\"label\":\"1977.0\",\"method\":\"animate\"},{\"args\":[[\"1978.0\"],{\"frame\":{\"duration\":0,\"redraw\":true},\"mode\":\"immediate\",\"fromcurrent\":true,\"transition\":{\"duration\":0,\"easing\":\"linear\"}}],\"label\":\"1978.0\",\"method\":\"animate\"},{\"args\":[[\"1979.0\"],{\"frame\":{\"duration\":0,\"redraw\":true},\"mode\":\"immediate\",\"fromcurrent\":true,\"transition\":{\"duration\":0,\"easing\":\"linear\"}}],\"label\":\"1979.0\",\"method\":\"animate\"},{\"args\":[[\"1980.0\"],{\"frame\":{\"duration\":0,\"redraw\":true},\"mode\":\"immediate\",\"fromcurrent\":true,\"transition\":{\"duration\":0,\"easing\":\"linear\"}}],\"label\":\"1980.0\",\"method\":\"animate\"},{\"args\":[[\"1981.0\"],{\"frame\":{\"duration\":0,\"redraw\":true},\"mode\":\"immediate\",\"fromcurrent\":true,\"transition\":{\"duration\":0,\"easing\":\"linear\"}}],\"label\":\"1981.0\",\"method\":\"animate\"},{\"args\":[[\"1982.0\"],{\"frame\":{\"duration\":0,\"redraw\":true},\"mode\":\"immediate\",\"fromcurrent\":true,\"transition\":{\"duration\":0,\"easing\":\"linear\"}}],\"label\":\"1982.0\",\"method\":\"animate\"},{\"args\":[[\"1983.0\"],{\"frame\":{\"duration\":0,\"redraw\":true},\"mode\":\"immediate\",\"fromcurrent\":true,\"transition\":{\"duration\":0,\"easing\":\"linear\"}}],\"label\":\"1983.0\",\"method\":\"animate\"},{\"args\":[[\"1984.0\"],{\"frame\":{\"duration\":0,\"redraw\":true},\"mode\":\"immediate\",\"fromcurrent\":true,\"transition\":{\"duration\":0,\"easing\":\"linear\"}}],\"label\":\"1984.0\",\"method\":\"animate\"},{\"args\":[[\"1985.0\"],{\"frame\":{\"duration\":0,\"redraw\":true},\"mode\":\"immediate\",\"fromcurrent\":true,\"transition\":{\"duration\":0,\"easing\":\"linear\"}}],\"label\":\"1985.0\",\"method\":\"animate\"},{\"args\":[[\"1986.0\"],{\"frame\":{\"duration\":0,\"redraw\":true},\"mode\":\"immediate\",\"fromcurrent\":true,\"transition\":{\"duration\":0,\"easing\":\"linear\"}}],\"label\":\"1986.0\",\"method\":\"animate\"},{\"args\":[[\"1987.0\"],{\"frame\":{\"duration\":0,\"redraw\":true},\"mode\":\"immediate\",\"fromcurrent\":true,\"transition\":{\"duration\":0,\"easing\":\"linear\"}}],\"label\":\"1987.0\",\"method\":\"animate\"},{\"args\":[[\"1988.0\"],{\"frame\":{\"duration\":0,\"redraw\":true},\"mode\":\"immediate\",\"fromcurrent\":true,\"transition\":{\"duration\":0,\"easing\":\"linear\"}}],\"label\":\"1988.0\",\"method\":\"animate\"},{\"args\":[[\"1989.0\"],{\"frame\":{\"duration\":0,\"redraw\":true},\"mode\":\"immediate\",\"fromcurrent\":true,\"transition\":{\"duration\":0,\"easing\":\"linear\"}}],\"label\":\"1989.0\",\"method\":\"animate\"},{\"args\":[[\"1990.0\"],{\"frame\":{\"duration\":0,\"redraw\":true},\"mode\":\"immediate\",\"fromcurrent\":true,\"transition\":{\"duration\":0,\"easing\":\"linear\"}}],\"label\":\"1990.0\",\"method\":\"animate\"},{\"args\":[[\"1991.0\"],{\"frame\":{\"duration\":0,\"redraw\":true},\"mode\":\"immediate\",\"fromcurrent\":true,\"transition\":{\"duration\":0,\"easing\":\"linear\"}}],\"label\":\"1991.0\",\"method\":\"animate\"},{\"args\":[[\"1992.0\"],{\"frame\":{\"duration\":0,\"redraw\":true},\"mode\":\"immediate\",\"fromcurrent\":true,\"transition\":{\"duration\":0,\"easing\":\"linear\"}}],\"label\":\"1992.0\",\"method\":\"animate\"},{\"args\":[[\"1993.0\"],{\"frame\":{\"duration\":0,\"redraw\":true},\"mode\":\"immediate\",\"fromcurrent\":true,\"transition\":{\"duration\":0,\"easing\":\"linear\"}}],\"label\":\"1993.0\",\"method\":\"animate\"},{\"args\":[[\"1994.0\"],{\"frame\":{\"duration\":0,\"redraw\":true},\"mode\":\"immediate\",\"fromcurrent\":true,\"transition\":{\"duration\":0,\"easing\":\"linear\"}}],\"label\":\"1994.0\",\"method\":\"animate\"},{\"args\":[[\"1995.0\"],{\"frame\":{\"duration\":0,\"redraw\":true},\"mode\":\"immediate\",\"fromcurrent\":true,\"transition\":{\"duration\":0,\"easing\":\"linear\"}}],\"label\":\"1995.0\",\"method\":\"animate\"},{\"args\":[[\"1996.0\"],{\"frame\":{\"duration\":0,\"redraw\":true},\"mode\":\"immediate\",\"fromcurrent\":true,\"transition\":{\"duration\":0,\"easing\":\"linear\"}}],\"label\":\"1996.0\",\"method\":\"animate\"},{\"args\":[[\"1997.0\"],{\"frame\":{\"duration\":0,\"redraw\":true},\"mode\":\"immediate\",\"fromcurrent\":true,\"transition\":{\"duration\":0,\"easing\":\"linear\"}}],\"label\":\"1997.0\",\"method\":\"animate\"},{\"args\":[[\"1998.0\"],{\"frame\":{\"duration\":0,\"redraw\":true},\"mode\":\"immediate\",\"fromcurrent\":true,\"transition\":{\"duration\":0,\"easing\":\"linear\"}}],\"label\":\"1998.0\",\"method\":\"animate\"},{\"args\":[[\"1999.0\"],{\"frame\":{\"duration\":0,\"redraw\":true},\"mode\":\"immediate\",\"fromcurrent\":true,\"transition\":{\"duration\":0,\"easing\":\"linear\"}}],\"label\":\"1999.0\",\"method\":\"animate\"},{\"args\":[[\"2000.0\"],{\"frame\":{\"duration\":0,\"redraw\":true},\"mode\":\"immediate\",\"fromcurrent\":true,\"transition\":{\"duration\":0,\"easing\":\"linear\"}}],\"label\":\"2000.0\",\"method\":\"animate\"},{\"args\":[[\"2001.0\"],{\"frame\":{\"duration\":0,\"redraw\":true},\"mode\":\"immediate\",\"fromcurrent\":true,\"transition\":{\"duration\":0,\"easing\":\"linear\"}}],\"label\":\"2001.0\",\"method\":\"animate\"},{\"args\":[[\"2002.0\"],{\"frame\":{\"duration\":0,\"redraw\":true},\"mode\":\"immediate\",\"fromcurrent\":true,\"transition\":{\"duration\":0,\"easing\":\"linear\"}}],\"label\":\"2002.0\",\"method\":\"animate\"},{\"args\":[[\"2003.0\"],{\"frame\":{\"duration\":0,\"redraw\":true},\"mode\":\"immediate\",\"fromcurrent\":true,\"transition\":{\"duration\":0,\"easing\":\"linear\"}}],\"label\":\"2003.0\",\"method\":\"animate\"},{\"args\":[[\"2004.0\"],{\"frame\":{\"duration\":0,\"redraw\":true},\"mode\":\"immediate\",\"fromcurrent\":true,\"transition\":{\"duration\":0,\"easing\":\"linear\"}}],\"label\":\"2004.0\",\"method\":\"animate\"},{\"args\":[[\"2005.0\"],{\"frame\":{\"duration\":0,\"redraw\":true},\"mode\":\"immediate\",\"fromcurrent\":true,\"transition\":{\"duration\":0,\"easing\":\"linear\"}}],\"label\":\"2005.0\",\"method\":\"animate\"},{\"args\":[[\"2006.0\"],{\"frame\":{\"duration\":0,\"redraw\":true},\"mode\":\"immediate\",\"fromcurrent\":true,\"transition\":{\"duration\":0,\"easing\":\"linear\"}}],\"label\":\"2006.0\",\"method\":\"animate\"},{\"args\":[[\"2007.0\"],{\"frame\":{\"duration\":0,\"redraw\":true},\"mode\":\"immediate\",\"fromcurrent\":true,\"transition\":{\"duration\":0,\"easing\":\"linear\"}}],\"label\":\"2007.0\",\"method\":\"animate\"},{\"args\":[[\"2008.0\"],{\"frame\":{\"duration\":0,\"redraw\":true},\"mode\":\"immediate\",\"fromcurrent\":true,\"transition\":{\"duration\":0,\"easing\":\"linear\"}}],\"label\":\"2008.0\",\"method\":\"animate\"},{\"args\":[[\"2009.0\"],{\"frame\":{\"duration\":0,\"redraw\":true},\"mode\":\"immediate\",\"fromcurrent\":true,\"transition\":{\"duration\":0,\"easing\":\"linear\"}}],\"label\":\"2009.0\",\"method\":\"animate\"},{\"args\":[[\"2010.0\"],{\"frame\":{\"duration\":0,\"redraw\":true},\"mode\":\"immediate\",\"fromcurrent\":true,\"transition\":{\"duration\":0,\"easing\":\"linear\"}}],\"label\":\"2010.0\",\"method\":\"animate\"},{\"args\":[[\"2011.0\"],{\"frame\":{\"duration\":0,\"redraw\":true},\"mode\":\"immediate\",\"fromcurrent\":true,\"transition\":{\"duration\":0,\"easing\":\"linear\"}}],\"label\":\"2011.0\",\"method\":\"animate\"},{\"args\":[[\"2012.0\"],{\"frame\":{\"duration\":0,\"redraw\":true},\"mode\":\"immediate\",\"fromcurrent\":true,\"transition\":{\"duration\":0,\"easing\":\"linear\"}}],\"label\":\"2012.0\",\"method\":\"animate\"},{\"args\":[[\"2013.0\"],{\"frame\":{\"duration\":0,\"redraw\":true},\"mode\":\"immediate\",\"fromcurrent\":true,\"transition\":{\"duration\":0,\"easing\":\"linear\"}}],\"label\":\"2013.0\",\"method\":\"animate\"},{\"args\":[[\"2014.0\"],{\"frame\":{\"duration\":0,\"redraw\":true},\"mode\":\"immediate\",\"fromcurrent\":true,\"transition\":{\"duration\":0,\"easing\":\"linear\"}}],\"label\":\"2014.0\",\"method\":\"animate\"},{\"args\":[[\"2015.0\"],{\"frame\":{\"duration\":0,\"redraw\":true},\"mode\":\"immediate\",\"fromcurrent\":true,\"transition\":{\"duration\":0,\"easing\":\"linear\"}}],\"label\":\"2015.0\",\"method\":\"animate\"},{\"args\":[[\"2016.0\"],{\"frame\":{\"duration\":0,\"redraw\":true},\"mode\":\"immediate\",\"fromcurrent\":true,\"transition\":{\"duration\":0,\"easing\":\"linear\"}}],\"label\":\"2016.0\",\"method\":\"animate\"},{\"args\":[[\"2017.0\"],{\"frame\":{\"duration\":0,\"redraw\":true},\"mode\":\"immediate\",\"fromcurrent\":true,\"transition\":{\"duration\":0,\"easing\":\"linear\"}}],\"label\":\"2017.0\",\"method\":\"animate\"},{\"args\":[[\"2018.0\"],{\"frame\":{\"duration\":0,\"redraw\":true},\"mode\":\"immediate\",\"fromcurrent\":true,\"transition\":{\"duration\":0,\"easing\":\"linear\"}}],\"label\":\"2018.0\",\"method\":\"animate\"},{\"args\":[[\"2019.0\"],{\"frame\":{\"duration\":0,\"redraw\":true},\"mode\":\"immediate\",\"fromcurrent\":true,\"transition\":{\"duration\":0,\"easing\":\"linear\"}}],\"label\":\"2019.0\",\"method\":\"animate\"},{\"args\":[[\"2020.0\"],{\"frame\":{\"duration\":0,\"redraw\":true},\"mode\":\"immediate\",\"fromcurrent\":true,\"transition\":{\"duration\":0,\"easing\":\"linear\"}}],\"label\":\"2020.0\",\"method\":\"animate\"},{\"args\":[[\"2021.0\"],{\"frame\":{\"duration\":0,\"redraw\":true},\"mode\":\"immediate\",\"fromcurrent\":true,\"transition\":{\"duration\":0,\"easing\":\"linear\"}}],\"label\":\"2021.0\",\"method\":\"animate\"},{\"args\":[[\"2022.0\"],{\"frame\":{\"duration\":0,\"redraw\":true},\"mode\":\"immediate\",\"fromcurrent\":true,\"transition\":{\"duration\":0,\"easing\":\"linear\"}}],\"label\":\"2022.0\",\"method\":\"animate\"},{\"args\":[[\"2023.0\"],{\"frame\":{\"duration\":0,\"redraw\":true},\"mode\":\"immediate\",\"fromcurrent\":true,\"transition\":{\"duration\":0,\"easing\":\"linear\"}}],\"label\":\"2023.0\",\"method\":\"animate\"},{\"args\":[[\"2024.0\"],{\"frame\":{\"duration\":0,\"redraw\":true},\"mode\":\"immediate\",\"fromcurrent\":true,\"transition\":{\"duration\":0,\"easing\":\"linear\"}}],\"label\":\"2024.0\",\"method\":\"animate\"}],\"x\":0.1,\"xanchor\":\"left\",\"y\":0,\"yanchor\":\"top\"}],\"title\":{\"text\":\"UFO Sightings in New Mexico Over Time\"}},                        {\"responsive\": true}                    ).then(function(){\n",
              "                            Plotly.addFrames('d600151c-6cbf-4ccf-bce9-4909d1bc5d2e', [{\"data\":[{\"hovertemplate\":\"\\u003cb\\u003e%{hovertext}\\u003c\\u002fb\\u003e\\u003cbr\\u003e\\u003cbr\\u003eYear=1929.0\\u003cbr\\u003eLatitude=%{lat}\\u003cbr\\u003eLongitude=%{lon}\\u003cextra\\u003e\\u003c\\u002fextra\\u003e\",\"hovertext\":[\"1929-01-28T15:41:00\"],\"lat\":[31.851827],\"legendgroup\":\"\",\"lon\":[-106.640427],\"marker\":{\"color\":\"red\"},\"mode\":\"markers\",\"name\":\"\",\"showlegend\":false,\"subplot\":\"mapbox\",\"type\":\"scattermapbox\"}],\"name\":\"1929.0\"},{\"data\":[{\"hovertemplate\":\"\\u003cb\\u003e%{hovertext}\\u003c\\u002fb\\u003e\\u003cbr\\u003e\\u003cbr\\u003eYear=1944.0\\u003cbr\\u003eLatitude=%{lat}\\u003cbr\\u003eLongitude=%{lon}\\u003cextra\\u003e\\u003c\\u002fextra\\u003e\",\"hovertext\":[\"1944-04-02T11:00:00\",\"1944-06-01T12:00:00\"],\"lat\":[34.406841,35.878996],\"legendgroup\":\"\",\"lon\":[-103.199641,-106.300662],\"marker\":{\"color\":\"red\"},\"mode\":\"markers\",\"name\":\"\",\"showlegend\":false,\"subplot\":\"mapbox\",\"type\":\"scattermapbox\"}],\"name\":\"1944.0\"},{\"data\":[{\"hovertemplate\":\"\\u003cb\\u003e%{hovertext}\\u003c\\u002fb\\u003e\\u003cbr\\u003e\\u003cbr\\u003eYear=1945.0\\u003cbr\\u003eLatitude=%{lat}\\u003cbr\\u003eLongitude=%{lon}\\u003cextra\\u003e\\u003c\\u002fextra\\u003e\",\"hovertext\":[\"1945-08-16T11:30:00\",\"1945-12-15T02:00:00\"],\"lat\":[33.917427,33.394758],\"legendgroup\":\"\",\"lon\":[-106.866285,-104.523489],\"marker\":{\"color\":\"red\"},\"mode\":\"markers\",\"name\":\"\",\"showlegend\":false,\"subplot\":\"mapbox\",\"type\":\"scattermapbox\"}],\"name\":\"1945.0\"},{\"data\":[{\"hovertemplate\":\"\\u003cb\\u003e%{hovertext}\\u003c\\u002fb\\u003e\\u003cbr\\u003e\\u003cbr\\u003eYear=1947.0\\u003cbr\\u003eLatitude=%{lat}\\u003cbr\\u003eLongitude=%{lon}\\u003cextra\\u003e\\u003c\\u002fextra\\u003e\",\"hovertext\":[\"1947-06-01T17:00:00\",\"1947-07-07T00:00:00\",\"1947-07-11T00:00:00\",\"1947-07-20T22:00:00\"],\"lat\":[35.992722,33.394758,33.394758,36.902566],\"legendgroup\":\"\",\"lon\":[-106.079739,-104.523489,-104.523489,-104.438086],\"marker\":{\"color\":\"red\"},\"mode\":\"markers\",\"name\":\"\",\"showlegend\":false,\"subplot\":\"mapbox\",\"type\":\"scattermapbox\"}],\"name\":\"1947.0\"},{\"data\":[{\"hovertemplate\":\"\\u003cb\\u003e%{hovertext}\\u003c\\u002fb\\u003e\\u003cbr\\u003e\\u003cbr\\u003eYear=1950.0\\u003cbr\\u003eLatitude=%{lat}\\u003cbr\\u003eLongitude=%{lon}\\u003cextra\\u003e\\u003c\\u002fextra\\u003e\",\"hovertext\":[\"1950-03-22T00:00:00\"],\"lat\":[33.394758],\"legendgroup\":\"\",\"lon\":[-104.523489],\"marker\":{\"color\":\"red\"},\"mode\":\"markers\",\"name\":\"\",\"showlegend\":false,\"subplot\":\"mapbox\",\"type\":\"scattermapbox\"}],\"name\":\"1950.0\"},{\"data\":[{\"hovertemplate\":\"\\u003cb\\u003e%{hovertext}\\u003c\\u002fb\\u003e\\u003cbr\\u003e\\u003cbr\\u003eYear=1951.0\\u003cbr\\u003eLatitude=%{lat}\\u003cbr\\u003eLongitude=%{lon}\\u003cextra\\u003e\\u003c\\u002fextra\\u003e\",\"hovertext\":[\"1951-02-06T13:00:00\",\"1951-11-15T06:00:00\"],\"lat\":[33.394758,32.849132],\"legendgroup\":\"\",\"lon\":[-104.523489,-106.098862],\"marker\":{\"color\":\"red\"},\"mode\":\"markers\",\"name\":\"\",\"showlegend\":false,\"subplot\":\"mapbox\",\"type\":\"scattermapbox\"}],\"name\":\"1951.0\"},{\"data\":[{\"hovertemplate\":\"\\u003cb\\u003e%{hovertext}\\u003c\\u002fb\\u003e\\u003cbr\\u003e\\u003cbr\\u003eYear=1953.0\\u003cbr\\u003eLatitude=%{lat}\\u003cbr\\u003eLongitude=%{lon}\\u003cextra\\u003e\\u003c\\u002fextra\\u003e\",\"hovertext\":[\"1953-06-15T00:00:00\",\"1953-08-15T19:00:00\"],\"lat\":[33.394758,32.840683],\"legendgroup\":\"\",\"lon\":[-104.523489,-104.405192],\"marker\":{\"color\":\"red\"},\"mode\":\"markers\",\"name\":\"\",\"showlegend\":false,\"subplot\":\"mapbox\",\"type\":\"scattermapbox\"}],\"name\":\"1953.0\"},{\"data\":[{\"hovertemplate\":\"\\u003cb\\u003e%{hovertext}\\u003c\\u002fb\\u003e\\u003cbr\\u003e\\u003cbr\\u003eYear=1954.0\\u003cbr\\u003eLatitude=%{lat}\\u003cbr\\u003eLongitude=%{lon}\\u003cextra\\u003e\\u003c\\u002fextra\\u003e\",\"hovertext\":[\"1954-11-12T13:30:00\"],\"lat\":[32.392235],\"legendgroup\":\"\",\"lon\":[-106.814868],\"marker\":{\"color\":\"red\"},\"mode\":\"markers\",\"name\":\"\",\"showlegend\":false,\"subplot\":\"mapbox\",\"type\":\"scattermapbox\"}],\"name\":\"1954.0\"},{\"data\":[{\"hovertemplate\":\"\\u003cb\\u003e%{hovertext}\\u003c\\u002fb\\u003e\\u003cbr\\u003e\\u003cbr\\u003eYear=1959.0\\u003cbr\\u003eLatitude=%{lat}\\u003cbr\\u003eLongitude=%{lon}\\u003cextra\\u003e\\u003c\\u002fextra\\u003e\",\"hovertext\":[\"1959-03-15T14:00:00\",\"1959-08-15T15:00:00\",\"1959-08-20T03:00:00\"],\"lat\":[32.706351,33.394758,33.457047],\"legendgroup\":\"\",\"lon\":[-103.132147,-104.523489,-105.735887],\"marker\":{\"color\":\"red\"},\"mode\":\"markers\",\"name\":\"\",\"showlegend\":false,\"subplot\":\"mapbox\",\"type\":\"scattermapbox\"}],\"name\":\"1959.0\"},{\"data\":[{\"hovertemplate\":\"\\u003cb\\u003e%{hovertext}\\u003c\\u002fb\\u003e\\u003cbr\\u003e\\u003cbr\\u003eYear=1962.0\\u003cbr\\u003eLatitude=%{lat}\\u003cbr\\u003eLongitude=%{lon}\\u003cextra\\u003e\\u003c\\u002fextra\\u003e\",\"hovertext\":[\"1962-05-15T21:00:00\"],\"lat\":[34.895227],\"legendgroup\":\"\",\"lon\":[-107.583167],\"marker\":{\"color\":\"red\"},\"mode\":\"markers\",\"name\":\"\",\"showlegend\":false,\"subplot\":\"mapbox\",\"type\":\"scattermapbox\"}],\"name\":\"1962.0\"},{\"data\":[{\"hovertemplate\":\"\\u003cb\\u003e%{hovertext}\\u003c\\u002fb\\u003e\\u003cbr\\u003e\\u003cbr\\u003eYear=1965.0\\u003cbr\\u003eLatitude=%{lat}\\u003cbr\\u003eLongitude=%{lon}\\u003cextra\\u003e\\u003c\\u002fextra\\u003e\",\"hovertext\":[\"1965-06-01T05:00:00\",\"1965-06-20T02:00:00\",\"1965-08-08T12:30:00\",\"1965-10-01T02:00:00\"],\"lat\":[32.260473,35.101401,33.075,34.9727],\"legendgroup\":\"\",\"lon\":[-107.744865,-106.631867,-106.018048,105.0324],\"marker\":{\"color\":\"red\"},\"mode\":\"markers\",\"name\":\"\",\"showlegend\":false,\"subplot\":\"mapbox\",\"type\":\"scattermapbox\"}],\"name\":\"1965.0\"},{\"data\":[{\"hovertemplate\":\"\\u003cb\\u003e%{hovertext}\\u003c\\u002fb\\u003e\\u003cbr\\u003e\\u003cbr\\u003eYear=1966.0\\u003cbr\\u003eLatitude=%{lat}\\u003cbr\\u003eLongitude=%{lon}\\u003cextra\\u003e\\u003c\\u002fextra\\u003e\",\"hovertext\":[\"1966-06-30T00:01:00\",\"1966-06-30T22:30:00\",\"1966-10-20T02:00:00\",\"1966-10-21T22:15:00\"],\"lat\":[34.9727,35.685756,35.101401,35.685756],\"legendgroup\":\"\",\"lon\":[105.0324,-105.938613,-106.631867,-105.938613],\"marker\":{\"color\":\"red\"},\"mode\":\"markers\",\"name\":\"\",\"showlegend\":false,\"subplot\":\"mapbox\",\"type\":\"scattermapbox\"}],\"name\":\"1966.0\"},{\"data\":[{\"hovertemplate\":\"\\u003cb\\u003e%{hovertext}\\u003c\\u002fb\\u003e\\u003cbr\\u003e\\u003cbr\\u003eYear=1967.0\\u003cbr\\u003eLatitude=%{lat}\\u003cbr\\u003eLongitude=%{lon}\\u003cextra\\u003e\\u003c\\u002fextra\\u003e\",\"hovertext\":[\"1967-08-15T14:00:00\",\"1967-09-22T22:30:00\"],\"lat\":[35.101401,35.101401],\"legendgroup\":\"\",\"lon\":[-106.631867,-106.631867],\"marker\":{\"color\":\"red\"},\"mode\":\"markers\",\"name\":\"\",\"showlegend\":false,\"subplot\":\"mapbox\",\"type\":\"scattermapbox\"}],\"name\":\"1967.0\"},{\"data\":[{\"hovertemplate\":\"\\u003cb\\u003e%{hovertext}\\u003c\\u002fb\\u003e\\u003cbr\\u003e\\u003cbr\\u003eYear=1969.0\\u003cbr\\u003eLatitude=%{lat}\\u003cbr\\u003eLongitude=%{lon}\\u003cextra\\u003e\\u003c\\u002fextra\\u003e\",\"hovertext\":[\"1969-08-15T16:00:00\"],\"lat\":[35.306251],\"legendgroup\":\"\",\"lon\":[-106.424425],\"marker\":{\"color\":\"red\"},\"mode\":\"markers\",\"name\":\"\",\"showlegend\":false,\"subplot\":\"mapbox\",\"type\":\"scattermapbox\"}],\"name\":\"1969.0\"},{\"data\":[{\"hovertemplate\":\"\\u003cb\\u003e%{hovertext}\\u003c\\u002fb\\u003e\\u003cbr\\u003e\\u003cbr\\u003eYear=1970.0\\u003cbr\\u003eLatitude=%{lat}\\u003cbr\\u003eLongitude=%{lon}\\u003cextra\\u003e\\u003c\\u002fextra\\u003e\",\"hovertext\":[\"1970-12-05T20:00:00\"],\"lat\":[35.101401],\"legendgroup\":\"\",\"lon\":[-106.631867],\"marker\":{\"color\":\"red\"},\"mode\":\"markers\",\"name\":\"\",\"showlegend\":false,\"subplot\":\"mapbox\",\"type\":\"scattermapbox\"}],\"name\":\"1970.0\"},{\"data\":[{\"hovertemplate\":\"\\u003cb\\u003e%{hovertext}\\u003c\\u002fb\\u003e\\u003cbr\\u003e\\u003cbr\\u003eYear=1971.0\\u003cbr\\u003eLatitude=%{lat}\\u003cbr\\u003eLongitude=%{lon}\\u003cextra\\u003e\\u003c\\u002fextra\\u003e\",\"hovertext\":[\"1971-04-15T03:15:00\"],\"lat\":[34.9727],\"legendgroup\":\"\",\"lon\":[105.0324],\"marker\":{\"color\":\"red\"},\"mode\":\"markers\",\"name\":\"\",\"showlegend\":false,\"subplot\":\"mapbox\",\"type\":\"scattermapbox\"}],\"name\":\"1971.0\"},{\"data\":[{\"hovertemplate\":\"\\u003cb\\u003e%{hovertext}\\u003c\\u002fb\\u003e\\u003cbr\\u003e\\u003cbr\\u003eYear=1972.0\\u003cbr\\u003eLatitude=%{lat}\\u003cbr\\u003eLongitude=%{lon}\\u003cextra\\u003e\\u003c\\u002fextra\\u003e\",\"hovertext\":[\"1972-03-15T01:00:00\",\"1972-05-01T01:00:00\"],\"lat\":[34.804859,34.9727],\"legendgroup\":\"\",\"lon\":[-106.733988,105.0324],\"marker\":{\"color\":\"red\"},\"mode\":\"markers\",\"name\":\"\",\"showlegend\":false,\"subplot\":\"mapbox\",\"type\":\"scattermapbox\"}],\"name\":\"1972.0\"},{\"data\":[{\"hovertemplate\":\"\\u003cb\\u003e%{hovertext}\\u003c\\u002fb\\u003e\\u003cbr\\u003e\\u003cbr\\u003eYear=1973.0\\u003cbr\\u003eLatitude=%{lat}\\u003cbr\\u003eLongitude=%{lon}\\u003cextra\\u003e\\u003c\\u002fextra\\u003e\",\"hovertext\":[\"1973-01-12T03:00:00\",\"1973-03-01T01:00:00\",\"1973-06-15T08:00:00\",\"1973-06-30T00:00:00\"],\"lat\":[36.746211,35.685756,35.878996,35.878996],\"legendgroup\":\"\",\"lon\":[-108.19233,-105.938613,-106.300662,-106.300662],\"marker\":{\"color\":\"red\"},\"mode\":\"markers\",\"name\":\"\",\"showlegend\":false,\"subplot\":\"mapbox\",\"type\":\"scattermapbox\"}],\"name\":\"1973.0\"},{\"data\":[{\"hovertemplate\":\"\\u003cb\\u003e%{hovertext}\\u003c\\u002fb\\u003e\\u003cbr\\u003e\\u003cbr\\u003eYear=1974.0\\u003cbr\\u003eLatitude=%{lat}\\u003cbr\\u003eLongitude=%{lon}\\u003cextra\\u003e\\u003c\\u002fextra\\u003e\",\"hovertext\":[\"1974-05-22T05:30:00\",\"1974-08-15T22:00:00\",\"1974-08-21T11:00:00\"],\"lat\":[33.155834,34.386598,32.849132],\"legendgroup\":\"\",\"lon\":[-105.776547,-103.318975,-106.098862],\"marker\":{\"color\":\"red\"},\"mode\":\"markers\",\"name\":\"\",\"showlegend\":false,\"subplot\":\"mapbox\",\"type\":\"scattermapbox\"}],\"name\":\"1974.0\"},{\"data\":[{\"hovertemplate\":\"\\u003cb\\u003e%{hovertext}\\u003c\\u002fb\\u003e\\u003cbr\\u003e\\u003cbr\\u003eYear=1975.0\\u003cbr\\u003eLatitude=%{lat}\\u003cbr\\u003eLongitude=%{lon}\\u003cextra\\u003e\\u003c\\u002fextra\\u003e\",\"hovertext\":[\"1975-06-01T00:00:00\",\"1975-06-01T18:46:00\",\"1975-06-01T22:00:00\",\"1975-06-30T22:00:00\",\"1975-09-12T22:00:00\"],\"lat\":[34.406841,34.386598,34.406841,35.009532,32.316465],\"legendgroup\":\"\",\"lon\":[-103.199641,-103.318975,-103.199641,-105.66755,-106.772754],\"marker\":{\"color\":\"red\"},\"mode\":\"markers\",\"name\":\"\",\"showlegend\":false,\"subplot\":\"mapbox\",\"type\":\"scattermapbox\"}],\"name\":\"1975.0\"},{\"data\":[{\"hovertemplate\":\"\\u003cb\\u003e%{hovertext}\\u003c\\u002fb\\u003e\\u003cbr\\u003e\\u003cbr\\u003eYear=1976.0\\u003cbr\\u003eLatitude=%{lat}\\u003cbr\\u003eLongitude=%{lon}\\u003cextra\\u003e\\u003c\\u002fextra\\u003e\",\"hovertext\":[\"1976-01-06T01:00:00\",\"1976-06-15T23:00:00\",\"1976-10-15T15:00:00\"],\"lat\":[34.386598,32.706351,34.184208],\"legendgroup\":\"\",\"lon\":[-103.318975,-103.132147,-103.335009],\"marker\":{\"color\":\"red\"},\"mode\":\"markers\",\"name\":\"\",\"showlegend\":false,\"subplot\":\"mapbox\",\"type\":\"scattermapbox\"}],\"name\":\"1976.0\"},{\"data\":[{\"hovertemplate\":\"\\u003cb\\u003e%{hovertext}\\u003c\\u002fb\\u003e\\u003cbr\\u003e\\u003cbr\\u003eYear=1977.0\\u003cbr\\u003eLatitude=%{lat}\\u003cbr\\u003eLongitude=%{lon}\\u003cextra\\u003e\\u003c\\u002fextra\\u003e\",\"hovertext\":[\"1977-07-02T01:00:00\",\"1977-07-15T21:00:00\",\"1977-07-15T22:00:00\",\"1977-07-24T07:00:00\",\"1977-07-24T23:45:00\",\"1977-09-26T01:00:00\"],\"lat\":[32.418235,35.101401,35.101401,35.101401,35.435177,32.324738],\"legendgroup\":\"\",\"lon\":[-104.230988,-106.631867,-106.631867,-106.631867,-106.126759,-106.759443],\"marker\":{\"color\":\"red\"},\"mode\":\"markers\",\"name\":\"\",\"showlegend\":false,\"subplot\":\"mapbox\",\"type\":\"scattermapbox\"}],\"name\":\"1977.0\"},{\"data\":[{\"hovertemplate\":\"\\u003cb\\u003e%{hovertext}\\u003c\\u002fb\\u003e\\u003cbr\\u003e\\u003cbr\\u003eYear=1978.0\\u003cbr\\u003eLatitude=%{lat}\\u003cbr\\u003eLongitude=%{lon}\\u003cextra\\u003e\\u003c\\u002fextra\\u003e\",\"hovertext\":[\"1978-02-21T03:00:00\",\"1978-04-01T04:00:00\",\"1978-04-15T18:00:00\",\"1978-07-15T00:00:00\",\"1978-08-07T22:00:00\",\"1978-12-18T18:00:00\"],\"lat\":[34.057247,36.746211,35.101401,35.685756,35.575249,35.101401],\"legendgroup\":\"\",\"lon\":[-106.892888,-108.19233,-106.631867,-105.938613,-105.676048,-106.631867],\"marker\":{\"color\":\"red\"},\"mode\":\"markers\",\"name\":\"\",\"showlegend\":false,\"subplot\":\"mapbox\",\"type\":\"scattermapbox\"}],\"name\":\"1978.0\"},{\"data\":[{\"hovertemplate\":\"\\u003cb\\u003e%{hovertext}\\u003c\\u002fb\\u003e\\u003cbr\\u003e\\u003cbr\\u003eYear=1979.0\\u003cbr\\u003eLatitude=%{lat}\\u003cbr\\u003eLongitude=%{lon}\\u003cextra\\u003e\\u003c\\u002fextra\\u003e\",\"hovertext\":[\"1979-01-15T20:00:00\",\"1979-05-15T02:00:00\",\"1979-12-08T20:30:00\"],\"lat\":[35.009532,35.101401,35.101401],\"legendgroup\":\"\",\"lon\":[-105.66755,-106.631867,-106.631867],\"marker\":{\"color\":\"red\"},\"mode\":\"markers\",\"name\":\"\",\"showlegend\":false,\"subplot\":\"mapbox\",\"type\":\"scattermapbox\"}],\"name\":\"1979.0\"},{\"data\":[{\"hovertemplate\":\"\\u003cb\\u003e%{hovertext}\\u003c\\u002fb\\u003e\\u003cbr\\u003e\\u003cbr\\u003eYear=1980.0\\u003cbr\\u003eLatitude=%{lat}\\u003cbr\\u003eLongitude=%{lon}\\u003cextra\\u003e\\u003c\\u002fextra\\u003e\",\"hovertext\":[\"1980-07-22T23:00:00\",\"1980-10-15T19:37:00\",\"1980-12-01T00:01:00\"],\"lat\":[35.575249,34.650834,33.394758],\"legendgroup\":\"\",\"lon\":[-105.676048,-108.674494,-104.523489],\"marker\":{\"color\":\"red\"},\"mode\":\"markers\",\"name\":\"\",\"showlegend\":false,\"subplot\":\"mapbox\",\"type\":\"scattermapbox\"}],\"name\":\"1980.0\"},{\"data\":[{\"hovertemplate\":\"\\u003cb\\u003e%{hovertext}\\u003c\\u002fb\\u003e\\u003cbr\\u003e\\u003cbr\\u003eYear=1981.0\\u003cbr\\u003eLatitude=%{lat}\\u003cbr\\u003eLongitude=%{lon}\\u003cextra\\u003e\\u003c\\u002fextra\\u003e\",\"hovertext\":[\"1981-06-18T03:00:00\",\"1981-07-30T19:30:00\",\"1981-12-01T19:00:00\"],\"lat\":[32.856095,32.706351,35.101401],\"legendgroup\":\"\",\"lon\":[-107.979515,-103.132147,-106.631867],\"marker\":{\"color\":\"red\"},\"mode\":\"markers\",\"name\":\"\",\"showlegend\":false,\"subplot\":\"mapbox\",\"type\":\"scattermapbox\"}],\"name\":\"1981.0\"},{\"data\":[{\"hovertemplate\":\"\\u003cb\\u003e%{hovertext}\\u003c\\u002fb\\u003e\\u003cbr\\u003e\\u003cbr\\u003eYear=1982.0\\u003cbr\\u003eLatitude=%{lat}\\u003cbr\\u003eLongitude=%{lon}\\u003cextra\\u003e\\u003c\\u002fextra\\u003e\",\"hovertext\":[\"1982-01-01T22:00:00\",\"1982-06-10T13:00:00\"],\"lat\":[32.418235,35.306251],\"legendgroup\":\"\",\"lon\":[-104.230988,-106.424425],\"marker\":{\"color\":\"red\"},\"mode\":\"markers\",\"name\":\"\",\"showlegend\":false,\"subplot\":\"mapbox\",\"type\":\"scattermapbox\"}],\"name\":\"1982.0\"},{\"data\":[{\"hovertemplate\":\"\\u003cb\\u003e%{hovertext}\\u003c\\u002fb\\u003e\\u003cbr\\u003e\\u003cbr\\u003eYear=1983.0\\u003cbr\\u003eLatitude=%{lat}\\u003cbr\\u003eLongitude=%{lon}\\u003cextra\\u003e\\u003c\\u002fextra\\u003e\",\"hovertext\":[\"1983-04-01T13:00:00\",\"1983-09-15T21:00:00\"],\"lat\":[35.101401,34.406841],\"legendgroup\":\"\",\"lon\":[-106.631867,-103.199641],\"marker\":{\"color\":\"red\"},\"mode\":\"markers\",\"name\":\"\",\"showlegend\":false,\"subplot\":\"mapbox\",\"type\":\"scattermapbox\"}],\"name\":\"1983.0\"},{\"data\":[{\"hovertemplate\":\"\\u003cb\\u003e%{hovertext}\\u003c\\u002fb\\u003e\\u003cbr\\u003e\\u003cbr\\u003eYear=1984.0\\u003cbr\\u003eLatitude=%{lat}\\u003cbr\\u003eLongitude=%{lon}\\u003cextra\\u003e\\u003c\\u002fextra\\u003e\",\"hovertext\":[\"1984-07-01T06:30:00\",\"1984-07-15T02:00:00\",\"1984-09-01T21:00:00\",\"1984-10-15T19:30:00\"],\"lat\":[36.934023,32.260473,36.17617,35.101401],\"legendgroup\":\"\",\"lon\":[-106.999919,-107.744865,-106.183063,-106.631867],\"marker\":{\"color\":\"red\"},\"mode\":\"markers\",\"name\":\"\",\"showlegend\":false,\"subplot\":\"mapbox\",\"type\":\"scattermapbox\"}],\"name\":\"1984.0\"},{\"data\":[{\"hovertemplate\":\"\\u003cb\\u003e%{hovertext}\\u003c\\u002fb\\u003e\\u003cbr\\u003e\\u003cbr\\u003eYear=1985.0\\u003cbr\\u003eLatitude=%{lat}\\u003cbr\\u003eLongitude=%{lon}\\u003cextra\\u003e\\u003c\\u002fextra\\u003e\",\"hovertext\":[\"1985-07-05T23:00:00\",\"1985-07-14T23:00:00\",\"1985-08-01T01:00:00\"],\"lat\":[36.059939,32.418235,36.509774],\"legendgroup\":\"\",\"lon\":[-107.966758,-104.230988,-104.915516],\"marker\":{\"color\":\"red\"},\"mode\":\"markers\",\"name\":\"\",\"showlegend\":false,\"subplot\":\"mapbox\",\"type\":\"scattermapbox\"}],\"name\":\"1985.0\"},{\"data\":[{\"hovertemplate\":\"\\u003cb\\u003e%{hovertext}\\u003c\\u002fb\\u003e\\u003cbr\\u003e\\u003cbr\\u003eYear=1986.0\\u003cbr\\u003eLatitude=%{lat}\\u003cbr\\u003eLongitude=%{lon}\\u003cextra\\u003e\\u003c\\u002fextra\\u003e\",\"hovertext\":[\"1986-07-15T07:30:00\",\"1986-07-15T19:30:00\",\"1986-07-15T22:00:00\",\"1986-10-15T16:03:00\"],\"lat\":[35.598375,35.101401,35.575249,33.394758],\"legendgroup\":\"\",\"lon\":[-105.224193,-106.631867,-105.676048,-104.523489],\"marker\":{\"color\":\"red\"},\"mode\":\"markers\",\"name\":\"\",\"showlegend\":false,\"subplot\":\"mapbox\",\"type\":\"scattermapbox\"}],\"name\":\"1986.0\"},{\"data\":[{\"hovertemplate\":\"\\u003cb\\u003e%{hovertext}\\u003c\\u002fb\\u003e\\u003cbr\\u003e\\u003cbr\\u003eYear=1987.0\\u003cbr\\u003eLatitude=%{lat}\\u003cbr\\u003eLongitude=%{lon}\\u003cextra\\u003e\\u003c\\u002fextra\\u003e\",\"hovertext\":[\"1987-09-20T16:00:00\",\"1987-10-28T20:30:00\"],\"lat\":[35.685756,32.324738],\"legendgroup\":\"\",\"lon\":[-105.938613,-106.759443],\"marker\":{\"color\":\"red\"},\"mode\":\"markers\",\"name\":\"\",\"showlegend\":false,\"subplot\":\"mapbox\",\"type\":\"scattermapbox\"}],\"name\":\"1987.0\"},{\"data\":[{\"hovertemplate\":\"\\u003cb\\u003e%{hovertext}\\u003c\\u002fb\\u003e\\u003cbr\\u003e\\u003cbr\\u003eYear=1988.0\\u003cbr\\u003eLatitude=%{lat}\\u003cbr\\u003eLongitude=%{lon}\\u003cextra\\u003e\\u003c\\u002fextra\\u003e\",\"hovertext\":[\"1988-03-15T19:30:00\",\"1988-06-01T21:30:00\",\"1988-07-02T02:30:00\",\"1988-07-15T00:00:00\",\"1988-08-20T23:00:00\",\"1988-09-01T17:30:00\",\"1988-09-01T21:00:00\",\"1988-11-27T21:00:00\"],\"lat\":[35.519312,35.101401,34.057247,34.249104,36.746211,33.394758,34.600176,32.891812],\"legendgroup\":\"\",\"lon\":[-108.733438,-106.631867,-106.892888,-105.596071,-108.19233,-104.523489,-105.203898,-105.952151],\"marker\":{\"color\":\"red\"},\"mode\":\"markers\",\"name\":\"\",\"showlegend\":false,\"subplot\":\"mapbox\",\"type\":\"scattermapbox\"}],\"name\":\"1988.0\"},{\"data\":[{\"hovertemplate\":\"\\u003cb\\u003e%{hovertext}\\u003c\\u002fb\\u003e\\u003cbr\\u003e\\u003cbr\\u003eYear=1989.0\\u003cbr\\u003eLatitude=%{lat}\\u003cbr\\u003eLongitude=%{lon}\\u003cextra\\u003e\\u003c\\u002fextra\\u003e\",\"hovertext\":[\"1989-06-01T00:00:00\",\"1989-06-01T23:00:00\",\"1989-06-20T22:45:00\",\"1989-08-18T12:00:00\"],\"lat\":[34.9727,33.394758,35.101401,34.9727],\"legendgroup\":\"\",\"lon\":[105.0324,-104.523489,-106.631867,105.0324],\"marker\":{\"color\":\"red\"},\"mode\":\"markers\",\"name\":\"\",\"showlegend\":false,\"subplot\":\"mapbox\",\"type\":\"scattermapbox\"}],\"name\":\"1989.0\"},{\"data\":[{\"hovertemplate\":\"\\u003cb\\u003e%{hovertext}\\u003c\\u002fb\\u003e\\u003cbr\\u003e\\u003cbr\\u003eYear=1990.0\\u003cbr\\u003eLatitude=%{lat}\\u003cbr\\u003eLongitude=%{lon}\\u003cextra\\u003e\\u003c\\u002fextra\\u003e\",\"hovertext\":[\"1990-04-27T07:20:00\",\"1990-05-28T17:00:00\",\"1990-07-12T11:00:00\"],\"lat\":[34.142326,35.685756,33.075],\"legendgroup\":\"\",\"lon\":[-107.842554,-105.938613,-106.018048],\"marker\":{\"color\":\"red\"},\"mode\":\"markers\",\"name\":\"\",\"showlegend\":false,\"subplot\":\"mapbox\",\"type\":\"scattermapbox\"}],\"name\":\"1990.0\"},{\"data\":[{\"hovertemplate\":\"\\u003cb\\u003e%{hovertext}\\u003c\\u002fb\\u003e\\u003cbr\\u003e\\u003cbr\\u003eYear=1991.0\\u003cbr\\u003eLatitude=%{lat}\\u003cbr\\u003eLongitude=%{lon}\\u003cextra\\u003e\\u003c\\u002fextra\\u003e\",\"hovertext\":[\"1991-03-19T02:00:00\",\"1991-05-05T20:30:00\",\"1991-05-30T09:10:00\",\"1991-06-01T00:00:00\",\"1991-06-07T00:00:00\",\"1991-06-07T00:00:00\",\"1991-06-07T12:00:00\",\"1991-06-15T11:00:00\",\"1991-09-01T20:30:00\"],\"lat\":[31.427695,35.152307,32.324738,35.231041,32.817651,32.817651,32.817651,35.469565,32.850975],\"legendgroup\":\"\",\"lon\":[-108.791149,-107.834548,-106.759443,-106.662789,-103.98034,-103.98034,-103.98034,-104.527775,-106.095962],\"marker\":{\"color\":\"red\"},\"mode\":\"markers\",\"name\":\"\",\"showlegend\":false,\"subplot\":\"mapbox\",\"type\":\"scattermapbox\"}],\"name\":\"1991.0\"},{\"data\":[{\"hovertemplate\":\"\\u003cb\\u003e%{hovertext}\\u003c\\u002fb\\u003e\\u003cbr\\u003e\\u003cbr\\u003eYear=1992.0\\u003cbr\\u003eLatitude=%{lat}\\u003cbr\\u003eLongitude=%{lon}\\u003cextra\\u003e\\u003c\\u002fextra\\u003e\",\"hovertext\":[\"1992-05-10T09:45:00\",\"1992-06-15T00:30:00\",\"1992-10-11T10:00:00\",\"1992-11-22T00:00:00\"],\"lat\":[32.418235,33.370545,35.101401,32.260473],\"legendgroup\":\"\",\"lon\":[-104.230988,-105.226243,-106.631867,-107.744865],\"marker\":{\"color\":\"red\"},\"mode\":\"markers\",\"name\":\"\",\"showlegend\":false,\"subplot\":\"mapbox\",\"type\":\"scattermapbox\"}],\"name\":\"1992.0\"},{\"data\":[{\"hovertemplate\":\"\\u003cb\\u003e%{hovertext}\\u003c\\u002fb\\u003e\\u003cbr\\u003e\\u003cbr\\u003eYear=1993.0\\u003cbr\\u003eLatitude=%{lat}\\u003cbr\\u003eLongitude=%{lon}\\u003cextra\\u003e\\u003c\\u002fextra\\u003e\",\"hovertext\":[\"1993-03-19T15:25:00\",\"1993-04-21T19:30:00\",\"1993-07-15T01:00:00\",\"1993-11-01T23:45:00\",\"1993-11-11T22:00:00\"],\"lat\":[35.878996,32.891812,34.406841,35.101401,35.101401],\"legendgroup\":\"\",\"lon\":[-106.300662,-105.952151,-103.199641,-106.631867,-106.631867],\"marker\":{\"color\":\"red\"},\"mode\":\"markers\",\"name\":\"\",\"showlegend\":false,\"subplot\":\"mapbox\",\"type\":\"scattermapbox\"}],\"name\":\"1993.0\"},{\"data\":[{\"hovertemplate\":\"\\u003cb\\u003e%{hovertext}\\u003c\\u002fb\\u003e\\u003cbr\\u003e\\u003cbr\\u003eYear=1994.0\\u003cbr\\u003eLatitude=%{lat}\\u003cbr\\u003eLongitude=%{lon}\\u003cextra\\u003e\\u003c\\u002fextra\\u003e\",\"hovertext\":[\"1994-01-03T23:30:00\",\"1994-02-21T19:00:00\",\"1994-04-24T00:01:00\",\"1994-04-25T02:00:00\",\"1994-04-30T23:55:00\",\"1994-06-01T19:00:00\",\"1994-09-01T16:00:00\",\"1994-09-30T19:00:00\",\"1994-10-15T22:00:00\"],\"lat\":[35.147495,34.9727,35.101401,35.101401,36.740298,36.746211,35.172972,35.101401,36.82324],\"legendgroup\":\"\",\"lon\":[-107.828215,105.0324,-106.631867,-106.631867,-103.992974,-108.19233,-103.725902,-106.631867,-107.99355],\"marker\":{\"color\":\"red\"},\"mode\":\"markers\",\"name\":\"\",\"showlegend\":false,\"subplot\":\"mapbox\",\"type\":\"scattermapbox\"}],\"name\":\"1994.0\"},{\"data\":[{\"hovertemplate\":\"\\u003cb\\u003e%{hovertext}\\u003c\\u002fb\\u003e\\u003cbr\\u003e\\u003cbr\\u003eYear=1995.0\\u003cbr\\u003eLatitude=%{lat}\\u003cbr\\u003eLongitude=%{lon}\\u003cextra\\u003e\\u003c\\u002fextra\\u003e\",\"hovertext\":[\"1995-02-16T19:26:00\",\"1995-02-20T13:00:00\",\"1995-03-07T04:00:00\",\"1995-05-01T12:00:00\",\"1995-05-28T16:00:00\",\"1995-06-15T19:30:00\",\"1995-06-22T13:30:00\",\"1995-07-01T01:00:00\",\"1995-07-25T09:35:00\",\"1995-08-02T19:34:00\",\"1995-09-05T18:00:00\",\"1995-12-04T02:00:00\",\"1995-12-10T06:00:00\"],\"lat\":[35.101401,35.101401,35.172972,32.943564,32.260473,35.101401,36.902566,36.746211,36.175525,32.260473,35.101401,32.260473,36.451432],\"legendgroup\":\"\",\"lon\":[-106.631867,-106.631867,-103.725902,-106.419441,-107.744865,-106.631867,-104.438086,-108.19233,-105.048823,-107.744865,-106.631867,-107.744865,-103.182366],\"marker\":{\"color\":\"red\"},\"mode\":\"markers\",\"name\":\"\",\"showlegend\":false,\"subplot\":\"mapbox\",\"type\":\"scattermapbox\"}],\"name\":\"1995.0\"},{\"data\":[{\"hovertemplate\":\"\\u003cb\\u003e%{hovertext}\\u003c\\u002fb\\u003e\\u003cbr\\u003e\\u003cbr\\u003eYear=1996.0\\u003cbr\\u003eLatitude=%{lat}\\u003cbr\\u003eLongitude=%{lon}\\u003cextra\\u003e\\u003c\\u002fextra\\u003e\",\"hovertext\":[\"1996-04-20T00:00:00\",\"1996-06-15T12:00:00\",\"1996-07-15T19:30:00\",\"1996-08-01T02:00:00\",\"1996-08-08T20:30:00\",\"1996-09-01T05:35:00\",\"1996-10-03T20:00:00\",\"1996-10-09T15:30:00\",\"1996-11-15T22:30:00\",\"1996-12-12T02:06:00\"],\"lat\":[34.057247,32.418235,32.891812,36.902566,33.075,36.406326,35.685756,32.260473,34.705207,34.9727],\"legendgroup\":\"\",\"lon\":[-106.892888,-104.230988,-105.952151,-104.438086,-106.018048,-105.573264,-105.938613,-107.744865,-106.407127,105.0324],\"marker\":{\"color\":\"red\"},\"mode\":\"markers\",\"name\":\"\",\"showlegend\":false,\"subplot\":\"mapbox\",\"type\":\"scattermapbox\"}],\"name\":\"1996.0\"},{\"data\":[{\"hovertemplate\":\"\\u003cb\\u003e%{hovertext}\\u003c\\u002fb\\u003e\\u003cbr\\u003e\\u003cbr\\u003eYear=1997.0\\u003cbr\\u003eLatitude=%{lat}\\u003cbr\\u003eLongitude=%{lon}\\u003cextra\\u003e\\u003c\\u002fextra\\u003e\",\"hovertext\":[\"1997-02-05T22:00:00\",\"1997-03-12T06:30:00\",\"1997-03-12T23:00:00\",\"1997-03-15T22:00:00\",\"1997-03-20T13:00:00\",\"1997-03-23T16:30:00\",\"1997-04-01T22:00:00\",\"1997-06-01T03:30:00\",\"1997-06-01T23:00:00\",\"1997-06-15T03:00:00\",\"1997-06-15T23:00:00\",\"1997-06-17T04:55:00\",\"1997-06-18T02:30:00\",\"1997-06-29T23:45:00\",\"1997-06-30T23:00:00\",\"1997-07-07T20:45:00\",\"1997-07-07T20:45:00\",\"1997-07-15T20:30:00\",\"1997-07-15T22:30:00\",\"1997-07-22T13:00:00\",\"1997-07-27T21:30:00\",\"1997-09-15T20:00:00\",\"1997-11-22T17:30:00\",\"1997-11-23T05:50:00\"],\"lat\":[35.101401,32.849132,35.685756,32.891812,35.685756,35.652813,35.685756,34.9727,36.902566,32.324738,32.769306,33.394758,36.451432,36.746211,35.09107,32.943564,32.324738,32.978674,32.324738,34.863353,32.324738,35.685756,35.101401,35.101401],\"legendgroup\":\"\",\"lon\":[-106.631867,-106.098862,-105.938613,-105.952151,-105.938613,-106.411087,-105.938613,105.0324,-104.438086,-106.759443,-108.280215,-104.523489,-103.182366,-108.19233,-106.371174,-106.419441,-106.759443,-107.308122,-106.759443,-104.783036,-106.759443,-105.938613,-106.631867,-106.631867],\"marker\":{\"color\":\"red\"},\"mode\":\"markers\",\"name\":\"\",\"showlegend\":false,\"subplot\":\"mapbox\",\"type\":\"scattermapbox\"}],\"name\":\"1997.0\"},{\"data\":[{\"hovertemplate\":\"\\u003cb\\u003e%{hovertext}\\u003c\\u002fb\\u003e\\u003cbr\\u003e\\u003cbr\\u003eYear=1998.0\\u003cbr\\u003eLatitude=%{lat}\\u003cbr\\u003eLongitude=%{lon}\\u003cextra\\u003e\\u003c\\u002fextra\\u003e\",\"hovertext\":[\"1998-01-01T13:00:00\",\"1998-01-27T17:00:00\",\"1998-02-01T00:30:00\",\"1998-03-12T04:30:00\",\"1998-03-15T00:00:00\",\"1998-05-28T20:30:00\",\"1998-06-15T11:00:00\",\"1998-06-25T22:18:00\",\"1998-07-02T04:30:00\",\"1998-07-15T01:30:00\",\"1998-08-01T23:00:00\",\"1998-08-10T06:00:00\",\"1998-08-19T00:00:00\",\"1998-08-24T13:00:00\",\"1998-08-27T23:00:00\",\"1998-09-11T00:00:00\",\"1998-09-15T23:00:00\",\"1998-09-22T22:00:00\",\"1998-09-25T23:00:00\",\"1998-10-01T04:30:00\",\"1998-10-04T02:45:00\",\"1998-10-13T02:30:00\",\"1998-10-29T18:45:00\",\"1998-11-04T15:30:00\",\"1998-11-19T02:30:00\",\"1998-12-01T22:30:00\",\"1998-12-15T22:00:00\"],\"lat\":[34.386598,32.324738,36.991452,36.707692,33.394758,35.685756,36.801511,32.324738,35.253926,35.101401,35.101401,35.101401,35.101401,35.101401,35.26471,33.394758,34.660595,35.108276,34.856588,35.231041,35.101401,36.665702,35.878996,35.101401,35.598375,35.685756,35.101401],\"legendgroup\":\"\",\"lon\":[-103.318975,-106.759443,-109.035981,-105.406142,-104.523489,-105.938613,-107.611756,-106.759443,-107.981242,-106.631867,-106.631867,-106.631867,-106.631867,-106.631867,-105.337757,-104.523489,-106.775377,-106.375249,-106.697722,-106.662789,-106.631867,-106.690881,-106.300662,-106.631867,-105.224193,-105.938613,-106.631867],\"marker\":{\"color\":\"red\"},\"mode\":\"markers\",\"name\":\"\",\"showlegend\":false,\"subplot\":\"mapbox\",\"type\":\"scattermapbox\"}],\"name\":\"1998.0\"},{\"data\":[{\"hovertemplate\":\"\\u003cb\\u003e%{hovertext}\\u003c\\u002fb\\u003e\\u003cbr\\u003e\\u003cbr\\u003eYear=1999.0\\u003cbr\\u003eLatitude=%{lat}\\u003cbr\\u003eLongitude=%{lon}\\u003cextra\\u003e\\u003c\\u002fextra\\u003e\",\"hovertext\":[\"1999-01-01T21:00:00\",\"1999-01-05T20:00:00\",\"1999-01-13T07:15:00\",\"1999-02-12T17:10:00\",\"1999-02-23T19:00:00\",\"1999-03-16T11:40:00\",\"1999-04-02T22:03:00\",\"1999-04-07T03:20:00\",\"1999-04-10T02:58:00\",\"1999-04-18T19:00:00\",\"1999-04-22T22:50:00\",\"1999-04-22T23:40:00\",\"1999-05-01T21:00:00\",\"1999-06-10T22:30:00\",\"1999-06-10T23:50:00\",\"1999-06-29T16:00:00\",\"1999-06-30T23:20:00\",\"1999-07-03T01:30:00\",\"1999-08-15T22:30:00\",\"1999-08-15T22:30:00\",\"1999-08-15T23:00:00\",\"1999-08-15T23:10:00\",\"1999-08-15T23:18:00\",\"1999-08-15T23:18:00\",\"1999-08-15T23:18:00\",\"1999-08-15T23:18:00\",\"1999-08-15T23:18:00\",\"1999-08-15T23:18:00\",\"1999-08-28T18:00:00\",\"1999-10-13T09:45:00\",\"1999-10-15T03:00:00\",\"1999-11-06T20:30:00\",\"1999-12-04T02:00:00\",\"1999-12-19T02:30:00\",\"1999-12-22T19:15:00\"],\"lat\":[35.045807,32.891812,35.231041,35.101401,35.598375,35.101401,35.09107,32.324738,34.073315,34.9727,35.101401,35.101401,34.184208,35.101401,36.02151,36.801511,36.665702,35.101401,34.057247,34.804859,35.231041,35.76805,32.324738,36.82324,35.101401,35.519312,34.856588,33.075,35.101401,35.685756,35.009532,36.059939,32.260473,35.685756,32.943564],\"legendgroup\":\"\",\"lon\":[-106.448126,-105.952151,-106.662789,-106.631867,-105.224193,-106.631867,-106.371174,-106.759443,-107.622206,105.0324,-106.631867,-106.631867,-103.335009,-106.631867,-106.958032,-107.611756,-106.690881,-106.631867,-106.892888,-106.733988,-106.662789,-106.693591,-106.759443,-107.99355,-106.631867,-108.733438,-106.697722,-106.018048,-106.631867,-105.938613,-105.66755,-107.966758,-107.744865,-105.938613,-106.419441],\"marker\":{\"color\":\"red\"},\"mode\":\"markers\",\"name\":\"\",\"showlegend\":false,\"subplot\":\"mapbox\",\"type\":\"scattermapbox\"}],\"name\":\"1999.0\"},{\"data\":[{\"hovertemplate\":\"\\u003cb\\u003e%{hovertext}\\u003c\\u002fb\\u003e\\u003cbr\\u003e\\u003cbr\\u003eYear=2000.0\\u003cbr\\u003eLatitude=%{lat}\\u003cbr\\u003eLongitude=%{lon}\\u003cextra\\u003e\\u003c\\u002fextra\\u003e\",\"hovertext\":[\"2000-01-23T15:00:00\",\"2000-01-26T21:45:00\",\"2000-02-29T20:45:00\",\"2000-03-19T09:05:00\",\"2000-04-01T22:00:00\",\"2000-04-04T05:20:00\",\"2000-04-16T10:25:00\",\"2000-04-17T20:00:00\",\"2000-04-18T12:00:00\",\"2000-05-28T20:00:00\",\"2000-06-01T15:00:00\",\"2000-06-01T21:30:00\",\"2000-06-03T14:00:00\",\"2000-06-03T14:30:00\",\"2000-06-03T20:00:00\",\"2000-06-03T20:30:00\",\"2000-06-28T02:00:00\",\"2000-07-20T21:30:00\",\"2000-08-05T07:30:00\",\"2000-08-09T12:48:00\",\"2000-08-20T05:30:00\",\"2000-09-01T17:00:00\",\"2000-09-09T20:30:00\",\"2000-09-10T01:11:00\",\"2000-09-12T17:00:00\",\"2000-09-15T20:37:00\",\"2000-09-15T22:00:00\",\"2000-09-25T19:30:00\",\"2000-10-01T20:45:00\",\"2000-10-25T21:05:00\",\"2000-11-13T19:00:00\",\"2000-11-15T21:00:00\",\"2000-11-23T18:37:00\",\"2000-12-06T18:16:00\",\"2000-12-09T18:00:00\",\"2000-12-28T11:00:00\"],\"lat\":[35.231041,35.685756,35.598375,35.101401,35.878996,34.024604,35.101401,35.685756,36.82324,32.943564,35.101401,35.685756,35.306251,35.101401,35.253926,35.253926,35.101401,32.260473,32.943564,35.101401,35.685756,35.101401,32.891812,33.394758,32.348523,33.333231,32.863384,35.101401,35.101401,33.379635,32.165159,35.101401,31.985619,33.394758,32.418235,35.435177],\"legendgroup\":\"\",\"lon\":[-106.662789,-105.938613,-105.224193,-106.631867,-106.300662,-107.04472,-106.631867,-105.938613,-107.99355,-106.419441,-106.631867,-105.938613,-106.424425,-106.631867,-107.981242,-107.981242,-106.631867,-107.744865,-106.419441,-106.631867,-105.938613,-106.631867,-105.952151,-104.523489,-108.707488,-105.681385,-108.221415,-106.631867,-106.631867,-108.903874,-106.696068,-106.631867,-106.603502,-104.523489,-104.230988,-106.126759],\"marker\":{\"color\":\"red\"},\"mode\":\"markers\",\"name\":\"\",\"showlegend\":false,\"subplot\":\"mapbox\",\"type\":\"scattermapbox\"}],\"name\":\"2000.0\"},{\"data\":[{\"hovertemplate\":\"\\u003cb\\u003e%{hovertext}\\u003c\\u002fb\\u003e\\u003cbr\\u003e\\u003cbr\\u003eYear=2001.0\\u003cbr\\u003eLatitude=%{lat}\\u003cbr\\u003eLongitude=%{lon}\\u003cextra\\u003e\\u003c\\u002fextra\\u003e\",\"hovertext\":[\"2001-01-08T07:00:00\",\"2001-01-11T21:50:00\",\"2001-02-20T01:15:00\",\"2001-03-12T19:50:00\",\"2001-03-19T10:00:00\",\"2001-03-30T23:00:00\",\"2001-04-26T03:00:00\",\"2001-05-09T20:15:00\",\"2001-05-26T02:00:00\",\"2001-05-26T19:30:00\",\"2001-06-15T03:00:00\",\"2001-06-19T00:30:00\",\"2001-06-30T12:30:00\",\"2001-07-01T10:00:00\",\"2001-07-12T02:30:00\",\"2001-07-18T21:00:00\",\"2001-08-09T23:45:00\",\"2001-08-13T02:30:00\",\"2001-08-15T22:00:00\",\"2001-08-25T21:00:00\",\"2001-09-11T11:30:00\",\"2001-09-11T21:22:00\",\"2001-09-21T20:10:00\",\"2001-10-31T20:00:00\",\"2001-11-09T00:00:00\",\"2001-12-01T21:15:00\",\"2001-12-01T21:15:00\",\"2001-12-01T21:20:00\",\"2001-12-02T18:45:00\",\"2001-12-30T14:30:00\"],\"lat\":[35.685756,35.598375,36.746211,32.706351,34.9727,32.954872,35.101401,33.075,35.101401,34.057247,35.685756,36.595469,35.101401,34.9727,33.333231,33.394758,35.878996,35.598375,33.394758,35.76805,35.101401,35.685756,35.101401,33.394758,35.062178,32.769306,32.891812,35.101401,35.101401,35.598375],\"legendgroup\":\"\",\"lon\":[-105.938613,-105.224193,-108.19233,-103.132147,105.0324,-105.739939,-106.631867,-106.018048,-106.631867,-106.892888,-105.938613,-106.733127,-106.631867,105.0324,-105.681385,-104.523489,-106.300662,-105.224193,-104.523489,-106.693591,-106.631867,-105.938613,-106.631867,-104.523489,-106.190312,-108.280215,-105.952151,-106.631867,-106.631867,-105.224193],\"marker\":{\"color\":\"red\"},\"mode\":\"markers\",\"name\":\"\",\"showlegend\":false,\"subplot\":\"mapbox\",\"type\":\"scattermapbox\"}],\"name\":\"2001.0\"},{\"data\":[{\"hovertemplate\":\"\\u003cb\\u003e%{hovertext}\\u003c\\u002fb\\u003e\\u003cbr\\u003e\\u003cbr\\u003eYear=2002.0\\u003cbr\\u003eLatitude=%{lat}\\u003cbr\\u003eLongitude=%{lon}\\u003cextra\\u003e\\u003c\\u002fextra\\u003e\",\"hovertext\":[\"2002-01-07T08:25:00\",\"2002-01-07T21:07:00\",\"2002-01-07T21:10:00\",\"2002-01-30T01:42:00\",\"2002-02-08T22:55:00\",\"2002-02-21T21:30:00\",\"2002-03-09T16:00:00\",\"2002-03-13T20:00:00\",\"2002-03-15T20:30:00\",\"2002-04-01T12:00:00\",\"2002-04-01T16:30:00\",\"2002-04-01T23:00:00\",\"2002-04-02T20:50:00\",\"2002-05-03T15:28:00\",\"2002-05-25T00:00:00\",\"2002-06-01T20:00:00\",\"2002-06-15T00:00:00\",\"2002-06-17T21:30:00\",\"2002-06-19T19:00:00\",\"2002-07-03T01:45:00\",\"2002-07-15T00:00:00\",\"2002-07-26T05:45:00\",\"2002-07-28T10:00:00\",\"2002-07-30T14:00:00\",\"2002-07-31T04:24:00\",\"2002-07-31T20:00:00\",\"2002-08-11T04:20:00\",\"2002-08-13T20:00:00\",\"2002-08-22T21:00:00\",\"2002-08-22T21:00:00\",\"2002-08-23T03:45:00\",\"2002-08-27T21:00:00\",\"2002-09-03T22:00:00\",\"2002-09-13T20:30:00\",\"2002-09-15T00:00:00\",\"2002-09-17T08:00:00\",\"2002-10-01T08:30:00\",\"2002-10-01T16:00:00\",\"2002-10-02T07:30:00\",\"2002-10-05T07:45:00\",\"2002-10-05T16:49:00\",\"2002-10-06T15:00:00\",\"2002-10-07T19:00:00\",\"2002-10-16T20:30:00\",\"2002-11-24T06:25:00\",\"2002-11-29T15:00:00\"],\"lat\":[35.598375,34.9727,33.394758,35.90286,32.324738,34.142326,33.317543,36.901351,35.519312,36.797014,35.685756,33.491655,35.231041,34.344311,35.101401,35.231041,34.406841,32.699259,34.057247,32.324738,34.9727,34.057247,33.132497,32.165159,33.394758,36.82324,35.101401,35.101401,34.472309,34.472309,35.101401,35.101401,33.394758,32.114844,36.406326,36.716725,35.685756,35.152307,35.685756,32.324738,32.324738,36.406326,34.896115,36.059939,35.685756,32.260473],\"legendgroup\":\"\",\"lon\":[-105.224193,105.0324,-104.523489,-109.031541,-106.759443,-107.842554,-108.88234,-106.578872,-108.733438,-108.080118,-105.938613,-105.383356,-106.662789,-108.496653,-106.631867,-106.662789,-103.199641,-108.130949,-106.892888,-106.759443,105.0324,-106.892888,-107.252571,-106.696068,-104.523489,-107.99355,-106.631867,-106.631867,-104.24468,-104.24468,-106.631867,-106.631867,-104.523489,-103.191861,-105.573264,-107.980604,-105.938613,-107.834548,-105.938613,-106.759443,-106.759443,-105.573264,-107.582318,-107.966758,-105.938613,-107.744865],\"marker\":{\"color\":\"red\"},\"mode\":\"markers\",\"name\":\"\",\"showlegend\":false,\"subplot\":\"mapbox\",\"type\":\"scattermapbox\"}],\"name\":\"2002.0\"},{\"data\":[{\"hovertemplate\":\"\\u003cb\\u003e%{hovertext}\\u003c\\u002fb\\u003e\\u003cbr\\u003e\\u003cbr\\u003eYear=2003.0\\u003cbr\\u003eLatitude=%{lat}\\u003cbr\\u003eLongitude=%{lon}\\u003cextra\\u003e\\u003c\\u002fextra\\u003e\",\"hovertext\":[\"2003-01-15T02:00:00\",\"2003-03-03T03:33:00\",\"2003-03-29T05:35:00\",\"2003-04-05T22:30:00\",\"2003-04-20T02:00:00\",\"2003-04-28T06:06:00\",\"2003-05-21T12:00:00\",\"2003-06-12T21:00:00\",\"2003-06-18T18:15:00\",\"2003-06-22T02:30:00\",\"2003-06-28T04:00:00\",\"2003-07-05T10:30:00\",\"2003-07-07T16:00:00\",\"2003-07-18T22:00:00\",\"2003-07-24T23:10:00\",\"2003-08-01T19:30:00\",\"2003-08-03T23:59:00\",\"2003-08-10T14:00:00\",\"2003-08-10T19:00:00\",\"2003-08-15T14:00:00\",\"2003-08-30T23:55:00\",\"2003-09-08T23:00:00\",\"2003-09-15T17:50:00\",\"2003-09-19T14:30:00\",\"2003-09-19T18:50:00\",\"2003-09-19T19:00:00\",\"2003-09-19T19:00:00\",\"2003-09-22T19:30:00\",\"2003-09-28T18:00:00\",\"2003-09-28T19:30:00\",\"2003-10-07T06:20:00\",\"2003-10-10T22:00:00\",\"2003-10-16T20:17:00\",\"2003-10-22T02:45:00\",\"2003-10-25T13:00:00\",\"2003-10-31T02:00:00\",\"2003-11-04T20:50:00\",\"2003-11-15T15:00:00\",\"2003-11-15T17:00:00\",\"2003-11-20T17:30:00\",\"2003-11-28T15:00:00\",\"2003-12-04T16:30:00\",\"2003-12-16T18:00:00\",\"2003-12-19T08:35:00\",\"2003-12-30T21:30:00\"],\"lat\":[36.406326,35.101401,35.101401,35.101401,35.519312,34.732442,35.101401,35.101401,35.231041,33.256097,35.101401,36.045283,34.9727,35.101401,35.231041,34.9727,35.685756,35.101401,35.101401,35.402635,35.101401,35.685756,34.057247,34.836867,34.660595,35.101401,35.101401,35.685756,35.685756,35.685756,32.324738,35.101401,32.863384,32.324738,34.9727,33.394758,32.260473,35.101401,34.896115,36.340777,32.954872,32.260473,32.962803,32.260473,33.256097],\"legendgroup\":\"\",\"lon\":[-105.573264,-106.631867,-106.631867,-106.631867,-108.733438,-106.761485,-106.631867,-106.631867,-106.662789,-103.316036,-106.631867,-108.964589,105.0324,-106.631867,-106.662789,105.0324,-105.938613,-106.631867,-106.631867,-104.190143,-106.631867,-105.938613,-106.892888,-106.690214,-106.775377,-106.631867,-106.631867,-105.938613,-105.938613,-105.938613,-106.759443,-106.631867,-108.221415,-106.759443,105.0324,-104.523489,-107.744865,-106.631867,-107.582318,-106.184527,-105.739939,-107.744865,-108.61865,-107.744865,-103.316036],\"marker\":{\"color\":\"red\"},\"mode\":\"markers\",\"name\":\"\",\"showlegend\":false,\"subplot\":\"mapbox\",\"type\":\"scattermapbox\"}],\"name\":\"2003.0\"},{\"data\":[{\"hovertemplate\":\"\\u003cb\\u003e%{hovertext}\\u003c\\u002fb\\u003e\\u003cbr\\u003e\\u003cbr\\u003eYear=2004.0\\u003cbr\\u003eLatitude=%{lat}\\u003cbr\\u003eLongitude=%{lon}\\u003cextra\\u003e\\u003c\\u002fextra\\u003e\",\"hovertext\":[\"2004-01-12T02:00:00\",\"2004-01-14T19:00:00\",\"2004-01-21T23:40:00\",\"2004-01-22T12:45:00\",\"2004-02-29T19:30:00\",\"2004-03-04T03:00:00\",\"2004-03-10T21:50:00\",\"2004-03-13T20:08:00\",\"2004-03-23T21:00:00\",\"2004-04-03T11:45:00\",\"2004-04-12T22:10:00\",\"2004-04-21T00:40:00\",\"2004-04-28T22:00:00\",\"2004-05-03T21:00:00\",\"2004-05-05T20:30:00\",\"2004-05-13T21:00:00\",\"2004-05-16T23:00:00\",\"2004-05-18T00:00:00\",\"2004-05-27T23:00:00\",\"2004-06-03T15:40:00\",\"2004-06-05T15:00:00\",\"2004-06-24T21:29:00\",\"2004-07-07T07:10:00\",\"2004-07-27T01:30:00\",\"2004-07-31T19:35:00\",\"2004-08-03T14:00:00\",\"2004-08-14T16:00:00\",\"2004-08-15T00:16:00\",\"2004-08-20T11:30:00\",\"2004-08-23T21:00:00\",\"2004-08-30T21:45:00\",\"2004-08-31T02:00:00\",\"2004-08-31T16:10:00\",\"2004-09-01T11:04:00\",\"2004-09-16T19:00:00\",\"2004-09-16T19:30:00\",\"2004-09-18T21:30:00\",\"2004-10-01T20:00:00\",\"2004-11-17T21:00:00\",\"2004-12-13T12:29:00\"],\"lat\":[35.685756,35.579309,32.769306,35.101401,33.394758,36.360441,35.519312,35.101401,32.324738,36.088091,36.784903,35.685756,34.057247,34.057247,35.685756,33.394758,35.519312,32.769306,35.101401,35.101401,32.954872,35.062178,32.418235,34.9727,35.101401,35.055841,35.101401,33.394758,36.406326,32.769306,35.101401,35.685756,35.101401,34.298286,33.132497,35.101401,35.306251,35.101401,36.02151,36.934023],\"legendgroup\":\"\",\"lon\":[-105.938613,-108.32513,-108.280215,-106.631867,-104.523489,-104.595079,-108.733438,-106.631867,-106.759443,-106.055088,-108.686807,-105.938613,-106.892888,-106.892888,-105.938613,-104.523489,-108.733438,-108.280215,-106.631867,-106.631867,-105.739939,-106.190312,-104.230988,105.0324,-106.631867,-106.195687,-106.631867,-104.523489,-105.573264,-108.280215,-106.631867,-105.938613,-106.631867,-108.134699,-107.252571,-106.631867,-106.424425,-106.631867,-106.958032,-106.999919],\"marker\":{\"color\":\"red\"},\"mode\":\"markers\",\"name\":\"\",\"showlegend\":false,\"subplot\":\"mapbox\",\"type\":\"scattermapbox\"}],\"name\":\"2004.0\"},{\"data\":[{\"hovertemplate\":\"\\u003cb\\u003e%{hovertext}\\u003c\\u002fb\\u003e\\u003cbr\\u003e\\u003cbr\\u003eYear=2005.0\\u003cbr\\u003eLatitude=%{lat}\\u003cbr\\u003eLongitude=%{lon}\\u003cextra\\u003e\\u003c\\u002fextra\\u003e\",\"hovertext\":[\"2005-03-10T21:00:00\",\"2005-04-07T17:01:00\",\"2005-05-07T17:08:00\",\"2005-05-15T05:33:00\",\"2005-05-18T19:30:00\",\"2005-05-18T20:00:00\",\"2005-05-21T09:58:00\",\"2005-06-01T15:00:00\",\"2005-06-06T13:28:00\",\"2005-06-19T12:50:00\",\"2005-06-22T22:00:00\",\"2005-07-04T11:00:00\",\"2005-07-07T00:00:00\",\"2005-08-05T22:00:00\",\"2005-08-15T02:00:00\",\"2005-08-20T03:30:00\",\"2005-08-31T00:00:00\",\"2005-09-06T02:00:00\",\"2005-09-10T17:00:00\",\"2005-09-11T05:25:00\",\"2005-09-11T22:30:00\",\"2005-09-12T21:00:00\",\"2005-09-13T21:00:00\",\"2005-09-13T21:45:00\",\"2005-09-20T19:28:00\",\"2005-09-20T19:30:00\",\"2005-09-22T20:10:00\",\"2005-09-22T20:43:00\",\"2005-10-01T09:30:00\",\"2005-10-14T21:00:00\",\"2005-10-22T15:00:00\",\"2005-10-23T12:00:00\",\"2005-10-29T19:00:00\",\"2005-12-03T03:00:00\"],\"lat\":[35.037438,32.260473,35.235695,34.406841,34.937773,32.849132,35.062178,35.101401,32.260473,35.101401,33.642981,33.394758,36.784903,35.992722,35.481871,35.249548,35.679616,35.152307,33.642981,35.101401,34.406841,34.406841,34.406841,36.406326,35.101401,35.101401,32.769306,32.769306,35.101401,34.955052,32.769306,35.992722,36.746211,32.796092],\"legendgroup\":\"\",\"lon\":[-107.385532,-107.744865,-106.605927,-103.199641,-104.682646,-106.098862,-106.190312,-106.631867,-107.744865,-106.631867,-105.876232,-104.523489,-108.686807,-106.079739,-105.880072,-106.188075,-108.150789,-107.834548,-105.876232,-106.631867,-103.199641,-103.199641,-103.199641,-105.573264,-106.631867,-106.631867,-108.280215,-108.280215,-106.631867,-107.196421,-108.280215,-106.079739,-108.19233,-108.150238],\"marker\":{\"color\":\"red\"},\"mode\":\"markers\",\"name\":\"\",\"showlegend\":false,\"subplot\":\"mapbox\",\"type\":\"scattermapbox\"}],\"name\":\"2005.0\"},{\"data\":[{\"hovertemplate\":\"\\u003cb\\u003e%{hovertext}\\u003c\\u002fb\\u003e\\u003cbr\\u003e\\u003cbr\\u003eYear=2006.0\\u003cbr\\u003eLatitude=%{lat}\\u003cbr\\u003eLongitude=%{lon}\\u003cextra\\u003e\\u003c\\u002fextra\\u003e\",\"hovertext\":[\"2006-01-01T17:00:00\",\"2006-01-02T11:39:00\",\"2006-01-05T18:45:00\",\"2006-02-05T23:00:00\",\"2006-02-06T05:00:00\",\"2006-02-15T14:00:00\",\"2006-02-24T13:12:00\",\"2006-02-26T18:30:00\",\"2006-02-27T00:00:00\",\"2006-02-28T20:57:00\",\"2006-03-01T00:30:00\",\"2006-04-08T12:30:00\",\"2006-04-15T21:09:00\",\"2006-04-21T21:40:00\",\"2006-04-22T23:00:00\",\"2006-05-03T21:00:00\",\"2006-05-11T20:30:00\",\"2006-05-11T20:30:00\",\"2006-06-02T04:00:00\",\"2006-06-17T17:30:00\",\"2006-06-17T21:30:00\",\"2006-06-18T21:23:00\",\"2006-07-07T00:00:00\",\"2006-07-12T05:00:00\",\"2006-07-12T05:15:00\",\"2006-07-14T01:00:00\",\"2006-07-15T14:30:00\",\"2006-07-19T19:20:00\",\"2006-07-20T00:00:00\",\"2006-08-07T02:00:00\",\"2006-08-10T11:00:00\",\"2006-08-13T01:15:00\",\"2006-09-13T20:45:00\",\"2006-09-28T03:16:00\",\"2006-09-28T13:00:00\",\"2006-09-30T19:00:00\",\"2006-09-30T23:00:00\",\"2006-10-01T01:00:00\",\"2006-10-01T22:00:00\",\"2006-10-01T23:00:00\",\"2006-10-01T23:00:00\",\"2006-10-01T23:15:00\",\"2006-10-01T23:15:00\",\"2006-10-01T23:15:00\",\"2006-10-01T23:20:00\",\"2006-10-01T23:20:00\",\"2006-10-01T23:32:00\",\"2006-10-01T23:40:00\",\"2006-10-02T03:00:00\",\"2006-10-03T23:15:00\",\"2006-10-15T02:37:00\",\"2006-10-15T19:00:00\",\"2006-10-16T21:05:00\",\"2006-10-18T00:40:00\",\"2006-11-05T16:35:00\",\"2006-11-18T22:50:00\",\"2006-11-20T23:00:00\",\"2006-12-05T11:45:00\",\"2006-12-05T18:17:00\",\"2006-12-08T21:50:00\",\"2006-12-08T21:50:00\",\"2006-12-12T04:12:00\",\"2006-12-13T18:07:00\",\"2006-12-24T19:30:00\"],\"lat\":[35.101401,34.298286,33.394758,36.707875,33.333231,34.9727,35.101401,35.685756,36.797014,36.406326,32.418235,35.575249,36.736951,35.101401,35.81999,34.880646,32.418235,32.418235,32.324738,32.418235,32.418235,34.298286,34.9727,32.769306,32.769306,35.992722,34.9727,35.101401,35.101401,33.405779,35.101401,36.360441,34.429048,35.76805,36.301405,35.101401,32.324738,35.231041,35.685756,32.769306,35.58264,35.685756,36.406326,35.435177,36.902566,36.902566,36.746211,33.917427,35.685756,35.685756,34.804859,32.324738,32.769306,35.101401,35.101401,35.101401,33.132497,35.101401,36.746211,34.798833,35.685756,34.9727,33.075,35.685756],\"legendgroup\":\"\",\"lon\":[-106.631867,-108.134699,-104.523489,-105.591596,-105.681385,105.0324,-106.631867,-105.938613,-108.080118,-105.573264,-104.230988,-105.676048,-108.357359,-106.631867,-105.91549,-106.051156,-104.230988,-104.230988,-106.759443,-104.230988,-104.230988,-108.134699,105.0324,-108.280215,-108.280215,-106.079739,105.0324,-106.631867,-106.631867,-105.654943,-106.631867,-104.595079,-103.62882,-106.693591,-106.044713,-106.631867,-106.759443,-106.662789,-105.938613,-108.280215,-105.769,-105.938613,-105.573264,-106.126759,-104.438086,-104.438086,-108.19233,-106.866285,-105.938613,-105.938613,-106.733988,-106.759443,-108.280215,-106.631867,-106.631867,-106.631867,-107.252571,-106.631867,-108.19233,-106.699613,-105.938613,105.0324,-106.018048,-105.938613],\"marker\":{\"color\":\"red\"},\"mode\":\"markers\",\"name\":\"\",\"showlegend\":false,\"subplot\":\"mapbox\",\"type\":\"scattermapbox\"}],\"name\":\"2006.0\"},{\"data\":[{\"hovertemplate\":\"\\u003cb\\u003e%{hovertext}\\u003c\\u002fb\\u003e\\u003cbr\\u003e\\u003cbr\\u003eYear=2007.0\\u003cbr\\u003eLatitude=%{lat}\\u003cbr\\u003eLongitude=%{lon}\\u003cextra\\u003e\\u003c\\u002fextra\\u003e\",\"hovertext\":[\"2007-02-20T20:45:00\",\"2007-03-01T21:35:00\",\"2007-03-05T19:40:00\",\"2007-03-06T20:00:00\",\"2007-03-12T19:00:00\",\"2007-03-12T21:00:00\",\"2007-03-13T21:10:00\",\"2007-03-17T14:45:00\",\"2007-03-25T15:10:00\",\"2007-03-25T21:05:00\",\"2007-04-20T01:50:00\",\"2007-04-25T13:00:00\",\"2007-04-25T23:30:00\",\"2007-04-30T22:03:00\",\"2007-05-01T01:30:00\",\"2007-05-13T23:00:00\",\"2007-05-26T23:58:00\",\"2007-05-28T07:30:00\",\"2007-05-30T22:00:00\",\"2007-06-04T13:00:00\",\"2007-06-06T00:00:00\",\"2007-06-11T09:00:00\",\"2007-06-16T03:15:00\",\"2007-07-09T05:05:00\",\"2007-07-09T05:05:00\",\"2007-08-03T08:50:00\",\"2007-09-05T23:55:00\",\"2007-09-13T13:50:00\",\"2007-09-13T18:30:00\",\"2007-09-13T18:35:00\",\"2007-09-13T19:20:00\",\"2007-09-13T19:30:00\",\"2007-09-20T21:00:00\",\"2007-09-21T10:34:00\",\"2007-09-21T12:20:00\",\"2007-09-22T17:30:00\",\"2007-09-24T15:15:00\",\"2007-10-04T05:20:00\",\"2007-10-26T23:06:00\",\"2007-10-27T23:00:00\",\"2007-11-01T22:00:00\",\"2007-11-05T05:30:00\",\"2007-11-06T03:40:00\",\"2007-11-08T23:30:00\",\"2007-11-15T13:15:00\",\"2007-12-03T15:35:00\",\"2007-12-03T17:30:00\",\"2007-12-03T17:35:00\",\"2007-12-03T17:35:00\"],\"lat\":[35.101401,35.101401,32.769306,35.101401,35.519312,32.769306,35.685756,35.062178,32.324738,35.685756,35.101401,35.101401,35.685756,35.685756,34.907088,34.406841,35.101401,35.101401,35.101401,34.9727,32.176178,32.324738,32.769306,34.9727,32.260473,34.406841,33.394758,35.685756,34.9727,35.878996,35.685756,36.746211,32.916917,36.287612,35.101401,35.947286,35.878996,36.406326,35.101401,35.685756,32.324738,36.187303,32.943564,36.82324,35.101401,35.101401,36.10999,35.101401,35.101401],\"legendgroup\":\"\",\"lon\":[-106.631867,-106.631867,-108.280215,-106.631867,-108.733438,-108.280215,-105.938613,-106.190312,-106.759443,-105.938613,-106.631867,-106.631867,-105.938613,-105.938613,-106.693036,-103.199641,-106.631867,-106.631867,-106.631867,105.0324,-104.376294,-106.759443,-108.280215,105.0324,-107.744865,-103.199641,-104.523489,-105.938613,105.0324,-106.300662,-105.938613,-108.19233,-107.70608,-108.124959,-106.631867,-106.071439,-106.300662,-105.573264,-106.631867,-105.938613,-106.759443,-106.559295,-106.419441,-107.99355,-106.631867,-106.631867,-105.726769,-106.631867,-106.631867],\"marker\":{\"color\":\"red\"},\"mode\":\"markers\",\"name\":\"\",\"showlegend\":false,\"subplot\":\"mapbox\",\"type\":\"scattermapbox\"}],\"name\":\"2007.0\"},{\"data\":[{\"hovertemplate\":\"\\u003cb\\u003e%{hovertext}\\u003c\\u002fb\\u003e\\u003cbr\\u003e\\u003cbr\\u003eYear=2008.0\\u003cbr\\u003eLatitude=%{lat}\\u003cbr\\u003eLongitude=%{lon}\\u003cextra\\u003e\\u003c\\u002fextra\\u003e\",\"hovertext\":[\"2008-01-25T22:45:00\",\"2008-02-11T23:00:00\",\"2008-02-18T20:30:00\",\"2008-02-22T18:50:00\",\"2008-02-27T22:30:00\",\"2008-03-08T02:45:00\",\"2008-03-13T20:45:00\",\"2008-03-16T03:00:00\",\"2008-03-16T03:15:00\",\"2008-03-20T17:00:00\",\"2008-03-22T14:00:00\",\"2008-03-23T12:55:00\",\"2008-03-23T13:45:00\",\"2008-03-24T20:45:00\",\"2008-03-26T20:00:00\",\"2008-03-28T00:05:00\",\"2008-03-29T00:05:00\",\"2008-04-18T21:25:00\",\"2008-04-20T15:00:00\",\"2008-05-09T00:00:00\",\"2008-05-20T07:25:00\",\"2008-05-31T17:00:00\",\"2008-06-08T19:30:00\",\"2008-06-08T20:20:00\",\"2008-06-09T00:00:00\",\"2008-06-20T10:00:00\",\"2008-06-28T05:10:00\",\"2008-06-29T21:00:00\",\"2008-07-04T22:30:00\",\"2008-07-18T03:15:00\",\"2008-07-19T18:24:00\",\"2008-07-23T23:30:00\",\"2008-07-24T23:30:00\",\"2008-07-26T22:29:00\",\"2008-07-31T00:15:00\",\"2008-08-04T21:53:00\",\"2008-08-05T21:54:00\",\"2008-08-08T02:00:00\",\"2008-08-09T19:03:00\",\"2008-08-14T12:03:00\",\"2008-08-22T20:30:00\",\"2008-08-30T21:00:00\",\"2008-09-03T22:37:00\",\"2008-09-15T18:30:00\",\"2008-09-27T00:30:00\",\"2008-09-30T01:25:00\",\"2008-10-05T21:18:00\",\"2008-10-06T22:00:00\",\"2008-10-07T12:00:00\",\"2008-10-11T22:20:00\",\"2008-10-12T09:00:00\",\"2008-10-19T02:00:00\",\"2008-10-28T19:29:00\",\"2008-10-28T19:38:00\",\"2008-11-03T00:00:00\",\"2008-11-08T04:00:00\",\"2008-11-21T22:00:00\",\"2008-11-28T18:30:00\",\"2008-12-14T02:15:00\"],\"lat\":[35.101401,35.09107,34.600176,35.685756,35.685756,32.97701,35.101401,34.9727,32.260473,32.418235,35.519312,35.101401,35.519312,32.324738,35.101401,32.324738,34.804859,35.519312,34.991828,35.101401,35.685756,35.685756,35.101401,33.333231,33.394758,34.9727,32.891812,32.324738,35.101401,35.101401,35.101401,36.82324,36.82324,34.907088,35.685756,33.394758,32.706351,32.849132,33.394758,34.9727,32.324738,34.880646,34.344311,33.394758,34.937773,35.598375,35.101401,35.101401,36.391983,35.101401,35.231041,35.101401,35.101401,36.17617,35.101401,36.519395,32.324738,32.706351,35.152307],\"legendgroup\":\"\",\"lon\":[-106.631867,-106.371174,-105.203898,-105.938613,-105.938613,-105.943914,-106.631867,105.0324,-107.744865,-104.230988,-108.733438,-106.631867,-108.733438,-106.759443,-106.631867,-106.759443,-106.733988,-108.733438,-106.047593,-106.631867,-105.938613,-105.938613,-106.631867,-105.681385,-104.523489,105.0324,-105.952151,-106.759443,-106.631867,-106.631867,-106.631867,-107.99355,-107.99355,-106.693036,-105.938613,-104.523489,-103.132147,-106.098862,-104.523489,105.0324,-106.759443,-106.051156,-108.496653,-104.523489,-104.682646,-105.224193,-106.631867,-106.631867,-105.285453,-106.631867,-106.662789,-106.631867,-106.631867,-106.183063,-106.631867,-103.488894,-106.759443,-103.132147,-107.834548],\"marker\":{\"color\":\"red\"},\"mode\":\"markers\",\"name\":\"\",\"showlegend\":false,\"subplot\":\"mapbox\",\"type\":\"scattermapbox\"}],\"name\":\"2008.0\"},{\"data\":[{\"hovertemplate\":\"\\u003cb\\u003e%{hovertext}\\u003c\\u002fb\\u003e\\u003cbr\\u003e\\u003cbr\\u003eYear=2009.0\\u003cbr\\u003eLatitude=%{lat}\\u003cbr\\u003eLongitude=%{lon}\\u003cextra\\u003e\\u003c\\u002fextra\\u003e\",\"hovertext\":[\"2009-01-16T18:30:00\",\"2009-01-20T19:00:00\",\"2009-01-28T12:05:00\",\"2009-01-31T02:30:00\",\"2009-03-20T10:40:00\",\"2009-03-28T21:30:00\",\"2009-03-30T22:00:00\",\"2009-04-08T05:00:00\",\"2009-04-10T23:50:00\",\"2009-04-20T11:00:00\",\"2009-04-20T18:35:00\",\"2009-04-21T21:40:00\",\"2009-04-29T22:30:00\",\"2009-05-01T19:30:00\",\"2009-05-16T10:15:00\",\"2009-05-17T19:00:00\",\"2009-05-17T19:45:00\",\"2009-05-17T20:00:00\",\"2009-05-17T20:31:00\",\"2009-05-24T02:15:00\",\"2009-05-28T00:00:00\",\"2009-05-28T04:00:00\",\"2009-05-28T21:30:00\",\"2009-05-28T21:30:00\",\"2009-06-01T21:03:00\",\"2009-06-02T00:40:00\",\"2009-06-10T21:10:00\",\"2009-06-23T23:00:00\",\"2009-07-14T21:20:00\",\"2009-07-17T00:00:00\",\"2009-07-24T21:30:00\",\"2009-07-26T00:00:00\",\"2009-07-29T00:40:00\",\"2009-08-04T20:57:00\",\"2009-08-05T20:45:00\",\"2009-08-05T21:09:00\",\"2009-08-07T22:20:00\",\"2009-08-19T22:00:00\",\"2009-09-19T17:15:00\",\"2009-09-20T06:00:00\",\"2009-10-09T23:00:00\",\"2009-10-15T18:00:00\",\"2009-10-31T11:15:00\",\"2009-11-06T21:45:00\",\"2009-11-17T04:10:00\",\"2009-11-20T05:00:00\",\"2009-11-20T13:58:00\",\"2009-11-26T17:30:00\",\"2009-11-30T20:51:00\",\"2009-12-19T18:00:00\",\"2009-12-21T00:00:00\"],\"lat\":[35.101401,32.348523,35.101401,36.303475,32.260473,33.346154,33.132497,34.472309,35.316897,35.421996,32.324738,35.101401,34.804859,35.101401,32.324738,32.418235,32.324738,32.324738,32.324738,32.324738,36.746211,36.340777,35.101401,35.101401,34.184208,36.934023,33.394758,34.600176,32.324738,35.685756,35.101401,36.074988,33.491655,35.101401,33.394758,33.842182,35.101401,35.101401,35.316897,35.306251,34.9727,35.172972,34.660595,36.746211,35.101401,32.270136,35.685756,36.045283,32.891812,35.148303,35.148303],\"legendgroup\":\"\",\"lon\":[-106.631867,-108.707488,-106.631867,-103.971638,-107.744865,-107.647666,-107.252571,-104.24468,-106.550269,-108.312536,-106.759443,-106.631867,-106.733988,-106.631867,-106.759443,-104.230988,-106.759443,-106.759443,-106.759443,-106.759443,-108.19233,-106.184527,-106.631867,-106.631867,-103.335009,-106.999919,-104.523489,-105.203898,-106.759443,-105.938613,-106.631867,-106.103902,-105.383356,-106.631867,-104.523489,-103.771754,-106.631867,-106.631867,-106.550269,-106.424425,105.0324,-103.725902,-106.775377,-108.19233,-106.631867,-107.763924,-105.938613,-108.964589,-105.952151,-105.978858,-105.978858],\"marker\":{\"color\":\"red\"},\"mode\":\"markers\",\"name\":\"\",\"showlegend\":false,\"subplot\":\"mapbox\",\"type\":\"scattermapbox\"}],\"name\":\"2009.0\"},{\"data\":[{\"hovertemplate\":\"\\u003cb\\u003e%{hovertext}\\u003c\\u002fb\\u003e\\u003cbr\\u003e\\u003cbr\\u003eYear=2010.0\\u003cbr\\u003eLatitude=%{lat}\\u003cbr\\u003eLongitude=%{lon}\\u003cextra\\u003e\\u003c\\u002fextra\\u003e\",\"hovertext\":[\"2010-01-01T18:00:00\",\"2010-01-10T18:45:00\",\"2010-01-14T01:00:00\",\"2010-01-22T18:00:00\",\"2010-01-25T19:15:00\",\"2010-02-01T04:45:00\",\"2010-02-06T17:50:00\",\"2010-03-03T06:15:00\",\"2010-03-15T05:45:00\",\"2010-04-17T18:39:00\",\"2010-05-01T21:00:00\",\"2010-05-01T23:00:00\",\"2010-05-25T22:00:00\",\"2010-05-26T09:30:00\",\"2010-05-26T22:00:00\",\"2010-05-29T20:05:00\",\"2010-05-29T20:10:00\",\"2010-05-31T20:00:00\",\"2010-06-17T09:41:00\",\"2010-07-04T21:00:00\",\"2010-07-04T23:00:00\",\"2010-07-31T04:15:00\",\"2010-08-03T00:00:00\",\"2010-08-03T21:00:00\",\"2010-08-15T00:00:00\",\"2010-09-03T20:00:00\",\"2010-09-09T22:00:00\",\"2010-09-19T14:38:00\",\"2010-10-03T23:00:00\",\"2010-10-14T16:30:00\",\"2010-11-14T18:00:00\",\"2010-11-15T06:30:00\",\"2010-11-16T10:02:00\",\"2010-11-21T10:00:00\",\"2010-11-22T22:00:00\",\"2010-12-02T13:32:00\",\"2010-12-11T21:00:00\",\"2010-12-13T01:16:00\"],\"lat\":[35.101401,33.075,32.077566,34.057247,32.849132,34.057247,35.101401,35.231041,35.09107,35.101401,33.075,35.09107,35.101401,35.685756,35.575249,36.406326,36.406326,35.101401,34.9727,35.101401,32.324738,35.101401,35.101401,32.769306,32.260473,36.746211,34.158742,35.101401,34.057247,33.132497,32.946759,35.108276,35.101401,35.101401,35.685756,35.101401,35.101401,36.745257],\"legendgroup\":\"\",\"lon\":[-106.631867,-106.018048,-106.22786,-106.892888,-106.098862,-106.892888,-106.631867,-106.662789,-106.371174,-106.631867,-106.018048,-106.371174,-106.631867,-105.938613,-105.676048,-105.573264,-105.573264,-106.631867,105.0324,-106.631867,-106.759443,-106.631867,-106.631867,-108.280215,-107.744865,-108.19233,-106.911081,-106.631867,-106.892888,-107.252571,-103.351723,-106.375249,-106.631867,-106.631867,-105.938613,-106.631867,-106.631867,-108.411491],\"marker\":{\"color\":\"red\"},\"mode\":\"markers\",\"name\":\"\",\"showlegend\":false,\"subplot\":\"mapbox\",\"type\":\"scattermapbox\"}],\"name\":\"2010.0\"},{\"data\":[{\"hovertemplate\":\"\\u003cb\\u003e%{hovertext}\\u003c\\u002fb\\u003e\\u003cbr\\u003e\\u003cbr\\u003eYear=2011.0\\u003cbr\\u003eLatitude=%{lat}\\u003cbr\\u003eLongitude=%{lon}\\u003cextra\\u003e\\u003c\\u002fextra\\u003e\",\"hovertext\":[\"2011-01-16T14:30:00\",\"2011-02-02T16:40:00\",\"2011-02-10T21:00:00\",\"2011-02-14T18:45:00\",\"2011-03-14T14:00:00\",\"2011-03-15T21:00:00\",\"2011-03-19T20:00:00\",\"2011-03-25T22:00:00\",\"2011-04-07T01:00:00\",\"2011-04-09T23:55:00\",\"2011-04-30T02:07:00\",\"2011-05-01T22:15:00\",\"2011-05-04T09:00:00\",\"2011-05-08T19:00:00\",\"2011-05-18T10:00:00\",\"2011-06-25T23:05:00\",\"2011-06-30T23:09:00\",\"2011-08-02T21:15:00\",\"2011-08-19T23:55:00\",\"2011-09-04T19:50:00\",\"2011-09-08T19:05:00\",\"2011-09-17T10:00:00\",\"2011-09-17T21:17:00\",\"2011-09-28T12:30:00\",\"2011-09-30T20:10:00\",\"2011-10-10T01:00:00\",\"2011-10-25T11:00:00\",\"2011-10-25T18:00:00\",\"2011-10-27T21:45:00\",\"2011-11-18T19:00:00\",\"2011-11-29T18:30:00\",\"2011-12-24T21:45:00\",\"2011-12-27T05:25:00\",\"2011-12-31T20:20:00\",\"2011-12-31T23:30:00\"],\"lat\":[33.394758,34.9727,33.333231,36.406326,33.491655,36.059939,34.660595,36.059939,34.9727,36.746211,35.685756,36.746211,35.101401,35.101401,34.660595,34.388211,36.406326,35.101401,32.324738,33.394758,36.746211,32.891812,32.012244,34.9727,33.132497,36.746211,35.101401,35.685756,35.101401,35.101401,34.057247,35.231041,35.037353,35.101401,34.9727],\"legendgroup\":\"\",\"lon\":[-104.523489,105.0324,-105.681385,-105.573264,-105.383356,-107.966758,-106.775377,-107.966758,105.0324,-108.19233,-105.938613,-108.19233,-106.631867,-106.631867,-106.775377,-103.050159,-105.573264,-106.631867,-106.759443,-104.523489,-108.19233,-105.952151,-106.603248,105.0324,-107.252571,-108.19233,-106.631867,-105.938613,-106.631867,-106.631867,-106.892888,-106.662789,-106.612516,-106.631867,105.0324],\"marker\":{\"color\":\"red\"},\"mode\":\"markers\",\"name\":\"\",\"showlegend\":false,\"subplot\":\"mapbox\",\"type\":\"scattermapbox\"}],\"name\":\"2011.0\"},{\"data\":[{\"hovertemplate\":\"\\u003cb\\u003e%{hovertext}\\u003c\\u002fb\\u003e\\u003cbr\\u003e\\u003cbr\\u003eYear=2012.0\\u003cbr\\u003eLatitude=%{lat}\\u003cbr\\u003eLongitude=%{lon}\\u003cextra\\u003e\\u003c\\u002fextra\\u003e\",\"hovertext\":[\"2012-01-01T17:43:00\",\"2012-01-03T19:15:00\",\"2012-01-05T18:00:00\",\"2012-01-20T22:20:00\",\"2012-02-06T05:00:00\",\"2012-02-06T20:00:00\",\"2012-02-09T22:00:00\",\"2012-02-22T21:20:00\",\"2012-03-02T16:00:00\",\"2012-03-06T20:30:00\",\"2012-03-11T23:00:00\",\"2012-03-24T15:00:00\",\"2012-04-04T17:38:00\",\"2012-04-15T22:00:00\",\"2012-04-16T23:00:00\",\"2012-04-17T22:00:00\",\"2012-04-17T23:30:00\",\"2012-04-22T13:00:00\",\"2012-04-23T21:50:00\",\"2012-04-28T22:10:00\",\"2012-04-29T21:05:00\",\"2012-05-05T09:40:00\",\"2012-05-14T23:00:00\",\"2012-05-26T00:00:00\",\"2012-05-28T10:00:00\",\"2012-06-09T21:00:00\",\"2012-06-22T00:30:00\",\"2012-06-26T05:00:00\",\"2012-06-27T21:00:00\",\"2012-07-01T23:30:00\",\"2012-07-07T22:00:00\",\"2012-07-17T01:45:00\",\"2012-08-18T00:00:00\",\"2012-08-25T12:30:00\",\"2012-09-01T21:00:00\",\"2012-09-04T21:30:00\",\"2012-09-06T22:00:00\",\"2012-09-08T23:00:00\",\"2012-09-10T00:00:00\",\"2012-09-16T10:00:00\",\"2012-09-22T07:00:00\",\"2012-09-22T07:00:00\",\"2012-09-22T07:38:00\",\"2012-09-22T17:00:00\",\"2012-09-22T17:30:00\",\"2012-09-22T18:00:00\",\"2012-09-22T19:11:00\",\"2012-10-09T18:00:00\",\"2012-10-10T20:30:00\",\"2012-10-11T00:00:00\",\"2012-10-11T20:30:00\",\"2012-10-13T19:00:00\",\"2012-10-15T22:00:00\",\"2012-10-17T05:33:00\",\"2012-10-17T20:30:00\",\"2012-10-23T18:45:00\",\"2012-10-28T18:45:00\",\"2012-11-03T00:00:00\",\"2012-11-03T00:00:00\",\"2012-11-04T12:00:00\",\"2012-11-04T18:34:00\",\"2012-11-07T14:00:00\",\"2012-11-08T22:30:00\",\"2012-11-08T23:00:00\",\"2012-11-09T23:00:00\",\"2012-11-09T23:00:00\",\"2012-11-22T19:30:00\",\"2012-12-04T09:30:00\",\"2012-12-07T20:15:00\",\"2012-12-21T21:30:00\",\"2012-12-21T21:30:00\",\"2012-12-30T20:15:00\"],\"lat\":[32.260473,32.946759,35.231041,32.769306,35.231041,34.158742,36.406326,32.324738,32.12891,35.101401,35.101401,35.575249,35.101401,32.324738,35.101401,35.101401,33.033332,35.101401,35.231041,32.324738,36.746211,36.088091,36.357663,35.101401,32.418235,35.231041,35.101401,32.324738,35.101401,33.317543,35.101401,35.231041,33.113806,35.992722,32.782649,35.101401,35.101401,35.101401,36.784903,32.418235,35.231041,35.992722,32.706351,35.685756,35.101401,35.316897,35.685756,34.429048,32.324738,33.132497,32.324738,36.406326,36.166808,35.685756,35.37863,35.685756,32.324738,35.101401,35.101401,35.101401,36.357663,35.101401,33.394758,35.172972,35.101401,35.101401,35.101401,35.101401,35.152307,35.101401,35.101401,36.707692],\"legendgroup\":\"\",\"lon\":[-107.744865,-103.351723,-106.662789,-108.280215,-106.662789,-106.911081,-105.573264,-106.759443,-106.655144,-106.631867,-106.631867,-105.676048,-106.631867,-106.759443,-106.631867,-106.631867,-108.698577,-106.631867,-106.662789,-106.759443,-108.19233,-106.055088,-105.608587,-106.631867,-104.230988,-106.662789,-106.631867,-106.759443,-106.631867,-108.88234,-106.631867,-106.662789,-104.327179,-106.079739,-106.324558,-106.631867,-106.631867,-106.631867,-108.686807,-104.230988,-106.662789,-106.079739,-103.132147,-105.938613,-106.631867,-106.550269,-105.938613,-103.62882,-106.759443,-107.252571,-106.759443,-105.573264,-105.967282,-105.938613,-106.476007,-105.938613,-106.759443,-106.631867,-106.631867,-106.631867,-105.608587,-106.631867,-104.523489,-103.725902,-106.631867,-106.631867,-106.631867,-106.631867,-107.834548,-106.631867,-106.631867,-105.406142],\"marker\":{\"color\":\"red\"},\"mode\":\"markers\",\"name\":\"\",\"showlegend\":false,\"subplot\":\"mapbox\",\"type\":\"scattermapbox\"}],\"name\":\"2012.0\"},{\"data\":[{\"hovertemplate\":\"\\u003cb\\u003e%{hovertext}\\u003c\\u002fb\\u003e\\u003cbr\\u003e\\u003cbr\\u003eYear=2013.0\\u003cbr\\u003eLatitude=%{lat}\\u003cbr\\u003eLongitude=%{lon}\\u003cextra\\u003e\\u003c\\u002fextra\\u003e\",\"hovertext\":[\"2013-01-01T00:00:00\",\"2013-01-01T00:37:00\",\"2013-01-25T23:25:00\",\"2013-01-31T19:45:00\",\"2013-02-05T01:30:00\",\"2013-02-28T18:55:00\",\"2013-03-08T19:45:00\",\"2013-03-13T22:15:00\",\"2013-03-14T02:00:00\",\"2013-03-26T20:00:00\",\"2013-04-06T10:35:00\",\"2013-04-13T22:00:00\",\"2013-04-15T20:00:00\",\"2013-04-21T00:00:00\",\"2013-04-21T02:00:00\",\"2013-04-21T21:00:00\",\"2013-04-25T09:28:00\",\"2013-04-28T03:00:00\",\"2013-04-28T21:00:00\",\"2013-04-28T21:30:00\",\"2013-04-29T10:50:00\",\"2013-05-15T22:00:00\",\"2013-05-23T05:47:00\",\"2013-05-26T20:00:00\",\"2013-06-03T03:00:00\",\"2013-06-10T22:30:00\",\"2013-06-20T12:00:00\",\"2013-06-21T04:25:00\",\"2013-07-02T22:36:00\",\"2013-07-02T22:49:00\",\"2013-07-03T23:00:00\",\"2013-07-24T02:31:00\",\"2013-08-06T23:30:00\",\"2013-08-12T09:23:00\",\"2013-08-19T06:00:00\",\"2013-08-26T17:30:00\",\"2013-08-28T20:00:00\",\"2013-08-31T04:30:00\",\"2013-09-01T17:30:00\",\"2013-09-19T01:00:00\",\"2013-09-19T19:45:00\",\"2013-09-19T22:00:00\",\"2013-09-20T23:00:00\",\"2013-09-21T19:00:00\",\"2013-09-21T19:00:00\",\"2013-09-21T19:10:00\",\"2013-09-21T19:30:00\",\"2013-09-22T06:00:00\",\"2013-09-22T06:20:00\",\"2013-09-22T07:30:00\",\"2013-09-22T18:30:00\",\"2013-09-23T20:30:00\",\"2013-09-27T20:30:00\",\"2013-09-29T20:45:00\",\"2013-10-04T20:00:00\",\"2013-10-12T20:00:00\",\"2013-10-13T10:50:00\",\"2013-10-14T01:40:00\",\"2013-10-15T22:00:00\",\"2013-10-16T02:30:00\",\"2013-10-19T23:00:00\",\"2013-10-30T22:00:00\",\"2013-11-01T20:30:00\",\"2013-11-03T07:00:00\",\"2013-11-04T20:00:00\",\"2013-11-08T00:00:00\",\"2013-11-08T00:00:00\",\"2013-11-12T21:15:00\",\"2013-11-12T21:15:00\",\"2013-11-12T21:15:00\",\"2013-11-17T17:45:00\",\"2013-11-19T17:55:00\",\"2013-11-19T17:55:00\",\"2013-11-19T19:00:00\",\"2013-11-19T20:00:00\",\"2013-11-20T04:40:00\",\"2013-11-21T19:57:00\",\"2013-11-28T18:30:00\",\"2013-11-28T19:50:00\",\"2013-12-02T20:06:00\",\"2013-12-12T01:30:00\",\"2013-12-18T01:00:00\",\"2013-12-22T19:00:00\",\"2013-12-24T17:00:00\",\"2013-12-24T21:15:00\",\"2013-12-24T21:30:00\",\"2013-12-25T21:45:00\",\"2013-12-26T22:45:00\",\"2013-12-31T13:00:00\",\"2013-12-31T23:50:00\"],\"lat\":[35.231041,36.746211,36.186141,35.101401,35.685756,35.685756,35.101401,35.101401,35.685756,35.685756,35.101401,35.101401,32.114844,35.139218,32.324738,35.101401,35.101401,35.101401,35.101401,35.101401,35.685756,35.685756,34.9727,32.418235,35.37863,35.101401,35.101401,35.170392,36.746211,36.063907,35.685756,36.233652,35.101401,34.184208,32.324738,35.172972,35.062178,35.001844,36.451432,34.9727,35.101401,32.260473,35.101401,35.231041,35.101401,35.101401,35.685756,35.101401,35.231041,35.101401,35.685756,32.324738,35.009532,35.101401,35.101401,35.101401,35.685756,35.101401,35.101401,33.333231,35.101401,33.132497,35.519312,32.012244,35.101401,36.406326,36.02151,35.685756,35.685756,35.685756,32.418235,35.231041,35.231041,35.685756,35.101401,32.418235,36.516508,35.101401,35.101401,31.827448,36.573946,35.101401,36.746211,35.101401,35.101401,35.101401,35.101401,32.324738,36.406326,32.324738],\"legendgroup\":\"\",\"lon\":[-106.662789,-108.19233,-106.217131,-106.631867,-105.938613,-105.938613,-106.631867,-106.631867,-105.938613,-105.938613,-106.631867,-106.631867,-103.191861,-107.377689,-106.759443,-106.631867,-106.631867,-106.631867,-106.631867,-106.631867,-105.938613,-105.938613,105.0324,-104.230988,-106.476007,-106.631867,-106.631867,-107.894147,-108.19233,-108.680548,-105.938613,-107.572401,-106.631867,-103.335009,-106.759443,-103.725902,-106.190312,-106.670934,-103.182366,105.0324,-106.631867,-107.744865,-106.631867,-106.662789,-106.631867,-106.631867,-105.938613,-106.631867,-106.662789,-106.631867,-105.938613,-106.759443,-105.66755,-106.631867,-106.631867,-106.631867,-105.938613,-106.631867,-106.631867,-105.681385,-106.631867,-107.252571,-108.733438,-106.603248,-106.631867,-105.573264,-106.958032,-105.938613,-105.938613,-105.938613,-104.230988,-106.662789,-106.662789,-105.938613,-106.631867,-104.230988,-105.569188,-106.631867,-106.631867,-107.638108,-106.718704,-106.631867,-108.19233,-106.631867,-106.631867,-106.631867,-106.631867,-106.759443,-105.573264,-106.759443],\"marker\":{\"color\":\"red\"},\"mode\":\"markers\",\"name\":\"\",\"showlegend\":false,\"subplot\":\"mapbox\",\"type\":\"scattermapbox\"}],\"name\":\"2013.0\"},{\"data\":[{\"hovertemplate\":\"\\u003cb\\u003e%{hovertext}\\u003c\\u002fb\\u003e\\u003cbr\\u003e\\u003cbr\\u003eYear=2014.0\\u003cbr\\u003eLatitude=%{lat}\\u003cbr\\u003eLongitude=%{lon}\\u003cextra\\u003e\\u003c\\u002fextra\\u003e\",\"hovertext\":[\"2014-01-01T00:00:00\",\"2014-01-01T00:05:00\",\"2014-01-01T00:50:00\",\"2014-01-01T01:00:00\",\"2014-01-03T18:15:00\",\"2014-01-19T19:45:00\",\"2014-01-21T00:45:00\",\"2014-01-26T18:30:00\",\"2014-02-03T20:00:00\",\"2014-02-07T11:32:00\",\"2014-02-10T22:30:00\",\"2014-02-11T13:00:00\",\"2014-02-11T14:00:00\",\"2014-02-19T03:00:00\",\"2014-02-23T21:05:00\",\"2014-02-26T19:00:00\",\"2014-03-02T15:30:00\",\"2014-03-05T00:00:00\",\"2014-03-05T00:45:00\",\"2014-03-06T20:00:00\",\"2014-03-08T20:00:00\",\"2014-03-09T20:45:00\",\"2014-03-18T20:00:00\",\"2014-03-19T22:26:00\",\"2014-03-29T20:00:00\",\"2014-03-31T11:52:00\",\"2014-04-03T21:00:00\",\"2014-04-05T18:30:00\",\"2014-04-05T18:30:00\",\"2014-04-08T20:45:00\",\"2014-04-09T08:45:00\",\"2014-04-12T20:30:00\",\"2014-04-12T21:00:00\",\"2014-04-12T21:05:00\",\"2014-04-12T21:30:00\",\"2014-04-15T01:15:00\",\"2014-04-15T19:30:00\",\"2014-04-22T07:05:00\",\"2014-04-23T20:15:00\",\"2014-04-24T08:45:00\",\"2014-04-24T21:00:00\",\"2014-04-28T20:30:00\",\"2014-04-29T22:00:00\",\"2014-05-07T23:30:00\",\"2014-05-08T21:00:00\",\"2014-05-16T22:30:00\",\"2014-05-23T08:00:00\",\"2014-05-29T04:00:00\",\"2014-06-22T21:30:00\",\"2014-06-23T22:00:00\",\"2014-06-24T18:50:00\",\"2014-06-28T11:00:00\",\"2014-07-11T05:00:00\",\"2014-07-26T04:00:00\",\"2014-08-01T06:45:00\",\"2014-08-18T15:00:00\",\"2014-08-24T16:00:00\",\"2014-08-30T00:00:00\",\"2014-09-01T13:00:00\",\"2014-09-01T20:00:00\",\"2014-09-01T20:30:00\",\"2014-09-02T19:00:00\",\"2014-09-06T23:30:00\",\"2014-09-08T04:42:00\",\"2014-09-08T19:24:00\",\"2014-09-13T07:45:00\",\"2014-09-13T14:00:00\",\"2014-09-13T14:00:00\",\"2014-09-13T17:00:00\",\"2014-09-13T19:00:00\",\"2014-09-13T19:00:00\",\"2014-09-13T19:00:00\",\"2014-09-13T19:30:00\",\"2014-09-13T19:40:00\",\"2014-09-13T19:42:00\",\"2014-09-14T21:03:00\",\"2014-09-15T11:44:00\",\"2014-09-25T18:30:00\",\"2014-09-25T18:30:00\",\"2014-09-25T18:45:00\",\"2014-09-25T20:30:00\",\"2014-09-26T19:00:00\",\"2014-09-30T14:00:00\",\"2014-10-04T03:00:00\",\"2014-10-14T22:00:00\",\"2014-10-18T22:00:00\",\"2014-10-19T02:00:00\",\"2014-10-21T21:00:00\",\"2014-10-26T19:20:00\",\"2014-10-27T20:00:00\",\"2014-10-27T20:00:00\",\"2014-10-28T07:00:00\",\"2014-10-28T21:00:00\",\"2014-10-28T22:15:00\",\"2014-11-05T07:30:00\",\"2014-11-07T18:18:00\",\"2014-11-07T20:30:00\",\"2014-11-11T13:00:00\",\"2014-11-12T11:16:00\",\"2014-11-26T22:20:00\",\"2014-11-27T10:30:00\",\"2014-11-28T20:00:00\",\"2014-11-29T17:20:00\",\"2014-12-03T23:00:00\",\"2014-12-08T22:00:00\",\"2014-12-10T17:30:00\",\"2014-12-21T19:00:00\",\"2014-12-21T20:16:00\",\"2014-12-23T18:00:00\",\"2014-12-28T23:00:00\",\"2014-12-31T22:00:00\"],\"lat\":[36.406326,35.101401,36.736951,35.101401,35.878996,32.324738,33.818732,35.101401,35.306251,34.298286,35.101401,32.260473,32.260473,35.101401,35.101401,35.101401,35.101401,35.101401,35.101401,35.101401,34.804859,35.101401,35.101401,35.685756,35.101401,35.231041,34.406841,32.706351,32.706351,31.835878,32.324738,35.231041,35.101401,32.324738,32.324738,35.152307,32.348523,35.111947,34.406841,35.231041,35.101401,32.769306,34.406841,35.562344,36.406326,32.891812,34.9727,35.101401,32.260473,36.051906,36.746211,35.101401,32.77755,34.937773,35.992722,33.394758,35.685756,35.306251,32.706351,33.394758,35.101401,35.101401,35.627235,35.101401,35.101401,35.231041,35.101401,35.101401,35.685756,35.101401,34.660595,35.685756,35.231041,35.101401,35.685756,32.769306,34.9727,34.406841,34.406841,36.451432,32.856095,36.451432,36.301405,35.101401,35.685756,33.132497,35.101401,32.324738,36.746211,35.101401,33.394758,33.155834,32.954872,35.685756,32.840683,35.101401,32.706351,35.101401,35.316897,35.685756,35.685756,35.04692,32.260473,35.101401,34.9727,33.333231,35.062178,34.184208,32.891812,32.324738,36.406326],\"legendgroup\":\"\",\"lon\":[-105.573264,-106.631867,-108.357359,-106.631867,-106.300662,-106.759443,-108.954278,-106.631867,-106.424425,-108.134699,-106.631867,-107.744865,-107.744865,-106.631867,-106.631867,-106.631867,-106.631867,-106.631867,-106.631867,-106.631867,-106.733988,-106.631867,-106.631867,-105.938613,-106.631867,-106.662789,-103.199641,-103.132147,-103.132147,-109.030477,-106.759443,-106.662789,-106.631867,-106.759443,-106.759443,-107.834548,-108.707488,-107.883054,-103.199641,-106.662789,-106.631867,-108.280215,-103.199641,-106.769845,-105.573264,-105.952151,105.0324,-106.631867,-107.744865,-106.069898,-108.19233,-106.631867,-108.153323,-104.682646,-106.079739,-104.523489,-105.938613,-106.424425,-103.132147,-104.523489,-106.631867,-106.631867,-108.779834,-106.631867,-106.631867,-106.662789,-106.631867,-106.631867,-105.938613,-106.631867,-106.775377,-105.938613,-106.662789,-106.631867,-105.938613,-108.280215,105.0324,-103.199641,-103.199641,-103.182366,-107.979515,-103.182366,-106.044713,-106.631867,-105.938613,-107.252571,-106.631867,-106.759443,-108.19233,-106.631867,-104.523489,-105.776547,-105.739939,-105.938613,-104.405192,-106.631867,-103.132147,-106.631867,-106.550269,-105.938613,-105.938613,-106.543784,-107.744865,-106.631867,105.0324,-105.681385,-106.190312,-103.335009,-105.952151,-106.759443,-105.573264],\"marker\":{\"color\":\"red\"},\"mode\":\"markers\",\"name\":\"\",\"showlegend\":false,\"subplot\":\"mapbox\",\"type\":\"scattermapbox\"}],\"name\":\"2014.0\"},{\"data\":[{\"hovertemplate\":\"\\u003cb\\u003e%{hovertext}\\u003c\\u002fb\\u003e\\u003cbr\\u003e\\u003cbr\\u003eYear=2015.0\\u003cbr\\u003eLatitude=%{lat}\\u003cbr\\u003eLongitude=%{lon}\\u003cextra\\u003e\\u003c\\u002fextra\\u003e\",\"hovertext\":[\"2015-01-12T19:45:00\",\"2015-01-15T02:30:00\",\"2015-01-15T03:00:00\",\"2015-01-15T11:00:00\",\"2015-01-20T20:00:00\",\"2015-02-02T02:00:00\",\"2015-02-06T13:00:00\",\"2015-02-10T16:00:00\",\"2015-02-17T21:00:00\",\"2015-02-25T00:00:00\",\"2015-02-26T23:17:00\",\"2015-03-01T20:00:00\",\"2015-03-04T19:30:00\",\"2015-03-10T21:30:00\",\"2015-04-01T21:00:00\",\"2015-04-02T01:00:00\",\"2015-04-06T21:15:00\",\"2015-04-11T20:50:00\",\"2015-04-24T23:00:00\",\"2015-04-30T14:02:00\",\"2015-05-01T19:00:00\",\"2015-05-07T21:00:00\",\"2015-05-11T21:00:00\",\"2015-05-16T16:40:00\",\"2015-05-19T23:00:00\",\"2015-05-21T13:15:00\",\"2015-05-24T23:30:00\",\"2015-05-28T16:30:00\",\"2015-05-30T15:30:00\",\"2015-06-01T22:55:00\",\"2015-06-10T23:40:00\",\"2015-06-21T21:45:00\",\"2015-06-30T20:30:00\",\"2015-07-04T00:00:00\",\"2015-07-04T21:45:00\",\"2015-07-05T01:00:00\",\"2015-07-19T22:30:00\",\"2015-08-04T16:00:00\",\"2015-08-07T07:00:00\",\"2015-08-10T22:00:00\",\"2015-08-20T21:30:00\",\"2015-09-18T22:20:00\",\"2015-09-22T20:00:00\",\"2015-09-22T20:30:00\",\"2015-09-24T18:45:00\",\"2015-09-24T20:30:00\",\"2015-09-25T20:28:00\",\"2015-09-28T00:00:00\",\"2015-09-30T23:00:00\",\"2015-10-04T23:20:00\",\"2015-10-09T08:56:00\",\"2015-10-15T05:23:00\",\"2015-10-16T21:00:00\",\"2015-10-23T06:00:00\",\"2015-10-31T19:50:00\",\"2015-11-04T19:14:00\",\"2015-11-07T19:00:00\",\"2015-11-07T19:05:00\",\"2015-11-07T19:15:00\",\"2015-11-08T00:10:00\",\"2015-11-08T05:45:00\",\"2015-11-09T00:05:00\",\"2015-11-14T23:00:00\",\"2015-11-19T19:20:00\",\"2015-11-20T10:55:00\",\"2015-11-24T05:40:00\",\"2015-11-24T18:11:00\",\"2015-11-28T11:00:00\",\"2015-12-03T17:45:00\",\"2015-12-04T18:00:00\",\"2015-12-06T12:00:00\",\"2015-12-06T18:30:00\",\"2015-12-06T18:34:00\",\"2015-12-18T05:31:00\",\"2015-12-20T01:00:00\",\"2015-12-21T21:00:00\",\"2015-12-25T19:30:00\",\"2015-12-31T20:50:00\"],\"lat\":[35.101401,32.348523,33.256097,34.9727,35.101401,35.101401,36.746211,35.973949,35.101401,34.991828,32.706351,35.101401,36.82324,33.333231,32.891812,33.394758,35.167808,35.685756,35.58264,35.101401,32.324738,32.891812,35.101401,36.746211,32.418235,32.324738,32.840683,35.101401,35.101401,32.324738,33.405779,32.324738,35.09107,35.101401,35.101401,32.954872,35.685756,35.231041,32.260473,35.598375,33.405779,35.76805,32.891812,35.685756,32.667323,35.685756,35.685756,32.49093,32.324738,35.231041,35.101401,34.595362,35.101401,35.231041,35.101401,33.394758,35.519312,34.298286,32.699259,35.101401,35.101401,35.101401,35.316897,32.324738,32.943564,35.685756,36.406326,35.421996,35.062178,35.101401,35.685756,35.101401,35.101401,36.406326,35.685756,35.685756,35.101401,35.101401],\"legendgroup\":\"\",\"lon\":[-106.631867,-108.707488,-103.316036,105.0324,-106.631867,-106.631867,-108.19233,-105.330412,-106.631867,-106.047593,-103.132147,-106.631867,-107.99355,-105.681385,-105.952151,-104.523489,-106.366508,-105.938613,-105.769,-106.631867,-106.759443,-105.952151,-106.631867,-108.19233,-104.230988,-106.759443,-104.405192,-106.631867,-106.631867,-106.759443,-105.654943,-106.759443,-106.371174,-106.631867,-106.631867,-105.739939,-105.938613,-106.662789,-107.744865,-105.224193,-105.654943,-106.693591,-105.952151,-105.938613,-107.15168,-105.938613,-105.938613,-106.90865,-106.759443,-106.662789,-106.631867,-106.033346,-106.631867,-106.662789,-106.631867,-104.523489,-108.733438,-108.134699,-108.130949,-106.631867,-106.631867,-106.631867,-106.550269,-106.759443,-106.419441,-105.938613,-105.573264,-108.312536,-106.190312,-106.631867,-105.938613,-106.631867,-106.631867,-105.573264,-105.938613,-105.938613,-106.631867,-106.631867],\"marker\":{\"color\":\"red\"},\"mode\":\"markers\",\"name\":\"\",\"showlegend\":false,\"subplot\":\"mapbox\",\"type\":\"scattermapbox\"}],\"name\":\"2015.0\"},{\"data\":[{\"hovertemplate\":\"\\u003cb\\u003e%{hovertext}\\u003c\\u002fb\\u003e\\u003cbr\\u003e\\u003cbr\\u003eYear=2016.0\\u003cbr\\u003eLatitude=%{lat}\\u003cbr\\u003eLongitude=%{lon}\\u003cextra\\u003e\\u003c\\u002fextra\\u003e\",\"hovertext\":[\"2016-01-02T14:10:00\",\"2016-01-06T18:00:00\",\"2016-01-13T19:00:00\",\"2016-01-13T23:19:00\",\"2016-01-23T19:45:00\",\"2016-01-25T14:15:00\",\"2016-01-26T19:45:00\",\"2016-01-28T21:00:00\",\"2016-01-28T22:49:00\",\"2016-01-29T00:15:00\",\"2016-02-02T18:50:00\",\"2016-02-07T07:00:00\",\"2016-02-07T22:00:00\",\"2016-02-12T22:05:00\",\"2016-02-22T22:00:00\",\"2016-02-25T21:00:00\",\"2016-02-25T21:25:00\",\"2016-03-05T17:45:00\",\"2016-03-11T02:48:00\",\"2016-03-14T03:00:00\",\"2016-03-16T20:00:00\",\"2016-03-16T21:40:00\",\"2016-03-20T01:26:00\",\"2016-03-21T13:00:00\",\"2016-03-25T02:00:00\",\"2016-04-04T22:30:00\",\"2016-04-07T23:00:00\",\"2016-04-13T19:10:00\",\"2016-04-13T19:15:00\",\"2016-04-19T13:00:00\",\"2016-04-22T18:30:00\",\"2016-04-27T21:00:00\",\"2016-04-28T21:00:00\",\"2016-05-04T00:40:00\",\"2016-05-06T14:32:00\",\"2016-05-10T21:00:00\",\"2016-05-14T17:50:00\",\"2016-05-19T01:30:00\",\"2016-05-25T13:20:00\",\"2016-05-25T21:00:00\",\"2016-05-25T21:10:00\",\"2016-05-31T23:00:00\",\"2016-06-10T23:30:00\",\"2016-06-17T21:10:00\",\"2016-07-01T23:30:00\",\"2016-07-03T01:45:00\",\"2016-07-09T22:52:00\",\"2016-07-18T05:45:00\",\"2016-08-02T22:15:00\",\"2016-08-03T22:00:00\",\"2016-08-08T10:30:00\",\"2016-08-12T12:00:00\",\"2016-08-12T16:30:00\",\"2016-08-12T21:00:00\",\"2016-08-16T20:48:00\",\"2016-08-28T10:30:00\",\"2016-08-31T19:38:00\",\"2016-09-05T21:30:00\",\"2016-09-08T20:00:00\",\"2016-09-09T01:00:00\",\"2016-09-09T19:30:00\",\"2016-09-17T19:35:00\",\"2016-09-17T19:36:00\",\"2016-09-18T22:00:00\",\"2016-09-19T18:22:00\",\"2016-09-20T01:00:00\",\"2016-10-01T08:33:00\",\"2016-10-07T00:05:00\",\"2016-10-11T22:15:00\",\"2016-10-13T20:30:00\",\"2016-11-18T16:00:00\",\"2016-11-25T22:50:00\",\"2016-12-01T07:00:00\",\"2016-12-02T15:00:00\",\"2016-12-10T18:00:00\",\"2016-12-10T18:15:00\",\"2016-12-12T19:07:00\",\"2016-12-16T23:30:00\",\"2016-12-31T09:20:00\"],\"lat\":[35.101401,35.101401,35.101401,35.101401,35.685756,32.712016,33.394758,34.747183,32.97701,36.406326,35.231041,35.239305,32.891812,36.301405,32.891812,36.759484,32.891812,32.226165,36.752681,36.746211,33.558089,35.685756,35.101401,35.101401,35.101401,36.207215,35.101401,35.101401,35.101401,34.804859,34.954965,33.405779,34.057247,35.685756,34.057247,35.685756,35.101401,32.324738,34.991828,35.685756,35.101401,36.716725,35.685756,31.835878,35.306251,35.685756,35.101401,32.324738,34.406841,36.567052,32.324738,35.231041,35.09107,35.101401,32.943564,35.101401,35.152307,35.685756,35.101401,32.114844,35.101401,35.101401,35.878996,35.760998,31.415807,32.964799,34.158742,32.324738,34.521104,34.057247,36.589688,35.101401,36.902566,33.394758,35.685756,35.90286,36.406326,35.231041,35.685756],\"legendgroup\":\"\",\"lon\":[-106.631867,-106.631867,-106.631867,-106.631867,-105.938613,-107.204813,-104.523489,-106.725506,-105.943914,-105.573264,-106.662789,-106.666861,-105.952151,-106.044713,-105.952151,-108.494221,-105.952151,-108.08701,-108.191396,-108.19233,-105.707626,-105.938613,-106.631867,-106.631867,-106.631867,-106.31874,-106.631867,-106.631867,-106.631867,-106.733988,-107.831043,-105.654943,-106.892888,-105.938613,-106.892888,-105.938613,-106.631867,-106.759443,-106.047593,-105.938613,-106.631867,-107.980604,-105.938613,-109.030477,-106.424425,-105.938613,-106.631867,-106.759443,-103.199641,-105.044871,-106.759443,-106.662789,-106.371174,-106.631867,-106.419441,-106.631867,-107.834548,-105.938613,-106.631867,-103.191861,-106.631867,-106.631867,-106.300662,-105.931901,-108.915531,-108.576955,-106.911081,-106.759443,-106.242646,-106.892888,-103.663987,-106.631867,-104.438086,-104.523489,-105.938613,-109.031541,-105.573264,-106.662789,-105.938613],\"marker\":{\"color\":\"red\"},\"mode\":\"markers\",\"name\":\"\",\"showlegend\":false,\"subplot\":\"mapbox\",\"type\":\"scattermapbox\"}],\"name\":\"2016.0\"},{\"data\":[{\"hovertemplate\":\"\\u003cb\\u003e%{hovertext}\\u003c\\u002fb\\u003e\\u003cbr\\u003e\\u003cbr\\u003eYear=2017.0\\u003cbr\\u003eLatitude=%{lat}\\u003cbr\\u003eLongitude=%{lon}\\u003cextra\\u003e\\u003c\\u002fextra\\u003e\",\"hovertext\":[\"2017-01-10T06:00:00\",\"2017-01-10T06:02:00\",\"2017-01-12T21:35:00\",\"2017-01-13T19:50:00\",\"2017-01-14T23:00:00\",\"2017-01-19T18:05:00\",\"2017-01-21T20:30:00\",\"2017-01-23T00:00:00\",\"2017-01-23T19:00:00\",\"2017-01-27T16:45:00\",\"2017-01-29T15:00:00\",\"2017-02-05T22:30:00\",\"2017-02-06T22:30:00\",\"2017-02-08T20:35:00\",\"2017-02-16T19:00:00\",\"2017-02-23T15:10:00\",\"2017-02-24T20:30:00\",\"2017-03-16T17:00:00\",\"2017-03-22T19:02:00\",\"2017-03-23T20:15:00\",\"2017-03-23T20:30:00\",\"2017-03-23T20:45:00\",\"2017-03-27T19:00:00\",\"2017-03-29T20:34:00\",\"2017-04-09T02:00:00\",\"2017-04-14T20:28:00\",\"2017-04-18T20:30:00\",\"2017-04-27T05:20:00\",\"2017-05-02T17:10:00\",\"2017-05-02T21:50:00\",\"2017-05-02T22:15:00\",\"2017-05-04T22:00:00\",\"2017-05-06T05:00:00\",\"2017-05-10T08:30:00\",\"2017-05-11T21:00:00\",\"2017-05-14T20:30:00\",\"2017-05-20T12:00:00\",\"2017-05-20T21:00:00\",\"2017-05-20T21:00:00\",\"2017-05-21T22:00:00\",\"2017-05-22T17:30:00\",\"2017-06-27T12:00:00\",\"2017-06-30T14:00:00\",\"2017-07-04T21:45:00\",\"2017-07-06T01:00:00\",\"2017-07-06T21:00:00\",\"2017-07-07T01:00:00\",\"2017-07-11T22:30:00\",\"2017-07-12T00:45:00\",\"2017-07-12T03:50:00\",\"2017-07-12T10:15:00\",\"2017-07-19T12:05:00\",\"2017-07-19T23:30:00\",\"2017-07-25T20:30:00\",\"2017-07-26T21:30:00\",\"2017-07-27T23:30:00\",\"2017-07-29T21:30:00\",\"2017-08-01T23:30:00\",\"2017-08-04T07:48:00\",\"2017-08-24T21:20:00\",\"2017-08-25T20:30:00\",\"2017-08-25T20:30:00\",\"2017-09-01T21:00:00\",\"2017-09-08T18:25:00\",\"2017-10-01T20:15:00\",\"2017-10-06T19:40:00\",\"2017-10-07T21:50:00\",\"2017-10-09T20:30:00\",\"2017-10-16T19:40:00\",\"2017-10-21T11:12:00\",\"2017-10-22T20:42:00\",\"2017-10-24T23:00:00\",\"2017-11-04T19:00:00\",\"2017-11-12T01:00:00\",\"2017-11-12T07:34:00\",\"2017-11-13T19:00:00\",\"2017-11-14T21:00:00\",\"2017-11-30T18:25:00\",\"2017-12-08T08:45:00\",\"2017-12-09T20:50:00\",\"2017-12-14T19:00:00\",\"2017-12-22T18:00:00\",\"2017-12-25T15:30:00\",\"2017-12-28T04:37:00\"],\"lat\":[34.521104,34.113592,35.101401,35.111947,33.642981,33.491655,33.394758,32.964799,34.804859,32.324738,35.101401,34.9727,35.101401,35.992722,35.685756,35.101401,35.685756,32.324738,35.420958,35.101401,35.235695,35.101401,36.784903,36.063403,35.101401,35.101401,35.101401,35.101401,35.101401,35.101401,35.101401,35.062178,32.078866,35.101401,32.891812,35.517912,35.685756,32.324738,35.519312,34.660595,32.946759,36.406326,33.394758,32.114844,36.261342,33.405779,36.392439,32.840683,32.840683,35.519312,32.324738,34.9727,33.394758,35.61087,32.324738,36.902566,35.685756,32.769306,32.324738,32.324738,36.261342,36.261342,35.231041,35.101401,36.406326,35.76805,35.892967,36.746211,32.324738,33.333231,32.840683,35.101401,35.101401,35.101401,36.759484,33.394758,34.057247,35.148303,35.306251,36.051906,35.685756,34.991828,36.406326,35.101401],\"legendgroup\":\"\",\"lon\":[-106.242646,-107.237787,-106.631867,-107.883054,-105.876232,-105.383356,-104.523489,-108.576955,-106.733988,-106.759443,-106.631867,105.0324,-106.631867,-106.079739,-105.938613,-106.631867,-105.938613,-106.759443,-105.558262,-106.631867,-106.605927,-106.631867,-108.686807,-106.119272,-106.631867,-106.631867,-106.631867,-106.631867,-106.631867,-106.631867,-106.631867,-106.190312,-106.178342,-106.631867,-105.952151,-106.712568,-105.938613,-106.759443,-108.733438,-106.775377,-103.351723,-105.573264,-104.523489,-103.191861,-107.744292,-105.654943,-107.834965,-104.405192,-104.405192,-108.733438,-106.759443,105.0324,-104.523489,-108.82941,-106.759443,-104.438086,-105.938613,-108.280215,-106.759443,-106.759443,-107.744292,-107.744292,-106.662789,-106.631867,-105.573264,-106.693591,-106.005007,-108.19233,-106.759443,-105.681385,-104.405192,-106.631867,-106.631867,-106.631867,-108.494221,-104.523489,-106.892888,-105.978858,-106.424425,-106.069898,-105.938613,-106.047593,-105.573264,-106.631867],\"marker\":{\"color\":\"red\"},\"mode\":\"markers\",\"name\":\"\",\"showlegend\":false,\"subplot\":\"mapbox\",\"type\":\"scattermapbox\"}],\"name\":\"2017.0\"},{\"data\":[{\"hovertemplate\":\"\\u003cb\\u003e%{hovertext}\\u003c\\u002fb\\u003e\\u003cbr\\u003e\\u003cbr\\u003eYear=2018.0\\u003cbr\\u003eLatitude=%{lat}\\u003cbr\\u003eLongitude=%{lon}\\u003cextra\\u003e\\u003c\\u002fextra\\u003e\",\"hovertext\":[\"2018-01-01T00:00:00\",\"2018-01-09T20:25:00\",\"2018-01-16T06:10:00\",\"2018-01-19T21:00:00\",\"2018-02-06T19:00:00\",\"2018-02-06T19:21:00\",\"2018-02-06T19:25:00\",\"2018-02-06T21:00:00\",\"2018-02-15T23:00:00\",\"2018-02-17T13:45:00\",\"2018-03-01T22:35:00\",\"2018-03-12T21:30:00\",\"2018-03-13T06:30:00\",\"2018-03-17T18:42:00\",\"2018-03-17T21:00:00\",\"2018-03-21T22:50:00\",\"2018-04-04T07:08:00\",\"2018-06-02T23:15:00\",\"2018-06-14T16:00:00\",\"2018-06-14T22:00:00\",\"2018-06-18T21:30:00\",\"2018-06-29T09:10:00\",\"2018-06-29T23:00:00\",\"2018-07-17T23:27:00\",\"2018-07-18T02:30:00\",\"2018-07-18T20:45:00\",\"2018-07-22T11:30:00\",\"2018-08-01T19:00:00\",\"2018-08-14T23:30:00\",\"2018-08-18T11:35:00\",\"2018-08-18T16:00:00\",\"2018-08-19T15:00:00\",\"2018-08-22T21:45:00\",\"2018-08-25T14:00:00\",\"2018-08-27T21:00:00\",\"2018-09-04T18:30:00\",\"2018-09-04T18:50:00\",\"2018-09-04T19:20:00\",\"2018-09-09T07:50:00\",\"2018-09-18T05:10:00\",\"2018-09-23T21:00:00\",\"2018-09-30T21:15:00\",\"2018-10-07T20:30:00\",\"2018-11-01T18:00:00\",\"2018-11-05T21:30:00\",\"2018-11-14T06:00:00\",\"2018-11-19T17:55:00\",\"2018-11-21T21:15:00\",\"2018-11-25T17:17:00\",\"2018-11-29T04:15:00\",\"2018-12-01T22:00:00\",\"2018-12-08T20:30:00\",\"2018-12-08T22:30:00\",\"2018-12-08T23:00:00\",\"2018-12-13T19:00:00\",\"2018-12-14T13:30:00\",\"2018-12-14T23:30:00\",\"2018-12-15T20:00:00\",\"2018-12-16T18:22:00\",\"2018-12-17T21:00:00\"],\"lat\":[35.101401,35.101401,36.82324,35.09107,36.451432,35.685756,32.810027,32.962803,35.101401,35.101401,35.562344,35.09107,36.406326,35.491711,34.9727,35.167808,35.101401,35.101401,33.394758,35.101401,33.333231,35.685756,34.9727,33.180572,35.685756,35.101401,32.260473,35.993133,35.062178,34.804859,34.660595,36.406326,32.324738,35.101401,35.101401,32.260473,32.260473,32.260473,32.706351,35.101401,35.101401,36.331495,32.706351,35.101401,33.394758,36.902566,33.394758,36.406326,32.260473,32.324738,35.992722,35.685756,35.685756,35.685756,33.333231,35.101401,35.101401,35.101401,35.101401,35.101401],\"legendgroup\":\"\",\"lon\":[-106.631867,-106.631867,-107.99355,-106.371174,-103.182366,-105.938613,-107.919986,-108.61865,-106.631867,-106.631867,-106.769845,-106.371174,-105.573264,-105.674793,105.0324,-106.366508,-106.631867,-106.631867,-104.523489,-106.631867,-105.681385,-105.938613,105.0324,-107.225855,-105.938613,-106.631867,-107.744865,-105.371202,-106.190312,-106.733988,-106.775377,-105.573264,-106.759443,-106.631867,-106.631867,-107.744865,-107.744865,-107.744865,-103.132147,-106.631867,-106.631867,-106.472842,-103.132147,-106.631867,-104.523489,-104.438086,-104.523489,-105.573264,-107.744865,-106.759443,-106.079739,-105.938613,-105.938613,-105.938613,-105.681385,-106.631867,-106.631867,-106.631867,-106.631867,-106.631867],\"marker\":{\"color\":\"red\"},\"mode\":\"markers\",\"name\":\"\",\"showlegend\":false,\"subplot\":\"mapbox\",\"type\":\"scattermapbox\"}],\"name\":\"2018.0\"},{\"data\":[{\"hovertemplate\":\"\\u003cb\\u003e%{hovertext}\\u003c\\u002fb\\u003e\\u003cbr\\u003e\\u003cbr\\u003eYear=2019.0\\u003cbr\\u003eLatitude=%{lat}\\u003cbr\\u003eLongitude=%{lon}\\u003cextra\\u003e\\u003c\\u002fextra\\u003e\",\"hovertext\":[\"2019-01-06T16:40:00\",\"2019-01-08T18:45:00\",\"2019-01-29T19:02:00\",\"2019-02-16T14:00:00\",\"2019-02-19T00:00:00\",\"2019-03-22T20:00:00\",\"2019-04-09T19:00:00\",\"2019-04-09T19:30:00\",\"2019-04-25T20:30:00\",\"2019-05-08T22:00:00\",\"2019-05-15T21:00:00\",\"2019-05-26T21:40:00\",\"2019-05-26T21:41:00\",\"2019-06-05T21:26:00\",\"2019-06-07T16:00:00\",\"2019-06-07T16:00:00\",\"2019-06-11T22:00:00\",\"2019-06-12T21:45:00\",\"2019-06-18T21:35:00\",\"2019-06-22T22:30:00\",\"2019-06-22T22:30:00\",\"2019-06-24T14:23:00\",\"2019-06-26T05:30:00\",\"2019-07-04T22:00:00\",\"2019-07-05T20:30:00\",\"2019-07-18T20:00:00\",\"2019-07-21T16:30:00\",\"2019-07-22T21:15:00\",\"2019-07-29T00:00:00\",\"2019-07-30T22:30:00\",\"2019-07-30T22:30:00\",\"2019-08-03T11:30:00\",\"2019-08-12T21:30:00\",\"2019-08-12T21:30:00\",\"2019-08-12T21:37:00\",\"2019-08-12T22:30:00\",\"2019-08-13T22:31:00\",\"2019-08-15T22:00:00\",\"2019-08-18T10:10:00\",\"2019-08-22T12:00:00\",\"2019-08-24T22:00:00\",\"2019-09-01T04:19:00\",\"2019-09-01T10:00:00\",\"2019-09-01T12:00:00\",\"2019-09-10T22:30:00\",\"2019-09-19T10:30:00\",\"2019-09-21T00:01:00\",\"2019-09-21T20:30:00\",\"2019-09-22T13:45:00\",\"2019-09-24T20:25:00\",\"2019-09-24T23:00:00\",\"2019-09-25T08:50:00\",\"2019-09-25T23:04:00\",\"2019-09-26T21:00:00\",\"2019-09-26T21:07:00\",\"2019-09-28T06:15:00\",\"2019-09-28T17:50:00\",\"2019-09-28T18:57:00\",\"2019-09-28T19:07:00\",\"2019-09-29T19:30:00\",\"2019-10-03T06:33:00\",\"2019-10-03T06:33:00\",\"2019-10-04T21:00:00\",\"2019-10-05T04:25:00\",\"2019-10-05T11:10:00\",\"2019-10-05T18:35:00\",\"2019-10-07T16:45:00\",\"2019-10-07T16:45:00\",\"2019-10-09T06:45:00\",\"2019-10-09T21:00:00\",\"2019-10-09T23:30:00\",\"2019-10-15T11:20:00\",\"2019-10-16T12:45:00\",\"2019-10-17T06:25:00\",\"2019-10-26T19:00:00\",\"2019-10-30T12:30:00\",\"2019-11-01T22:00:00\",\"2019-11-11T20:30:00\",\"2019-11-16T08:13:00\",\"2019-11-17T01:00:00\",\"2019-11-21T00:00:00\",\"2019-11-22T13:00:00\",\"2019-11-28T15:00:00\",\"2019-12-03T08:30:00\",\"2019-12-11T22:09:00\",\"2019-12-16T18:43:00\",\"2019-12-21T18:30:00\",\"2019-12-21T18:43:00\",\"2019-12-22T07:00:00\",\"2019-12-22T16:00:00\"],\"lat\":[35.685756,34.856588,32.891812,34.991828,35.101401,36.406326,35.685756,35.992722,32.303836,32.12151,35.647908,36.406326,35.878996,32.840683,33.333231,33.333231,33.642981,34.057247,33.333231,34.660595,34.660595,35.685756,35.101401,35.316897,35.685756,35.685756,35.231041,35.101401,35.231041,35.101401,35.101401,32.369767,32.891812,32.324738,32.324738,32.324738,32.324738,32.260473,36.219129,35.101401,35.235695,35.231041,36.406326,36.406326,35.231041,33.394758,35.101401,33.394758,34.225276,32.324738,32.840683,32.809758,33.155834,32.324738,32.324738,35.101401,34.249104,36.357663,34.9727,35.685756,35.101401,35.101401,33.196054,35.685756,35.685756,35.101401,32.418235,32.418235,35.101401,35.101401,32.324738,35.101401,36.746211,33.132497,35.101401,35.101401,35.518098,31.985619,35.685756,36.392439,34.954965,36.261342,36.357663,35.101401,36.699157,35.231041,35.101401,34.9727,32.260473,32.260473],\"legendgroup\":\"\",\"lon\":[-105.938613,-106.697722,-105.952151,-106.047593,-106.631867,-105.573264,-105.938613,-106.079739,-106.845342,-106.706519,-106.337506,-105.573264,-106.300662,-104.405192,-105.681385,-105.681385,-105.876232,-106.892888,-105.681385,-106.775377,-106.775377,-105.938613,-106.631867,-106.550269,-105.938613,-105.938613,-106.662789,-106.631867,-106.662789,-106.631867,-106.631867,-106.561133,-105.952151,-106.759443,-106.759443,-106.759443,-106.759443,-107.744865,-104.649607,-106.631867,-106.605927,-106.662789,-105.573264,-105.573264,-106.662789,-104.523489,-106.631867,-104.523489,-108.879881,-106.759443,-104.405192,-104.733952,-105.776547,-106.759443,-106.759443,-106.631867,-105.596071,-105.608587,105.0324,-105.938613,-106.631867,-106.631867,-104.372926,-105.938613,-105.938613,-106.631867,-104.230988,-104.230988,-106.631867,-106.631867,-106.759443,-106.631867,-108.19233,-107.252571,-106.631867,-106.631867,-106.367495,-106.603502,-105.938613,-107.834965,-107.831043,-107.744292,-105.608587,-106.631867,-106.551701,-106.662789,-106.631867,105.0324,-107.744865,-107.744865],\"marker\":{\"color\":\"red\"},\"mode\":\"markers\",\"name\":\"\",\"showlegend\":false,\"subplot\":\"mapbox\",\"type\":\"scattermapbox\"}],\"name\":\"2019.0\"},{\"data\":[{\"hovertemplate\":\"\\u003cb\\u003e%{hovertext}\\u003c\\u002fb\\u003e\\u003cbr\\u003e\\u003cbr\\u003eYear=2020.0\\u003cbr\\u003eLatitude=%{lat}\\u003cbr\\u003eLongitude=%{lon}\\u003cextra\\u003e\\u003c\\u002fextra\\u003e\",\"hovertext\":[\"2020-01-01T08:24:00\",\"2020-01-03T17:30:00\",\"2020-01-06T19:52:00\",\"2020-01-07T05:00:00\",\"2020-01-07T07:00:00\",\"2020-01-09T19:45:00\",\"2020-01-14T18:30:00\",\"2020-01-14T18:45:00\",\"2020-01-14T19:00:00\",\"2020-01-17T07:30:00\",\"2020-01-17T18:00:00\",\"2020-01-23T19:35:00\",\"2020-02-06T18:00:00\",\"2020-02-06T18:34:00\",\"2020-02-27T20:13:00\",\"2020-03-10T08:54:00\",\"2020-03-19T04:30:00\",\"2020-03-22T03:23:00\",\"2020-03-30T04:00:00\",\"2020-04-03T23:30:00\",\"2020-04-12T09:38:00\",\"2020-04-14T05:45:00\",\"2020-04-14T05:45:00\",\"2020-04-14T06:00:00\",\"2020-04-14T16:30:00\",\"2020-04-14T18:00:00\",\"2020-04-15T19:30:00\",\"2020-04-16T22:55:00\",\"2020-04-21T22:00:00\",\"2020-04-25T22:00:00\",\"2020-04-27T06:00:00\",\"2020-04-28T20:30:00\",\"2020-04-28T20:30:00\",\"2020-04-29T03:18:00\",\"2020-04-30T20:10:00\",\"2020-05-01T05:26:00\",\"2020-05-01T21:02:00\",\"2020-05-02T09:02:00\",\"2020-05-02T20:45:00\",\"2020-05-02T21:00:00\",\"2020-05-02T21:00:00\",\"2020-05-02T21:09:00\",\"2020-05-03T00:50:00\",\"2020-05-04T10:30:00\",\"2020-05-11T15:32:00\",\"2020-05-13T10:15:00\",\"2020-05-26T21:29:00\",\"2020-06-17T09:30:00\",\"2020-06-23T22:00:00\",\"2020-07-07T04:47:00\",\"2020-07-11T21:09:00\",\"2020-07-12T22:21:00\",\"2020-07-14T23:30:00\",\"2020-07-19T13:00:00\",\"2020-07-19T23:05:00\",\"2020-07-28T17:20:00\",\"2020-07-28T20:55:00\",\"2020-07-28T21:10:00\",\"2020-07-30T07:30:00\",\"2020-08-02T03:57:00\",\"2020-08-12T19:59:00\",\"2020-08-19T23:00:00\",\"2020-08-19T23:00:00\",\"2020-09-03T19:30:00\",\"2020-09-05T19:05:00\",\"2020-09-15T22:00:00\",\"2020-09-18T21:11:00\",\"2020-09-30T20:15:00\",\"2020-10-05T20:57:00\",\"2020-10-19T22:45:00\",\"2020-10-21T19:50:00\",\"2020-10-24T18:59:00\",\"2020-10-25T21:30:00\",\"2020-10-30T18:00:00\",\"2020-11-13T00:00:00\",\"2020-11-15T18:00:00\",\"2020-12-04T17:45:00\",\"2020-12-05T19:00:00\",\"2020-12-07T20:30:00\",\"2020-12-20T00:23:00\",\"2020-12-20T04:06:00\",\"2020-12-25T20:00:00\",\"2020-12-26T13:00:00\",\"2020-12-27T16:30:00\"],\"lat\":[32.284958,35.087347,35.101401,32.114844,35.172972,34.804859,36.06057,35.101401,34.804859,32.324738,32.165159,35.685756,35.685756,34.057247,35.231041,35.685756,35.435177,35.685756,35.101401,35.685756,32.324738,32.324738,32.891812,32.324738,33.180572,35.685756,34.9727,34.747183,32.946759,34.991828,32.418235,36.196487,35.101401,35.685756,33.132497,34.836867,35.101401,35.685756,34.804859,32.260473,36.82324,35.60915,36.406326,35.101401,32.706351,35.235695,35.101401,35.101401,35.231041,35.685756,35.685756,32.848686,35.101401,35.101401,35.598375,35.101401,35.101401,35.101401,35.101401,35.101401,35.101401,35.101401,36.207215,32.260473,35.685756,36.207215,35.685756,33.394758,35.101401,35.878996,33.917427,35.944289,35.685756,32.260473,35.235695,35.685756,35.685756,35.685756,36.357663,35.101401,35.101401,35.685756,36.524778,33.134561],\"legendgroup\":\"\",\"lon\":[-104.095179,-103.58572,-106.631867,-103.191861,-103.725902,-106.733988,-107.967992,-106.631867,-106.733988,-106.759443,-106.696068,-105.938613,-105.938613,-106.892888,-106.662789,-105.938613,-106.126759,-105.938613,-106.631867,-105.938613,-106.759443,-106.759443,-105.952151,-106.759443,-107.225855,-105.938613,105.0324,-106.725506,-103.351723,-106.047593,-104.230988,-105.889118,-106.631867,-105.938613,-107.252571,-106.690214,-106.631867,-105.938613,-106.733988,-107.744865,-107.99355,-106.346831,-105.573264,-106.631867,-103.132147,-106.605927,-106.631867,-106.631867,-106.662789,-105.938613,-105.938613,-107.318885,-106.631867,-106.631867,-105.224193,-106.631867,-106.631867,-106.631867,-106.631867,-106.631867,-106.631867,-106.631867,-106.31874,-107.744865,-105.938613,-106.31874,-105.938613,-104.523489,-106.631867,-106.300662,-106.866285,-104.194443,-105.938613,-107.744865,-106.605927,-105.938613,-105.938613,-105.938613,-105.608587,-106.631867,-106.631867,-105.938613,-105.618559,-107.248733],\"marker\":{\"color\":\"red\"},\"mode\":\"markers\",\"name\":\"\",\"showlegend\":false,\"subplot\":\"mapbox\",\"type\":\"scattermapbox\"}],\"name\":\"2020.0\"},{\"data\":[{\"hovertemplate\":\"\\u003cb\\u003e%{hovertext}\\u003c\\u002fb\\u003e\\u003cbr\\u003e\\u003cbr\\u003eYear=2021.0\\u003cbr\\u003eLatitude=%{lat}\\u003cbr\\u003eLongitude=%{lon}\\u003cextra\\u003e\\u003c\\u002fextra\\u003e\",\"hovertext\":[\"2021-01-01T00:05:00\",\"2021-01-09T06:32:00\",\"2021-01-12T17:12:00\",\"2021-01-28T20:32:00\",\"2021-02-19T04:55:00\",\"2021-02-19T18:50:00\",\"2021-02-21T12:35:00\",\"2021-02-21T15:07:00\",\"2021-02-21T19:18:00\",\"2021-03-02T19:25:00\",\"2021-03-05T00:00:00\",\"2021-04-04T21:00:00\",\"2021-04-12T20:30:00\",\"2021-04-19T15:29:00\",\"2021-05-04T15:00:00\",\"2021-05-05T22:00:00\",\"2021-05-05T22:00:00\",\"2021-05-06T21:00:00\",\"2021-05-07T08:50:00\",\"2021-05-08T21:00:00\",\"2021-05-14T04:13:00\",\"2021-05-16T08:17:00\",\"2021-05-25T16:30:00\",\"2021-05-26T22:00:00\",\"2021-05-27T22:30:00\",\"2021-05-27T22:37:00\",\"2021-06-02T23:00:00\",\"2021-06-02T23:00:00\",\"2021-06-12T21:30:00\",\"2021-06-26T18:00:00\",\"2021-07-14T23:30:00\",\"2021-07-15T19:53:00\",\"2021-08-04T17:17:00\",\"2021-08-06T19:33:00\",\"2021-08-13T03:30:00\",\"2021-08-19T03:00:00\",\"2021-08-30T11:04:00\",\"2021-09-14T21:00:00\",\"2021-09-18T01:57:00\",\"2021-10-01T09:40:00\",\"2021-10-16T10:30:00\",\"2021-10-20T20:00:00\",\"2021-10-27T00:00:00\",\"2021-11-11T19:00:00\",\"2021-11-14T00:11:00\",\"2021-11-18T23:30:00\",\"2021-11-20T23:30:00\",\"2021-11-22T07:30:00\",\"2021-12-03T19:00:00\",\"2021-12-18T22:45:00\"],\"lat\":[35.101401,35.101401,33.075,33.394758,35.167808,35.685756,35.451099,35.101401,34.9727,34.057247,36.736951,35.082738,34.820865,35.101401,35.26471,35.101401,32.769306,36.516508,35.101401,35.685756,35.878996,34.660595,35.766709,34.406841,36.340777,34.9727,35.101401,35.101401,36.207215,35.062178,35.101401,36.550863,35.685756,33.333231,35.685756,35.685756,33.394758,33.405779,35.101401,35.101401,36.406326,32.891812,34.406841,35.231041,35.231041,35.101401,32.348523,35.306251,34.386598,34.895227],\"legendgroup\":\"\",\"lon\":[-106.631867,-106.631867,-106.018048,-104.523489,-106.366508,-105.938613,-106.1502,-106.631867,105.0324,-106.892888,-108.357359,-106.780353,-103.315401,-106.631867,-105.337757,-106.631867,-108.280215,-105.569188,-106.631867,-105.938613,-106.300662,-106.775377,-106.690388,-103.199641,-106.184527,105.0324,-106.631867,-106.631867,-106.31874,-106.190312,-106.631867,-105.262018,-105.938613,-105.681385,-105.938613,-105.938613,-104.523489,-105.654943,-106.631867,-106.631867,-105.573264,-105.952151,-103.199641,-106.662789,-106.662789,-106.631867,-108.707488,-106.424425,-103.318975,-107.583167],\"marker\":{\"color\":\"red\"},\"mode\":\"markers\",\"name\":\"\",\"showlegend\":false,\"subplot\":\"mapbox\",\"type\":\"scattermapbox\"}],\"name\":\"2021.0\"},{\"data\":[{\"hovertemplate\":\"\\u003cb\\u003e%{hovertext}\\u003c\\u002fb\\u003e\\u003cbr\\u003e\\u003cbr\\u003eYear=2022.0\\u003cbr\\u003eLatitude=%{lat}\\u003cbr\\u003eLongitude=%{lon}\\u003cextra\\u003e\\u003c\\u002fextra\\u003e\",\"hovertext\":[\"2022-01-05T11:30:00\",\"2022-01-24T15:09:00\",\"2022-01-26T19:15:00\",\"2022-02-04T18:11:00\",\"2022-02-06T01:06:00\",\"2022-02-18T20:50:00\",\"2022-02-18T21:30:00\",\"2022-02-24T10:48:00\",\"2022-02-25T15:00:00\",\"2022-03-12T15:00:00\",\"2022-04-08T21:00:00\",\"2022-04-15T19:39:00\",\"2022-04-18T20:27:00\",\"2022-04-20T21:54:00\",\"2022-04-21T01:53:00\",\"2022-04-21T21:22:00\",\"2022-04-29T22:00:00\",\"2022-05-25T15:30:00\",\"2022-05-26T15:20:00\",\"2022-05-30T04:42:00\",\"2022-06-06T20:00:00\",\"2022-06-19T13:20:00\",\"2022-06-28T02:00:00\",\"2022-07-11T23:00:00\",\"2022-07-15T23:00:00\",\"2022-07-19T23:38:00\",\"2022-08-06T01:00:00\",\"2022-08-06T17:50:00\",\"2022-08-21T09:55:00\",\"2022-08-29T21:06:00\",\"2022-08-30T05:26:00\",\"2022-08-31T21:16:00\",\"2022-09-04T13:40:00\",\"2022-09-09T02:15:00\",\"2022-09-09T14:28:00\",\"2022-09-11T19:05:00\",\"2022-09-18T18:50:00\",\"2022-09-23T21:45:00\",\"2022-09-28T05:55:00\",\"2022-09-28T18:54:00\",\"2022-10-11T22:18:00\",\"2022-10-18T01:47:00\",\"2022-10-20T18:26:00\",\"2022-10-20T19:20:00\",\"2022-10-21T13:12:00\",\"2022-10-23T21:39:00\",\"2022-10-26T23:27:00\",\"2022-10-28T01:00:00\",\"2022-11-03T18:32:00\",\"2022-11-05T21:38:00\",\"2022-11-09T17:30:00\",\"2022-11-16T20:34:00\",\"2022-11-20T20:15:00\",\"2022-11-23T18:20:00\",\"2022-11-23T23:01:00\",\"2022-11-26T12:43:00\",\"2022-12-10T07:07:00\",\"2022-12-15T15:36:00\",\"2022-12-21T17:09:00\"],\"lat\":[36.736951,35.316897,32.891812,34.38264,35.685756,35.231041,35.231041,35.685756,35.231041,32.856095,36.02151,35.760998,36.746211,35.101401,35.152307,32.1362,32.891812,34.9727,35.080216,35.685756,35.101401,34.9727,36.406326,36.716725,35.172972,35.101401,36.043574,35.101401,35.101401,32.418235,35.067573,34.057247,35.101401,34.804859,34.804859,35.101401,35.685756,35.306251,32.324738,33.394758,36.746211,35.067573,36.060507,34.9727,36.406326,36.207215,32.324738,32.324738,35.231041,32.324738,35.101401,36.207215,35.878996,32.260473,35.101401,34.9727,35.101401,35.231041,35.101401],\"legendgroup\":\"\",\"lon\":[-108.357359,-106.550269,-105.952151,-106.813253,-105.938613,-106.662789,-106.662789,-105.938613,-106.662789,-107.979515,-106.958032,-105.931901,-108.19233,-106.631867,-107.834548,-106.23464,-105.952151,105.0324,-106.640464,-105.938613,-106.631867,105.0324,-105.573264,-107.980604,-103.725902,-106.631867,-105.812729,-106.631867,-106.631867,-104.230988,-108.845846,-106.892888,-106.631867,-106.733988,-106.733988,-106.631867,-105.938613,-106.424425,-106.759443,-104.523489,-108.19233,-108.845846,-107.961732,105.0324,-105.573264,-106.31874,-106.759443,-106.759443,-106.662789,-106.759443,-106.631867,-106.31874,-106.300662,-107.744865,-106.631867,105.0324,-106.631867,-106.662789,-106.631867],\"marker\":{\"color\":\"red\"},\"mode\":\"markers\",\"name\":\"\",\"showlegend\":false,\"subplot\":\"mapbox\",\"type\":\"scattermapbox\"}],\"name\":\"2022.0\"},{\"data\":[{\"hovertemplate\":\"\\u003cb\\u003e%{hovertext}\\u003c\\u002fb\\u003e\\u003cbr\\u003e\\u003cbr\\u003eYear=2023.0\\u003cbr\\u003eLatitude=%{lat}\\u003cbr\\u003eLongitude=%{lon}\\u003cextra\\u003e\\u003c\\u002fextra\\u003e\",\"hovertext\":[\"2023-01-01T16:45:00\",\"2023-01-09T03:55:00\",\"2023-01-18T04:00:00\",\"2023-01-27T07:38:00\",\"2023-02-02T19:15:00\",\"2023-02-18T19:54:00\",\"2023-03-02T19:21:00\",\"2023-03-04T19:42:00\",\"2023-03-08T18:48:00\",\"2023-04-05T01:45:00\",\"2023-04-09T16:18:00\",\"2023-04-17T20:35:00\",\"2023-04-21T14:20:00\",\"2023-04-27T02:51:00\",\"2023-05-03T01:45:00\",\"2023-05-03T23:00:00\",\"2023-05-27T21:00:00\",\"2023-06-05T09:28:00\",\"2023-06-07T10:26:00\",\"2023-06-08T22:44:00\",\"2023-06-12T22:13:00\",\"2023-06-16T00:30:00\",\"2023-06-23T22:20:00\",\"2023-06-23T22:20:00\",\"2023-06-23T22:30:00\",\"2023-07-02T13:34:00\",\"2023-07-11T22:15:00\",\"2023-07-12T05:05:00\",\"2023-07-16T22:00:00\",\"2023-07-18T21:15:00\",\"2023-07-30T22:00:00\",\"2023-08-07T21:33:00\",\"2023-08-13T01:00:00\",\"2023-08-14T20:55:00\",\"2023-08-26T20:40:00\",\"2023-08-26T21:00:00\",\"2023-09-04T20:49:00\",\"2023-09-07T19:00:00\",\"2023-09-08T21:15:00\",\"2023-09-19T13:40:00\",\"2023-09-21T23:41:00\",\"2023-10-02T19:56:00\",\"2023-10-09T19:02:00\",\"2023-10-15T22:00:00\",\"2023-10-23T19:00:00\",\"2023-10-30T18:45:00\",\"2023-10-30T18:51:00\",\"2023-10-30T18:55:00\",\"2023-10-30T18:55:00\",\"2023-11-25T21:41:00\",\"2023-11-26T14:30:00\",\"2023-12-24T06:19:00\"],\"lat\":[34.406841,35.85709,34.9727,35.082738,32.840683,36.740298,35.062178,35.09107,32.794103,35.519312,34.9727,33.333231,35.148303,35.101401,35.101401,34.9727,33.333231,35.231041,34.9727,35.101401,33.394758,35.101401,35.235695,35.009532,35.481871,34.450729,36.494771,32.165159,36.845445,36.746211,35.101401,35.101401,33.317543,36.406326,32.284958,32.782649,35.231041,34.660595,35.685756,35.152307,35.101401,35.685756,35.101401,35.993133,34.521104,35.101401,34.856588,35.09107,35.685756,34.660595,31.827448,35.231041],\"legendgroup\":\"\",\"lon\":[-103.199641,-108.761708,105.0324,-106.780353,-104.405192,-103.992974,-106.190312,-106.371174,-108.184147,-108.733438,105.0324,-105.681385,-105.978858,-106.631867,-106.631867,105.0324,-105.681385,-106.662789,105.0324,-106.631867,-104.523489,-106.631867,-106.605927,-105.66755,-105.880072,-106.374842,-106.115998,-106.696068,-103.916704,-108.19233,-106.631867,-106.631867,-108.88234,-105.573264,-104.095179,-106.324558,-106.662789,-106.775377,-105.938613,-107.834548,-106.631867,-105.938613,-106.631867,-105.371202,-106.242646,-106.631867,-106.697722,-106.371174,-105.938613,-106.775377,-107.638108,-106.662789],\"marker\":{\"color\":\"red\"},\"mode\":\"markers\",\"name\":\"\",\"showlegend\":false,\"subplot\":\"mapbox\",\"type\":\"scattermapbox\"}],\"name\":\"2023.0\"},{\"data\":[{\"hovertemplate\":\"\\u003cb\\u003e%{hovertext}\\u003c\\u002fb\\u003e\\u003cbr\\u003e\\u003cbr\\u003eYear=2024.0\\u003cbr\\u003eLatitude=%{lat}\\u003cbr\\u003eLongitude=%{lon}\\u003cextra\\u003e\\u003c\\u002fextra\\u003e\",\"hovertext\":[\"2024-01-04T02:30:00\",\"2024-02-01T17:22:00\",\"2024-02-15T22:55:00\",\"2024-02-24T20:20:00\",\"2024-03-04T18:35:00\",\"2024-03-04T18:50:00\",\"2024-03-04T19:00:00\",\"2024-03-16T00:12:00\",\"2024-03-19T23:09:00\",\"2024-03-27T03:13:00\",\"2024-04-04T04:48:00\",\"2024-04-10T21:15:00\",\"2024-04-30T01:00:00\",\"2024-05-02T22:08:00\",\"2024-05-12T20:10:00\",\"2024-05-22T23:15:00\",\"2024-05-28T21:24:00\",\"2024-06-03T15:50:00\",\"2024-06-15T21:30:00\",\"2024-07-08T21:15:00\",\"2024-07-25T12:00:00\",\"2024-07-27T13:11:00\",\"2024-08-03T23:00:00\",\"2024-08-07T20:54:00\",\"2024-08-18T04:00:00\",\"2024-09-11T19:25:00\",\"2024-09-20T19:30:00\",\"2024-09-30T18:45:00\"],\"lat\":[35.101401,32.260473,35.685756,33.132497,35.101401,35.101401,35.685756,33.642981,35.101401,35.235695,35.101401,32.943564,null,32.962803,35.809653,34.620906,35.101401,35.037438,32.891812,34.142326,34.660595,32.891812,36.55805,35.231041,35.101401,36.707875,35.415473,36.646922],\"legendgroup\":\"\",\"lon\":[-106.631867,-107.744865,-105.938613,-107.252571,-106.631867,-106.631867,-105.938613,-105.876232,-106.631867,-106.605927,-106.631867,-106.419441,-105.572189,-108.61865,-106.205271,-104.372445,-106.631867,-107.385532,-105.952151,-107.842554,-106.775377,-105.952151,-105.113839,-106.662789,-106.631867,-105.591596,-105.494106,-105.967082],\"marker\":{\"color\":\"red\"},\"mode\":\"markers\",\"name\":\"\",\"showlegend\":false,\"subplot\":\"mapbox\",\"type\":\"scattermapbox\"}],\"name\":\"2024.0\"}]);\n",
              "                        }).then(function(){\n",
              "                            \n",
              "var gd = document.getElementById('d600151c-6cbf-4ccf-bce9-4909d1bc5d2e');\n",
              "var x = new MutationObserver(function (mutations, observer) {{\n",
              "        var display = window.getComputedStyle(gd).display;\n",
              "        if (!display || display === 'none') {{\n",
              "            console.log([gd, 'removed!']);\n",
              "            Plotly.purge(gd);\n",
              "            observer.disconnect();\n",
              "        }}\n",
              "}});\n",
              "\n",
              "// Listen for the removal of the full notebook cells\n",
              "var notebookContainer = gd.closest('#notebook-container');\n",
              "if (notebookContainer) {{\n",
              "    x.observe(notebookContainer, {childList: true});\n",
              "}}\n",
              "\n",
              "// Listen for the clearing of the current output cell\n",
              "var outputEl = gd.closest('.output');\n",
              "if (outputEl) {{\n",
              "    x.observe(outputEl, {childList: true});\n",
              "}}\n",
              "\n",
              "                        })                };                            </script>        </div>\n",
              "</body>\n",
              "</html>"
            ]
          },
          "metadata": {}
        }
      ]
    },
    {
      "cell_type": "code",
      "source": [
        "fig.write_html(file=\"map.html\")"
      ],
      "metadata": {
        "id": "UzsunoV-czbB"
      },
      "execution_count": 22,
      "outputs": []
    },
    {
      "cell_type": "markdown",
      "source": [
        "## Data Processing"
      ],
      "metadata": {
        "id": "bM0i-bm5pMHS"
      }
    },
    {
      "cell_type": "markdown",
      "source": [
        "### NUFORC Shape Data"
      ],
      "metadata": {
        "id": "qTv5Q7KFPjc8"
      }
    },
    {
      "cell_type": "markdown",
      "source": [
        "24 different shapes."
      ],
      "metadata": {
        "id": "yL8Je0PLPxtv"
      }
    },
    {
      "cell_type": "code",
      "source": [
        "NM_UFO_DF_CLEAN[['Shape']].nunique()"
      ],
      "metadata": {
        "colab": {
          "base_uri": "https://localhost:8080/",
          "height": 115
        },
        "id": "Vh5Y7ZeNPmnv",
        "outputId": "fb6fa007-4b2f-41dc-d65a-1097cae1593d"
      },
      "execution_count": 23,
      "outputs": [
        {
          "output_type": "execute_result",
          "data": {
            "text/plain": [
              "Shape    24\n",
              "dtype: int64"
            ],
            "text/html": [
              "<div>\n",
              "<style scoped>\n",
              "    .dataframe tbody tr th:only-of-type {\n",
              "        vertical-align: middle;\n",
              "    }\n",
              "\n",
              "    .dataframe tbody tr th {\n",
              "        vertical-align: top;\n",
              "    }\n",
              "\n",
              "    .dataframe thead th {\n",
              "        text-align: right;\n",
              "    }\n",
              "</style>\n",
              "<table border=\"1\" class=\"dataframe\">\n",
              "  <thead>\n",
              "    <tr style=\"text-align: right;\">\n",
              "      <th></th>\n",
              "      <th>0</th>\n",
              "    </tr>\n",
              "  </thead>\n",
              "  <tbody>\n",
              "    <tr>\n",
              "      <th>Shape</th>\n",
              "      <td>24</td>\n",
              "    </tr>\n",
              "  </tbody>\n",
              "</table>\n",
              "</div><br><label><b>dtype:</b> int64</label>"
            ]
          },
          "metadata": {},
          "execution_count": 23
        }
      ]
    },
    {
      "cell_type": "code",
      "source": [
        "shape_data = NM_UFO_DF_CLEAN[['Shape']]"
      ],
      "metadata": {
        "id": "4Dbvp-KiPzX1"
      },
      "execution_count": 24,
      "outputs": []
    },
    {
      "cell_type": "code",
      "source": [
        "shape_data.isnull().sum()"
      ],
      "metadata": {
        "colab": {
          "base_uri": "https://localhost:8080/",
          "height": 115
        },
        "id": "XcnVoVIrP-2q",
        "outputId": "e5a7b7e6-95ac-4d0f-aa9d-38a24a6c8df2"
      },
      "execution_count": 25,
      "outputs": [
        {
          "output_type": "execute_result",
          "data": {
            "text/plain": [
              "Shape    70\n",
              "dtype: int64"
            ],
            "text/html": [
              "<div>\n",
              "<style scoped>\n",
              "    .dataframe tbody tr th:only-of-type {\n",
              "        vertical-align: middle;\n",
              "    }\n",
              "\n",
              "    .dataframe tbody tr th {\n",
              "        vertical-align: top;\n",
              "    }\n",
              "\n",
              "    .dataframe thead th {\n",
              "        text-align: right;\n",
              "    }\n",
              "</style>\n",
              "<table border=\"1\" class=\"dataframe\">\n",
              "  <thead>\n",
              "    <tr style=\"text-align: right;\">\n",
              "      <th></th>\n",
              "      <th>0</th>\n",
              "    </tr>\n",
              "  </thead>\n",
              "  <tbody>\n",
              "    <tr>\n",
              "      <th>Shape</th>\n",
              "      <td>70</td>\n",
              "    </tr>\n",
              "  </tbody>\n",
              "</table>\n",
              "</div><br><label><b>dtype:</b> int64</label>"
            ]
          },
          "metadata": {},
          "execution_count": 25
        }
      ]
    },
    {
      "cell_type": "code",
      "source": [
        "shape_data = shape_data.dropna()"
      ],
      "metadata": {
        "id": "STE-zGjUQELw"
      },
      "execution_count": 26,
      "outputs": []
    },
    {
      "cell_type": "code",
      "source": [
        "shape_data.isnull().sum()"
      ],
      "metadata": {
        "colab": {
          "base_uri": "https://localhost:8080/",
          "height": 115
        },
        "id": "DJ7yxXlUQG4v",
        "outputId": "1a6b8ca1-7b6e-4ec3-b8b2-95764e1f91ad"
      },
      "execution_count": 27,
      "outputs": [
        {
          "output_type": "execute_result",
          "data": {
            "text/plain": [
              "Shape    0\n",
              "dtype: int64"
            ],
            "text/html": [
              "<div>\n",
              "<style scoped>\n",
              "    .dataframe tbody tr th:only-of-type {\n",
              "        vertical-align: middle;\n",
              "    }\n",
              "\n",
              "    .dataframe tbody tr th {\n",
              "        vertical-align: top;\n",
              "    }\n",
              "\n",
              "    .dataframe thead th {\n",
              "        text-align: right;\n",
              "    }\n",
              "</style>\n",
              "<table border=\"1\" class=\"dataframe\">\n",
              "  <thead>\n",
              "    <tr style=\"text-align: right;\">\n",
              "      <th></th>\n",
              "      <th>0</th>\n",
              "    </tr>\n",
              "  </thead>\n",
              "  <tbody>\n",
              "    <tr>\n",
              "      <th>Shape</th>\n",
              "      <td>0</td>\n",
              "    </tr>\n",
              "  </tbody>\n",
              "</table>\n",
              "</div><br><label><b>dtype:</b> int64</label>"
            ]
          },
          "metadata": {},
          "execution_count": 27
        }
      ]
    },
    {
      "cell_type": "markdown",
      "source": [
        "NUFORC shape data."
      ],
      "metadata": {
        "id": "EN6AlYjgabZm"
      }
    },
    {
      "cell_type": "markdown",
      "source": [
        "In the code below I display the shape counts from our data set  from NUFORC."
      ],
      "metadata": {
        "id": "oExX4DJZs1T9"
      }
    },
    {
      "cell_type": "code",
      "source": [
        "shape_counts = shape_data['Shape'].value_counts()\n",
        "shape_counts = shape_counts.sort_values(ascending = True)\n",
        "shape_counts.plot(kind='bar', color = 'purple')\n",
        "average_count = shape_counts.mean()\n",
        "plt.axhline(y=average_count, color='red', linestyle='--', label='Average')\n",
        "plt.xlabel(\"Shape\")\n",
        "plt.ylabel(\"Count\")\n",
        "plt.title(\"Counts of NM UFO Shapes (NUFORC)\")\n",
        "plt.legend()\n",
        "plt.gca().set_facecolor('gray')\n",
        "plt.show()"
      ],
      "metadata": {
        "colab": {
          "base_uri": "https://localhost:8080/",
          "height": 528
        },
        "id": "olfRr0W5QJDd",
        "outputId": "1b9fd40d-5af8-4639-8d88-afcab005d365"
      },
      "execution_count": 28,
      "outputs": [
        {
          "output_type": "display_data",
          "data": {
            "text/plain": [
              "<Figure size 640x480 with 1 Axes>"
            ],
            "image/png": "[encoded data removed]"
          },
          "metadata": {}
        }
      ]
    },
    {
      "cell_type": "markdown",
      "source": [
        "Light is by far the most common shape. Circle and other are next."
      ],
      "metadata": {
        "id": "isdD5bIvTfPY"
      }
    },
    {
      "cell_type": "markdown",
      "source": [
        "### NUFORC Shape Data Over Time"
      ],
      "metadata": {
        "id": "jgxr5fSQVmtJ"
      }
    },
    {
      "cell_type": "markdown",
      "source": [
        "Graph showing the distrobutions of shapes over time. I had to group by the year and shape, then perform a count on the shapes. X is the year and y is the Count of the shape."
      ],
      "metadata": {
        "id": "5XJqk05OWkzQ"
      }
    },
    {
      "cell_type": "code",
      "source": [
        "shape_time_data = NM_UFO_DF_CLEAN.groupby(['Year', 'Shape'])['Shape'].count().reset_index(name='Count')"
      ],
      "metadata": {
        "id": "Ez4tIIYHUE_6"
      },
      "execution_count": 31,
      "outputs": []
    },
    {
      "cell_type": "code",
      "source": [
        "fig = px.line(shape_time_data,\n",
        "              x=\"Year\",\n",
        "              y=\"Count\",\n",
        "              color=\"Shape\",\n",
        "              title=\"UFO Shape Trends Over Time\")\n",
        "fig.show()"
      ],
      "metadata": {
        "colab": {
          "base_uri": "https://localhost:8080/",
          "height": 542
        },
        "id": "gqN2kMhcV9eq",
        "outputId": "b0bcb113-feb2-4acd-a934-c4f1460c2f1c"
      },
      "execution_count": 33,
      "outputs": [
        {
          "output_type": "display_data",
          "data": {
            "text/html": [
              "<html>\n",
              "<head><meta charset=\"utf-8\" /></head>\n",
              "<body>\n",
              "    <div>            <script src=\"https://cdnjs.cloudflare.com/ajax/libs/mathjax/2.7.5/MathJax.js?config=TeX-AMS-MML_SVG\"></script><script type=\"text/javascript\">if (window.MathJax && window.MathJax.Hub && window.MathJax.Hub.Config) {window.MathJax.Hub.Config({SVG: {font: \"STIX-Web\"}});}</script>                <script type=\"text/javascript\">window.PlotlyConfig = {MathJaxConfig: 'local'};</script>\n",
              "        <script charset=\"utf-8\" src=\"https://cdn.plot.ly/plotly-2.35.2.min.js\"></script>                <div id=\"83d3bfdc-695b-4884-a4f4-5fcc90dec603\" class=\"plotly-graph-div\" style=\"height:525px; width:100%;\"></div>            <script type=\"text/javascript\">                                    window.PLOTLYENV=window.PLOTLYENV || {};                                    if (document.getElementById(\"83d3bfdc-695b-4884-a4f4-5fcc90dec603\")) {                    Plotly.newPlot(                        \"83d3bfdc-695b-4884-a4f4-5fcc90dec603\",                        [{\"hovertemplate\":\"Shape=Circle\\u003cbr\\u003eYear=%{x}\\u003cbr\\u003eCount=%{y}\\u003cextra\\u003e\\u003c\\u002fextra\\u003e\",\"legendgroup\":\"Circle\",\"line\":{\"color\":\"#636efa\",\"dash\":\"solid\"},\"marker\":{\"symbol\":\"circle\"},\"mode\":\"lines\",\"name\":\"Circle\",\"orientation\":\"v\",\"showlegend\":true,\"x\":[1929.0,1947.0,1975.0,1978.0,1979.0,1985.0,1997.0,1998.0,1999.0,2000.0,2002.0,2003.0,2004.0,2005.0,2006.0,2007.0,2008.0,2009.0,2010.0,2011.0,2012.0,2013.0,2014.0,2015.0,2016.0,2017.0,2018.0,2019.0,2020.0,2021.0,2022.0,2023.0,2024.0],\"xaxis\":\"x\",\"y\":[1,1,1,2,2,1,2,1,2,4,2,3,4,5,4,5,3,1,5,6,3,7,15,8,6,9,6,9,9,3,6,8,2],\"yaxis\":\"y\",\"type\":\"scatter\"},{\"hovertemplate\":\"Shape=Disk\\u003cbr\\u003eYear=%{x}\\u003cbr\\u003eCount=%{y}\\u003cextra\\u003e\\u003c\\u002fextra\\u003e\",\"legendgroup\":\"Disk\",\"line\":{\"color\":\"#EF553B\",\"dash\":\"solid\"},\"marker\":{\"symbol\":\"circle\"},\"mode\":\"lines\",\"name\":\"Disk\",\"orientation\":\"v\",\"showlegend\":true,\"x\":[1944.0,1951.0,1965.0,1966.0,1975.0,1976.0,1978.0,1983.0,1984.0,1986.0,1988.0,1989.0,1990.0,1991.0,1993.0,1994.0,1995.0,1996.0,1997.0,1998.0,1999.0,2000.0,2001.0,2002.0,2003.0,2004.0,2005.0,2006.0,2007.0,2008.0,2009.0,2010.0,2012.0,2013.0,2014.0,2015.0,2016.0,2017.0,2018.0,2019.0,2020.0,2021.0,2022.0,2023.0],\"xaxis\":\"x\",\"y\":[2,1,4,3,1,1,2,1,2,1,1,1,1,4,1,1,1,1,2,1,3,2,4,3,3,5,3,7,4,2,2,3,4,2,4,7,5,2,2,2,4,4,1,1],\"yaxis\":\"y\",\"type\":\"scatter\"},{\"hovertemplate\":\"Shape=Oval\\u003cbr\\u003eYear=%{x}\\u003cbr\\u003eCount=%{y}\\u003cextra\\u003e\\u003c\\u002fextra\\u003e\",\"legendgroup\":\"Oval\",\"line\":{\"color\":\"#00cc96\",\"dash\":\"solid\"},\"marker\":{\"symbol\":\"circle\"},\"mode\":\"lines\",\"name\":\"Oval\",\"orientation\":\"v\",\"showlegend\":true,\"x\":[1945.0,1947.0,1977.0,1991.0,1994.0,1998.0,1999.0,2000.0,2001.0,2002.0,2003.0,2004.0,2006.0,2007.0,2008.0,2009.0,2010.0,2011.0,2012.0,2013.0,2014.0,2015.0,2016.0,2017.0,2018.0,2019.0,2020.0,2022.0,2023.0,2024.0],\"xaxis\":\"x\",\"y\":[1,1,1,1,1,1,1,2,1,2,4,4,2,4,1,1,3,3,1,2,5,1,6,1,2,6,2,7,1,2],\"yaxis\":\"y\",\"type\":\"scatter\"},{\"hovertemplate\":\"Shape=Sphere\\u003cbr\\u003eYear=%{x}\\u003cbr\\u003eCount=%{y}\\u003cextra\\u003e\\u003c\\u002fextra\\u003e\",\"legendgroup\":\"Sphere\",\"line\":{\"color\":\"#ab63fa\",\"dash\":\"solid\"},\"marker\":{\"symbol\":\"circle\"},\"mode\":\"lines\",\"name\":\"Sphere\",\"orientation\":\"v\",\"showlegend\":true,\"x\":[1945.0,1959.0,1982.0,1992.0,1994.0,1996.0,1998.0,1999.0,2000.0,2001.0,2003.0,2004.0,2005.0,2006.0,2007.0,2008.0,2009.0,2010.0,2011.0,2012.0,2013.0,2014.0,2015.0,2017.0,2019.0,2020.0,2021.0,2022.0,2023.0],\"xaxis\":\"x\",\"y\":[1,1,1,1,3,1,1,3,3,1,1,3,3,2,5,3,2,5,1,2,1,5,4,5,1,6,1,4,2],\"yaxis\":\"y\",\"type\":\"scatter\"},{\"hovertemplate\":\"Shape=Orb\\u003cbr\\u003eYear=%{x}\\u003cbr\\u003eCount=%{y}\\u003cextra\\u003e\\u003c\\u002fextra\\u003e\",\"legendgroup\":\"Orb\",\"line\":{\"color\":\"#FFA15A\",\"dash\":\"solid\"},\"marker\":{\"symbol\":\"circle\"},\"mode\":\"lines\",\"name\":\"Orb\",\"orientation\":\"v\",\"showlegend\":true,\"x\":[1951.0,1988.0,1989.0,1996.0,1998.0,2000.0,2002.0,2004.0,2005.0,2006.0,2007.0,2009.0,2012.0,2013.0,2014.0,2015.0,2016.0,2017.0,2018.0,2019.0,2020.0,2021.0,2022.0,2023.0,2024.0],\"xaxis\":\"x\",\"y\":[1,2,1,1,2,1,1,1,1,1,1,5,5,4,7,6,8,3,6,7,1,3,1,10,4],\"yaxis\":\"y\",\"type\":\"scatter\"},{\"hovertemplate\":\"Shape=Other\\u003cbr\\u003eYear=%{x}\\u003cbr\\u003eCount=%{y}\\u003cextra\\u003e\\u003c\\u002fextra\\u003e\",\"legendgroup\":\"Other\",\"line\":{\"color\":\"#19d3f3\",\"dash\":\"solid\"},\"marker\":{\"symbol\":\"circle\"},\"mode\":\"lines\",\"name\":\"Other\",\"orientation\":\"v\",\"showlegend\":true,\"x\":[1953.0,1969.0,1970.0,1974.0,1976.0,1986.0,1996.0,1997.0,1998.0,1999.0,2000.0,2001.0,2002.0,2003.0,2004.0,2005.0,2006.0,2008.0,2009.0,2010.0,2011.0,2012.0,2013.0,2014.0,2015.0,2016.0,2017.0,2018.0,2019.0,2020.0,2021.0,2022.0,2023.0,2024.0],\"xaxis\":\"x\",\"y\":[1,1,1,1,1,1,1,3,2,4,2,1,4,5,3,1,4,5,4,4,3,9,8,11,10,5,11,10,5,7,3,4,6,3],\"yaxis\":\"y\",\"type\":\"scatter\"},{\"hovertemplate\":\"Shape=Cigar\\u003cbr\\u003eYear=%{x}\\u003cbr\\u003eCount=%{y}\\u003cextra\\u003e\\u003c\\u002fextra\\u003e\",\"legendgroup\":\"Cigar\",\"line\":{\"color\":\"#FF6692\",\"dash\":\"solid\"},\"marker\":{\"symbol\":\"circle\"},\"mode\":\"lines\",\"name\":\"Cigar\",\"orientation\":\"v\",\"showlegend\":true,\"x\":[1954.0,1967.0,1973.0,1992.0,1993.0,1997.0,1998.0,1999.0,2000.0,2001.0,2003.0,2005.0,2006.0,2007.0,2009.0,2010.0,2013.0,2014.0,2016.0,2018.0,2019.0,2020.0,2021.0,2022.0,2023.0],\"xaxis\":\"x\",\"y\":[1,1,1,1,1,1,1,2,1,1,1,1,2,3,1,1,1,4,1,1,3,4,4,1,2],\"yaxis\":\"y\",\"type\":\"scatter\"},{\"hovertemplate\":\"Shape=Fireball\\u003cbr\\u003eYear=%{x}\\u003cbr\\u003eCount=%{y}\\u003cextra\\u003e\\u003c\\u002fextra\\u003e\",\"legendgroup\":\"Fireball\",\"line\":{\"color\":\"#B6E880\",\"dash\":\"solid\"},\"marker\":{\"symbol\":\"circle\"},\"mode\":\"lines\",\"name\":\"Fireball\",\"orientation\":\"v\",\"showlegend\":true,\"x\":[1959.0,1991.0,1997.0,1998.0,1999.0,2001.0,2002.0,2003.0,2004.0,2005.0,2006.0,2007.0,2008.0,2009.0,2010.0,2011.0,2012.0,2013.0,2014.0,2015.0,2016.0,2017.0,2019.0,2020.0,2021.0,2022.0,2023.0],\"xaxis\":\"x\",\"y\":[1,1,3,5,2,3,2,1,1,1,2,2,6,2,2,1,5,3,9,9,3,10,2,4,1,2,1],\"yaxis\":\"y\",\"type\":\"scatter\"},{\"hovertemplate\":\"Shape=Unknown\\u003cbr\\u003eYear=%{x}\\u003cbr\\u003eCount=%{y}\\u003cextra\\u003e\\u003c\\u002fextra\\u003e\",\"legendgroup\":\"Unknown\",\"line\":{\"color\":\"#FF97FF\",\"dash\":\"solid\"},\"marker\":{\"symbol\":\"circle\"},\"mode\":\"lines\",\"name\":\"Unknown\",\"orientation\":\"v\",\"showlegend\":true,\"x\":[1959.0,1967.0,1972.0,1973.0,1975.0,1978.0,1981.0,1982.0,1987.0,1988.0,1990.0,1995.0,1997.0,1998.0,1999.0,2000.0,2001.0,2002.0,2003.0,2004.0,2005.0,2006.0,2007.0,2008.0,2009.0,2010.0,2011.0,2012.0,2013.0,2014.0,2015.0,2016.0,2017.0,2018.0,2019.0,2020.0,2021.0,2022.0,2023.0],\"xaxis\":\"x\",\"y\":[1,1,2,1,1,1,1,1,1,2,1,1,5,2,2,2,3,3,5,3,3,3,5,10,1,2,1,9,9,7,6,3,4,2,4,4,1,3,2],\"yaxis\":\"y\",\"type\":\"scatter\"},{\"hovertemplate\":\"Shape=Cylinder\\u003cbr\\u003eYear=%{x}\\u003cbr\\u003eCount=%{y}\\u003cextra\\u003e\\u003c\\u002fextra\\u003e\",\"legendgroup\":\"Cylinder\",\"line\":{\"color\":\"#FECB52\",\"dash\":\"solid\"},\"marker\":{\"symbol\":\"circle\"},\"mode\":\"lines\",\"name\":\"Cylinder\",\"orientation\":\"v\",\"showlegend\":true,\"x\":[1962.0,1984.0,1988.0,1991.0,1998.0,2000.0,2002.0,2003.0,2008.0,2009.0,2010.0,2011.0,2012.0,2013.0,2014.0,2016.0,2017.0,2021.0,2022.0,2023.0],\"xaxis\":\"x\",\"y\":[1,1,1,1,1,1,3,1,1,2,1,1,3,2,3,2,4,2,3,1],\"yaxis\":\"y\",\"type\":\"scatter\"},{\"hovertemplate\":\"Shape=Diamond\\u003cbr\\u003eYear=%{x}\\u003cbr\\u003eCount=%{y}\\u003cextra\\u003e\\u003c\\u002fextra\\u003e\",\"legendgroup\":\"Diamond\",\"line\":{\"color\":\"#636efa\",\"dash\":\"solid\"},\"marker\":{\"symbol\":\"circle\"},\"mode\":\"lines\",\"name\":\"Diamond\",\"orientation\":\"v\",\"showlegend\":true,\"x\":[1966.0,1998.0,2000.0,2005.0,2006.0,2007.0,2008.0,2009.0,2011.0,2012.0,2013.0,2015.0,2016.0,2018.0,2019.0,2022.0,2023.0,2024.0],\"xaxis\":\"x\",\"y\":[1,2,1,1,2,1,1,1,1,4,1,2,1,1,1,1,1,2],\"yaxis\":\"y\",\"type\":\"scatter\"},{\"hovertemplate\":\"Shape=Triangle\\u003cbr\\u003eYear=%{x}\\u003cbr\\u003eCount=%{y}\\u003cextra\\u003e\\u003c\\u002fextra\\u003e\",\"legendgroup\":\"Triangle\",\"line\":{\"color\":\"#EF553B\",\"dash\":\"solid\"},\"marker\":{\"symbol\":\"circle\"},\"mode\":\"lines\",\"name\":\"Triangle\",\"orientation\":\"v\",\"showlegend\":true,\"x\":[1971.0,1977.0,1979.0,1980.0,1983.0,1988.0,1990.0,1992.0,1993.0,1994.0,1995.0,1996.0,1997.0,1998.0,1999.0,2000.0,2001.0,2002.0,2003.0,2004.0,2005.0,2006.0,2007.0,2008.0,2009.0,2011.0,2013.0,2014.0,2015.0,2016.0,2017.0,2018.0,2019.0,2020.0,2021.0,2022.0,2023.0,2024.0],\"xaxis\":\"x\",\"y\":[1,1,1,1,1,1,1,1,1,3,1,1,4,3,2,4,3,4,4,1,1,5,4,1,1,4,6,10,6,7,6,4,8,3,5,1,1,2],\"yaxis\":\"y\",\"type\":\"scatter\"},{\"hovertemplate\":\"Shape=Light\\u003cbr\\u003eYear=%{x}\\u003cbr\\u003eCount=%{y}\\u003cextra\\u003e\\u003c\\u002fextra\\u003e\",\"legendgroup\":\"Light\",\"line\":{\"color\":\"#00cc96\",\"dash\":\"solid\"},\"marker\":{\"symbol\":\"circle\"},\"mode\":\"lines\",\"name\":\"Light\",\"orientation\":\"v\",\"showlegend\":true,\"x\":[1973.0,1974.0,1975.0,1977.0,1978.0,1984.0,1985.0,1991.0,1993.0,1994.0,1995.0,1996.0,1997.0,1998.0,1999.0,2000.0,2001.0,2002.0,2003.0,2004.0,2005.0,2006.0,2007.0,2008.0,2009.0,2010.0,2011.0,2012.0,2013.0,2014.0,2015.0,2016.0,2017.0,2018.0,2019.0,2020.0,2021.0,2022.0,2023.0,2024.0],\"xaxis\":\"x\",\"y\":[1,1,1,1,1,1,2,2,1,1,1,1,2,2,6,9,6,9,9,12,10,14,6,16,11,3,9,10,27,14,12,18,17,15,18,19,10,8,10,7],\"yaxis\":\"y\",\"type\":\"scatter\"},{\"hovertemplate\":\"Shape=Rectangle\\u003cbr\\u003eYear=%{x}\\u003cbr\\u003eCount=%{y}\\u003cextra\\u003e\\u003c\\u002fextra\\u003e\",\"legendgroup\":\"Rectangle\",\"line\":{\"color\":\"#ab63fa\",\"dash\":\"solid\"},\"marker\":{\"symbol\":\"circle\"},\"mode\":\"lines\",\"name\":\"Rectangle\",\"orientation\":\"v\",\"showlegend\":true,\"x\":[1974.0,1980.0,1981.0,1996.0,2000.0,2003.0,2006.0,2007.0,2008.0,2009.0,2010.0,2012.0,2013.0,2014.0,2016.0,2018.0,2019.0,2020.0,2023.0,2024.0],\"xaxis\":\"x\",\"y\":[1,1,1,1,1,1,3,2,1,3,2,3,1,1,2,1,3,2,1,2],\"yaxis\":\"y\",\"type\":\"scatter\"},{\"hovertemplate\":\"Shape=Flash\\u003cbr\\u003eYear=%{x}\\u003cbr\\u003eCount=%{y}\\u003cextra\\u003e\\u003c\\u002fextra\\u003e\",\"legendgroup\":\"Flash\",\"line\":{\"color\":\"#FFA15A\",\"dash\":\"solid\"},\"marker\":{\"symbol\":\"circle\"},\"mode\":\"lines\",\"name\":\"Flash\",\"orientation\":\"v\",\"showlegend\":true,\"x\":[1976.0,1997.0,1999.0,2001.0,2002.0,2003.0,2006.0,2007.0,2008.0,2010.0,2012.0,2013.0,2014.0,2015.0,2016.0,2017.0,2018.0,2019.0,2020.0,2024.0],\"xaxis\":\"x\",\"y\":[1,1,1,2,2,1,2,1,1,2,6,2,1,2,2,1,3,1,1,1],\"yaxis\":\"y\",\"type\":\"scatter\"},{\"hovertemplate\":\"Shape=Chevron\\u003cbr\\u003eYear=%{x}\\u003cbr\\u003eCount=%{y}\\u003cextra\\u003e\\u003c\\u002fextra\\u003e\",\"legendgroup\":\"Chevron\",\"line\":{\"color\":\"#19d3f3\",\"dash\":\"solid\"},\"marker\":{\"symbol\":\"circle\"},\"mode\":\"lines\",\"name\":\"Chevron\",\"orientation\":\"v\",\"showlegend\":true,\"x\":[1977.0,1986.0,1995.0,2001.0,2002.0,2003.0,2004.0,2007.0,2008.0,2009.0,2014.0,2016.0],\"xaxis\":\"x\",\"y\":[1,1,1,1,1,1,1,1,1,2,1,1],\"yaxis\":\"y\",\"type\":\"scatter\"},{\"hovertemplate\":\"Shape=Egg\\u003cbr\\u003eYear=%{x}\\u003cbr\\u003eCount=%{y}\\u003cextra\\u003e\\u003c\\u002fextra\\u003e\",\"legendgroup\":\"Egg\",\"line\":{\"color\":\"#FF6692\",\"dash\":\"solid\"},\"marker\":{\"symbol\":\"circle\"},\"mode\":\"lines\",\"name\":\"Egg\",\"orientation\":\"v\",\"showlegend\":true,\"x\":[1977.0,2002.0,2003.0,2006.0,2011.0,2013.0,2014.0,2015.0,2017.0,2019.0,2020.0,2022.0],\"xaxis\":\"x\",\"y\":[1,2,1,1,1,2,2,1,2,1,1,1],\"yaxis\":\"y\",\"type\":\"scatter\"},{\"hovertemplate\":\"Shape=Formation\\u003cbr\\u003eYear=%{x}\\u003cbr\\u003eCount=%{y}\\u003cextra\\u003e\\u003c\\u002fextra\\u003e\",\"legendgroup\":\"Formation\",\"line\":{\"color\":\"#B6E880\",\"dash\":\"solid\"},\"marker\":{\"symbol\":\"circle\"},\"mode\":\"lines\",\"name\":\"Formation\",\"orientation\":\"v\",\"showlegend\":true,\"x\":[1977.0,1989.0,1992.0,1993.0,1999.0,2001.0,2006.0,2007.0,2008.0,2009.0,2010.0,2013.0,2014.0,2015.0,2016.0,2017.0,2018.0,2019.0,2020.0,2021.0,2022.0,2023.0,2024.0],\"xaxis\":\"x\",\"y\":[1,1,1,1,1,1,3,1,1,3,4,2,5,1,7,3,1,6,4,5,2,1,2],\"yaxis\":\"y\",\"type\":\"scatter\"},{\"hovertemplate\":\"Shape=Cone\\u003cbr\\u003eYear=%{x}\\u003cbr\\u003eCount=%{y}\\u003cextra\\u003e\\u003c\\u002fextra\\u003e\",\"legendgroup\":\"Cone\",\"line\":{\"color\":\"#FF97FF\",\"dash\":\"solid\"},\"marker\":{\"symbol\":\"circle\"},\"mode\":\"lines\",\"name\":\"Cone\",\"orientation\":\"v\",\"showlegend\":true,\"x\":[1981.0,1995.0,2001.0,2002.0,2006.0,2009.0,2011.0,2012.0,2013.0,2017.0],\"xaxis\":\"x\",\"y\":[1,1,1,1,2,3,1,2,2,1],\"yaxis\":\"y\",\"type\":\"scatter\"},{\"hovertemplate\":\"Shape=Changing\\u003cbr\\u003eYear=%{x}\\u003cbr\\u003eCount=%{y}\\u003cextra\\u003e\\u003c\\u002fextra\\u003e\",\"legendgroup\":\"Changing\",\"line\":{\"color\":\"#FECB52\",\"dash\":\"solid\"},\"marker\":{\"symbol\":\"circle\"},\"mode\":\"lines\",\"name\":\"Changing\",\"orientation\":\"v\",\"showlegend\":true,\"x\":[1986.0,1987.0,1995.0,1996.0,1997.0,1998.0,1999.0,2000.0,2002.0,2004.0,2005.0,2006.0,2007.0,2008.0,2009.0,2011.0,2012.0,2013.0,2014.0,2015.0,2016.0,2017.0,2018.0,2019.0,2020.0,2021.0,2022.0,2023.0,2024.0],\"xaxis\":\"x\",\"y\":[1,1,1,2,1,1,1,1,1,1,2,4,3,2,2,1,2,4,5,1,1,2,2,4,6,3,9,1,1],\"yaxis\":\"y\",\"type\":\"scatter\"},{\"hovertemplate\":\"Shape=Cross\\u003cbr\\u003eYear=%{x}\\u003cbr\\u003eCount=%{y}\\u003cextra\\u003e\\u003c\\u002fextra\\u003e\",\"legendgroup\":\"Cross\",\"line\":{\"color\":\"#636efa\",\"dash\":\"solid\"},\"marker\":{\"symbol\":\"circle\"},\"mode\":\"lines\",\"name\":\"Cross\",\"orientation\":\"v\",\"showlegend\":true,\"x\":[1988.0,1998.0,2010.0,2017.0,2020.0,2021.0],\"xaxis\":\"x\",\"y\":[1,1,1,1,1,1],\"yaxis\":\"y\",\"type\":\"scatter\"},{\"hovertemplate\":\"Shape=Teardrop\\u003cbr\\u003eYear=%{x}\\u003cbr\\u003eCount=%{y}\\u003cextra\\u003e\\u003c\\u002fextra\\u003e\",\"legendgroup\":\"Teardrop\",\"line\":{\"color\":\"#EF553B\",\"dash\":\"solid\"},\"marker\":{\"symbol\":\"circle\"},\"mode\":\"lines\",\"name\":\"Teardrop\",\"orientation\":\"v\",\"showlegend\":true,\"x\":[2002.0,2003.0,2007.0,2008.0,2009.0,2011.0,2012.0,2014.0,2018.0,2019.0,2020.0,2023.0],\"xaxis\":\"x\",\"y\":[2,2,1,1,3,2,2,1,2,4,1,1],\"yaxis\":\"y\",\"type\":\"scatter\"},{\"hovertemplate\":\"Shape=Cube\\u003cbr\\u003eYear=%{x}\\u003cbr\\u003eCount=%{y}\\u003cextra\\u003e\\u003c\\u002fextra\\u003e\",\"legendgroup\":\"Cube\",\"line\":{\"color\":\"#00cc96\",\"dash\":\"solid\"},\"marker\":{\"symbol\":\"circle\"},\"mode\":\"lines\",\"name\":\"Cube\",\"orientation\":\"v\",\"showlegend\":true,\"x\":[2013.0],\"xaxis\":\"x\",\"y\":[1],\"yaxis\":\"y\",\"type\":\"scatter\"},{\"hovertemplate\":\"Shape=Star\\u003cbr\\u003eYear=%{x}\\u003cbr\\u003eCount=%{y}\\u003cextra\\u003e\\u003c\\u002fextra\\u003e\",\"legendgroup\":\"Star\",\"line\":{\"color\":\"#ab63fa\",\"dash\":\"solid\"},\"marker\":{\"symbol\":\"circle\"},\"mode\":\"lines\",\"name\":\"Star\",\"orientation\":\"v\",\"showlegend\":true,\"x\":[2022.0,2023.0],\"xaxis\":\"x\",\"y\":[1,2],\"yaxis\":\"y\",\"type\":\"scatter\"}],                        {\"template\":{\"data\":{\"histogram2dcontour\":[{\"type\":\"histogram2dcontour\",\"colorbar\":{\"outlinewidth\":0,\"ticks\":\"\"},\"colorscale\":[[0.0,\"#0d0887\"],[0.1111111111111111,\"#46039f\"],[0.2222222222222222,\"#7201a8\"],[0.3333333333333333,\"#9c179e\"],[0.4444444444444444,\"#bd3786\"],[0.5555555555555556,\"#d8576b\"],[0.6666666666666666,\"#ed7953\"],[0.7777777777777778,\"#fb9f3a\"],[0.8888888888888888,\"#fdca26\"],[1.0,\"#f0f921\"]]}],\"choropleth\":[{\"type\":\"choropleth\",\"colorbar\":{\"outlinewidth\":0,\"ticks\":\"\"}}],\"histogram2d\":[{\"type\":\"histogram2d\",\"colorbar\":{\"outlinewidth\":0,\"ticks\":\"\"},\"colorscale\":[[0.0,\"#0d0887\"],[0.1111111111111111,\"#46039f\"],[0.2222222222222222,\"#7201a8\"],[0.3333333333333333,\"#9c179e\"],[0.4444444444444444,\"#bd3786\"],[0.5555555555555556,\"#d8576b\"],[0.6666666666666666,\"#ed7953\"],[0.7777777777777778,\"#fb9f3a\"],[0.8888888888888888,\"#fdca26\"],[1.0,\"#f0f921\"]]}],\"heatmap\":[{\"type\":\"heatmap\",\"colorbar\":{\"outlinewidth\":0,\"ticks\":\"\"},\"colorscale\":[[0.0,\"#0d0887\"],[0.1111111111111111,\"#46039f\"],[0.2222222222222222,\"#7201a8\"],[0.3333333333333333,\"#9c179e\"],[0.4444444444444444,\"#bd3786\"],[0.5555555555555556,\"#d8576b\"],[0.6666666666666666,\"#ed7953\"],[0.7777777777777778,\"#fb9f3a\"],[0.8888888888888888,\"#fdca26\"],[1.0,\"#f0f921\"]]}],\"heatmapgl\":[{\"type\":\"heatmapgl\",\"colorbar\":{\"outlinewidth\":0,\"ticks\":\"\"},\"colorscale\":[[0.0,\"#0d0887\"],[0.1111111111111111,\"#46039f\"],[0.2222222222222222,\"#7201a8\"],[0.3333333333333333,\"#9c179e\"],[0.4444444444444444,\"#bd3786\"],[0.5555555555555556,\"#d8576b\"],[0.6666666666666666,\"#ed7953\"],[0.7777777777777778,\"#fb9f3a\"],[0.8888888888888888,\"#fdca26\"],[1.0,\"#f0f921\"]]}],\"contourcarpet\":[{\"type\":\"contourcarpet\",\"colorbar\":{\"outlinewidth\":0,\"ticks\":\"\"}}],\"contour\":[{\"type\":\"contour\",\"colorbar\":{\"outlinewidth\":0,\"ticks\":\"\"},\"colorscale\":[[0.0,\"#0d0887\"],[0.1111111111111111,\"#46039f\"],[0.2222222222222222,\"#7201a8\"],[0.3333333333333333,\"#9c179e\"],[0.4444444444444444,\"#bd3786\"],[0.5555555555555556,\"#d8576b\"],[0.6666666666666666,\"#ed7953\"],[0.7777777777777778,\"#fb9f3a\"],[0.8888888888888888,\"#fdca26\"],[1.0,\"#f0f921\"]]}],\"surface\":[{\"type\":\"surface\",\"colorbar\":{\"outlinewidth\":0,\"ticks\":\"\"},\"colorscale\":[[0.0,\"#0d0887\"],[0.1111111111111111,\"#46039f\"],[0.2222222222222222,\"#7201a8\"],[0.3333333333333333,\"#9c179e\"],[0.4444444444444444,\"#bd3786\"],[0.5555555555555556,\"#d8576b\"],[0.6666666666666666,\"#ed7953\"],[0.7777777777777778,\"#fb9f3a\"],[0.8888888888888888,\"#fdca26\"],[1.0,\"#f0f921\"]]}],\"mesh3d\":[{\"type\":\"mesh3d\",\"colorbar\":{\"outlinewidth\":0,\"ticks\":\"\"}}],\"scatter\":[{\"fillpattern\":{\"fillmode\":\"overlay\",\"size\":10,\"solidity\":0.2},\"type\":\"scatter\"}],\"parcoords\":[{\"type\":\"parcoords\",\"line\":{\"colorbar\":{\"outlinewidth\":0,\"ticks\":\"\"}}}],\"scatterpolargl\":[{\"type\":\"scatterpolargl\",\"marker\":{\"colorbar\":{\"outlinewidth\":0,\"ticks\":\"\"}}}],\"bar\":[{\"error_x\":{\"color\":\"#2a3f5f\"},\"error_y\":{\"color\":\"#2a3f5f\"},\"marker\":{\"line\":{\"color\":\"#E5ECF6\",\"width\":0.5},\"pattern\":{\"fillmode\":\"overlay\",\"size\":10,\"solidity\":0.2}},\"type\":\"bar\"}],\"scattergeo\":[{\"type\":\"scattergeo\",\"marker\":{\"colorbar\":{\"outlinewidth\":0,\"ticks\":\"\"}}}],\"scatterpolar\":[{\"type\":\"scatterpolar\",\"marker\":{\"colorbar\":{\"outlinewidth\":0,\"ticks\":\"\"}}}],\"histogram\":[{\"marker\":{\"pattern\":{\"fillmode\":\"overlay\",\"size\":10,\"solidity\":0.2}},\"type\":\"histogram\"}],\"scattergl\":[{\"type\":\"scattergl\",\"marker\":{\"colorbar\":{\"outlinewidth\":0,\"ticks\":\"\"}}}],\"scatter3d\":[{\"type\":\"scatter3d\",\"line\":{\"colorbar\":{\"outlinewidth\":0,\"ticks\":\"\"}},\"marker\":{\"colorbar\":{\"outlinewidth\":0,\"ticks\":\"\"}}}],\"scattermapbox\":[{\"type\":\"scattermapbox\",\"marker\":{\"colorbar\":{\"outlinewidth\":0,\"ticks\":\"\"}}}],\"scatterternary\":[{\"type\":\"scatterternary\",\"marker\":{\"colorbar\":{\"outlinewidth\":0,\"ticks\":\"\"}}}],\"scattercarpet\":[{\"type\":\"scattercarpet\",\"marker\":{\"colorbar\":{\"outlinewidth\":0,\"ticks\":\"\"}}}],\"carpet\":[{\"aaxis\":{\"endlinecolor\":\"#2a3f5f\",\"gridcolor\":\"white\",\"linecolor\":\"white\",\"minorgridcolor\":\"white\",\"startlinecolor\":\"#2a3f5f\"},\"baxis\":{\"endlinecolor\":\"#2a3f5f\",\"gridcolor\":\"white\",\"linecolor\":\"white\",\"minorgridcolor\":\"white\",\"startlinecolor\":\"#2a3f5f\"},\"type\":\"carpet\"}],\"table\":[{\"cells\":{\"fill\":{\"color\":\"#EBF0F8\"},\"line\":{\"color\":\"white\"}},\"header\":{\"fill\":{\"color\":\"#C8D4E3\"},\"line\":{\"color\":\"white\"}},\"type\":\"table\"}],\"barpolar\":[{\"marker\":{\"line\":{\"color\":\"#E5ECF6\",\"width\":0.5},\"pattern\":{\"fillmode\":\"overlay\",\"size\":10,\"solidity\":0.2}},\"type\":\"barpolar\"}],\"pie\":[{\"automargin\":true,\"type\":\"pie\"}]},\"layout\":{\"autotypenumbers\":\"strict\",\"colorway\":[\"#636efa\",\"#EF553B\",\"#00cc96\",\"#ab63fa\",\"#FFA15A\",\"#19d3f3\",\"#FF6692\",\"#B6E880\",\"#FF97FF\",\"#FECB52\"],\"font\":{\"color\":\"#2a3f5f\"},\"hovermode\":\"closest\",\"hoverlabel\":{\"align\":\"left\"},\"paper_bgcolor\":\"white\",\"plot_bgcolor\":\"#E5ECF6\",\"polar\":{\"bgcolor\":\"#E5ECF6\",\"angularaxis\":{\"gridcolor\":\"white\",\"linecolor\":\"white\",\"ticks\":\"\"},\"radialaxis\":{\"gridcolor\":\"white\",\"linecolor\":\"white\",\"ticks\":\"\"}},\"ternary\":{\"bgcolor\":\"#E5ECF6\",\"aaxis\":{\"gridcolor\":\"white\",\"linecolor\":\"white\",\"ticks\":\"\"},\"baxis\":{\"gridcolor\":\"white\",\"linecolor\":\"white\",\"ticks\":\"\"},\"caxis\":{\"gridcolor\":\"white\",\"linecolor\":\"white\",\"ticks\":\"\"}},\"coloraxis\":{\"colorbar\":{\"outlinewidth\":0,\"ticks\":\"\"}},\"colorscale\":{\"sequential\":[[0.0,\"#0d0887\"],[0.1111111111111111,\"#46039f\"],[0.2222222222222222,\"#7201a8\"],[0.3333333333333333,\"#9c179e\"],[0.4444444444444444,\"#bd3786\"],[0.5555555555555556,\"#d8576b\"],[0.6666666666666666,\"#ed7953\"],[0.7777777777777778,\"#fb9f3a\"],[0.8888888888888888,\"#fdca26\"],[1.0,\"#f0f921\"]],\"sequentialminus\":[[0.0,\"#0d0887\"],[0.1111111111111111,\"#46039f\"],[0.2222222222222222,\"#7201a8\"],[0.3333333333333333,\"#9c179e\"],[0.4444444444444444,\"#bd3786\"],[0.5555555555555556,\"#d8576b\"],[0.6666666666666666,\"#ed7953\"],[0.7777777777777778,\"#fb9f3a\"],[0.8888888888888888,\"#fdca26\"],[1.0,\"#f0f921\"]],\"diverging\":[[0,\"#8e0152\"],[0.1,\"#c51b7d\"],[0.2,\"#de77ae\"],[0.3,\"#f1b6da\"],[0.4,\"#fde0ef\"],[0.5,\"#f7f7f7\"],[0.6,\"#e6f5d0\"],[0.7,\"#b8e186\"],[0.8,\"#7fbc41\"],[0.9,\"#4d9221\"],[1,\"#276419\"]]},\"xaxis\":{\"gridcolor\":\"white\",\"linecolor\":\"white\",\"ticks\":\"\",\"title\":{\"standoff\":15},\"zerolinecolor\":\"white\",\"automargin\":true,\"zerolinewidth\":2},\"yaxis\":{\"gridcolor\":\"white\",\"linecolor\":\"white\",\"ticks\":\"\",\"title\":{\"standoff\":15},\"zerolinecolor\":\"white\",\"automargin\":true,\"zerolinewidth\":2},\"scene\":{\"xaxis\":{\"backgroundcolor\":\"#E5ECF6\",\"gridcolor\":\"white\",\"linecolor\":\"white\",\"showbackground\":true,\"ticks\":\"\",\"zerolinecolor\":\"white\",\"gridwidth\":2},\"yaxis\":{\"backgroundcolor\":\"#E5ECF6\",\"gridcolor\":\"white\",\"linecolor\":\"white\",\"showbackground\":true,\"ticks\":\"\",\"zerolinecolor\":\"white\",\"gridwidth\":2},\"zaxis\":{\"backgroundcolor\":\"#E5ECF6\",\"gridcolor\":\"white\",\"linecolor\":\"white\",\"showbackground\":true,\"ticks\":\"\",\"zerolinecolor\":\"white\",\"gridwidth\":2}},\"shapedefaults\":{\"line\":{\"color\":\"#2a3f5f\"}},\"annotationdefaults\":{\"arrowcolor\":\"#2a3f5f\",\"arrowhead\":0,\"arrowwidth\":1},\"geo\":{\"bgcolor\":\"white\",\"landcolor\":\"#E5ECF6\",\"subunitcolor\":\"white\",\"showland\":true,\"showlakes\":true,\"lakecolor\":\"white\"},\"title\":{\"x\":0.05},\"mapbox\":{\"style\":\"light\"}}},\"xaxis\":{\"anchor\":\"y\",\"domain\":[0.0,1.0],\"title\":{\"text\":\"Year\"}},\"yaxis\":{\"anchor\":\"x\",\"domain\":[0.0,1.0],\"title\":{\"text\":\"Count\"}},\"legend\":{\"title\":{\"text\":\"Shape\"},\"tracegroupgap\":0},\"title\":{\"text\":\"UFO Shape Trends Over Time\"}},                        {\"responsive\": true}                    ).then(function(){\n",
              "                            \n",
              "var gd = document.getElementById('83d3bfdc-695b-4884-a4f4-5fcc90dec603');\n",
              "var x = new MutationObserver(function (mutations, observer) {{\n",
              "        var display = window.getComputedStyle(gd).display;\n",
              "        if (!display || display === 'none') {{\n",
              "            console.log([gd, 'removed!']);\n",
              "            Plotly.purge(gd);\n",
              "            observer.disconnect();\n",
              "        }}\n",
              "}});\n",
              "\n",
              "// Listen for the removal of the full notebook cells\n",
              "var notebookContainer = gd.closest('#notebook-container');\n",
              "if (notebookContainer) {{\n",
              "    x.observe(notebookContainer, {childList: true});\n",
              "}}\n",
              "\n",
              "// Listen for the clearing of the current output cell\n",
              "var outputEl = gd.closest('.output');\n",
              "if (outputEl) {{\n",
              "    x.observe(outputEl, {childList: true});\n",
              "}}\n",
              "\n",
              "                        })                };                            </script>        </div>\n",
              "</body>\n",
              "</html>"
            ]
          },
          "metadata": {}
        }
      ]
    },
    {
      "cell_type": "markdown",
      "source": [
        "### Enigma Shape Data"
      ],
      "metadata": {
        "id": "zWAGwCqgQRVC"
      }
    },
    {
      "cell_type": "markdown",
      "source": [
        "This data set is from a different website than the one we were working with. I got this data through a formal query and converted the information into an excel file which I read in at the start of this notebook."
      ],
      "metadata": {
        "id": "-KZwHJzos79O"
      }
    },
    {
      "cell_type": "code",
      "source": [
        "ENIGMA_UFO_ORIGINAL"
      ],
      "metadata": {
        "colab": {
          "base_uri": "https://localhost:8080/",
          "height": 771
        },
        "id": "KRJxrRbtQTBV",
        "outputId": "dddebab5-989c-4773-80db-afbfd3961bba"
      },
      "execution_count": null,
      "outputs": [
        {
          "output_type": "execute_result",
          "data": {
            "text/plain": [
              "        Shape  1940-1950 (Count)  1950-1960 (Count)  1960-1970 (Count)  \\\n",
              "0        Cone                2.0                1.0                0.0   \n",
              "1    Changing                1.0                1.0                0.0   \n",
              "2     Chevron                1.0                0.0                0.0   \n",
              "3       Cigar                3.0                2.0                3.0   \n",
              "4      Circle               71.0               66.0               21.0   \n",
              "5       Cross                0.0                0.0                0.0   \n",
              "6        Cube                0.0                0.0                0.0   \n",
              "7    Cylinder                2.0                4.0                2.0   \n",
              "8     Diamond                2.0                0.0                1.0   \n",
              "9        Disk               48.0               34.0               22.0   \n",
              "10        Egg                2.0                8.0                1.0   \n",
              "11   Fireball               30.0               15.0                4.0   \n",
              "12      Flash                0.0                0.0                0.0   \n",
              "13  Formation                4.0               15.0                1.0   \n",
              "14      Light               42.0               54.0               42.0   \n",
              "15       Oval               15.0               59.0               24.0   \n",
              "16      Other               41.0               14.0                0.0   \n",
              "17  Rectangle                1.0                1.0                0.0   \n",
              "18     Saucer                0.0                0.0                0.0   \n",
              "19     Sphere               13.0               11.0                2.0   \n",
              "20   Teardrop                3.0                1.0                0.0   \n",
              "21   Triangle                3.0                1.0                1.0   \n",
              "22    Unknown                6.0               13.0               12.0   \n",
              "\n",
              "    1970-1980 (Count)  1980-1990 (Count)  1990-2000 (Count)  \\\n",
              "0                 0.0                1.0                1.0   \n",
              "1                 2.0                2.0                7.0   \n",
              "2                 1.0                1.0                1.0   \n",
              "3                 3.0                6.0                6.0   \n",
              "4                22.0                9.0               24.0   \n",
              "5                 0.0                1.0                1.0   \n",
              "6                 0.0                0.0                0.0   \n",
              "7                 0.0                3.0                3.0   \n",
              "8                 1.0                2.0               34.0   \n",
              "9                16.0                7.0                1.0   \n",
              "10                2.0                0.0                3.0   \n",
              "11                2.0                1.0               13.0   \n",
              "12                1.0                0.0                4.0   \n",
              "13                2.0                3.0                8.0   \n",
              "14               32.0               20.0               80.0   \n",
              "15               25.0                6.0               34.0   \n",
              "16                4.0                1.0               11.0   \n",
              "17                1.0                1.0                2.0   \n",
              "18                1.0                1.0                1.0   \n",
              "19                3.0                4.0               16.0   \n",
              "20                0.0                0.0                0.0   \n",
              "21                6.0                5.0               30.0   \n",
              "22                4.0                1.0                7.0   \n",
              "\n",
              "    2000- Present (Count)  Count By Shape  \n",
              "0                    14.0            19.0  \n",
              "1                    87.0           100.0  \n",
              "2                    12.0            16.0  \n",
              "3                    49.0            72.0  \n",
              "4                   246.0           459.0  \n",
              "5                     5.0             7.0  \n",
              "6                     1.0             1.0  \n",
              "7                    37.0            51.0  \n",
              "8                    32.0            72.0  \n",
              "9                   121.0           249.0  \n",
              "10                   24.0            40.0  \n",
              "11                  106.0           171.0  \n",
              "12                   50.0            55.0  \n",
              "13                   94.0           127.0  \n",
              "14                  763.0          1033.0  \n",
              "15                  247.0           410.0  \n",
              "16                   81.0           152.0  \n",
              "17                   40.0            46.0  \n",
              "18                    8.0            11.0  \n",
              "19                  203.0           252.0  \n",
              "20                   21.0            25.0  \n",
              "21                  157.0           203.0  \n",
              "22                   38.0            81.0  "
            ],
            "text/html": [
              "\n",
              "  <div id=\"df-a9f99c3c-7f3a-42f0-80f8-3cf34640ae27\" class=\"colab-df-container\">\n",
              "    <div>\n",
              "<style scoped>\n",
              "    .dataframe tbody tr th:only-of-type {\n",
              "        vertical-align: middle;\n",
              "    }\n",
              "\n",
              "    .dataframe tbody tr th {\n",
              "        vertical-align: top;\n",
              "    }\n",
              "\n",
              "    .dataframe thead th {\n",
              "        text-align: right;\n",
              "    }\n",
              "</style>\n",
              "<table border=\"1\" class=\"dataframe\">\n",
              "  <thead>\n",
              "    <tr style=\"text-align: right;\">\n",
              "      <th></th>\n",
              "      <th>Shape</th>\n",
              "      <th>1940-1950 (Count)</th>\n",
              "      <th>1950-1960 (Count)</th>\n",
              "      <th>1960-1970 (Count)</th>\n",
              "      <th>1970-1980 (Count)</th>\n",
              "      <th>1980-1990 (Count)</th>\n",
              "      <th>1990-2000 (Count)</th>\n",
              "      <th>2000- Present (Count)</th>\n",
              "      <th>Count By Shape</th>\n",
              "    </tr>\n",
              "  </thead>\n",
              "  <tbody>\n",
              "    <tr>\n",
              "      <th>0</th>\n",
              "      <td>Cone</td>\n",
              "      <td>2.0</td>\n",
              "      <td>1.0</td>\n",
              "      <td>0.0</td>\n",
              "      <td>0.0</td>\n",
              "      <td>1.0</td>\n",
              "      <td>1.0</td>\n",
              "      <td>14.0</td>\n",
              "      <td>19.0</td>\n",
              "    </tr>\n",
              "    <tr>\n",
              "      <th>1</th>\n",
              "      <td>Changing</td>\n",
              "      <td>1.0</td>\n",
              "      <td>1.0</td>\n",
              "      <td>0.0</td>\n",
              "      <td>2.0</td>\n",
              "      <td>2.0</td>\n",
              "      <td>7.0</td>\n",
              "      <td>87.0</td>\n",
              "      <td>100.0</td>\n",
              "    </tr>\n",
              "    <tr>\n",
              "      <th>2</th>\n",
              "      <td>Chevron</td>\n",
              "      <td>1.0</td>\n",
              "      <td>0.0</td>\n",
              "      <td>0.0</td>\n",
              "      <td>1.0</td>\n",
              "      <td>1.0</td>\n",
              "      <td>1.0</td>\n",
              "      <td>12.0</td>\n",
              "      <td>16.0</td>\n",
              "    </tr>\n",
              "    <tr>\n",
              "      <th>3</th>\n",
              "      <td>Cigar</td>\n",
              "      <td>3.0</td>\n",
              "      <td>2.0</td>\n",
              "      <td>3.0</td>\n",
              "      <td>3.0</td>\n",
              "      <td>6.0</td>\n",
              "      <td>6.0</td>\n",
              "      <td>49.0</td>\n",
              "      <td>72.0</td>\n",
              "    </tr>\n",
              "    <tr>\n",
              "      <th>4</th>\n",
              "      <td>Circle</td>\n",
              "      <td>71.0</td>\n",
              "      <td>66.0</td>\n",
              "      <td>21.0</td>\n",
              "      <td>22.0</td>\n",
              "      <td>9.0</td>\n",
              "      <td>24.0</td>\n",
              "      <td>246.0</td>\n",
              "      <td>459.0</td>\n",
              "    </tr>\n",
              "    <tr>\n",
              "      <th>5</th>\n",
              "      <td>Cross</td>\n",
              "      <td>0.0</td>\n",
              "      <td>0.0</td>\n",
              "      <td>0.0</td>\n",
              "      <td>0.0</td>\n",
              "      <td>1.0</td>\n",
              "      <td>1.0</td>\n",
              "      <td>5.0</td>\n",
              "      <td>7.0</td>\n",
              "    </tr>\n",
              "    <tr>\n",
              "      <th>6</th>\n",
              "      <td>Cube</td>\n",
              "      <td>0.0</td>\n",
              "      <td>0.0</td>\n",
              "      <td>0.0</td>\n",
              "      <td>0.0</td>\n",
              "      <td>0.0</td>\n",
              "      <td>0.0</td>\n",
              "      <td>1.0</td>\n",
              "      <td>1.0</td>\n",
              "    </tr>\n",
              "    <tr>\n",
              "      <th>7</th>\n",
              "      <td>Cylinder</td>\n",
              "      <td>2.0</td>\n",
              "      <td>4.0</td>\n",
              "      <td>2.0</td>\n",
              "      <td>0.0</td>\n",
              "      <td>3.0</td>\n",
              "      <td>3.0</td>\n",
              "      <td>37.0</td>\n",
              "      <td>51.0</td>\n",
              "    </tr>\n",
              "    <tr>\n",
              "      <th>8</th>\n",
              "      <td>Diamond</td>\n",
              "      <td>2.0</td>\n",
              "      <td>0.0</td>\n",
              "      <td>1.0</td>\n",
              "      <td>1.0</td>\n",
              "      <td>2.0</td>\n",
              "      <td>34.0</td>\n",
              "      <td>32.0</td>\n",
              "      <td>72.0</td>\n",
              "    </tr>\n",
              "    <tr>\n",
              "      <th>9</th>\n",
              "      <td>Disk</td>\n",
              "      <td>48.0</td>\n",
              "      <td>34.0</td>\n",
              "      <td>22.0</td>\n",
              "      <td>16.0</td>\n",
              "      <td>7.0</td>\n",
              "      <td>1.0</td>\n",
              "      <td>121.0</td>\n",
              "      <td>249.0</td>\n",
              "    </tr>\n",
              "    <tr>\n",
              "      <th>10</th>\n",
              "      <td>Egg</td>\n",
              "      <td>2.0</td>\n",
              "      <td>8.0</td>\n",
              "      <td>1.0</td>\n",
              "      <td>2.0</td>\n",
              "      <td>0.0</td>\n",
              "      <td>3.0</td>\n",
              "      <td>24.0</td>\n",
              "      <td>40.0</td>\n",
              "    </tr>\n",
              "    <tr>\n",
              "      <th>11</th>\n",
              "      <td>Fireball</td>\n",
              "      <td>30.0</td>\n",
              "      <td>15.0</td>\n",
              "      <td>4.0</td>\n",
              "      <td>2.0</td>\n",
              "      <td>1.0</td>\n",
              "      <td>13.0</td>\n",
              "      <td>106.0</td>\n",
              "      <td>171.0</td>\n",
              "    </tr>\n",
              "    <tr>\n",
              "      <th>12</th>\n",
              "      <td>Flash</td>\n",
              "      <td>0.0</td>\n",
              "      <td>0.0</td>\n",
              "      <td>0.0</td>\n",
              "      <td>1.0</td>\n",
              "      <td>0.0</td>\n",
              "      <td>4.0</td>\n",
              "      <td>50.0</td>\n",
              "      <td>55.0</td>\n",
              "    </tr>\n",
              "    <tr>\n",
              "      <th>13</th>\n",
              "      <td>Formation</td>\n",
              "      <td>4.0</td>\n",
              "      <td>15.0</td>\n",
              "      <td>1.0</td>\n",
              "      <td>2.0</td>\n",
              "      <td>3.0</td>\n",
              "      <td>8.0</td>\n",
              "      <td>94.0</td>\n",
              "      <td>127.0</td>\n",
              "    </tr>\n",
              "    <tr>\n",
              "      <th>14</th>\n",
              "      <td>Light</td>\n",
              "      <td>42.0</td>\n",
              "      <td>54.0</td>\n",
              "      <td>42.0</td>\n",
              "      <td>32.0</td>\n",
              "      <td>20.0</td>\n",
              "      <td>80.0</td>\n",
              "      <td>763.0</td>\n",
              "      <td>1033.0</td>\n",
              "    </tr>\n",
              "    <tr>\n",
              "      <th>15</th>\n",
              "      <td>Oval</td>\n",
              "      <td>15.0</td>\n",
              "      <td>59.0</td>\n",
              "      <td>24.0</td>\n",
              "      <td>25.0</td>\n",
              "      <td>6.0</td>\n",
              "      <td>34.0</td>\n",
              "      <td>247.0</td>\n",
              "      <td>410.0</td>\n",
              "    </tr>\n",
              "    <tr>\n",
              "      <th>16</th>\n",
              "      <td>Other</td>\n",
              "      <td>41.0</td>\n",
              "      <td>14.0</td>\n",
              "      <td>0.0</td>\n",
              "      <td>4.0</td>\n",
              "      <td>1.0</td>\n",
              "      <td>11.0</td>\n",
              "      <td>81.0</td>\n",
              "      <td>152.0</td>\n",
              "    </tr>\n",
              "    <tr>\n",
              "      <th>17</th>\n",
              "      <td>Rectangle</td>\n",
              "      <td>1.0</td>\n",
              "      <td>1.0</td>\n",
              "      <td>0.0</td>\n",
              "      <td>1.0</td>\n",
              "      <td>1.0</td>\n",
              "      <td>2.0</td>\n",
              "      <td>40.0</td>\n",
              "      <td>46.0</td>\n",
              "    </tr>\n",
              "    <tr>\n",
              "      <th>18</th>\n",
              "      <td>Saucer</td>\n",
              "      <td>0.0</td>\n",
              "      <td>0.0</td>\n",
              "      <td>0.0</td>\n",
              "      <td>1.0</td>\n",
              "      <td>1.0</td>\n",
              "      <td>1.0</td>\n",
              "      <td>8.0</td>\n",
              "      <td>11.0</td>\n",
              "    </tr>\n",
              "    <tr>\n",
              "      <th>19</th>\n",
              "      <td>Sphere</td>\n",
              "      <td>13.0</td>\n",
              "      <td>11.0</td>\n",
              "      <td>2.0</td>\n",
              "      <td>3.0</td>\n",
              "      <td>4.0</td>\n",
              "      <td>16.0</td>\n",
              "      <td>203.0</td>\n",
              "      <td>252.0</td>\n",
              "    </tr>\n",
              "    <tr>\n",
              "      <th>20</th>\n",
              "      <td>Teardrop</td>\n",
              "      <td>3.0</td>\n",
              "      <td>1.0</td>\n",
              "      <td>0.0</td>\n",
              "      <td>0.0</td>\n",
              "      <td>0.0</td>\n",
              "      <td>0.0</td>\n",
              "      <td>21.0</td>\n",
              "      <td>25.0</td>\n",
              "    </tr>\n",
              "    <tr>\n",
              "      <th>21</th>\n",
              "      <td>Triangle</td>\n",
              "      <td>3.0</td>\n",
              "      <td>1.0</td>\n",
              "      <td>1.0</td>\n",
              "      <td>6.0</td>\n",
              "      <td>5.0</td>\n",
              "      <td>30.0</td>\n",
              "      <td>157.0</td>\n",
              "      <td>203.0</td>\n",
              "    </tr>\n",
              "    <tr>\n",
              "      <th>22</th>\n",
              "      <td>Unknown</td>\n",
              "      <td>6.0</td>\n",
              "      <td>13.0</td>\n",
              "      <td>12.0</td>\n",
              "      <td>4.0</td>\n",
              "      <td>1.0</td>\n",
              "      <td>7.0</td>\n",
              "      <td>38.0</td>\n",
              "      <td>81.0</td>\n",
              "    </tr>\n",
              "  </tbody>\n",
              "</table>\n",
              "</div>\n",
              "    <div class=\"colab-df-buttons\">\n",
              "\n",
              "  <div class=\"colab-df-container\">\n",
              "    <button class=\"colab-df-convert\" onclick=\"convertToInteractive('df-a9f99c3c-7f3a-42f0-80f8-3cf34640ae27')\"\n",
              "            title=\"Convert this dataframe to an interactive table.\"\n",
              "            style=\"display:none;\">\n",
              "\n",
              "  <svg xmlns=\"http://www.w3.org/2000/svg\" height=\"24px\" viewBox=\"0 -960 960 960\">\n",
              "    <path d=\"M120-120v-720h720v720H120Zm60-500h600v-160H180v160Zm220 220h160v-160H400v160Zm0 220h160v-160H400v160ZM180-400h160v-160H180v160Zm440 0h160v-160H620v160ZM180-180h160v-160H180v160Zm440 0h160v-160H620v160Z\"/>\n",
              "  </svg>\n",
              "    </button>\n",
              "\n",
              "  <style>\n",
              "    .colab-df-container {\n",
              "      display:flex;\n",
              "      gap: 12px;\n",
              "    }\n",
              "\n",
              "    .colab-df-convert {\n",
              "      background-color: #E8F0FE;\n",
              "      border: none;\n",
              "      border-radius: 50%;\n",
              "      cursor: pointer;\n",
              "      display: none;\n",
              "      fill: #1967D2;\n",
              "      height: 32px;\n",
              "      padding: 0 0 0 0;\n",
              "      width: 32px;\n",
              "    }\n",
              "\n",
              "    .colab-df-convert:hover {\n",
              "      background-color: #E2EBFA;\n",
              "      box-shadow: 0px 1px 2px rgba(60, 64, 67, 0.3), 0px 1px 3px 1px rgba(60, 64, 67, 0.15);\n",
              "      fill: #174EA6;\n",
              "    }\n",
              "\n",
              "    .colab-df-buttons div {\n",
              "      margin-bottom: 4px;\n",
              "    }\n",
              "\n",
              "    [theme=dark] .colab-df-convert {\n",
              "      background-color: #3B4455;\n",
              "      fill: #D2E3FC;\n",
              "    }\n",
              "\n",
              "    [theme=dark] .colab-df-convert:hover {\n",
              "      background-color: #434B5C;\n",
              "      box-shadow: 0px 1px 3px 1px rgba(0, 0, 0, 0.15);\n",
              "      filter: drop-shadow(0px 1px 2px rgba(0, 0, 0, 0.3));\n",
              "      fill: #FFFFFF;\n",
              "    }\n",
              "  </style>\n",
              "\n",
              "    <script>\n",
              "      const buttonEl =\n",
              "        document.querySelector('#df-a9f99c3c-7f3a-42f0-80f8-3cf34640ae27 button.colab-df-convert');\n",
              "      buttonEl.style.display =\n",
              "        google.colab.kernel.accessAllowed ? 'block' : 'none';\n",
              "\n",
              "      async function convertToInteractive(key) {\n",
              "        const element = document.querySelector('#df-a9f99c3c-7f3a-42f0-80f8-3cf34640ae27');\n",
              "        const dataTable =\n",
              "          await google.colab.kernel.invokeFunction('convertToInteractive',\n",
              "                                                    [key], {});\n",
              "        if (!dataTable) return;\n",
              "\n",
              "        const docLinkHtml = 'Like what you see? Visit the ' +\n",
              "          '<a target=\"_blank\" href=https://colab.research.google.com/notebooks/data_table.ipynb>data table notebook</a>'\n",
              "          + ' to learn more about interactive tables.';\n",
              "        element.innerHTML = '';\n",
              "        dataTable['output_type'] = 'display_data';\n",
              "        await google.colab.output.renderOutput(dataTable, element);\n",
              "        const docLink = document.createElement('div');\n",
              "        docLink.innerHTML = docLinkHtml;\n",
              "        element.appendChild(docLink);\n",
              "      }\n",
              "    </script>\n",
              "  </div>\n",
              "\n",
              "\n",
              "<div id=\"df-e12e69c4-8a61-4a01-bd75-0521a0e811a0\">\n",
              "  <button class=\"colab-df-quickchart\" onclick=\"quickchart('df-e12e69c4-8a61-4a01-bd75-0521a0e811a0')\"\n",
              "            title=\"Suggest charts\"\n",
              "            style=\"display:none;\">\n",
              "\n",
              "<svg xmlns=\"http://www.w3.org/2000/svg\" height=\"24px\"viewBox=\"0 0 24 24\"\n",
              "     width=\"24px\">\n",
              "    <g>\n",
              "        <path d=\"M19 3H5c-1.1 0-2 .9-2 2v14c0 1.1.9 2 2 2h14c1.1 0 2-.9 2-2V5c0-1.1-.9-2-2-2zM9 17H7v-7h2v7zm4 0h-2V7h2v10zm4 0h-2v-4h2v4z\"/>\n",
              "    </g>\n",
              "</svg>\n",
              "  </button>\n",
              "\n",
              "<style>\n",
              "  .colab-df-quickchart {\n",
              "      --bg-color: #E8F0FE;\n",
              "      --fill-color: #1967D2;\n",
              "      --hover-bg-color: #E2EBFA;\n",
              "      --hover-fill-color: #174EA6;\n",
              "      --disabled-fill-color: #AAA;\n",
              "      --disabled-bg-color: #DDD;\n",
              "  }\n",
              "\n",
              "  [theme=dark] .colab-df-quickchart {\n",
              "      --bg-color: #3B4455;\n",
              "      --fill-color: #D2E3FC;\n",
              "      --hover-bg-color: #434B5C;\n",
              "      --hover-fill-color: #FFFFFF;\n",
              "      --disabled-bg-color: #3B4455;\n",
              "      --disabled-fill-color: #666;\n",
              "  }\n",
              "\n",
              "  .colab-df-quickchart {\n",
              "    background-color: var(--bg-color);\n",
              "    border: none;\n",
              "    border-radius: 50%;\n",
              "    cursor: pointer;\n",
              "    display: none;\n",
              "    fill: var(--fill-color);\n",
              "    height: 32px;\n",
              "    padding: 0;\n",
              "    width: 32px;\n",
              "  }\n",
              "\n",
              "  .colab-df-quickchart:hover {\n",
              "    background-color: var(--hover-bg-color);\n",
              "    box-shadow: 0 1px 2px rgba(60, 64, 67, 0.3), 0 1px 3px 1px rgba(60, 64, 67, 0.15);\n",
              "    fill: var(--button-hover-fill-color);\n",
              "  }\n",
              "\n",
              "  .colab-df-quickchart-complete:disabled,\n",
              "  .colab-df-quickchart-complete:disabled:hover {\n",
              "    background-color: var(--disabled-bg-color);\n",
              "    fill: var(--disabled-fill-color);\n",
              "    box-shadow: none;\n",
              "  }\n",
              "\n",
              "  .colab-df-spinner {\n",
              "    border: 2px solid var(--fill-color);\n",
              "    border-color: transparent;\n",
              "    border-bottom-color: var(--fill-color);\n",
              "    animation:\n",
              "      spin 1s steps(1) infinite;\n",
              "  }\n",
              "\n",
              "  @keyframes spin {\n",
              "    0% {\n",
              "      border-color: transparent;\n",
              "      border-bottom-color: var(--fill-color);\n",
              "      border-left-color: var(--fill-color);\n",
              "    }\n",
              "    20% {\n",
              "      border-color: transparent;\n",
              "      border-left-color: var(--fill-color);\n",
              "      border-top-color: var(--fill-color);\n",
              "    }\n",
              "    30% {\n",
              "      border-color: transparent;\n",
              "      border-left-color: var(--fill-color);\n",
              "      border-top-color: var(--fill-color);\n",
              "      border-right-color: var(--fill-color);\n",
              "    }\n",
              "    40% {\n",
              "      border-color: transparent;\n",
              "      border-right-color: var(--fill-color);\n",
              "      border-top-color: var(--fill-color);\n",
              "    }\n",
              "    60% {\n",
              "      border-color: transparent;\n",
              "      border-right-color: var(--fill-color);\n",
              "    }\n",
              "    80% {\n",
              "      border-color: transparent;\n",
              "      border-right-color: var(--fill-color);\n",
              "      border-bottom-color: var(--fill-color);\n",
              "    }\n",
              "    90% {\n",
              "      border-color: transparent;\n",
              "      border-bottom-color: var(--fill-color);\n",
              "    }\n",
              "  }\n",
              "</style>\n",
              "\n",
              "  <script>\n",
              "    async function quickchart(key) {\n",
              "      const quickchartButtonEl =\n",
              "        document.querySelector('#' + key + ' button');\n",
              "      quickchartButtonEl.disabled = true;  // To prevent multiple clicks.\n",
              "      quickchartButtonEl.classList.add('colab-df-spinner');\n",
              "      try {\n",
              "        const charts = await google.colab.kernel.invokeFunction(\n",
              "            'suggestCharts', [key], {});\n",
              "      } catch (error) {\n",
              "        console.error('Error during call to suggestCharts:', error);\n",
              "      }\n",
              "      quickchartButtonEl.classList.remove('colab-df-spinner');\n",
              "      quickchartButtonEl.classList.add('colab-df-quickchart-complete');\n",
              "    }\n",
              "    (() => {\n",
              "      let quickchartButtonEl =\n",
              "        document.querySelector('#df-e12e69c4-8a61-4a01-bd75-0521a0e811a0 button');\n",
              "      quickchartButtonEl.style.display =\n",
              "        google.colab.kernel.accessAllowed ? 'block' : 'none';\n",
              "    })();\n",
              "  </script>\n",
              "</div>\n",
              "\n",
              "  <div id=\"id_90756f3e-6eaa-46f6-ad5e-35e38ec8dbb6\">\n",
              "    <style>\n",
              "      .colab-df-generate {\n",
              "        background-color: #E8F0FE;\n",
              "        border: none;\n",
              "        border-radius: 50%;\n",
              "        cursor: pointer;\n",
              "        display: none;\n",
              "        fill: #1967D2;\n",
              "        height: 32px;\n",
              "        padding: 0 0 0 0;\n",
              "        width: 32px;\n",
              "      }\n",
              "\n",
              "      .colab-df-generate:hover {\n",
              "        background-color: #E2EBFA;\n",
              "        box-shadow: 0px 1px 2px rgba(60, 64, 67, 0.3), 0px 1px 3px 1px rgba(60, 64, 67, 0.15);\n",
              "        fill: #174EA6;\n",
              "      }\n",
              "\n",
              "      [theme=dark] .colab-df-generate {\n",
              "        background-color: #3B4455;\n",
              "        fill: #D2E3FC;\n",
              "      }\n",
              "\n",
              "      [theme=dark] .colab-df-generate:hover {\n",
              "        background-color: #434B5C;\n",
              "        box-shadow: 0px 1px 3px 1px rgba(0, 0, 0, 0.15);\n",
              "        filter: drop-shadow(0px 1px 2px rgba(0, 0, 0, 0.3));\n",
              "        fill: #FFFFFF;\n",
              "      }\n",
              "    </style>\n",
              "    <button class=\"colab-df-generate\" onclick=\"generateWithVariable('ENIGMA_UFO_ORIGINAL')\"\n",
              "            title=\"Generate code using this dataframe.\"\n",
              "            style=\"display:none;\">\n",
              "\n",
              "  <svg xmlns=\"http://www.w3.org/2000/svg\" height=\"24px\"viewBox=\"0 0 24 24\"\n",
              "       width=\"24px\">\n",
              "    <path d=\"M7,19H8.4L18.45,9,17,7.55,7,17.6ZM5,21V16.75L18.45,3.32a2,2,0,0,1,2.83,0l1.4,1.43a1.91,1.91,0,0,1,.58,1.4,1.91,1.91,0,0,1-.58,1.4L9.25,21ZM18.45,9,17,7.55Zm-12,3A5.31,5.31,0,0,0,4.9,8.1,5.31,5.31,0,0,0,1,6.5,5.31,5.31,0,0,0,4.9,4.9,5.31,5.31,0,0,0,6.5,1,5.31,5.31,0,0,0,8.1,4.9,5.31,5.31,0,0,0,12,6.5,5.46,5.46,0,0,0,6.5,12Z\"/>\n",
              "  </svg>\n",
              "    </button>\n",
              "    <script>\n",
              "      (() => {\n",
              "      const buttonEl =\n",
              "        document.querySelector('#id_90756f3e-6eaa-46f6-ad5e-35e38ec8dbb6 button.colab-df-generate');\n",
              "      buttonEl.style.display =\n",
              "        google.colab.kernel.accessAllowed ? 'block' : 'none';\n",
              "\n",
              "      buttonEl.onclick = () => {\n",
              "        google.colab.notebook.generateWithVariable('ENIGMA_UFO_ORIGINAL');\n",
              "      }\n",
              "      })();\n",
              "    </script>\n",
              "  </div>\n",
              "\n",
              "    </div>\n",
              "  </div>\n"
            ],
            "application/vnd.google.colaboratory.intrinsic+json": {
              "type": "dataframe",
              "variable_name": "ENIGMA_UFO_ORIGINAL",
              "summary": "{\n  \"name\": \"ENIGMA_UFO_ORIGINAL\",\n  \"rows\": 23,\n  \"fields\": [\n    {\n      \"column\": \"Shape\",\n      \"properties\": {\n        \"dtype\": \"string\",\n        \"num_unique_values\": 23,\n        \"samples\": [\n          \"Oval\",\n          \"Disk\",\n          \"Cone\"\n        ],\n        \"semantic_type\": \"\",\n        \"description\": \"\"\n      }\n    },\n    {\n      \"column\": \"1940-1950 (Count)\",\n      \"properties\": {\n        \"dtype\": \"number\",\n        \"std\": 19.685571851750577,\n        \"min\": 0.0,\n        \"max\": 71.0,\n        \"num_unique_values\": 13,\n        \"samples\": [\n          13.0,\n          15.0,\n          2.0\n        ],\n        \"semantic_type\": \"\",\n        \"description\": \"\"\n      }\n    },\n    {\n      \"column\": \"1950-1960 (Count)\",\n      \"properties\": {\n        \"dtype\": \"number\",\n        \"std\": 20.249530321982032,\n        \"min\": 0.0,\n        \"max\": 66.0,\n        \"num_unique_values\": 13,\n        \"samples\": [\n          11.0,\n          59.0,\n          1.0\n        ],\n        \"semantic_type\": \"\",\n        \"description\": \"\"\n      }\n    },\n    {\n      \"column\": \"1960-1970 (Count)\",\n      \"properties\": {\n        \"dtype\": \"number\",\n        \"std\": 10.958239089952782,\n        \"min\": 0.0,\n        \"max\": 42.0,\n        \"num_unique_values\": 10,\n        \"samples\": [\n          24.0,\n          3.0,\n          22.0\n        ],\n        \"semantic_type\": \"\",\n        \"description\": \"\"\n      }\n    },\n    {\n      \"column\": \"1970-1980 (Count)\",\n      \"properties\": {\n        \"dtype\": \"number\",\n        \"std\": 9.004171189744742,\n        \"min\": 0.0,\n        \"max\": 32.0,\n        \"num_unique_values\": 10,\n        \"samples\": [\n          4.0,\n          2.0,\n          16.0\n        ],\n        \"semantic_type\": \"\",\n        \"description\": \"\"\n      }\n    },\n    {\n      \"column\": \"1980-1990 (Count)\",\n      \"properties\": {\n        \"dtype\": \"number\",\n        \"std\": 4.433523032782556,\n        \"min\": 0.0,\n        \"max\": 20.0,\n        \"num_unique_values\": 10,\n        \"samples\": [\n          4.0,\n          2.0,\n          3.0\n        ],\n        \"semantic_type\": \"\",\n        \"description\": \"\"\n      }\n    },\n    {\n      \"column\": \"1990-2000 (Count)\",\n      \"properties\": {\n        \"dtype\": \"number\",\n        \"std\": 18.332458956272045,\n        \"min\": 0.0,\n        \"max\": 80.0,\n        \"num_unique_values\": 15,\n        \"samples\": [\n          8.0,\n          11.0,\n          1.0\n        ],\n        \"semantic_type\": \"\",\n        \"description\": \"\"\n      }\n    },\n    {\n      \"column\": \"2000- Present (Count)\",\n      \"properties\": {\n        \"dtype\": \"number\",\n        \"std\": 161.26993549593072,\n        \"min\": 1.0,\n        \"max\": 763.0,\n        \"num_unique_values\": 23,\n        \"samples\": [\n          247.0,\n          121.0,\n          14.0\n        ],\n        \"semantic_type\": \"\",\n        \"description\": \"\"\n      }\n    },\n    {\n      \"column\": \"Count By Shape\",\n      \"properties\": {\n        \"dtype\": \"number\",\n        \"std\": 227.5230171216928,\n        \"min\": 1.0,\n        \"max\": 1033.0,\n        \"num_unique_values\": 22,\n        \"samples\": [\n          19.0,\n          1033.0,\n          249.0\n        ],\n        \"semantic_type\": \"\",\n        \"description\": \"\"\n      }\n    }\n  ]\n}"
            }
          },
          "metadata": {},
          "execution_count": 29
        }
      ]
    },
    {
      "cell_type": "markdown",
      "source": [
        "Performing a value counts on the shapes and getting the mean count for the plot below."
      ],
      "metadata": {
        "id": "VkkihAr1tJwL"
      }
    },
    {
      "cell_type": "code",
      "source": [
        "ENIGMA_UFO_ORIGINAL = ENIGMA_UFO_ORIGINAL.sort_values(by=['Count By Shape'])\n",
        "average_count = ENIGMA_UFO_ORIGINAL['Count By Shape'].mean()"
      ],
      "metadata": {
        "id": "eHsNh9dhZJ14"
      },
      "execution_count": null,
      "outputs": []
    },
    {
      "cell_type": "markdown",
      "source": [
        "Enigma Shape Data"
      ],
      "metadata": {
        "id": "bqzIUw0PafHM"
      }
    },
    {
      "cell_type": "markdown",
      "source": [
        "Below is code for the Enigma shape data I retrieved from a formal query."
      ],
      "metadata": {
        "id": "NqX-Wq9wtPh4"
      }
    },
    {
      "cell_type": "code",
      "source": [
        "plt.figure(figsize=(10, 5))\n",
        "plt.bar(ENIGMA_UFO_ORIGINAL['Shape'], ENIGMA_UFO_ORIGINAL['Count By Shape'], color='purple')\n",
        "plt.axhline(y=average_count, color='red', linestyle='--', label='Average')\n",
        "plt.xlabel(\"Shape\")\n",
        "plt.ylabel(\"Count\")\n",
        "plt.title(\"Counts of NM UFO Shapes (Enigma)\")\n",
        "plt.xticks(rotation=45, ha='right')\n",
        "plt.gca().set_facecolor('gray')\n",
        "plt.tight_layout()\n",
        "plt.legend()\n",
        "plt.show()"
      ],
      "metadata": {
        "colab": {
          "base_uri": "https://localhost:8080/",
          "height": 507
        },
        "id": "KxRDzjqwVvck",
        "outputId": "80f0ba5b-d935-400c-d25d-caa3a9b542ac"
      },
      "execution_count": null,
      "outputs": [
        {
          "output_type": "display_data",
          "data": {
            "text/plain": [
              "<Figure size 1000x500 with 1 Axes>"
            ],
            "image/png": "[encoded data removed]"
          },
          "metadata": {}
        }
      ]
    },
    {
      "cell_type": "markdown",
      "source": [
        "## Conclusions\n"
      ],
      "metadata": {
        "id": "ZRtMihQptYwB"
      }
    },
    {
      "cell_type": "markdown",
      "source": [
        "Based on my analysis there are several conclusions I can draw from the data. The geospatial data clearly shows that big hotspots for UFO sightings are centered in and around major population centers such as Albuquerque, Santa Fe and Las Cruces. This makes sense because more people live in these areas than in rural parts of the state and they are more likely to see and report UFOs to NUFORC. There were also numerous sightings at military bases such as Holloman AFB and White Sands Missile test range. In the future I would like to overlay the latitudes and longitudes of military bases and see if there is a correlation between the UFO sightings and military installations. When comparing the shape data from NUFORC and Enigma some general trends pop out. The first is that the most commonly reported shapes were lights and circles. This is interesting because it suggests people across different areas are seeing the same things. Lights were by far the most commonly reported shape in both data sets. This might be because when an airborne object is viewed from a great distance there is no discernible shape and all the observer can make out is lights. In addition to this it is important to note that the bulk of the sightings were reported between 2000-2024, greatly biasing the data. In a deeper analysis in the future it would be interesting to see what shapes were commonly reported over time."
      ],
      "metadata": {
        "id": "3tx4g-iqwIZS"
      }
    }
  ]
}